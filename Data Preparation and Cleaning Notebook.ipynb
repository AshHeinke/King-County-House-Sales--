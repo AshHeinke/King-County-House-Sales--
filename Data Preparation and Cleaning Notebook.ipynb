{
 "cells": [
  {
   "cell_type": "markdown",
   "metadata": {},
   "source": [
    "# Data Preparation and Cleaning "
   ]
  },
  {
   "cell_type": "code",
   "execution_count": 1,
   "metadata": {},
   "outputs": [],
   "source": [
    "#Import libraries\n",
    "# Standard Packages\n",
    "import pandas as pd\n",
    "import numpy as np\n",
    "\n",
    "# Viz Packages\n",
    "import seaborn as sns\n",
    "import matplotlib.pyplot as plt\n",
    "\n",
    "# Scipy Stats\n",
    "import scipy.stats as stats \n",
    "\n",
    "# Statsmodel Api\n",
    "import statsmodels.api as sm\n",
    "from statsmodels.formula.api import ols\n",
    "\n",
    "# SKLearn Modules\n",
    "from sklearn.linear_model import LinearRegression\n",
    "from sklearn.feature_selection import RFE\n",
    "from sklearn.preprocessing import StandardScaler, OneHotEncoder\n",
    "from sklearn.model_selection import train_test_split\n",
    "import sklearn.metrics as metrics\n",
    "\n",
    "# Suppress future and deprecation warnings\n",
    "import warnings\n",
    "warnings.filterwarnings(\"ignore\", category= FutureWarning)\n",
    "warnings.filterwarnings(\"ignore\", category=DeprecationWarning) \n",
    "\n",
    "#Display Full Dataframe width\n",
    "pd.options.display.max_columns = None\n",
    "pd.options.display.width = None"
   ]
  },
  {
   "cell_type": "markdown",
   "metadata": {},
   "source": [
    "### House Sales Dataset"
   ]
  },
  {
   "cell_type": "code",
   "execution_count": 2,
   "metadata": {},
   "outputs": [
    {
     "data": {
      "text/html": [
       "<div>\n",
       "<style scoped>\n",
       "    .dataframe tbody tr th:only-of-type {\n",
       "        vertical-align: middle;\n",
       "    }\n",
       "\n",
       "    .dataframe tbody tr th {\n",
       "        vertical-align: top;\n",
       "    }\n",
       "\n",
       "    .dataframe thead th {\n",
       "        text-align: right;\n",
       "    }\n",
       "</style>\n",
       "<table border=\"1\" class=\"dataframe\">\n",
       "  <thead>\n",
       "    <tr style=\"text-align: right;\">\n",
       "      <th></th>\n",
       "      <th>id</th>\n",
       "      <th>date</th>\n",
       "      <th>price</th>\n",
       "      <th>bedrooms</th>\n",
       "      <th>bathrooms</th>\n",
       "      <th>sqft_living</th>\n",
       "      <th>sqft_lot</th>\n",
       "      <th>floors</th>\n",
       "      <th>waterfront</th>\n",
       "      <th>greenbelt</th>\n",
       "      <th>nuisance</th>\n",
       "      <th>view</th>\n",
       "      <th>condition</th>\n",
       "      <th>grade</th>\n",
       "      <th>heat_source</th>\n",
       "      <th>sewer_system</th>\n",
       "      <th>sqft_above</th>\n",
       "      <th>sqft_basement</th>\n",
       "      <th>sqft_garage</th>\n",
       "      <th>sqft_patio</th>\n",
       "      <th>yr_built</th>\n",
       "      <th>yr_renovated</th>\n",
       "      <th>address</th>\n",
       "      <th>lat</th>\n",
       "      <th>long</th>\n",
       "    </tr>\n",
       "  </thead>\n",
       "  <tbody>\n",
       "    <tr>\n",
       "      <th>0</th>\n",
       "      <td>7399300360</td>\n",
       "      <td>5/24/2022</td>\n",
       "      <td>675000.0</td>\n",
       "      <td>4</td>\n",
       "      <td>1.0</td>\n",
       "      <td>1180</td>\n",
       "      <td>7140</td>\n",
       "      <td>1.0</td>\n",
       "      <td>NO</td>\n",
       "      <td>NO</td>\n",
       "      <td>NO</td>\n",
       "      <td>NONE</td>\n",
       "      <td>Good</td>\n",
       "      <td>7 Average</td>\n",
       "      <td>Gas</td>\n",
       "      <td>PUBLIC</td>\n",
       "      <td>1180</td>\n",
       "      <td>0</td>\n",
       "      <td>0</td>\n",
       "      <td>40</td>\n",
       "      <td>1969</td>\n",
       "      <td>0</td>\n",
       "      <td>2102 Southeast 21st Court, Renton, Washington ...</td>\n",
       "      <td>47.461975</td>\n",
       "      <td>-122.190520</td>\n",
       "    </tr>\n",
       "    <tr>\n",
       "      <th>1</th>\n",
       "      <td>1180000275</td>\n",
       "      <td>9/29/2021</td>\n",
       "      <td>311000.0</td>\n",
       "      <td>6</td>\n",
       "      <td>2.0</td>\n",
       "      <td>2880</td>\n",
       "      <td>6156</td>\n",
       "      <td>1.0</td>\n",
       "      <td>NO</td>\n",
       "      <td>NO</td>\n",
       "      <td>NO</td>\n",
       "      <td>AVERAGE</td>\n",
       "      <td>Average</td>\n",
       "      <td>7 Average</td>\n",
       "      <td>Gas</td>\n",
       "      <td>PUBLIC</td>\n",
       "      <td>1580</td>\n",
       "      <td>1580</td>\n",
       "      <td>0</td>\n",
       "      <td>0</td>\n",
       "      <td>1956</td>\n",
       "      <td>0</td>\n",
       "      <td>8504 South 113th Street, Seattle, Washington 9...</td>\n",
       "      <td>47.502045</td>\n",
       "      <td>-122.225200</td>\n",
       "    </tr>\n",
       "    <tr>\n",
       "      <th>2</th>\n",
       "      <td>2944500680</td>\n",
       "      <td>3/17/2022</td>\n",
       "      <td>780000.0</td>\n",
       "      <td>4</td>\n",
       "      <td>2.5</td>\n",
       "      <td>2340</td>\n",
       "      <td>8125</td>\n",
       "      <td>2.0</td>\n",
       "      <td>NO</td>\n",
       "      <td>NO</td>\n",
       "      <td>NO</td>\n",
       "      <td>NONE</td>\n",
       "      <td>Average</td>\n",
       "      <td>8 Good</td>\n",
       "      <td>Gas</td>\n",
       "      <td>PUBLIC</td>\n",
       "      <td>2340</td>\n",
       "      <td>0</td>\n",
       "      <td>440</td>\n",
       "      <td>70</td>\n",
       "      <td>1989</td>\n",
       "      <td>0</td>\n",
       "      <td>2721 Southwest 343rd Place, Federal Way, Washi...</td>\n",
       "      <td>47.293770</td>\n",
       "      <td>-122.369320</td>\n",
       "    </tr>\n",
       "    <tr>\n",
       "      <th>3</th>\n",
       "      <td>2619950340</td>\n",
       "      <td>6/21/2021</td>\n",
       "      <td>975000.0</td>\n",
       "      <td>4</td>\n",
       "      <td>2.5</td>\n",
       "      <td>2980</td>\n",
       "      <td>5859</td>\n",
       "      <td>2.0</td>\n",
       "      <td>NO</td>\n",
       "      <td>NO</td>\n",
       "      <td>NO</td>\n",
       "      <td>AVERAGE</td>\n",
       "      <td>Average</td>\n",
       "      <td>8 Good</td>\n",
       "      <td>Gas</td>\n",
       "      <td>PUBLIC</td>\n",
       "      <td>2980</td>\n",
       "      <td>0</td>\n",
       "      <td>540</td>\n",
       "      <td>170</td>\n",
       "      <td>2011</td>\n",
       "      <td>0</td>\n",
       "      <td>27950 Northeast 147th Circle, Duvall, Washingt...</td>\n",
       "      <td>47.733170</td>\n",
       "      <td>-121.965305</td>\n",
       "    </tr>\n",
       "    <tr>\n",
       "      <th>4</th>\n",
       "      <td>2873000690</td>\n",
       "      <td>6/11/2021</td>\n",
       "      <td>680000.0</td>\n",
       "      <td>4</td>\n",
       "      <td>3.0</td>\n",
       "      <td>2130</td>\n",
       "      <td>7649</td>\n",
       "      <td>1.0</td>\n",
       "      <td>NO</td>\n",
       "      <td>NO</td>\n",
       "      <td>NO</td>\n",
       "      <td>NONE</td>\n",
       "      <td>Very Good</td>\n",
       "      <td>7 Average</td>\n",
       "      <td>Electricity</td>\n",
       "      <td>PUBLIC</td>\n",
       "      <td>1130</td>\n",
       "      <td>1100</td>\n",
       "      <td>440</td>\n",
       "      <td>280</td>\n",
       "      <td>1975</td>\n",
       "      <td>0</td>\n",
       "      <td>20432 130th Place Southeast, Kent, Washington ...</td>\n",
       "      <td>47.418155</td>\n",
       "      <td>-122.166960</td>\n",
       "    </tr>\n",
       "  </tbody>\n",
       "</table>\n",
       "</div>"
      ],
      "text/plain": [
       "           id       date     price  bedrooms  bathrooms  sqft_living  \\\n",
       "0  7399300360  5/24/2022  675000.0         4        1.0         1180   \n",
       "1  1180000275  9/29/2021  311000.0         6        2.0         2880   \n",
       "2  2944500680  3/17/2022  780000.0         4        2.5         2340   \n",
       "3  2619950340  6/21/2021  975000.0         4        2.5         2980   \n",
       "4  2873000690  6/11/2021  680000.0         4        3.0         2130   \n",
       "\n",
       "   sqft_lot  floors waterfront greenbelt nuisance     view  condition  \\\n",
       "0      7140     1.0         NO        NO       NO     NONE       Good   \n",
       "1      6156     1.0         NO        NO       NO  AVERAGE    Average   \n",
       "2      8125     2.0         NO        NO       NO     NONE    Average   \n",
       "3      5859     2.0         NO        NO       NO  AVERAGE    Average   \n",
       "4      7649     1.0         NO        NO       NO     NONE  Very Good   \n",
       "\n",
       "       grade  heat_source sewer_system  sqft_above  sqft_basement  \\\n",
       "0  7 Average          Gas       PUBLIC        1180              0   \n",
       "1  7 Average          Gas       PUBLIC        1580           1580   \n",
       "2     8 Good          Gas       PUBLIC        2340              0   \n",
       "3     8 Good          Gas       PUBLIC        2980              0   \n",
       "4  7 Average  Electricity       PUBLIC        1130           1100   \n",
       "\n",
       "   sqft_garage  sqft_patio  yr_built  yr_renovated  \\\n",
       "0            0          40      1969             0   \n",
       "1            0           0      1956             0   \n",
       "2          440          70      1989             0   \n",
       "3          540         170      2011             0   \n",
       "4          440         280      1975             0   \n",
       "\n",
       "                                             address        lat        long  \n",
       "0  2102 Southeast 21st Court, Renton, Washington ...  47.461975 -122.190520  \n",
       "1  8504 South 113th Street, Seattle, Washington 9...  47.502045 -122.225200  \n",
       "2  2721 Southwest 343rd Place, Federal Way, Washi...  47.293770 -122.369320  \n",
       "3  27950 Northeast 147th Circle, Duvall, Washingt...  47.733170 -121.965305  \n",
       "4  20432 130th Place Southeast, Kent, Washington ...  47.418155 -122.166960  "
      ]
     },
     "execution_count": 2,
     "metadata": {},
     "output_type": "execute_result"
    }
   ],
   "source": [
    "#Import house sales data\n",
    "kc_house_df = pd.read_csv('/Users/Aidan/Documents/Flatiron/Phase_2/King-County-House-Sales-/data/kc_house_data.csv')\n",
    "\n",
    "#Let's create a subset that fit the criteria 4 or more bedrooms and no nuisance\n",
    "kc_family_house_df = kc_house_df[(kc_house_df['bedrooms'] >= 4) & (kc_house_df['nuisance'] == \"NO\")]\n",
    "\n",
    "#Reset the index\n",
    "kc_family_house_df.reset_index(drop=True,inplace= True)\n",
    "\n",
    "#Preview first 5 rows of subset\n",
    "kc_family_house_df.head()"
   ]
  },
  {
   "cell_type": "markdown",
   "metadata": {},
   "source": [
    "#### Remove Duplicates"
   ]
  },
  {
   "cell_type": "code",
   "execution_count": 3,
   "metadata": {},
   "outputs": [
    {
     "data": {
      "text/plain": [
       "False    11054\n",
       "dtype: int64"
      ]
     },
     "execution_count": 3,
     "metadata": {},
     "output_type": "execute_result"
    }
   ],
   "source": [
    "#Look for any duplicates in our dataset\n",
    "kc_family_house_df.duplicated().value_counts()"
   ]
  },
  {
   "cell_type": "markdown",
   "metadata": {},
   "source": [
    "Looks like there are no duplicates to address."
   ]
  },
  {
   "cell_type": "markdown",
   "metadata": {},
   "source": [
    "#### Dealing with Missing Values"
   ]
  },
  {
   "cell_type": "code",
   "execution_count": 4,
   "metadata": {},
   "outputs": [
    {
     "data": {
      "text/plain": [
       "(11054, 25)"
      ]
     },
     "execution_count": 4,
     "metadata": {},
     "output_type": "execute_result"
    }
   ],
   "source": [
    "#Shape of dataframe (rows, columns)\n",
    "kc_family_house_df.shape"
   ]
  },
  {
   "cell_type": "code",
   "execution_count": 5,
   "metadata": {},
   "outputs": [
    {
     "name": "stderr",
     "output_type": "stream",
     "text": [
      "<ipython-input-5-c290f543c6c0>:3: SettingWithCopyWarning: \n",
      "A value is trying to be set on a copy of a slice from a DataFrame\n",
      "\n",
      "See the caveats in the documentation: https://pandas.pydata.org/pandas-docs/stable/user_guide/indexing.html#returning-a-view-versus-a-copy\n",
      "  kc_family_house_df.dropna(inplace=True)\n"
     ]
    }
   ],
   "source": [
    "# Dropping any rows with null values, since there is not that many, so it shouldn't really affect the \n",
    "# success of our dataset.\n",
    "kc_family_house_df.dropna(inplace=True)"
   ]
  },
  {
   "cell_type": "code",
   "execution_count": 6,
   "metadata": {},
   "outputs": [
    {
     "name": "stderr",
     "output_type": "stream",
     "text": [
      "/Users/Aidan/opt/anaconda3/envs/learn-env/lib/python3.8/site-packages/pandas/core/frame.py:4163: SettingWithCopyWarning: \n",
      "A value is trying to be set on a copy of a slice from a DataFrame\n",
      "\n",
      "See the caveats in the documentation: https://pandas.pydata.org/pandas-docs/stable/user_guide/indexing.html#returning-a-view-versus-a-copy\n",
      "  return super().drop(\n"
     ]
    }
   ],
   "source": [
    "# As well, dropping the 'nuisance' column, since this dataset was filtered to only inlcude rows that\n",
    "# returned a value of \"NO\" in our 'nuisance' column.\n",
    "kc_family_house_df.drop(columns = ['nuisance'], inplace=True)"
   ]
  },
  {
   "cell_type": "code",
   "execution_count": 7,
   "metadata": {
    "scrolled": false
   },
   "outputs": [
    {
     "data": {
      "text/plain": [
       "(11046, 24)"
      ]
     },
     "execution_count": 7,
     "metadata": {},
     "output_type": "execute_result"
    }
   ],
   "source": [
    "#Shape of dataframe after dropping records with missing values and columns we don't need\n",
    "kc_family_house_df.shape"
   ]
  },
  {
   "cell_type": "markdown",
   "metadata": {},
   "source": [
    "#### Adding Features"
   ]
  },
  {
   "cell_type": "markdown",
   "metadata": {},
   "source": [
    "Let's split the address into a new column, zip code."
   ]
  },
  {
   "cell_type": "code",
   "execution_count": 8,
   "metadata": {},
   "outputs": [
    {
     "data": {
      "text/plain": [
       "'2102 Southeast 21st Court, Renton, Washington 98055, United States'"
      ]
     },
     "execution_count": 8,
     "metadata": {},
     "output_type": "execute_result"
    }
   ],
   "source": [
    "# Example of an address\n",
    "kc_family_house_df['address'][0]"
   ]
  },
  {
   "cell_type": "code",
   "execution_count": 9,
   "metadata": {},
   "outputs": [
    {
     "name": "stderr",
     "output_type": "stream",
     "text": [
      "<ipython-input-9-aab20c90a77a>:2: SettingWithCopyWarning: \n",
      "A value is trying to be set on a copy of a slice from a DataFrame.\n",
      "Try using .loc[row_indexer,col_indexer] = value instead\n",
      "\n",
      "See the caveats in the documentation: https://pandas.pydata.org/pandas-docs/stable/user_guide/indexing.html#returning-a-view-versus-a-copy\n",
      "  kc_family_house_df[\"Zip Code\"] = kc_family_house_df['address'].apply(lambda x: x.split()[-3][:-1])\n"
     ]
    }
   ],
   "source": [
    "#Separate the Zip Code from the address\n",
    "kc_family_house_df[\"Zip Code\"] = kc_family_house_df['address'].apply(lambda x: x.split()[-3][:-1])"
   ]
  },
  {
   "cell_type": "code",
   "execution_count": 10,
   "metadata": {},
   "outputs": [
    {
     "data": {
      "text/plain": [
       "0    98055\n",
       "1    98178\n",
       "2    98023\n",
       "3    98019\n",
       "4    98031\n",
       "Name: Zip Code, dtype: object"
      ]
     },
     "execution_count": 10,
     "metadata": {},
     "output_type": "execute_result"
    }
   ],
   "source": [
    "#Preview our new column\n",
    "kc_family_house_df[\"Zip Code\"].head()"
   ]
  },
  {
   "cell_type": "markdown",
   "metadata": {},
   "source": [
    "#### Remove Outliers"
   ]
  },
  {
   "cell_type": "markdown",
   "metadata": {},
   "source": [
    "The `column_names.md` file that accompanied the House Sales dataset stated \"In some cases due to missing or incorrectly-entered data from the King County Assessor, this API returned locations outside of King County, WA.\"\n",
    "<br>\n",
    "<br>\n",
    "This means we need to remove houses from our dataset that are not in King County, WA. We pulled zip code information for the county from https://statisticalatlas.com/county/Washington/King-County/Overview."
   ]
  },
  {
   "cell_type": "markdown",
   "metadata": {},
   "source": [
    "Compiled King County zip codes into a list to use to subset data frame for only houses that have a zip code in `King_County_WA_zipcodes`."
   ]
  },
  {
   "cell_type": "code",
   "execution_count": 11,
   "metadata": {},
   "outputs": [
    {
     "data": {
      "text/plain": [
       "(11046, 25)"
      ]
     },
     "execution_count": 11,
     "metadata": {},
     "output_type": "execute_result"
    }
   ],
   "source": [
    "#View record count before removing Non-King County houses.\n",
    "kc_family_house_df.shape"
   ]
  },
  {
   "cell_type": "code",
   "execution_count": 12,
   "metadata": {},
   "outputs": [],
   "source": [
    "King_County_WA_zipcodes = ['98001', '98002', '98003', '98004', '98005', '98006', '98007', '98008', '98010', \\\n",
    "    '98011', '98014', '98019', '98021', '98022', '98023', '98024', '98027', '98028', \\\n",
    "    '98029', '98030', '98031', '98032', '98033', '98034', '98038', '98039', '98040', \\\n",
    "    '98042', '98043', '98045', '98047', '98050', '98051', '98052', '98053', '98055', \\\n",
    "    '98056', '98057', '98058', '98059', '98065', '98068', '98070', '98072', '98074', \\\n",
    "    '98075', '98077', '98092', '98101', '98102', '98103', '98104', '98105', '98106', \\\n",
    "    '98107', '98108', '98109', '98112', '98115', '98116', '98117', '98118', '98119', \\\n",
    "    '98121', '98122', '98125', '98126', '98133', '98134', '98136', '98144', '98146', \\\n",
    "    '98148', '98154', '98155', '98158', '98164', '98166', '98168', '98174', '98177', \\\n",
    "    '98178', '98188', '98195', '98198', '98199', '98224', '98288', '98323', '98354', '98391']"
   ]
  },
  {
   "cell_type": "code",
   "execution_count": 13,
   "metadata": {},
   "outputs": [],
   "source": [
    "kc_family_house_df = kc_family_house_df[kc_family_house_df[\"Zip Code\"].isin(King_County_WA_zipcodes)]"
   ]
  },
  {
   "cell_type": "code",
   "execution_count": 14,
   "metadata": {},
   "outputs": [
    {
     "data": {
      "text/plain": [
       "(10941, 25)"
      ]
     },
     "execution_count": 14,
     "metadata": {},
     "output_type": "execute_result"
    }
   ],
   "source": [
    "kc_family_house_df.shape"
   ]
  },
  {
   "cell_type": "markdown",
   "metadata": {},
   "source": [
    "We removed 105 house records that were not in King County, WA"
   ]
  },
  {
   "cell_type": "code",
   "execution_count": 15,
   "metadata": {},
   "outputs": [
    {
     "data": {
      "text/html": [
       "<div>\n",
       "<style scoped>\n",
       "    .dataframe tbody tr th:only-of-type {\n",
       "        vertical-align: middle;\n",
       "    }\n",
       "\n",
       "    .dataframe tbody tr th {\n",
       "        vertical-align: top;\n",
       "    }\n",
       "\n",
       "    .dataframe thead th {\n",
       "        text-align: right;\n",
       "    }\n",
       "</style>\n",
       "<table border=\"1\" class=\"dataframe\">\n",
       "  <thead>\n",
       "    <tr style=\"text-align: right;\">\n",
       "      <th></th>\n",
       "      <th>id</th>\n",
       "      <th>date</th>\n",
       "      <th>price</th>\n",
       "      <th>bedrooms</th>\n",
       "      <th>bathrooms</th>\n",
       "      <th>sqft_living</th>\n",
       "      <th>sqft_lot</th>\n",
       "      <th>floors</th>\n",
       "      <th>waterfront</th>\n",
       "      <th>greenbelt</th>\n",
       "      <th>view</th>\n",
       "      <th>condition</th>\n",
       "      <th>grade</th>\n",
       "      <th>heat_source</th>\n",
       "      <th>sewer_system</th>\n",
       "      <th>sqft_above</th>\n",
       "      <th>sqft_basement</th>\n",
       "      <th>sqft_garage</th>\n",
       "      <th>sqft_patio</th>\n",
       "      <th>yr_built</th>\n",
       "      <th>yr_renovated</th>\n",
       "      <th>address</th>\n",
       "      <th>lat</th>\n",
       "      <th>long</th>\n",
       "      <th>Zip Code</th>\n",
       "    </tr>\n",
       "  </thead>\n",
       "  <tbody>\n",
       "    <tr>\n",
       "      <th>0</th>\n",
       "      <td>7399300360</td>\n",
       "      <td>5/24/2022</td>\n",
       "      <td>675000.0</td>\n",
       "      <td>4</td>\n",
       "      <td>1.0</td>\n",
       "      <td>1180</td>\n",
       "      <td>7140</td>\n",
       "      <td>1.0</td>\n",
       "      <td>NO</td>\n",
       "      <td>NO</td>\n",
       "      <td>NONE</td>\n",
       "      <td>Good</td>\n",
       "      <td>7 Average</td>\n",
       "      <td>Gas</td>\n",
       "      <td>PUBLIC</td>\n",
       "      <td>1180</td>\n",
       "      <td>0</td>\n",
       "      <td>0</td>\n",
       "      <td>40</td>\n",
       "      <td>1969</td>\n",
       "      <td>0</td>\n",
       "      <td>2102 Southeast 21st Court, Renton, Washington ...</td>\n",
       "      <td>47.461975</td>\n",
       "      <td>-122.190520</td>\n",
       "      <td>98055</td>\n",
       "    </tr>\n",
       "    <tr>\n",
       "      <th>1</th>\n",
       "      <td>1180000275</td>\n",
       "      <td>9/29/2021</td>\n",
       "      <td>311000.0</td>\n",
       "      <td>6</td>\n",
       "      <td>2.0</td>\n",
       "      <td>2880</td>\n",
       "      <td>6156</td>\n",
       "      <td>1.0</td>\n",
       "      <td>NO</td>\n",
       "      <td>NO</td>\n",
       "      <td>AVERAGE</td>\n",
       "      <td>Average</td>\n",
       "      <td>7 Average</td>\n",
       "      <td>Gas</td>\n",
       "      <td>PUBLIC</td>\n",
       "      <td>1580</td>\n",
       "      <td>1580</td>\n",
       "      <td>0</td>\n",
       "      <td>0</td>\n",
       "      <td>1956</td>\n",
       "      <td>0</td>\n",
       "      <td>8504 South 113th Street, Seattle, Washington 9...</td>\n",
       "      <td>47.502045</td>\n",
       "      <td>-122.225200</td>\n",
       "      <td>98178</td>\n",
       "    </tr>\n",
       "    <tr>\n",
       "      <th>2</th>\n",
       "      <td>2944500680</td>\n",
       "      <td>3/17/2022</td>\n",
       "      <td>780000.0</td>\n",
       "      <td>4</td>\n",
       "      <td>2.5</td>\n",
       "      <td>2340</td>\n",
       "      <td>8125</td>\n",
       "      <td>2.0</td>\n",
       "      <td>NO</td>\n",
       "      <td>NO</td>\n",
       "      <td>NONE</td>\n",
       "      <td>Average</td>\n",
       "      <td>8 Good</td>\n",
       "      <td>Gas</td>\n",
       "      <td>PUBLIC</td>\n",
       "      <td>2340</td>\n",
       "      <td>0</td>\n",
       "      <td>440</td>\n",
       "      <td>70</td>\n",
       "      <td>1989</td>\n",
       "      <td>0</td>\n",
       "      <td>2721 Southwest 343rd Place, Federal Way, Washi...</td>\n",
       "      <td>47.293770</td>\n",
       "      <td>-122.369320</td>\n",
       "      <td>98023</td>\n",
       "    </tr>\n",
       "    <tr>\n",
       "      <th>3</th>\n",
       "      <td>2619950340</td>\n",
       "      <td>6/21/2021</td>\n",
       "      <td>975000.0</td>\n",
       "      <td>4</td>\n",
       "      <td>2.5</td>\n",
       "      <td>2980</td>\n",
       "      <td>5859</td>\n",
       "      <td>2.0</td>\n",
       "      <td>NO</td>\n",
       "      <td>NO</td>\n",
       "      <td>AVERAGE</td>\n",
       "      <td>Average</td>\n",
       "      <td>8 Good</td>\n",
       "      <td>Gas</td>\n",
       "      <td>PUBLIC</td>\n",
       "      <td>2980</td>\n",
       "      <td>0</td>\n",
       "      <td>540</td>\n",
       "      <td>170</td>\n",
       "      <td>2011</td>\n",
       "      <td>0</td>\n",
       "      <td>27950 Northeast 147th Circle, Duvall, Washingt...</td>\n",
       "      <td>47.733170</td>\n",
       "      <td>-121.965305</td>\n",
       "      <td>98019</td>\n",
       "    </tr>\n",
       "    <tr>\n",
       "      <th>4</th>\n",
       "      <td>2873000690</td>\n",
       "      <td>6/11/2021</td>\n",
       "      <td>680000.0</td>\n",
       "      <td>4</td>\n",
       "      <td>3.0</td>\n",
       "      <td>2130</td>\n",
       "      <td>7649</td>\n",
       "      <td>1.0</td>\n",
       "      <td>NO</td>\n",
       "      <td>NO</td>\n",
       "      <td>NONE</td>\n",
       "      <td>Very Good</td>\n",
       "      <td>7 Average</td>\n",
       "      <td>Electricity</td>\n",
       "      <td>PUBLIC</td>\n",
       "      <td>1130</td>\n",
       "      <td>1100</td>\n",
       "      <td>440</td>\n",
       "      <td>280</td>\n",
       "      <td>1975</td>\n",
       "      <td>0</td>\n",
       "      <td>20432 130th Place Southeast, Kent, Washington ...</td>\n",
       "      <td>47.418155</td>\n",
       "      <td>-122.166960</td>\n",
       "      <td>98031</td>\n",
       "    </tr>\n",
       "  </tbody>\n",
       "</table>\n",
       "</div>"
      ],
      "text/plain": [
       "           id       date     price  bedrooms  bathrooms  sqft_living  \\\n",
       "0  7399300360  5/24/2022  675000.0         4        1.0         1180   \n",
       "1  1180000275  9/29/2021  311000.0         6        2.0         2880   \n",
       "2  2944500680  3/17/2022  780000.0         4        2.5         2340   \n",
       "3  2619950340  6/21/2021  975000.0         4        2.5         2980   \n",
       "4  2873000690  6/11/2021  680000.0         4        3.0         2130   \n",
       "\n",
       "   sqft_lot  floors waterfront greenbelt     view  condition      grade  \\\n",
       "0      7140     1.0         NO        NO     NONE       Good  7 Average   \n",
       "1      6156     1.0         NO        NO  AVERAGE    Average  7 Average   \n",
       "2      8125     2.0         NO        NO     NONE    Average     8 Good   \n",
       "3      5859     2.0         NO        NO  AVERAGE    Average     8 Good   \n",
       "4      7649     1.0         NO        NO     NONE  Very Good  7 Average   \n",
       "\n",
       "   heat_source sewer_system  sqft_above  sqft_basement  sqft_garage  \\\n",
       "0          Gas       PUBLIC        1180              0            0   \n",
       "1          Gas       PUBLIC        1580           1580            0   \n",
       "2          Gas       PUBLIC        2340              0          440   \n",
       "3          Gas       PUBLIC        2980              0          540   \n",
       "4  Electricity       PUBLIC        1130           1100          440   \n",
       "\n",
       "   sqft_patio  yr_built  yr_renovated  \\\n",
       "0          40      1969             0   \n",
       "1           0      1956             0   \n",
       "2          70      1989             0   \n",
       "3         170      2011             0   \n",
       "4         280      1975             0   \n",
       "\n",
       "                                             address        lat        long  \\\n",
       "0  2102 Southeast 21st Court, Renton, Washington ...  47.461975 -122.190520   \n",
       "1  8504 South 113th Street, Seattle, Washington 9...  47.502045 -122.225200   \n",
       "2  2721 Southwest 343rd Place, Federal Way, Washi...  47.293770 -122.369320   \n",
       "3  27950 Northeast 147th Circle, Duvall, Washingt...  47.733170 -121.965305   \n",
       "4  20432 130th Place Southeast, Kent, Washington ...  47.418155 -122.166960   \n",
       "\n",
       "  Zip Code  \n",
       "0    98055  \n",
       "1    98178  \n",
       "2    98023  \n",
       "3    98019  \n",
       "4    98031  "
      ]
     },
     "execution_count": 15,
     "metadata": {},
     "output_type": "execute_result"
    }
   ],
   "source": [
    "kc_family_house_df.head()"
   ]
  },
  {
   "cell_type": "markdown",
   "metadata": {},
   "source": [
    "### School Districts Dataset"
   ]
  },
  {
   "cell_type": "code",
   "execution_count": 16,
   "metadata": {},
   "outputs": [
    {
     "name": "stderr",
     "output_type": "stream",
     "text": [
      "/Users/Aidan/opt/anaconda3/envs/learn-env/lib/python3.8/site-packages/IPython/core/interactiveshell.py:3145: DtypeWarning: Columns (11) have mixed types.Specify dtype option on import or set low_memory=False.\n",
      "  has_raised = await self.run_ast_nodes(code_ast.body, cell_name,\n"
     ]
    }
   ],
   "source": [
    "#Import School Districts dataset\n",
    "schools_df = \\\n",
    "pd.read_csv('/Users/Aidan/Documents/Flatiron/Phase_2/King-County-House-Sales-/data/Report_Card_Assessment_Data_2021-22_School_Year.csv')"
   ]
  },
  {
   "cell_type": "code",
   "execution_count": 17,
   "metadata": {
    "scrolled": true
   },
   "outputs": [],
   "source": [
    "#Create a new subset of just the King County Schools\n",
    "king_school_df = schools_df[schools_df.County == \"King\"].copy()"
   ]
  },
  {
   "cell_type": "code",
   "execution_count": 18,
   "metadata": {},
   "outputs": [
    {
     "data": {
      "text/plain": [
       "Seattle School District No. 1              27136\n",
       "Lake Washington School District            14470\n",
       "Kent School District                       12693\n",
       "Federal Way School District                12013\n",
       "Highline School District                    9768\n",
       "Northshore School District                  9572\n",
       "Renton School District                      9106\n",
       "Bellevue School District                    8219\n",
       "Auburn School District                      8216\n",
       "Issaquah School District                    7862\n",
       "Shoreline School District                   5097\n",
       "Snoqualmie Valley School District           4148\n",
       "Tahoma School District                      3478\n",
       "Enumclaw School District                    3264\n",
       "Tukwila School District                     2342\n",
       "Riverview School District                   2162\n",
       "Mercer Island School District               1849\n",
       "Vashon Island School District               1528\n",
       "Rainier Prep Charter School District         698\n",
       "Summit Public School: Atlas                  592\n",
       "Skykomish School District                    539\n",
       "Rainier Valley Leadership Academy            512\n",
       "Muckleshoot Indian Tribe                     371\n",
       "Impact | Puget Sound Elementary              284\n",
       "Summit Public School: Sierra                 256\n",
       "Renton Technical College                      76\n",
       "Lake Washington Institute of Technology       68\n",
       "Name: DistrictName, dtype: int64"
      ]
     },
     "execution_count": 18,
     "metadata": {},
     "output_type": "execute_result"
    }
   ],
   "source": [
    "#Let's look at our school districts\n",
    "king_school_df.DistrictName.value_counts()"
   ]
  },
  {
   "cell_type": "markdown",
   "metadata": {},
   "source": [
    "Technically Fife School District is in both Pierce and King counties. In the `schools_df`, it is listed as being in Pierce County. We are including it so that the King County houses with Zip Codes corresponding to the Fife School District can be included in our overall dataset."
   ]
  },
  {
   "cell_type": "code",
   "execution_count": 19,
   "metadata": {},
   "outputs": [],
   "source": [
    "#Create dataframe with King County School Districts (including Fife)\n",
    "king_school_df = schools_df[(schools_df.County == \"King\") |\\\n",
    "                            (schools_df.DistrictName == \"Fife School District\")].copy()"
   ]
  },
  {
   "cell_type": "code",
   "execution_count": 20,
   "metadata": {},
   "outputs": [
    {
     "data": {
      "text/plain": [
       "Seattle School District No. 1              27136\n",
       "Lake Washington School District            14470\n",
       "Kent School District                       12693\n",
       "Federal Way School District                12013\n",
       "Highline School District                    9768\n",
       "Northshore School District                  9572\n",
       "Renton School District                      9106\n",
       "Bellevue School District                    8219\n",
       "Auburn School District                      8216\n",
       "Issaquah School District                    7862\n",
       "Shoreline School District                   5097\n",
       "Snoqualmie Valley School District           4148\n",
       "Tahoma School District                      3478\n",
       "Enumclaw School District                    3264\n",
       "Tukwila School District                     2342\n",
       "Fife School District                        2215\n",
       "Riverview School District                   2162\n",
       "Mercer Island School District               1849\n",
       "Vashon Island School District               1528\n",
       "Rainier Prep Charter School District         698\n",
       "Summit Public School: Atlas                  592\n",
       "Skykomish School District                    539\n",
       "Rainier Valley Leadership Academy            512\n",
       "Muckleshoot Indian Tribe                     371\n",
       "Impact | Puget Sound Elementary              284\n",
       "Summit Public School: Sierra                 256\n",
       "Renton Technical College                      76\n",
       "Lake Washington Institute of Technology       68\n",
       "Name: DistrictName, dtype: int64"
      ]
     },
     "execution_count": 20,
     "metadata": {},
     "output_type": "execute_result"
    }
   ],
   "source": [
    "#Let's look at our school districts to see if Fife is included\n",
    "king_school_df.DistrictName.value_counts()"
   ]
  },
  {
   "cell_type": "markdown",
   "metadata": {},
   "source": [
    "We also want to remove the schools that are not school districts. <br>\n",
    "<br>\n",
    "We only care about the overall scores of each school district and not the scores of each demographic. We will subset our dataframe for District Totals for All Students and All Grades. "
   ]
  },
  {
   "cell_type": "code",
   "execution_count": 21,
   "metadata": {},
   "outputs": [],
   "source": [
    "king_school_df = king_school_df[(king_school_df.StudentGroup == \"All Students\") & \\\n",
    "                                (king_school_df.GradeLevel == \"All Grades\") & \\\n",
    "                                (king_school_df.SchoolName == 'District Total') &\\\n",
    "                               (king_school_df.DistrictName.str.contains(\"District\"))]"
   ]
  },
  {
   "cell_type": "code",
   "execution_count": 22,
   "metadata": {},
   "outputs": [],
   "source": [
    "#Limited our dataframe for just the columns we care about. \n",
    "king_school_df = king_school_df[['DistrictName','TestAdministration','TestSubject','PercentMetStandard']]"
   ]
  },
  {
   "cell_type": "code",
   "execution_count": 23,
   "metadata": {},
   "outputs": [
    {
     "data": {
      "text/html": [
       "<div>\n",
       "<style scoped>\n",
       "    .dataframe tbody tr th:only-of-type {\n",
       "        vertical-align: middle;\n",
       "    }\n",
       "\n",
       "    .dataframe tbody tr th {\n",
       "        vertical-align: top;\n",
       "    }\n",
       "\n",
       "    .dataframe thead th {\n",
       "        text-align: right;\n",
       "    }\n",
       "</style>\n",
       "<table border=\"1\" class=\"dataframe\">\n",
       "  <thead>\n",
       "    <tr style=\"text-align: right;\">\n",
       "      <th></th>\n",
       "      <th>DistrictName</th>\n",
       "      <th>TestAdministration</th>\n",
       "      <th>TestSubject</th>\n",
       "      <th>PercentMetStandard</th>\n",
       "    </tr>\n",
       "  </thead>\n",
       "  <tbody>\n",
       "    <tr>\n",
       "      <th>2130</th>\n",
       "      <td>Fife School District</td>\n",
       "      <td>SBAC</td>\n",
       "      <td>Math</td>\n",
       "      <td>30.8%</td>\n",
       "    </tr>\n",
       "    <tr>\n",
       "      <th>74381</th>\n",
       "      <td>Fife School District</td>\n",
       "      <td>WCAS</td>\n",
       "      <td>Science</td>\n",
       "      <td>39.0%</td>\n",
       "    </tr>\n",
       "    <tr>\n",
       "      <th>219063</th>\n",
       "      <td>Fife School District</td>\n",
       "      <td>AIM</td>\n",
       "      <td>ELA</td>\n",
       "      <td>36.8%</td>\n",
       "    </tr>\n",
       "    <tr>\n",
       "      <th>219078</th>\n",
       "      <td>Fife School District</td>\n",
       "      <td>AIM</td>\n",
       "      <td>Math</td>\n",
       "      <td>42.1%</td>\n",
       "    </tr>\n",
       "    <tr>\n",
       "      <th>728240</th>\n",
       "      <td>Fife School District</td>\n",
       "      <td>AIM</td>\n",
       "      <td>Science</td>\n",
       "      <td>Suppressed: N&lt;10</td>\n",
       "    </tr>\n",
       "    <tr>\n",
       "      <th>728245</th>\n",
       "      <td>Fife School District</td>\n",
       "      <td>SBAC</td>\n",
       "      <td>ELA</td>\n",
       "      <td>46.2%</td>\n",
       "    </tr>\n",
       "  </tbody>\n",
       "</table>\n",
       "</div>"
      ],
      "text/plain": [
       "                DistrictName TestAdministration TestSubject PercentMetStandard\n",
       "2130    Fife School District               SBAC        Math              30.8%\n",
       "74381   Fife School District               WCAS     Science              39.0%\n",
       "219063  Fife School District                AIM         ELA              36.8%\n",
       "219078  Fife School District                AIM        Math              42.1%\n",
       "728240  Fife School District                AIM     Science   Suppressed: N<10\n",
       "728245  Fife School District               SBAC         ELA              46.2%"
      ]
     },
     "execution_count": 23,
     "metadata": {},
     "output_type": "execute_result"
    }
   ],
   "source": [
    "#Checking a single school district to see if it has all the scores we want\n",
    "king_school_df[king_school_df.DistrictName == \"Fife School District\"]"
   ]
  },
  {
   "cell_type": "markdown",
   "metadata": {},
   "source": [
    "Looking at this data, we noticed that each district had two scores for each test subject. By researching the Test Administration, we found that the AIM Scores are for kids with cognitive disabilities has far fewer students in their count. We will separate these scores and use the non-AIM scores (SBAC and WCAS) for our overall rating of a school district as it has a higher count of students. "
   ]
  },
  {
   "cell_type": "code",
   "execution_count": 24,
   "metadata": {},
   "outputs": [],
   "source": [
    "#SUBSET OF KING COUNTY SCHOOL DISTRICT SCORES FOR KIDS WITH COGNITIVE DISABILITIES (AIM TEST)\n",
    "cog_dis_king_school_df = king_school_df[king_school_df['TestAdministration'] == 'AIM']"
   ]
  },
  {
   "cell_type": "code",
   "execution_count": 25,
   "metadata": {},
   "outputs": [
    {
     "name": "stderr",
     "output_type": "stream",
     "text": [
      "/Users/Aidan/opt/anaconda3/envs/learn-env/lib/python3.8/site-packages/pandas/core/frame.py:4163: SettingWithCopyWarning: \n",
      "A value is trying to be set on a copy of a slice from a DataFrame\n",
      "\n",
      "See the caveats in the documentation: https://pandas.pydata.org/pandas-docs/stable/user_guide/indexing.html#returning-a-view-versus-a-copy\n",
      "  return super().drop(\n"
     ]
    }
   ],
   "source": [
    "cog_dis_king_school_df.drop(labels='TestAdministration', axis = 1, inplace=True)"
   ]
  },
  {
   "cell_type": "code",
   "execution_count": 26,
   "metadata": {},
   "outputs": [
    {
     "data": {
      "text/html": [
       "<div>\n",
       "<style scoped>\n",
       "    .dataframe tbody tr th:only-of-type {\n",
       "        vertical-align: middle;\n",
       "    }\n",
       "\n",
       "    .dataframe tbody tr th {\n",
       "        vertical-align: top;\n",
       "    }\n",
       "\n",
       "    .dataframe thead th {\n",
       "        text-align: right;\n",
       "    }\n",
       "</style>\n",
       "<table border=\"1\" class=\"dataframe\">\n",
       "  <thead>\n",
       "    <tr style=\"text-align: right;\">\n",
       "      <th></th>\n",
       "      <th>DistrictName</th>\n",
       "      <th>TestSubject</th>\n",
       "      <th>PercentMetStandard</th>\n",
       "    </tr>\n",
       "  </thead>\n",
       "  <tbody>\n",
       "    <tr>\n",
       "      <th>2050</th>\n",
       "      <td>Federal Way School District</td>\n",
       "      <td>Science</td>\n",
       "      <td>14.3%</td>\n",
       "    </tr>\n",
       "    <tr>\n",
       "      <th>3521</th>\n",
       "      <td>Mercer Island School District</td>\n",
       "      <td>Math</td>\n",
       "      <td>Suppressed: N&lt;10</td>\n",
       "    </tr>\n",
       "    <tr>\n",
       "      <th>5926</th>\n",
       "      <td>Shoreline School District</td>\n",
       "      <td>ELA</td>\n",
       "      <td>44.2%</td>\n",
       "    </tr>\n",
       "    <tr>\n",
       "      <th>5942</th>\n",
       "      <td>Shoreline School District</td>\n",
       "      <td>Math</td>\n",
       "      <td>44.2%</td>\n",
       "    </tr>\n",
       "    <tr>\n",
       "      <th>7171</th>\n",
       "      <td>Vashon Island School District</td>\n",
       "      <td>ELA</td>\n",
       "      <td>Suppressed: N&lt;10</td>\n",
       "    </tr>\n",
       "  </tbody>\n",
       "</table>\n",
       "</div>"
      ],
      "text/plain": [
       "                       DistrictName TestSubject PercentMetStandard\n",
       "2050    Federal Way School District     Science              14.3%\n",
       "3521  Mercer Island School District        Math   Suppressed: N<10\n",
       "5926      Shoreline School District         ELA              44.2%\n",
       "5942      Shoreline School District        Math              44.2%\n",
       "7171  Vashon Island School District         ELA   Suppressed: N<10"
      ]
     },
     "execution_count": 26,
     "metadata": {},
     "output_type": "execute_result"
    }
   ],
   "source": [
    "cog_dis_king_school_df.head()"
   ]
  },
  {
   "cell_type": "code",
   "execution_count": 27,
   "metadata": {},
   "outputs": [],
   "source": [
    "#LARGER SUBSET OF KING COUNTY SCHOOL DISTRICT SCORES FOR KIDS WITHOUT COGNITIVE DISABILITIES \n",
    "main_king_school_df = king_school_df[king_school_df['TestAdministration'] != 'AIM']"
   ]
  },
  {
   "cell_type": "code",
   "execution_count": 28,
   "metadata": {},
   "outputs": [
    {
     "name": "stderr",
     "output_type": "stream",
     "text": [
      "/Users/Aidan/opt/anaconda3/envs/learn-env/lib/python3.8/site-packages/pandas/core/frame.py:4163: SettingWithCopyWarning: \n",
      "A value is trying to be set on a copy of a slice from a DataFrame\n",
      "\n",
      "See the caveats in the documentation: https://pandas.pydata.org/pandas-docs/stable/user_guide/indexing.html#returning-a-view-versus-a-copy\n",
      "  return super().drop(\n"
     ]
    }
   ],
   "source": [
    "main_king_school_df.drop(labels='TestAdministration', axis = 1, inplace=True)"
   ]
  },
  {
   "cell_type": "code",
   "execution_count": 29,
   "metadata": {},
   "outputs": [
    {
     "data": {
      "text/html": [
       "<div>\n",
       "<style scoped>\n",
       "    .dataframe tbody tr th:only-of-type {\n",
       "        vertical-align: middle;\n",
       "    }\n",
       "\n",
       "    .dataframe tbody tr th {\n",
       "        vertical-align: top;\n",
       "    }\n",
       "\n",
       "    .dataframe thead th {\n",
       "        text-align: right;\n",
       "    }\n",
       "</style>\n",
       "<table border=\"1\" class=\"dataframe\">\n",
       "  <thead>\n",
       "    <tr style=\"text-align: right;\">\n",
       "      <th></th>\n",
       "      <th>DistrictName</th>\n",
       "      <th>TestSubject</th>\n",
       "      <th>PercentMetStandard</th>\n",
       "    </tr>\n",
       "  </thead>\n",
       "  <tbody>\n",
       "    <tr>\n",
       "      <th>2062</th>\n",
       "      <td>Federal Way School District</td>\n",
       "      <td>ELA</td>\n",
       "      <td>35.6%</td>\n",
       "    </tr>\n",
       "    <tr>\n",
       "      <th>2130</th>\n",
       "      <td>Fife School District</td>\n",
       "      <td>Math</td>\n",
       "      <td>30.8%</td>\n",
       "    </tr>\n",
       "    <tr>\n",
       "      <th>5384</th>\n",
       "      <td>Renton School District</td>\n",
       "      <td>Math</td>\n",
       "      <td>32.5%</td>\n",
       "    </tr>\n",
       "    <tr>\n",
       "      <th>69539</th>\n",
       "      <td>Vashon Island School District</td>\n",
       "      <td>ELA</td>\n",
       "      <td>62.3%</td>\n",
       "    </tr>\n",
       "    <tr>\n",
       "      <th>69562</th>\n",
       "      <td>Vashon Island School District</td>\n",
       "      <td>Math</td>\n",
       "      <td>51.3%</td>\n",
       "    </tr>\n",
       "    <tr>\n",
       "      <th>...</th>\n",
       "      <td>...</td>\n",
       "      <td>...</td>\n",
       "      <td>...</td>\n",
       "    </tr>\n",
       "    <tr>\n",
       "      <th>730736</th>\n",
       "      <td>Enumclaw School District</td>\n",
       "      <td>Science</td>\n",
       "      <td>49.8%</td>\n",
       "    </tr>\n",
       "    <tr>\n",
       "      <th>735027</th>\n",
       "      <td>Bellevue School District</td>\n",
       "      <td>Math</td>\n",
       "      <td>65.6%</td>\n",
       "    </tr>\n",
       "    <tr>\n",
       "      <th>735906</th>\n",
       "      <td>Auburn School District</td>\n",
       "      <td>ELA</td>\n",
       "      <td>43.6%</td>\n",
       "    </tr>\n",
       "    <tr>\n",
       "      <th>735909</th>\n",
       "      <td>Auburn School District</td>\n",
       "      <td>Math</td>\n",
       "      <td>30.2%</td>\n",
       "    </tr>\n",
       "    <tr>\n",
       "      <th>735911</th>\n",
       "      <td>Auburn School District</td>\n",
       "      <td>Science</td>\n",
       "      <td>35.1%</td>\n",
       "    </tr>\n",
       "  </tbody>\n",
       "</table>\n",
       "<p>63 rows × 3 columns</p>\n",
       "</div>"
      ],
      "text/plain": [
       "                         DistrictName TestSubject PercentMetStandard\n",
       "2062      Federal Way School District         ELA              35.6%\n",
       "2130             Fife School District        Math              30.8%\n",
       "5384           Renton School District        Math              32.5%\n",
       "69539   Vashon Island School District         ELA              62.3%\n",
       "69562   Vashon Island School District        Math              51.3%\n",
       "...                               ...         ...                ...\n",
       "730736       Enumclaw School District     Science              49.8%\n",
       "735027       Bellevue School District        Math              65.6%\n",
       "735906         Auburn School District         ELA              43.6%\n",
       "735909         Auburn School District        Math              30.2%\n",
       "735911         Auburn School District     Science              35.1%\n",
       "\n",
       "[63 rows x 3 columns]"
      ]
     },
     "execution_count": 29,
     "metadata": {},
     "output_type": "execute_result"
    }
   ],
   "source": [
    "main_king_school_df"
   ]
  },
  {
   "cell_type": "markdown",
   "metadata": {},
   "source": [
    "#### Pivot Dataset"
   ]
  },
  {
   "cell_type": "markdown",
   "metadata": {},
   "source": [
    "We want to turn our dataset into a dataframe with `DistrictName` as rows and `TestSubject` as Columns with the corresponding `PercentMetStandard` at their intersection. "
   ]
  },
  {
   "cell_type": "code",
   "execution_count": 30,
   "metadata": {},
   "outputs": [],
   "source": [
    "#Create a pivot table\n",
    "main_king_school_df = main_king_school_df.pivot(index = \"DistrictName\", columns = \"TestSubject\",\\\n",
    "                                                values = \"PercentMetStandard\")"
   ]
  },
  {
   "cell_type": "code",
   "execution_count": 31,
   "metadata": {},
   "outputs": [],
   "source": [
    "#Reset the index\n",
    "main_king_school_df= main_king_school_df.reset_index()"
   ]
  },
  {
   "cell_type": "code",
   "execution_count": 32,
   "metadata": {},
   "outputs": [
    {
     "data": {
      "text/plain": [
       "Index(['DistrictName', 'ELA', 'Math', 'Science'], dtype='object', name='TestSubject')"
      ]
     },
     "execution_count": 32,
     "metadata": {},
     "output_type": "execute_result"
    }
   ],
   "source": [
    "#View the columns\n",
    "main_king_school_df.columns"
   ]
  },
  {
   "cell_type": "code",
   "execution_count": 33,
   "metadata": {},
   "outputs": [
    {
     "data": {
      "text/html": [
       "<div>\n",
       "<style scoped>\n",
       "    .dataframe tbody tr th:only-of-type {\n",
       "        vertical-align: middle;\n",
       "    }\n",
       "\n",
       "    .dataframe tbody tr th {\n",
       "        vertical-align: top;\n",
       "    }\n",
       "\n",
       "    .dataframe thead th {\n",
       "        text-align: right;\n",
       "    }\n",
       "</style>\n",
       "<table border=\"1\" class=\"dataframe\">\n",
       "  <thead>\n",
       "    <tr style=\"text-align: right;\">\n",
       "      <th>TestSubject</th>\n",
       "      <th>DistrictName</th>\n",
       "      <th>ELA</th>\n",
       "      <th>Math</th>\n",
       "      <th>Science</th>\n",
       "    </tr>\n",
       "  </thead>\n",
       "  <tbody>\n",
       "    <tr>\n",
       "      <th>0</th>\n",
       "      <td>Auburn School District</td>\n",
       "      <td>43.6%</td>\n",
       "      <td>30.2%</td>\n",
       "      <td>35.1%</td>\n",
       "    </tr>\n",
       "    <tr>\n",
       "      <th>1</th>\n",
       "      <td>Bellevue School District</td>\n",
       "      <td>72.3%</td>\n",
       "      <td>65.6%</td>\n",
       "      <td>63.7%</td>\n",
       "    </tr>\n",
       "    <tr>\n",
       "      <th>2</th>\n",
       "      <td>Enumclaw School District</td>\n",
       "      <td>56.7%</td>\n",
       "      <td>40.1%</td>\n",
       "      <td>49.8%</td>\n",
       "    </tr>\n",
       "    <tr>\n",
       "      <th>3</th>\n",
       "      <td>Federal Way School District</td>\n",
       "      <td>35.6%</td>\n",
       "      <td>21.7%</td>\n",
       "      <td>27.1%</td>\n",
       "    </tr>\n",
       "    <tr>\n",
       "      <th>4</th>\n",
       "      <td>Fife School District</td>\n",
       "      <td>46.2%</td>\n",
       "      <td>30.8%</td>\n",
       "      <td>39.0%</td>\n",
       "    </tr>\n",
       "    <tr>\n",
       "      <th>5</th>\n",
       "      <td>Highline School District</td>\n",
       "      <td>33.4%</td>\n",
       "      <td>21.5%</td>\n",
       "      <td>26.8%</td>\n",
       "    </tr>\n",
       "    <tr>\n",
       "      <th>6</th>\n",
       "      <td>Issaquah School District</td>\n",
       "      <td>76.0%</td>\n",
       "      <td>69.6%</td>\n",
       "      <td>63.2%</td>\n",
       "    </tr>\n",
       "    <tr>\n",
       "      <th>7</th>\n",
       "      <td>Kent School District</td>\n",
       "      <td>47.9%</td>\n",
       "      <td>33.7%</td>\n",
       "      <td>39.7%</td>\n",
       "    </tr>\n",
       "    <tr>\n",
       "      <th>8</th>\n",
       "      <td>Lake Washington School District</td>\n",
       "      <td>78.5%</td>\n",
       "      <td>70.2%</td>\n",
       "      <td>61.6%</td>\n",
       "    </tr>\n",
       "    <tr>\n",
       "      <th>9</th>\n",
       "      <td>Mercer Island School District</td>\n",
       "      <td>82.0%</td>\n",
       "      <td>76.9%</td>\n",
       "      <td>75.9%</td>\n",
       "    </tr>\n",
       "    <tr>\n",
       "      <th>10</th>\n",
       "      <td>Northshore School District</td>\n",
       "      <td>72.0%</td>\n",
       "      <td>59.6%</td>\n",
       "      <td>55.8%</td>\n",
       "    </tr>\n",
       "    <tr>\n",
       "      <th>11</th>\n",
       "      <td>Rainier Prep Charter School District</td>\n",
       "      <td>50.6%</td>\n",
       "      <td>37.7%</td>\n",
       "      <td>34.4%</td>\n",
       "    </tr>\n",
       "    <tr>\n",
       "      <th>12</th>\n",
       "      <td>Renton School District</td>\n",
       "      <td>42.9%</td>\n",
       "      <td>32.5%</td>\n",
       "      <td>33.3%</td>\n",
       "    </tr>\n",
       "    <tr>\n",
       "      <th>13</th>\n",
       "      <td>Riverview School District</td>\n",
       "      <td>69.0%</td>\n",
       "      <td>54.7%</td>\n",
       "      <td>54.5%</td>\n",
       "    </tr>\n",
       "    <tr>\n",
       "      <th>14</th>\n",
       "      <td>Seattle School District No. 1</td>\n",
       "      <td>62.7%</td>\n",
       "      <td>51.6%</td>\n",
       "      <td>48.5%</td>\n",
       "    </tr>\n",
       "    <tr>\n",
       "      <th>15</th>\n",
       "      <td>Shoreline School District</td>\n",
       "      <td>66.6%</td>\n",
       "      <td>55.2%</td>\n",
       "      <td>59.8%</td>\n",
       "    </tr>\n",
       "    <tr>\n",
       "      <th>16</th>\n",
       "      <td>Skykomish School District</td>\n",
       "      <td>71.4%</td>\n",
       "      <td>23.8%</td>\n",
       "      <td>Suppressed: N&lt;10</td>\n",
       "    </tr>\n",
       "    <tr>\n",
       "      <th>17</th>\n",
       "      <td>Snoqualmie Valley School District</td>\n",
       "      <td>75.3%</td>\n",
       "      <td>64.6%</td>\n",
       "      <td>65.1%</td>\n",
       "    </tr>\n",
       "    <tr>\n",
       "      <th>18</th>\n",
       "      <td>Tahoma School District</td>\n",
       "      <td>69.2%</td>\n",
       "      <td>59.0%</td>\n",
       "      <td>60.1%</td>\n",
       "    </tr>\n",
       "    <tr>\n",
       "      <th>19</th>\n",
       "      <td>Tukwila School District</td>\n",
       "      <td>29.6%</td>\n",
       "      <td>16.7%</td>\n",
       "      <td>26.1%</td>\n",
       "    </tr>\n",
       "    <tr>\n",
       "      <th>20</th>\n",
       "      <td>Vashon Island School District</td>\n",
       "      <td>62.3%</td>\n",
       "      <td>51.3%</td>\n",
       "      <td>67.0%</td>\n",
       "    </tr>\n",
       "  </tbody>\n",
       "</table>\n",
       "</div>"
      ],
      "text/plain": [
       "TestSubject                          DistrictName    ELA   Math  \\\n",
       "0                          Auburn School District  43.6%  30.2%   \n",
       "1                        Bellevue School District  72.3%  65.6%   \n",
       "2                        Enumclaw School District  56.7%  40.1%   \n",
       "3                     Federal Way School District  35.6%  21.7%   \n",
       "4                            Fife School District  46.2%  30.8%   \n",
       "5                        Highline School District  33.4%  21.5%   \n",
       "6                        Issaquah School District  76.0%  69.6%   \n",
       "7                            Kent School District  47.9%  33.7%   \n",
       "8                 Lake Washington School District  78.5%  70.2%   \n",
       "9                   Mercer Island School District  82.0%  76.9%   \n",
       "10                     Northshore School District  72.0%  59.6%   \n",
       "11           Rainier Prep Charter School District  50.6%  37.7%   \n",
       "12                         Renton School District  42.9%  32.5%   \n",
       "13                      Riverview School District  69.0%  54.7%   \n",
       "14                  Seattle School District No. 1  62.7%  51.6%   \n",
       "15                      Shoreline School District  66.6%  55.2%   \n",
       "16                      Skykomish School District  71.4%  23.8%   \n",
       "17              Snoqualmie Valley School District  75.3%  64.6%   \n",
       "18                         Tahoma School District  69.2%  59.0%   \n",
       "19                        Tukwila School District  29.6%  16.7%   \n",
       "20                  Vashon Island School District  62.3%  51.3%   \n",
       "\n",
       "TestSubject           Science  \n",
       "0                       35.1%  \n",
       "1                       63.7%  \n",
       "2                       49.8%  \n",
       "3                       27.1%  \n",
       "4                       39.0%  \n",
       "5                       26.8%  \n",
       "6                       63.2%  \n",
       "7                       39.7%  \n",
       "8                       61.6%  \n",
       "9                       75.9%  \n",
       "10                      55.8%  \n",
       "11                      34.4%  \n",
       "12                      33.3%  \n",
       "13                      54.5%  \n",
       "14                      48.5%  \n",
       "15                      59.8%  \n",
       "16           Suppressed: N<10  \n",
       "17                      65.1%  \n",
       "18                      60.1%  \n",
       "19                      26.1%  \n",
       "20                      67.0%  "
      ]
     },
     "execution_count": 33,
     "metadata": {},
     "output_type": "execute_result"
    }
   ],
   "source": [
    "#View our updated pivot table\n",
    "main_king_school_df"
   ]
  },
  {
   "cell_type": "markdown",
   "metadata": {},
   "source": [
    "It looks like one of the districts is `Rainier Prep Charter School District` which is a charter school and so does not reflect the school districts available based on house location. We will drop this row."
   ]
  },
  {
   "cell_type": "code",
   "execution_count": 34,
   "metadata": {},
   "outputs": [],
   "source": [
    "main_king_school_df = main_king_school_df[main_king_school_df['DistrictName']\\\n",
    "                                          != \"Rainier Prep Charter School District\"]"
   ]
  },
  {
   "cell_type": "code",
   "execution_count": 35,
   "metadata": {},
   "outputs": [],
   "source": [
    "# Confirming Rainier Prep Charter School District is no longer in our dataframe.\n",
    "main_king_school_df.index.name = 'index'"
   ]
  },
  {
   "cell_type": "code",
   "execution_count": 36,
   "metadata": {},
   "outputs": [
    {
     "data": {
      "text/html": [
       "<div>\n",
       "<style scoped>\n",
       "    .dataframe tbody tr th:only-of-type {\n",
       "        vertical-align: middle;\n",
       "    }\n",
       "\n",
       "    .dataframe tbody tr th {\n",
       "        vertical-align: top;\n",
       "    }\n",
       "\n",
       "    .dataframe thead th {\n",
       "        text-align: right;\n",
       "    }\n",
       "</style>\n",
       "<table border=\"1\" class=\"dataframe\">\n",
       "  <thead>\n",
       "    <tr style=\"text-align: right;\">\n",
       "      <th></th>\n",
       "      <th>DistrictName</th>\n",
       "      <th>ELA</th>\n",
       "      <th>Math</th>\n",
       "      <th>Science</th>\n",
       "    </tr>\n",
       "    <tr>\n",
       "      <th>index</th>\n",
       "      <th></th>\n",
       "      <th></th>\n",
       "      <th></th>\n",
       "      <th></th>\n",
       "    </tr>\n",
       "  </thead>\n",
       "  <tbody>\n",
       "    <tr>\n",
       "      <th>0</th>\n",
       "      <td>Auburn School District</td>\n",
       "      <td>43.6%</td>\n",
       "      <td>30.2%</td>\n",
       "      <td>35.1%</td>\n",
       "    </tr>\n",
       "    <tr>\n",
       "      <th>1</th>\n",
       "      <td>Bellevue School District</td>\n",
       "      <td>72.3%</td>\n",
       "      <td>65.6%</td>\n",
       "      <td>63.7%</td>\n",
       "    </tr>\n",
       "    <tr>\n",
       "      <th>2</th>\n",
       "      <td>Enumclaw School District</td>\n",
       "      <td>56.7%</td>\n",
       "      <td>40.1%</td>\n",
       "      <td>49.8%</td>\n",
       "    </tr>\n",
       "    <tr>\n",
       "      <th>3</th>\n",
       "      <td>Federal Way School District</td>\n",
       "      <td>35.6%</td>\n",
       "      <td>21.7%</td>\n",
       "      <td>27.1%</td>\n",
       "    </tr>\n",
       "    <tr>\n",
       "      <th>4</th>\n",
       "      <td>Fife School District</td>\n",
       "      <td>46.2%</td>\n",
       "      <td>30.8%</td>\n",
       "      <td>39.0%</td>\n",
       "    </tr>\n",
       "    <tr>\n",
       "      <th>5</th>\n",
       "      <td>Highline School District</td>\n",
       "      <td>33.4%</td>\n",
       "      <td>21.5%</td>\n",
       "      <td>26.8%</td>\n",
       "    </tr>\n",
       "    <tr>\n",
       "      <th>6</th>\n",
       "      <td>Issaquah School District</td>\n",
       "      <td>76.0%</td>\n",
       "      <td>69.6%</td>\n",
       "      <td>63.2%</td>\n",
       "    </tr>\n",
       "    <tr>\n",
       "      <th>7</th>\n",
       "      <td>Kent School District</td>\n",
       "      <td>47.9%</td>\n",
       "      <td>33.7%</td>\n",
       "      <td>39.7%</td>\n",
       "    </tr>\n",
       "    <tr>\n",
       "      <th>8</th>\n",
       "      <td>Lake Washington School District</td>\n",
       "      <td>78.5%</td>\n",
       "      <td>70.2%</td>\n",
       "      <td>61.6%</td>\n",
       "    </tr>\n",
       "    <tr>\n",
       "      <th>9</th>\n",
       "      <td>Mercer Island School District</td>\n",
       "      <td>82.0%</td>\n",
       "      <td>76.9%</td>\n",
       "      <td>75.9%</td>\n",
       "    </tr>\n",
       "    <tr>\n",
       "      <th>10</th>\n",
       "      <td>Northshore School District</td>\n",
       "      <td>72.0%</td>\n",
       "      <td>59.6%</td>\n",
       "      <td>55.8%</td>\n",
       "    </tr>\n",
       "    <tr>\n",
       "      <th>12</th>\n",
       "      <td>Renton School District</td>\n",
       "      <td>42.9%</td>\n",
       "      <td>32.5%</td>\n",
       "      <td>33.3%</td>\n",
       "    </tr>\n",
       "    <tr>\n",
       "      <th>13</th>\n",
       "      <td>Riverview School District</td>\n",
       "      <td>69.0%</td>\n",
       "      <td>54.7%</td>\n",
       "      <td>54.5%</td>\n",
       "    </tr>\n",
       "    <tr>\n",
       "      <th>14</th>\n",
       "      <td>Seattle School District No. 1</td>\n",
       "      <td>62.7%</td>\n",
       "      <td>51.6%</td>\n",
       "      <td>48.5%</td>\n",
       "    </tr>\n",
       "    <tr>\n",
       "      <th>15</th>\n",
       "      <td>Shoreline School District</td>\n",
       "      <td>66.6%</td>\n",
       "      <td>55.2%</td>\n",
       "      <td>59.8%</td>\n",
       "    </tr>\n",
       "    <tr>\n",
       "      <th>16</th>\n",
       "      <td>Skykomish School District</td>\n",
       "      <td>71.4%</td>\n",
       "      <td>23.8%</td>\n",
       "      <td>Suppressed: N&lt;10</td>\n",
       "    </tr>\n",
       "    <tr>\n",
       "      <th>17</th>\n",
       "      <td>Snoqualmie Valley School District</td>\n",
       "      <td>75.3%</td>\n",
       "      <td>64.6%</td>\n",
       "      <td>65.1%</td>\n",
       "    </tr>\n",
       "    <tr>\n",
       "      <th>18</th>\n",
       "      <td>Tahoma School District</td>\n",
       "      <td>69.2%</td>\n",
       "      <td>59.0%</td>\n",
       "      <td>60.1%</td>\n",
       "    </tr>\n",
       "    <tr>\n",
       "      <th>19</th>\n",
       "      <td>Tukwila School District</td>\n",
       "      <td>29.6%</td>\n",
       "      <td>16.7%</td>\n",
       "      <td>26.1%</td>\n",
       "    </tr>\n",
       "    <tr>\n",
       "      <th>20</th>\n",
       "      <td>Vashon Island School District</td>\n",
       "      <td>62.3%</td>\n",
       "      <td>51.3%</td>\n",
       "      <td>67.0%</td>\n",
       "    </tr>\n",
       "  </tbody>\n",
       "</table>\n",
       "</div>"
      ],
      "text/plain": [
       "                            DistrictName    ELA   Math           Science\n",
       "index                                                                   \n",
       "0                 Auburn School District  43.6%  30.2%             35.1%\n",
       "1               Bellevue School District  72.3%  65.6%             63.7%\n",
       "2               Enumclaw School District  56.7%  40.1%             49.8%\n",
       "3            Federal Way School District  35.6%  21.7%             27.1%\n",
       "4                   Fife School District  46.2%  30.8%             39.0%\n",
       "5               Highline School District  33.4%  21.5%             26.8%\n",
       "6               Issaquah School District  76.0%  69.6%             63.2%\n",
       "7                   Kent School District  47.9%  33.7%             39.7%\n",
       "8        Lake Washington School District  78.5%  70.2%             61.6%\n",
       "9          Mercer Island School District  82.0%  76.9%             75.9%\n",
       "10            Northshore School District  72.0%  59.6%             55.8%\n",
       "12                Renton School District  42.9%  32.5%             33.3%\n",
       "13             Riverview School District  69.0%  54.7%             54.5%\n",
       "14         Seattle School District No. 1  62.7%  51.6%             48.5%\n",
       "15             Shoreline School District  66.6%  55.2%             59.8%\n",
       "16             Skykomish School District  71.4%  23.8%  Suppressed: N<10\n",
       "17     Snoqualmie Valley School District  75.3%  64.6%             65.1%\n",
       "18                Tahoma School District  69.2%  59.0%             60.1%\n",
       "19               Tukwila School District  29.6%  16.7%             26.1%\n",
       "20         Vashon Island School District  62.3%  51.3%             67.0%"
      ]
     },
     "execution_count": 36,
     "metadata": {},
     "output_type": "execute_result"
    }
   ],
   "source": [
    "main_king_school_df.rename_axis(None, axis =1)"
   ]
  },
  {
   "cell_type": "markdown",
   "metadata": {},
   "source": [
    "Create dictionary `King_County_School_District_Zipcodes` with zipcodes for each school district in King County, WA. Information taken from https://statisticalatlas.com/county/Washington/King-County/Overview"
   ]
  },
  {
   "cell_type": "code",
   "execution_count": 37,
   "metadata": {},
   "outputs": [],
   "source": [
    "King_County_School_District_Zipcodes = {\n",
    "\n",
    "'Seattle School District No. 1' : ['98101', '98102', '98103', '98104', '98105', '98106', '98107', '98108',\\\n",
    "                                    '98109', '98112', '98115', '98116', '98117', '98118', '98119', '98121',\\\n",
    "                                    '98122', '98125', '98126', '98133', '98134', '98136', '98144', '98146',\\\n",
    "                                    '98154', '98164', '98168', '98174', '98177', '98178', '98195', '98199'],\n",
    "\n",
    "'Lake Washington School District' : ['98004', '98005', '98007', '98008', '98011', '98033', '98034',\\\n",
    "                                            '98039', '98052', '98053', '98072', '98074', '98075', '98077'],\n",
    "\n",
    "'Kent School District' : ['98001', '98002', '98010', '98030', '98031', '98032', '98038', '98042', '98055',\\\n",
    "                                 '98058', '98092', '98188', '98198'],\n",
    "\n",
    "'Federal Way School District' : ['98001', '98003', '98023', '98032', '98198', '98354'],\n",
    "\n",
    "'Highline School District': ['98032', '98106', '98108', '98126', '98146', '98148', '98158', '98166',\\\n",
    "                                     '98168', '98188', '98198'],\n",
    "\n",
    "'Northshore School District' : ['98011', '98012', '98021', '98028', '98034', '98036', '98052', '98072',\\\n",
    "                                       '98077', '98155', '98296'],\n",
    "\n",
    "'Renton School District' : ['98006', '98031', '98032', '98055', '98056', '98057', '98058', '98059',\\\n",
    "                                   '98168', '98178', '98188'],\n",
    "\n",
    "'Bellevue School District' : ['98004', '98005', '98006', '98007', '98008', '98027', '98033', '98039',\\\n",
    "                                     '98052', '98056', '98059'],\n",
    "\n",
    "'Auburn School District' : ['98001', '98002', '98010', '98022', '98030', '98032', '98042', '98047',\\\n",
    "                                   '98092', '98391'],\n",
    "\n",
    "'Issaquah School District': ['98006', '98008', '98024', '98027', '98029', '98038', '98050', '98056',\\\n",
    "                                     '98058', '98059', '98065', '98074', '98075'],\n",
    "\n",
    "'Shoreline School District' : ['98043', '98133', '98155', '98177'],\n",
    "\n",
    "'Snoqualmie Valley School District' : ['98014', '98024', '98027', '98038', '98045', '98053', '98065',\\\n",
    "                                              '98068', '98074', '98075', '98224'],\n",
    "\n",
    "'Tahoma School District' : ['98010', '98027', '98038', '98042', '98045', '98051', '98058',\\\n",
    "                                   '98059', '98065'],\n",
    "\n",
    "'Enumclaw School District': ['98010', '98022', '98038', '98045', '98051', '98092', '98323', '98391'],\n",
    "\n",
    "'Tukwila School District' : ['98168', '98178', '98188'],\n",
    "\n",
    "'Riverview School District' : ['98014', '98019', '98024', '98053', '98065', '98077', '98224'],\n",
    "\n",
    "'Mercer Island School District' : ['98004', '98006', '98040'],\n",
    "\n",
    "'Vashon Island School District' : ['98070'],\n",
    "\n",
    "'Skykomish School District' : ['98045', '98068', '98224', '98288'],\n",
    "\n",
    "'Fife School District' : ['98001', '98003', '98354', '98371', '98372', '98421', '98422', '98424']\n",
    "    \n",
    "}    "
   ]
  },
  {
   "cell_type": "code",
   "execution_count": 38,
   "metadata": {},
   "outputs": [
    {
     "name": "stderr",
     "output_type": "stream",
     "text": [
      "/Users/Aidan/opt/anaconda3/envs/learn-env/lib/python3.8/site-packages/pandas/core/indexing.py:1596: SettingWithCopyWarning: \n",
      "A value is trying to be set on a copy of a slice from a DataFrame.\n",
      "Try using .loc[row_indexer,col_indexer] = value instead\n",
      "\n",
      "See the caveats in the documentation: https://pandas.pydata.org/pandas-docs/stable/user_guide/indexing.html#returning-a-view-versus-a-copy\n",
      "  self.obj[key] = _infer_fill_value(value)\n",
      "/Users/Aidan/opt/anaconda3/envs/learn-env/lib/python3.8/site-packages/pandas/core/indexing.py:1765: SettingWithCopyWarning: \n",
      "A value is trying to be set on a copy of a slice from a DataFrame.\n",
      "Try using .loc[row_indexer,col_indexer] = value instead\n",
      "\n",
      "See the caveats in the documentation: https://pandas.pydata.org/pandas-docs/stable/user_guide/indexing.html#returning-a-view-versus-a-copy\n",
      "  isetter(loc, value)\n",
      "/Users/Aidan/opt/anaconda3/envs/learn-env/lib/python3.8/site-packages/pandas/core/indexing.py:670: SettingWithCopyWarning: \n",
      "A value is trying to be set on a copy of a slice from a DataFrame\n",
      "\n",
      "See the caveats in the documentation: https://pandas.pydata.org/pandas-docs/stable/user_guide/indexing.html#returning-a-view-versus-a-copy\n",
      "  iloc._setitem_with_indexer(indexer, value)\n",
      "<ipython-input-38-4d96d2f67653>:4: SettingWithCopyWarning: \n",
      "A value is trying to be set on a copy of a slice from a DataFrame\n",
      "\n",
      "See the caveats in the documentation: https://pandas.pydata.org/pandas-docs/stable/user_guide/indexing.html#returning-a-view-versus-a-copy\n",
      "  main_king_school_df.loc[index,'zipcodes'] = (\",\".join(King_County_School_District_Zipcodes[district]))\n"
     ]
    }
   ],
   "source": [
    "#Create For Loop for adding Zip Code column to corresponding School District\n",
    "for index,district in enumerate(main_king_school_df.DistrictName):\n",
    "    if district in King_County_School_District_Zipcodes.keys():\n",
    "        main_king_school_df.loc[index,'zipcodes'] = (\",\".join(King_County_School_District_Zipcodes[district]))\n",
    "        "
   ]
  },
  {
   "cell_type": "code",
   "execution_count": 39,
   "metadata": {},
   "outputs": [],
   "source": [
    "#Create new column `zipcodes` which contains all the zipcodes corresponding to each school district\n",
    "main_king_school_df['zipcodes'] =main_king_school_df['zipcodes'].apply(lambda x: str(x).split(','))"
   ]
  },
  {
   "cell_type": "code",
   "execution_count": 40,
   "metadata": {},
   "outputs": [
    {
     "data": {
      "text/html": [
       "<div>\n",
       "<style scoped>\n",
       "    .dataframe tbody tr th:only-of-type {\n",
       "        vertical-align: middle;\n",
       "    }\n",
       "\n",
       "    .dataframe tbody tr th {\n",
       "        vertical-align: top;\n",
       "    }\n",
       "\n",
       "    .dataframe thead th {\n",
       "        text-align: right;\n",
       "    }\n",
       "</style>\n",
       "<table border=\"1\" class=\"dataframe\">\n",
       "  <thead>\n",
       "    <tr style=\"text-align: right;\">\n",
       "      <th>TestSubject</th>\n",
       "      <th>DistrictName</th>\n",
       "      <th>ELA</th>\n",
       "      <th>Math</th>\n",
       "      <th>Science</th>\n",
       "      <th>zipcodes</th>\n",
       "    </tr>\n",
       "    <tr>\n",
       "      <th>index</th>\n",
       "      <th></th>\n",
       "      <th></th>\n",
       "      <th></th>\n",
       "      <th></th>\n",
       "      <th></th>\n",
       "    </tr>\n",
       "  </thead>\n",
       "  <tbody>\n",
       "    <tr>\n",
       "      <th>0</th>\n",
       "      <td>Auburn School District</td>\n",
       "      <td>43.6%</td>\n",
       "      <td>30.2%</td>\n",
       "      <td>35.1%</td>\n",
       "      <td>[98001, 98002, 98010, 98022, 98030, 98032, 980...</td>\n",
       "    </tr>\n",
       "    <tr>\n",
       "      <th>1</th>\n",
       "      <td>Bellevue School District</td>\n",
       "      <td>72.3%</td>\n",
       "      <td>65.6%</td>\n",
       "      <td>63.7%</td>\n",
       "      <td>[98004, 98005, 98006, 98007, 98008, 98027, 980...</td>\n",
       "    </tr>\n",
       "    <tr>\n",
       "      <th>2</th>\n",
       "      <td>Enumclaw School District</td>\n",
       "      <td>56.7%</td>\n",
       "      <td>40.1%</td>\n",
       "      <td>49.8%</td>\n",
       "      <td>[98010, 98022, 98038, 98045, 98051, 98092, 983...</td>\n",
       "    </tr>\n",
       "    <tr>\n",
       "      <th>3</th>\n",
       "      <td>Federal Way School District</td>\n",
       "      <td>35.6%</td>\n",
       "      <td>21.7%</td>\n",
       "      <td>27.1%</td>\n",
       "      <td>[98001, 98003, 98023, 98032, 98198, 98354]</td>\n",
       "    </tr>\n",
       "    <tr>\n",
       "      <th>4</th>\n",
       "      <td>Fife School District</td>\n",
       "      <td>46.2%</td>\n",
       "      <td>30.8%</td>\n",
       "      <td>39.0%</td>\n",
       "      <td>[98001, 98003, 98354, 98371, 98372, 98421, 984...</td>\n",
       "    </tr>\n",
       "  </tbody>\n",
       "</table>\n",
       "</div>"
      ],
      "text/plain": [
       "TestSubject                 DistrictName    ELA   Math Science  \\\n",
       "index                                                            \n",
       "0                 Auburn School District  43.6%  30.2%   35.1%   \n",
       "1               Bellevue School District  72.3%  65.6%   63.7%   \n",
       "2               Enumclaw School District  56.7%  40.1%   49.8%   \n",
       "3            Federal Way School District  35.6%  21.7%   27.1%   \n",
       "4                   Fife School District  46.2%  30.8%   39.0%   \n",
       "\n",
       "TestSubject                                           zipcodes  \n",
       "index                                                           \n",
       "0            [98001, 98002, 98010, 98022, 98030, 98032, 980...  \n",
       "1            [98004, 98005, 98006, 98007, 98008, 98027, 980...  \n",
       "2            [98010, 98022, 98038, 98045, 98051, 98092, 983...  \n",
       "3                   [98001, 98003, 98023, 98032, 98198, 98354]  \n",
       "4            [98001, 98003, 98354, 98371, 98372, 98421, 984...  "
      ]
     },
     "execution_count": 40,
     "metadata": {},
     "output_type": "execute_result"
    }
   ],
   "source": [
    "#View our dataframe with our new `zipcodes` column\n",
    "main_king_school_df.head()"
   ]
  },
  {
   "cell_type": "markdown",
   "metadata": {},
   "source": [
    " ## Consolidating Dataframes"
   ]
  },
  {
   "cell_type": "markdown",
   "metadata": {},
   "source": [
    "Joining our school districts dataframe onto the housing data set by Zip Code so that every house has a column with it's appropriate school district."
   ]
  },
  {
   "cell_type": "code",
   "execution_count": null,
   "metadata": {},
   "outputs": [],
   "source": [
    "# kc_family_house_df.merge (main_king_school_df)"
   ]
  },
  {
   "cell_type": "code",
   "execution_count": null,
   "metadata": {},
   "outputs": [],
   "source": []
  },
  {
   "cell_type": "code",
   "execution_count": null,
   "metadata": {},
   "outputs": [],
   "source": []
  },
  {
   "cell_type": "code",
   "execution_count": null,
   "metadata": {},
   "outputs": [],
   "source": []
  }
 ],
 "metadata": {
  "kernelspec": {
   "display_name": "Python 3",
   "language": "python",
   "name": "python3"
  },
  "language_info": {
   "codemirror_mode": {
    "name": "ipython",
    "version": 3
   },
   "file_extension": ".py",
   "mimetype": "text/x-python",
   "name": "python",
   "nbconvert_exporter": "python",
   "pygments_lexer": "ipython3",
   "version": "3.8.5"
  }
 },
 "nbformat": 4,
 "nbformat_minor": 4
}
