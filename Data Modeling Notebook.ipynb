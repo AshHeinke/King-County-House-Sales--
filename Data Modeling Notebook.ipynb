{
 "cells": [
  {
   "cell_type": "markdown",
   "metadata": {},
   "source": [
    "## Modeling\n",
    "\n",
    "Describe and justify the process for analyzing or modeling the data.\n",
    "\n",
    "Questions to consider:\n",
    "\n",
    "- How did you analyze the data to arrive at an initial approach?\n",
    "- How did you iterate on your initial approach to make it better?\n",
    "- Why are these choices appropriate given the data and the business problem?"
   ]
  },
  {
   "cell_type": "markdown",
   "metadata": {},
   "source": [
    "## Evaluation\n",
    "\n",
    "The evaluation of each model should accompany the creation of each model, and you should be sure to evaluate your models consistently.\n",
    "\n",
    "Evaluate how well your work solves the stated business problem. \n",
    "\n",
    "Questions to consider:\n",
    "\n",
    "- How do you interpret the results?\n",
    "- How well does your model fit your data? How much better is this than your baseline model? Is it over or under fit?\n",
    "- How well does your model/data fit any modeling assumptions?\n",
    "\n",
    "For the final model, you might also consider:\n",
    "\n",
    "- How confident are you that your results would generalize beyond the data you have?\n",
    "- How confident are you that this model would benefit the business if put into use?"
   ]
  },
  {
   "cell_type": "markdown",
   "metadata": {},
   "source": [
    "### Baseline Understanding\n",
    "\n",
    "- What does a baseline, model-less prediction look like?"
   ]
  },
  {
   "cell_type": "code",
   "execution_count": 1,
   "metadata": {},
   "outputs": [],
   "source": [
    "# code here to arrive at a baseline prediction"
   ]
  },
  {
   "cell_type": "markdown",
   "metadata": {},
   "source": [
    "### Import our Final CSV from our Data Preparation and Cleaning Notebook"
   ]
  },
  {
   "cell_type": "code",
   "execution_count": 2,
   "metadata": {},
   "outputs": [],
   "source": [
    "#Import libraries\n",
    "# Standard Packages\n",
    "import pandas as pd\n",
    "import numpy as np\n",
    "\n",
    "# Viz Packages\n",
    "import seaborn as sns\n",
    "import matplotlib.pyplot as plt\n",
    "%matplotlib inline\n",
    "\n",
    "# Scipy Stats\n",
    "import scipy.stats as stats \n",
    "\n",
    "# Statsmodel Api\n",
    "import statsmodels.api as sm\n",
    "from statsmodels.formula.api import ols\n",
    "\n",
    "# SKLearn Modules\n",
    "from sklearn.linear_model import LinearRegression\n",
    "from sklearn.feature_selection import RFE\n",
    "from sklearn.preprocessing import StandardScaler,  OrdinalEncoder, OneHotEncoder\n",
    "from sklearn.model_selection import train_test_split\n",
    "import sklearn.metrics as metrics\n",
    "\n",
    "# Suppress future and deprecation warnings\n",
    "import warnings\n",
    "warnings.filterwarnings(\"ignore\", category= FutureWarning)\n",
    "warnings.filterwarnings(\"ignore\", category=DeprecationWarning) "
   ]
  },
  {
   "cell_type": "code",
   "execution_count": 6,
   "metadata": {},
   "outputs": [],
   "source": [
    "final_kc_df = pd.read_csv('/Users/aheinke/Documents/Flatiron/NYC-DS-010923/Phase_2/Phase2_Final_Proj/final_kc.csv')"
   ]
  },
  {
   "cell_type": "code",
   "execution_count": 7,
   "metadata": {},
   "outputs": [
    {
     "data": {
      "text/html": [
       "<div>\n",
       "<style scoped>\n",
       "    .dataframe tbody tr th:only-of-type {\n",
       "        vertical-align: middle;\n",
       "    }\n",
       "\n",
       "    .dataframe tbody tr th {\n",
       "        vertical-align: top;\n",
       "    }\n",
       "\n",
       "    .dataframe thead th {\n",
       "        text-align: right;\n",
       "    }\n",
       "</style>\n",
       "<table border=\"1\" class=\"dataframe\">\n",
       "  <thead>\n",
       "    <tr style=\"text-align: right;\">\n",
       "      <th></th>\n",
       "      <th>Unnamed: 0</th>\n",
       "      <th>level_0</th>\n",
       "      <th>index</th>\n",
       "      <th>id</th>\n",
       "      <th>date</th>\n",
       "      <th>price</th>\n",
       "      <th>bedrooms</th>\n",
       "      <th>bathrooms</th>\n",
       "      <th>sqft_living</th>\n",
       "      <th>sqft_lot</th>\n",
       "      <th>...</th>\n",
       "      <th>address</th>\n",
       "      <th>lat</th>\n",
       "      <th>long</th>\n",
       "      <th>Zip Code</th>\n",
       "      <th>DistrictName</th>\n",
       "      <th>ELA</th>\n",
       "      <th>Math</th>\n",
       "      <th>Science</th>\n",
       "      <th>zipcodes</th>\n",
       "      <th>District Test Score</th>\n",
       "    </tr>\n",
       "  </thead>\n",
       "  <tbody>\n",
       "    <tr>\n",
       "      <th>0</th>\n",
       "      <td>0</td>\n",
       "      <td>0</td>\n",
       "      <td>0</td>\n",
       "      <td>7399300360</td>\n",
       "      <td>5/24/2022</td>\n",
       "      <td>675000.0</td>\n",
       "      <td>4</td>\n",
       "      <td>1.0</td>\n",
       "      <td>1180</td>\n",
       "      <td>7140</td>\n",
       "      <td>...</td>\n",
       "      <td>2102 Southeast 21st Court, Renton, Washington ...</td>\n",
       "      <td>47.461975</td>\n",
       "      <td>-122.19052</td>\n",
       "      <td>98055</td>\n",
       "      <td>Renton School District</td>\n",
       "      <td>42.9</td>\n",
       "      <td>32.5</td>\n",
       "      <td>33.3</td>\n",
       "      <td>['98006', '98031', '98032', '98055', '98056', ...</td>\n",
       "      <td>36.23</td>\n",
       "    </tr>\n",
       "    <tr>\n",
       "      <th>1</th>\n",
       "      <td>1</td>\n",
       "      <td>4</td>\n",
       "      <td>4</td>\n",
       "      <td>2873000690</td>\n",
       "      <td>6/11/2021</td>\n",
       "      <td>680000.0</td>\n",
       "      <td>4</td>\n",
       "      <td>3.0</td>\n",
       "      <td>2130</td>\n",
       "      <td>7649</td>\n",
       "      <td>...</td>\n",
       "      <td>20432 130th Place Southeast, Kent, Washington ...</td>\n",
       "      <td>47.418155</td>\n",
       "      <td>-122.16696</td>\n",
       "      <td>98031</td>\n",
       "      <td>Renton School District</td>\n",
       "      <td>42.9</td>\n",
       "      <td>32.5</td>\n",
       "      <td>33.3</td>\n",
       "      <td>['98006', '98031', '98032', '98055', '98056', ...</td>\n",
       "      <td>36.23</td>\n",
       "    </tr>\n",
       "    <tr>\n",
       "      <th>2</th>\n",
       "      <td>2</td>\n",
       "      <td>10</td>\n",
       "      <td>10</td>\n",
       "      <td>5469700570</td>\n",
       "      <td>6/23/2021</td>\n",
       "      <td>810000.0</td>\n",
       "      <td>5</td>\n",
       "      <td>3.0</td>\n",
       "      <td>3030</td>\n",
       "      <td>24759</td>\n",
       "      <td>...</td>\n",
       "      <td>12605 Southeast 235th Street, Kent, Washington...</td>\n",
       "      <td>47.390790</td>\n",
       "      <td>-122.17303</td>\n",
       "      <td>98031</td>\n",
       "      <td>Renton School District</td>\n",
       "      <td>42.9</td>\n",
       "      <td>32.5</td>\n",
       "      <td>33.3</td>\n",
       "      <td>['98006', '98031', '98032', '98055', '98056', ...</td>\n",
       "      <td>36.23</td>\n",
       "    </tr>\n",
       "    <tr>\n",
       "      <th>3</th>\n",
       "      <td>3</td>\n",
       "      <td>28</td>\n",
       "      <td>28</td>\n",
       "      <td>7399301200</td>\n",
       "      <td>3/29/2022</td>\n",
       "      <td>728000.0</td>\n",
       "      <td>4</td>\n",
       "      <td>2.0</td>\n",
       "      <td>2170</td>\n",
       "      <td>7520</td>\n",
       "      <td>...</td>\n",
       "      <td>1814 Aberdeen Avenue Southeast, Renton, Washin...</td>\n",
       "      <td>47.463930</td>\n",
       "      <td>-122.18974</td>\n",
       "      <td>98055</td>\n",
       "      <td>Renton School District</td>\n",
       "      <td>42.9</td>\n",
       "      <td>32.5</td>\n",
       "      <td>33.3</td>\n",
       "      <td>['98006', '98031', '98032', '98055', '98056', ...</td>\n",
       "      <td>36.23</td>\n",
       "    </tr>\n",
       "    <tr>\n",
       "      <th>4</th>\n",
       "      <td>4</td>\n",
       "      <td>50</td>\n",
       "      <td>50</td>\n",
       "      <td>9899200050</td>\n",
       "      <td>3/24/2022</td>\n",
       "      <td>565000.0</td>\n",
       "      <td>4</td>\n",
       "      <td>2.0</td>\n",
       "      <td>1400</td>\n",
       "      <td>10364</td>\n",
       "      <td>...</td>\n",
       "      <td>3426 Shattuck Avenue South, Renton, Washington...</td>\n",
       "      <td>47.448450</td>\n",
       "      <td>-122.21243</td>\n",
       "      <td>98055</td>\n",
       "      <td>Renton School District</td>\n",
       "      <td>42.9</td>\n",
       "      <td>32.5</td>\n",
       "      <td>33.3</td>\n",
       "      <td>['98006', '98031', '98032', '98055', '98056', ...</td>\n",
       "      <td>36.23</td>\n",
       "    </tr>\n",
       "  </tbody>\n",
       "</table>\n",
       "<p>5 rows × 34 columns</p>\n",
       "</div>"
      ],
      "text/plain": [
       "   Unnamed: 0  level_0  index          id       date     price  bedrooms  \\\n",
       "0           0        0      0  7399300360  5/24/2022  675000.0         4   \n",
       "1           1        4      4  2873000690  6/11/2021  680000.0         4   \n",
       "2           2       10     10  5469700570  6/23/2021  810000.0         5   \n",
       "3           3       28     28  7399301200  3/29/2022  728000.0         4   \n",
       "4           4       50     50  9899200050  3/24/2022  565000.0         4   \n",
       "\n",
       "   bathrooms  sqft_living  sqft_lot  ...  \\\n",
       "0        1.0         1180      7140  ...   \n",
       "1        3.0         2130      7649  ...   \n",
       "2        3.0         3030     24759  ...   \n",
       "3        2.0         2170      7520  ...   \n",
       "4        2.0         1400     10364  ...   \n",
       "\n",
       "                                             address        lat       long  \\\n",
       "0  2102 Southeast 21st Court, Renton, Washington ...  47.461975 -122.19052   \n",
       "1  20432 130th Place Southeast, Kent, Washington ...  47.418155 -122.16696   \n",
       "2  12605 Southeast 235th Street, Kent, Washington...  47.390790 -122.17303   \n",
       "3  1814 Aberdeen Avenue Southeast, Renton, Washin...  47.463930 -122.18974   \n",
       "4  3426 Shattuck Avenue South, Renton, Washington...  47.448450 -122.21243   \n",
       "\n",
       "  Zip Code            DistrictName   ELA  Math Science  \\\n",
       "0    98055  Renton School District  42.9  32.5    33.3   \n",
       "1    98031  Renton School District  42.9  32.5    33.3   \n",
       "2    98031  Renton School District  42.9  32.5    33.3   \n",
       "3    98055  Renton School District  42.9  32.5    33.3   \n",
       "4    98055  Renton School District  42.9  32.5    33.3   \n",
       "\n",
       "                                            zipcodes  District Test Score  \n",
       "0  ['98006', '98031', '98032', '98055', '98056', ...                36.23  \n",
       "1  ['98006', '98031', '98032', '98055', '98056', ...                36.23  \n",
       "2  ['98006', '98031', '98032', '98055', '98056', ...                36.23  \n",
       "3  ['98006', '98031', '98032', '98055', '98056', ...                36.23  \n",
       "4  ['98006', '98031', '98032', '98055', '98056', ...                36.23  \n",
       "\n",
       "[5 rows x 34 columns]"
      ]
     },
     "execution_count": 7,
     "metadata": {},
     "output_type": "execute_result"
    }
   ],
   "source": [
    "#Reminder of what it looks like.\n",
    "final_kc_df.head()"
   ]
  },
  {
   "cell_type": "code",
   "execution_count": 8,
   "metadata": {},
   "outputs": [],
   "source": [
    "#Remove uninformative columns \n",
    "final_kc_df= final_kc_df.drop(labels=['index','id', 'date','Unnamed: 0','address','lat','long', 'yr_renovated',\\\n",
    "                                     'zipcodes'], axis=1)"
   ]
  },
  {
   "cell_type": "code",
   "execution_count": 9,
   "metadata": {},
   "outputs": [
    {
     "data": {
      "text/plain": [
       "(7545, 25)"
      ]
     },
     "execution_count": 9,
     "metadata": {},
     "output_type": "execute_result"
    }
   ],
   "source": [
    "#Let's look at our shape after removing those columns.\n",
    "final_kc_df.shape"
   ]
  },
  {
   "cell_type": "code",
   "execution_count": 10,
   "metadata": {},
   "outputs": [
    {
     "name": "stdout",
     "output_type": "stream",
     "text": [
      "<class 'pandas.core.frame.DataFrame'>\n",
      "RangeIndex: 7545 entries, 0 to 7544\n",
      "Data columns (total 25 columns):\n",
      " #   Column               Non-Null Count  Dtype  \n",
      "---  ------               --------------  -----  \n",
      " 0   level_0              7545 non-null   int64  \n",
      " 1   price                7545 non-null   float64\n",
      " 2   bedrooms             7545 non-null   int64  \n",
      " 3   bathrooms            7545 non-null   float64\n",
      " 4   sqft_living          7545 non-null   int64  \n",
      " 5   sqft_lot             7545 non-null   int64  \n",
      " 6   floors               7545 non-null   float64\n",
      " 7   waterfront           7545 non-null   object \n",
      " 8   greenbelt            7545 non-null   object \n",
      " 9   view                 7545 non-null   object \n",
      " 10  condition            7545 non-null   object \n",
      " 11  grade                7545 non-null   object \n",
      " 12  heat_source          7545 non-null   object \n",
      " 13  sewer_system         7545 non-null   object \n",
      " 14  sqft_above           7545 non-null   int64  \n",
      " 15  sqft_basement        7545 non-null   int64  \n",
      " 16  sqft_garage          7545 non-null   int64  \n",
      " 17  sqft_patio           7545 non-null   int64  \n",
      " 18  yr_built             7545 non-null   int64  \n",
      " 19  Zip Code             7545 non-null   int64  \n",
      " 20  DistrictName         7545 non-null   object \n",
      " 21  ELA                  7545 non-null   float64\n",
      " 22  Math                 7545 non-null   float64\n",
      " 23  Science              7357 non-null   float64\n",
      " 24  District Test Score  7545 non-null   float64\n",
      "dtypes: float64(7), int64(10), object(8)\n",
      "memory usage: 1.4+ MB\n"
     ]
    }
   ],
   "source": [
    "final_kc_df.info()"
   ]
  },
  {
   "cell_type": "markdown",
   "metadata": {},
   "source": [
    "### First  Model\n",
    "\n",
    "Before going too far down the data preparation rabbit hole, be sure to check your work against a first 'substandard' model! What is the easiest way for you to find out how hard your problem is?"
   ]
  },
  {
   "cell_type": "code",
   "execution_count": 8,
   "metadata": {},
   "outputs": [],
   "source": [
    "# code here for your first 'substandard' model"
   ]
  },
  {
   "cell_type": "code",
   "execution_count": 11,
   "metadata": {},
   "outputs": [],
   "source": [
    "# Prepare data\n",
    "\n",
    "#Using only numeric data for our first model and not using Science due to its Null values\n",
    "X = final_kc_df.drop(['price','waterfront','greenbelt','view','condition', 'grade', 'heat_source',\\\n",
    "                      'sewer_system', 'DistrictName', 'Science'], axis=1)\n",
    "y = final_kc_df['price']"
   ]
  },
  {
   "cell_type": "code",
   "execution_count": 12,
   "metadata": {},
   "outputs": [],
   "source": [
    "# Test/Train Split: Train is 80% of Data, Test is 20% of Data\n",
    "X_train, X_test, y_train, y_test = train_test_split(X, y, test_size = 0.2, random_state = 42)"
   ]
  },
  {
   "cell_type": "code",
   "execution_count": 13,
   "metadata": {},
   "outputs": [],
   "source": [
    "# Instantiate model\n",
    "lr_simple_model = LinearRegression()\n",
    "\n",
    "# Fit model\n",
    "first_result = lr_simple_model.fit(X_train, y_train)"
   ]
  },
  {
   "cell_type": "code",
   "execution_count": 12,
   "metadata": {},
   "outputs": [],
   "source": [
    "# code here to evaluate your first 'substandard' model"
   ]
  },
  {
   "cell_type": "code",
   "execution_count": 14,
   "metadata": {},
   "outputs": [
    {
     "data": {
      "text/plain": [
       "array([ 9.69432944e-02, -2.20033022e+04,  3.81756692e+04,  1.21079118e+02,\n",
       "        2.88730003e-01,  2.82203965e+04,  2.58319843e+01,  7.83090635e+00,\n",
       "        1.05576244e+01,  8.14898092e+01, -9.14827519e+02,  1.05864586e+03,\n",
       "        4.05479384e+04,  2.81946900e+04, -6.18451143e+04])"
      ]
     },
     "execution_count": 14,
     "metadata": {},
     "output_type": "execute_result"
    }
   ],
   "source": [
    "# Retrieve estimated slope coefficient\n",
    "first_result.coef_"
   ]
  },
  {
   "cell_type": "code",
   "execution_count": 15,
   "metadata": {},
   "outputs": [
    {
     "data": {
      "text/plain": [
       "-102037286.28063436"
      ]
     },
     "execution_count": 15,
     "metadata": {},
     "output_type": "execute_result"
    }
   ],
   "source": [
    "# Retrieve estimated y-intercept coefficient\n",
    "first_result.intercept_"
   ]
  },
  {
   "cell_type": "code",
   "execution_count": 16,
   "metadata": {},
   "outputs": [
    {
     "name": "stdout",
     "output_type": "stream",
     "text": [
      "First Model Train: 0.4109887633221857\n",
      "First Model Test: 0.4171637001348958\n"
     ]
    }
   ],
   "source": [
    "#GIVES US OUR R**2\n",
    "print(\"First Model Train:\" , lr_simple_model.score(X_train, y_train))\n",
    "print(\"First Model Test:\" , lr_simple_model.score(X_test, y_test))"
   ]
  },
  {
   "cell_type": "code",
   "execution_count": 17,
   "metadata": {},
   "outputs": [
    {
     "data": {
      "text/plain": [
       "168900.00967397194"
      ]
     },
     "execution_count": 17,
     "metadata": {},
     "output_type": "execute_result"
    }
   ],
   "source": [
    "#MEAN ABSOLUTE ERROR\n",
    "metrics.mean_absolute_error(y_test, lr_simple_model.predict(X_test))"
   ]
  },
  {
   "cell_type": "markdown",
   "metadata": {},
   "source": [
    "### Modeling Iterations"
   ]
  },
  {
   "cell_type": "markdown",
   "metadata": {},
   "source": [
    "Before we create another model we should look for Multicollinearity and ensure that our predictive variables are indeed independent."
   ]
  },
  {
   "cell_type": "code",
   "execution_count": 18,
   "metadata": {},
   "outputs": [
    {
     "data": {
      "image/png": "[encoded data removed]",
      "text/plain": [
       "<Figure size 1008x1008 with 2 Axes>"
      ]
     },
     "metadata": {},
     "output_type": "display_data"
    }
   ],
   "source": [
    "#Heatmap for Collinearity\n",
    "sns.set(rc={'figure.figsize':(14, 14)})\n",
    "sns.heatmap(X_train.corr(),annot=True);"
   ]
  },
  {
   "cell_type": "code",
   "execution_count": 21,
   "metadata": {},
   "outputs": [
    {
     "data": {
      "text/html": [
       "<div>\n",
       "<style scoped>\n",
       "    .dataframe tbody tr th:only-of-type {\n",
       "        vertical-align: middle;\n",
       "    }\n",
       "\n",
       "    .dataframe tbody tr th {\n",
       "        vertical-align: top;\n",
       "    }\n",
       "\n",
       "    .dataframe thead th {\n",
       "        text-align: right;\n",
       "    }\n",
       "</style>\n",
       "<table border=\"1\" class=\"dataframe\">\n",
       "  <thead>\n",
       "    <tr style=\"text-align: right;\">\n",
       "      <th></th>\n",
       "      <th>level_0</th>\n",
       "      <th>bedrooms</th>\n",
       "      <th>bathrooms</th>\n",
       "      <th>sqft_living</th>\n",
       "      <th>sqft_lot</th>\n",
       "      <th>floors</th>\n",
       "      <th>sqft_above</th>\n",
       "      <th>sqft_basement</th>\n",
       "      <th>sqft_garage</th>\n",
       "      <th>sqft_patio</th>\n",
       "      <th>yr_built</th>\n",
       "      <th>Zip Code</th>\n",
       "      <th>ELA</th>\n",
       "      <th>Math</th>\n",
       "      <th>District Test Score</th>\n",
       "    </tr>\n",
       "  </thead>\n",
       "  <tbody>\n",
       "    <tr>\n",
       "      <th>level_0</th>\n",
       "      <td>1.000000</td>\n",
       "      <td>-0.004654</td>\n",
       "      <td>-0.001219</td>\n",
       "      <td>0.001938</td>\n",
       "      <td>0.004383</td>\n",
       "      <td>-0.005158</td>\n",
       "      <td>-0.001941</td>\n",
       "      <td>0.000378</td>\n",
       "      <td>-0.024857</td>\n",
       "      <td>-0.001852</td>\n",
       "      <td>-0.013510</td>\n",
       "      <td>0.002511</td>\n",
       "      <td>0.003375</td>\n",
       "      <td>0.001474</td>\n",
       "      <td>0.002631</td>\n",
       "    </tr>\n",
       "    <tr>\n",
       "      <th>bedrooms</th>\n",
       "      <td>-0.004654</td>\n",
       "      <td>1.000000</td>\n",
       "      <td>0.287574</td>\n",
       "      <td>0.289964</td>\n",
       "      <td>-0.022129</td>\n",
       "      <td>-0.001577</td>\n",
       "      <td>0.131921</td>\n",
       "      <td>0.145766</td>\n",
       "      <td>-0.077268</td>\n",
       "      <td>0.049754</td>\n",
       "      <td>-0.032551</td>\n",
       "      <td>0.027874</td>\n",
       "      <td>-0.004689</td>\n",
       "      <td>0.003239</td>\n",
       "      <td>-0.003519</td>\n",
       "    </tr>\n",
       "    <tr>\n",
       "      <th>bathrooms</th>\n",
       "      <td>-0.001219</td>\n",
       "      <td>0.287574</td>\n",
       "      <td>1.000000</td>\n",
       "      <td>0.605667</td>\n",
       "      <td>-0.012489</td>\n",
       "      <td>0.280741</td>\n",
       "      <td>0.442661</td>\n",
       "      <td>0.058739</td>\n",
       "      <td>0.311968</td>\n",
       "      <td>0.173215</td>\n",
       "      <td>0.420548</td>\n",
       "      <td>-0.134205</td>\n",
       "      <td>0.047834</td>\n",
       "      <td>0.008579</td>\n",
       "      <td>0.034599</td>\n",
       "    </tr>\n",
       "    <tr>\n",
       "      <th>sqft_living</th>\n",
       "      <td>0.001938</td>\n",
       "      <td>0.289964</td>\n",
       "      <td>0.605667</td>\n",
       "      <td>1.000000</td>\n",
       "      <td>0.103518</td>\n",
       "      <td>0.358054</td>\n",
       "      <td>0.768031</td>\n",
       "      <td>0.055648</td>\n",
       "      <td>0.347068</td>\n",
       "      <td>0.256723</td>\n",
       "      <td>0.399179</td>\n",
       "      <td>-0.147075</td>\n",
       "      <td>0.095266</td>\n",
       "      <td>0.019054</td>\n",
       "      <td>0.069536</td>\n",
       "    </tr>\n",
       "    <tr>\n",
       "      <th>sqft_lot</th>\n",
       "      <td>0.004383</td>\n",
       "      <td>-0.022129</td>\n",
       "      <td>-0.012489</td>\n",
       "      <td>0.103518</td>\n",
       "      <td>1.000000</td>\n",
       "      <td>-0.055731</td>\n",
       "      <td>0.082396</td>\n",
       "      <td>0.012820</td>\n",
       "      <td>0.044178</td>\n",
       "      <td>0.177305</td>\n",
       "      <td>-0.029884</td>\n",
       "      <td>-0.064384</td>\n",
       "      <td>0.041172</td>\n",
       "      <td>0.023560</td>\n",
       "      <td>0.044609</td>\n",
       "    </tr>\n",
       "    <tr>\n",
       "      <th>floors</th>\n",
       "      <td>-0.005158</td>\n",
       "      <td>-0.001577</td>\n",
       "      <td>0.280741</td>\n",
       "      <td>0.358054</td>\n",
       "      <td>-0.055731</td>\n",
       "      <td>1.000000</td>\n",
       "      <td>0.685732</td>\n",
       "      <td>-0.605222</td>\n",
       "      <td>0.231631</td>\n",
       "      <td>-0.019656</td>\n",
       "      <td>0.510622</td>\n",
       "      <td>-0.158480</td>\n",
       "      <td>0.060208</td>\n",
       "      <td>-0.009510</td>\n",
       "      <td>0.034081</td>\n",
       "    </tr>\n",
       "    <tr>\n",
       "      <th>sqft_above</th>\n",
       "      <td>-0.001941</td>\n",
       "      <td>0.131921</td>\n",
       "      <td>0.442661</td>\n",
       "      <td>0.768031</td>\n",
       "      <td>0.082396</td>\n",
       "      <td>0.685732</td>\n",
       "      <td>1.000000</td>\n",
       "      <td>-0.524742</td>\n",
       "      <td>0.420535</td>\n",
       "      <td>0.110302</td>\n",
       "      <td>0.564332</td>\n",
       "      <td>-0.268970</td>\n",
       "      <td>0.108629</td>\n",
       "      <td>-0.000550</td>\n",
       "      <td>0.072102</td>\n",
       "    </tr>\n",
       "    <tr>\n",
       "      <th>sqft_basement</th>\n",
       "      <td>0.000378</td>\n",
       "      <td>0.145766</td>\n",
       "      <td>0.058739</td>\n",
       "      <td>0.055648</td>\n",
       "      <td>0.012820</td>\n",
       "      <td>-0.605222</td>\n",
       "      <td>-0.524742</td>\n",
       "      <td>1.000000</td>\n",
       "      <td>-0.149099</td>\n",
       "      <td>0.158955</td>\n",
       "      <td>-0.422113</td>\n",
       "      <td>0.266409</td>\n",
       "      <td>-0.047861</td>\n",
       "      <td>0.025437</td>\n",
       "      <td>-0.026582</td>\n",
       "    </tr>\n",
       "    <tr>\n",
       "      <th>sqft_garage</th>\n",
       "      <td>-0.024857</td>\n",
       "      <td>-0.077268</td>\n",
       "      <td>0.311968</td>\n",
       "      <td>0.347068</td>\n",
       "      <td>0.044178</td>\n",
       "      <td>0.231631</td>\n",
       "      <td>0.420535</td>\n",
       "      <td>-0.149099</td>\n",
       "      <td>1.000000</td>\n",
       "      <td>0.108483</td>\n",
       "      <td>0.526155</td>\n",
       "      <td>-0.317434</td>\n",
       "      <td>0.085148</td>\n",
       "      <td>0.028573</td>\n",
       "      <td>0.074463</td>\n",
       "    </tr>\n",
       "    <tr>\n",
       "      <th>sqft_patio</th>\n",
       "      <td>-0.001852</td>\n",
       "      <td>0.049754</td>\n",
       "      <td>0.173215</td>\n",
       "      <td>0.256723</td>\n",
       "      <td>0.177305</td>\n",
       "      <td>-0.019656</td>\n",
       "      <td>0.110302</td>\n",
       "      <td>0.158955</td>\n",
       "      <td>0.108483</td>\n",
       "      <td>1.000000</td>\n",
       "      <td>0.017343</td>\n",
       "      <td>-0.046256</td>\n",
       "      <td>0.027298</td>\n",
       "      <td>0.010032</td>\n",
       "      <td>0.023954</td>\n",
       "    </tr>\n",
       "    <tr>\n",
       "      <th>yr_built</th>\n",
       "      <td>-0.013510</td>\n",
       "      <td>-0.032551</td>\n",
       "      <td>0.420548</td>\n",
       "      <td>0.399179</td>\n",
       "      <td>-0.029884</td>\n",
       "      <td>0.510622</td>\n",
       "      <td>0.564332</td>\n",
       "      <td>-0.422113</td>\n",
       "      <td>0.526155</td>\n",
       "      <td>0.017343</td>\n",
       "      <td>1.000000</td>\n",
       "      <td>-0.373010</td>\n",
       "      <td>0.050091</td>\n",
       "      <td>-0.058861</td>\n",
       "      <td>0.018526</td>\n",
       "    </tr>\n",
       "    <tr>\n",
       "      <th>Zip Code</th>\n",
       "      <td>0.002511</td>\n",
       "      <td>0.027874</td>\n",
       "      <td>-0.134205</td>\n",
       "      <td>-0.147075</td>\n",
       "      <td>-0.064384</td>\n",
       "      <td>-0.158480</td>\n",
       "      <td>-0.268970</td>\n",
       "      <td>0.266409</td>\n",
       "      <td>-0.317434</td>\n",
       "      <td>-0.046256</td>\n",
       "      <td>-0.373010</td>\n",
       "      <td>1.000000</td>\n",
       "      <td>-0.244797</td>\n",
       "      <td>-0.174670</td>\n",
       "      <td>-0.222644</td>\n",
       "    </tr>\n",
       "    <tr>\n",
       "      <th>ELA</th>\n",
       "      <td>0.003375</td>\n",
       "      <td>-0.004689</td>\n",
       "      <td>0.047834</td>\n",
       "      <td>0.095266</td>\n",
       "      <td>0.041172</td>\n",
       "      <td>0.060208</td>\n",
       "      <td>0.108629</td>\n",
       "      <td>-0.047861</td>\n",
       "      <td>0.085148</td>\n",
       "      <td>0.027298</td>\n",
       "      <td>0.050091</td>\n",
       "      <td>-0.244797</td>\n",
       "      <td>1.000000</td>\n",
       "      <td>0.918154</td>\n",
       "      <td>0.978755</td>\n",
       "    </tr>\n",
       "    <tr>\n",
       "      <th>Math</th>\n",
       "      <td>0.001474</td>\n",
       "      <td>0.003239</td>\n",
       "      <td>0.008579</td>\n",
       "      <td>0.019054</td>\n",
       "      <td>0.023560</td>\n",
       "      <td>-0.009510</td>\n",
       "      <td>-0.000550</td>\n",
       "      <td>0.025437</td>\n",
       "      <td>0.028573</td>\n",
       "      <td>0.010032</td>\n",
       "      <td>-0.058861</td>\n",
       "      <td>-0.174670</td>\n",
       "      <td>0.918154</td>\n",
       "      <td>1.000000</td>\n",
       "      <td>0.974587</td>\n",
       "    </tr>\n",
       "    <tr>\n",
       "      <th>District Test Score</th>\n",
       "      <td>0.002631</td>\n",
       "      <td>-0.003519</td>\n",
       "      <td>0.034599</td>\n",
       "      <td>0.069536</td>\n",
       "      <td>0.044609</td>\n",
       "      <td>0.034081</td>\n",
       "      <td>0.072102</td>\n",
       "      <td>-0.026582</td>\n",
       "      <td>0.074463</td>\n",
       "      <td>0.023954</td>\n",
       "      <td>0.018526</td>\n",
       "      <td>-0.222644</td>\n",
       "      <td>0.978755</td>\n",
       "      <td>0.974587</td>\n",
       "      <td>1.000000</td>\n",
       "    </tr>\n",
       "  </tbody>\n",
       "</table>\n",
       "</div>"
      ],
      "text/plain": [
       "                      level_0  bedrooms  bathrooms  sqft_living  sqft_lot  \\\n",
       "level_0              1.000000 -0.004654  -0.001219     0.001938  0.004383   \n",
       "bedrooms            -0.004654  1.000000   0.287574     0.289964 -0.022129   \n",
       "bathrooms           -0.001219  0.287574   1.000000     0.605667 -0.012489   \n",
       "sqft_living          0.001938  0.289964   0.605667     1.000000  0.103518   \n",
       "sqft_lot             0.004383 -0.022129  -0.012489     0.103518  1.000000   \n",
       "floors              -0.005158 -0.001577   0.280741     0.358054 -0.055731   \n",
       "sqft_above          -0.001941  0.131921   0.442661     0.768031  0.082396   \n",
       "sqft_basement        0.000378  0.145766   0.058739     0.055648  0.012820   \n",
       "sqft_garage         -0.024857 -0.077268   0.311968     0.347068  0.044178   \n",
       "sqft_patio          -0.001852  0.049754   0.173215     0.256723  0.177305   \n",
       "yr_built            -0.013510 -0.032551   0.420548     0.399179 -0.029884   \n",
       "Zip Code             0.002511  0.027874  -0.134205    -0.147075 -0.064384   \n",
       "ELA                  0.003375 -0.004689   0.047834     0.095266  0.041172   \n",
       "Math                 0.001474  0.003239   0.008579     0.019054  0.023560   \n",
       "District Test Score  0.002631 -0.003519   0.034599     0.069536  0.044609   \n",
       "\n",
       "                       floors  sqft_above  sqft_basement  sqft_garage  \\\n",
       "level_0             -0.005158   -0.001941       0.000378    -0.024857   \n",
       "bedrooms            -0.001577    0.131921       0.145766    -0.077268   \n",
       "bathrooms            0.280741    0.442661       0.058739     0.311968   \n",
       "sqft_living          0.358054    0.768031       0.055648     0.347068   \n",
       "sqft_lot            -0.055731    0.082396       0.012820     0.044178   \n",
       "floors               1.000000    0.685732      -0.605222     0.231631   \n",
       "sqft_above           0.685732    1.000000      -0.524742     0.420535   \n",
       "sqft_basement       -0.605222   -0.524742       1.000000    -0.149099   \n",
       "sqft_garage          0.231631    0.420535      -0.149099     1.000000   \n",
       "sqft_patio          -0.019656    0.110302       0.158955     0.108483   \n",
       "yr_built             0.510622    0.564332      -0.422113     0.526155   \n",
       "Zip Code            -0.158480   -0.268970       0.266409    -0.317434   \n",
       "ELA                  0.060208    0.108629      -0.047861     0.085148   \n",
       "Math                -0.009510   -0.000550       0.025437     0.028573   \n",
       "District Test Score  0.034081    0.072102      -0.026582     0.074463   \n",
       "\n",
       "                     sqft_patio  yr_built  Zip Code       ELA      Math  \\\n",
       "level_0               -0.001852 -0.013510  0.002511  0.003375  0.001474   \n",
       "bedrooms               0.049754 -0.032551  0.027874 -0.004689  0.003239   \n",
       "bathrooms              0.173215  0.420548 -0.134205  0.047834  0.008579   \n",
       "sqft_living            0.256723  0.399179 -0.147075  0.095266  0.019054   \n",
       "sqft_lot               0.177305 -0.029884 -0.064384  0.041172  0.023560   \n",
       "floors                -0.019656  0.510622 -0.158480  0.060208 -0.009510   \n",
       "sqft_above             0.110302  0.564332 -0.268970  0.108629 -0.000550   \n",
       "sqft_basement          0.158955 -0.422113  0.266409 -0.047861  0.025437   \n",
       "sqft_garage            0.108483  0.526155 -0.317434  0.085148  0.028573   \n",
       "sqft_patio             1.000000  0.017343 -0.046256  0.027298  0.010032   \n",
       "yr_built               0.017343  1.000000 -0.373010  0.050091 -0.058861   \n",
       "Zip Code              -0.046256 -0.373010  1.000000 -0.244797 -0.174670   \n",
       "ELA                    0.027298  0.050091 -0.244797  1.000000  0.918154   \n",
       "Math                   0.010032 -0.058861 -0.174670  0.918154  1.000000   \n",
       "District Test Score    0.023954  0.018526 -0.222644  0.978755  0.974587   \n",
       "\n",
       "                     District Test Score  \n",
       "level_0                         0.002631  \n",
       "bedrooms                       -0.003519  \n",
       "bathrooms                       0.034599  \n",
       "sqft_living                     0.069536  \n",
       "sqft_lot                        0.044609  \n",
       "floors                          0.034081  \n",
       "sqft_above                      0.072102  \n",
       "sqft_basement                  -0.026582  \n",
       "sqft_garage                     0.074463  \n",
       "sqft_patio                      0.023954  \n",
       "yr_built                        0.018526  \n",
       "Zip Code                       -0.222644  \n",
       "ELA                             0.978755  \n",
       "Math                            0.974587  \n",
       "District Test Score             1.000000  "
      ]
     },
     "execution_count": 21,
     "metadata": {},
     "output_type": "execute_result"
    }
   ],
   "source": [
    "#View Correlation between Independent Numeric Variables\n",
    "X_train.corr()"
   ]
  },
  {
   "cell_type": "code",
   "execution_count": null,
   "metadata": {},
   "outputs": [],
   "source": []
  },
  {
   "cell_type": "code",
   "execution_count": null,
   "metadata": {},
   "outputs": [],
   "source": []
  },
  {
   "cell_type": "markdown",
   "metadata": {},
   "source": [
    "#### Second Model"
   ]
  },
  {
   "cell_type": "code",
   "execution_count": 17,
   "metadata": {},
   "outputs": [],
   "source": [
    "# code here to iteratively improve your models"
   ]
  },
  {
   "cell_type": "code",
   "execution_count": 19,
   "metadata": {},
   "outputs": [
    {
     "name": "stdout",
     "output_type": "stream",
     "text": [
      "<class 'pandas.core.frame.DataFrame'>\n",
      "RangeIndex: 7545 entries, 0 to 7544\n",
      "Data columns (total 25 columns):\n",
      " #   Column               Non-Null Count  Dtype  \n",
      "---  ------               --------------  -----  \n",
      " 0   level_0              7545 non-null   int64  \n",
      " 1   price                7545 non-null   float64\n",
      " 2   bedrooms             7545 non-null   int64  \n",
      " 3   bathrooms            7545 non-null   float64\n",
      " 4   sqft_living          7545 non-null   int64  \n",
      " 5   sqft_lot             7545 non-null   int64  \n",
      " 6   floors               7545 non-null   float64\n",
      " 7   waterfront           7545 non-null   object \n",
      " 8   greenbelt            7545 non-null   object \n",
      " 9   view                 7545 non-null   object \n",
      " 10  condition            7545 non-null   object \n",
      " 11  grade                7545 non-null   object \n",
      " 12  heat_source          7545 non-null   object \n",
      " 13  sewer_system         7545 non-null   object \n",
      " 14  sqft_above           7545 non-null   int64  \n",
      " 15  sqft_basement        7545 non-null   int64  \n",
      " 16  sqft_garage          7545 non-null   int64  \n",
      " 17  sqft_patio           7545 non-null   int64  \n",
      " 18  yr_built             7545 non-null   int64  \n",
      " 19  Zip Code             7545 non-null   int64  \n",
      " 20  DistrictName         7545 non-null   object \n",
      " 21  ELA                  7545 non-null   float64\n",
      " 22  Math                 7545 non-null   float64\n",
      " 23  Science              7357 non-null   float64\n",
      " 24  District Test Score  7545 non-null   float64\n",
      "dtypes: float64(7), int64(10), object(8)\n",
      "memory usage: 1.4+ MB\n"
     ]
    }
   ],
   "source": [
    "final_kc_df.info()"
   ]
  },
  {
   "cell_type": "code",
   "execution_count": 28,
   "metadata": {},
   "outputs": [],
   "source": [
    "# Removing some of the features that we may not need; 'sqft_above' being removed as it too closely correlates with\n",
    "# 'sqft_living' and removing 'Science' as it contains null values.\n",
    "final_kc_df2 = final_kc_df.drop(['level_0', 'sqft_above', 'waterfront', 'greenbelt','view', 'Science'], axis = 1)"
   ]
  },
  {
   "cell_type": "markdown",
   "metadata": {},
   "source": [
    "##### Preparing Data"
   ]
  },
  {
   "cell_type": "code",
   "execution_count": 29,
   "metadata": {},
   "outputs": [],
   "source": [
    "X = final_kc_df2.drop('price', axis=1)\n",
    "y = final_kc_df2['price']"
   ]
  },
  {
   "cell_type": "markdown",
   "metadata": {},
   "source": [
    "##### Train/Test Split\n",
    "*Train 80% of Data, Test 20% of Data*"
   ]
  },
  {
   "cell_type": "code",
   "execution_count": 30,
   "metadata": {},
   "outputs": [],
   "source": [
    "X_train, X_test, y_train, y_test = train_test_split(X, y, test_size = 0.2, random_state = 42)"
   ]
  },
  {
   "cell_type": "markdown",
   "metadata": {},
   "source": [
    "##### Processing Data"
   ]
  },
  {
   "cell_type": "code",
   "execution_count": 31,
   "metadata": {},
   "outputs": [
    {
     "data": {
      "text/plain": [
       "(6036,)"
      ]
     },
     "execution_count": 31,
     "metadata": {},
     "output_type": "execute_result"
    }
   ],
   "source": [
    "#Train Data\n",
    "y_train.shape"
   ]
  },
  {
   "cell_type": "code",
   "execution_count": 32,
   "metadata": {},
   "outputs": [
    {
     "data": {
      "text/plain": [
       "(1509,)"
      ]
     },
     "execution_count": 32,
     "metadata": {},
     "output_type": "execute_result"
    }
   ],
   "source": [
    "#Test Data\n",
    "y_test.shape"
   ]
  },
  {
   "cell_type": "markdown",
   "metadata": {},
   "source": [
    "##### Separate Continuous X Predictive Variables\n",
    "*Train Data*"
   ]
  },
  {
   "cell_type": "code",
   "execution_count": null,
   "metadata": {},
   "outputs": [],
   "source": [
    "#Define our columns with numeric data\n",
    "numeric_cols = ['bedrooms','bathrooms','sqft_living','sqft_lot','floors','sqft_basement',\\\n",
    "                           'sqft_garage','sqft_patio','yr_built','ELA','Math','Zip Code','District Test Score']]"
   ]
  },
  {
   "cell_type": "code",
   "execution_count": 33,
   "metadata": {},
   "outputs": [],
   "source": [
    "X_train_numeric = X_train[numeric_cols]"
   ]
  },
  {
   "cell_type": "markdown",
   "metadata": {},
   "source": [
    "*Test Data*"
   ]
  },
  {
   "cell_type": "code",
   "execution_count": 34,
   "metadata": {},
   "outputs": [],
   "source": [
    "X_test_numeric = X_test[numeric_cols]"
   ]
  },
  {
   "cell_type": "markdown",
   "metadata": {},
   "source": [
    "##### Discrete Ordinal X Predictive Variables\n",
    "*Train Data*"
   ]
  },
  {
   "cell_type": "code",
   "execution_count": 35,
   "metadata": {},
   "outputs": [],
   "source": [
    "ord_cat_selector = ['condition', 'grade']\n",
    "X_train_ord_cat_subset = X_train[ord_cat_selector]"
   ]
  },
  {
   "cell_type": "code",
   "execution_count": 36,
   "metadata": {},
   "outputs": [
    {
     "data": {
      "text/plain": [
       "array(['Average', 'Very Good', 'Good'], dtype=object)"
      ]
     },
     "execution_count": 36,
     "metadata": {},
     "output_type": "execute_result"
    }
   ],
   "source": [
    "X_train_ord_cat_subset['condition'].unique()"
   ]
  },
  {
   "cell_type": "code",
   "execution_count": 37,
   "metadata": {},
   "outputs": [
    {
     "data": {
      "text/plain": [
       "array(['8 Good', '7 Average', '10 Very Good', '9 Better', '6 Low Average',\n",
       "       '5 Fair', '11 Excellent', '13 Mansion'], dtype=object)"
      ]
     },
     "execution_count": 37,
     "metadata": {},
     "output_type": "execute_result"
    }
   ],
   "source": [
    "X_train_ord_cat_subset['grade'].unique()"
   ]
  },
  {
   "cell_type": "code",
   "execution_count": 38,
   "metadata": {},
   "outputs": [],
   "source": [
    "# REPLACE WITH COLUMN'S UNIQUE VALUES IN ASCENDING ORDER --->\n",
    "condition_list = ['Poor', 'Fair', 'Average', 'Good', 'Very Good'] \n",
    "grade_list = ['3 Poor', '5 Fair', '6 Low Average', '7 Average','8 Good','9 Better','10 Very Good','11 Excellent',\\\n",
    "             '12 Luxury','13 Mansion']"
   ]
  },
  {
   "cell_type": "code",
   "execution_count": 39,
   "metadata": {},
   "outputs": [
    {
     "data": {
      "text/plain": [
       "OrdinalEncoder(categories=[['Poor', 'Fair', 'Average', 'Good', 'Very Good'],\n",
       "                           ['3 Poor', '5 Fair', '6 Low Average', '7 Average',\n",
       "                            '8 Good', '9 Better', '10 Very Good',\n",
       "                            '11 Excellent', '12 Luxury', '13 Mansion']])"
      ]
     },
     "execution_count": 39,
     "metadata": {},
     "output_type": "execute_result"
    }
   ],
   "source": [
    "o_enc = OrdinalEncoder(categories = [condition_list, grade_list])\n",
    "o_enc.fit(X_train_ord_cat_subset)"
   ]
  },
  {
   "cell_type": "code",
   "execution_count": 40,
   "metadata": {},
   "outputs": [
    {
     "data": {
      "text/plain": [
       "array([[2., 4.],\n",
       "       [4., 3.],\n",
       "       [3., 6.],\n",
       "       ...,\n",
       "       [2., 5.],\n",
       "       [2., 4.],\n",
       "       [2., 3.]])"
      ]
     },
     "execution_count": 40,
     "metadata": {},
     "output_type": "execute_result"
    }
   ],
   "source": [
    "o_enc.transform(X_train_ord_cat_subset)"
   ]
  },
  {
   "cell_type": "code",
   "execution_count": 41,
   "metadata": {},
   "outputs": [],
   "source": [
    "X_train_ord = pd.DataFrame(o_enc.transform(X_train_ord_cat_subset),\n",
    "                        columns = X_train_ord_cat_subset.columns)"
   ]
  },
  {
   "cell_type": "code",
   "execution_count": 42,
   "metadata": {},
   "outputs": [
    {
     "data": {
      "text/html": [
       "<div>\n",
       "<style scoped>\n",
       "    .dataframe tbody tr th:only-of-type {\n",
       "        vertical-align: middle;\n",
       "    }\n",
       "\n",
       "    .dataframe tbody tr th {\n",
       "        vertical-align: top;\n",
       "    }\n",
       "\n",
       "    .dataframe thead th {\n",
       "        text-align: right;\n",
       "    }\n",
       "</style>\n",
       "<table border=\"1\" class=\"dataframe\">\n",
       "  <thead>\n",
       "    <tr style=\"text-align: right;\">\n",
       "      <th></th>\n",
       "      <th>condition</th>\n",
       "      <th>grade</th>\n",
       "    </tr>\n",
       "  </thead>\n",
       "  <tbody>\n",
       "    <tr>\n",
       "      <th>0</th>\n",
       "      <td>2.0</td>\n",
       "      <td>4.0</td>\n",
       "    </tr>\n",
       "    <tr>\n",
       "      <th>1</th>\n",
       "      <td>4.0</td>\n",
       "      <td>3.0</td>\n",
       "    </tr>\n",
       "    <tr>\n",
       "      <th>2</th>\n",
       "      <td>3.0</td>\n",
       "      <td>6.0</td>\n",
       "    </tr>\n",
       "    <tr>\n",
       "      <th>3</th>\n",
       "      <td>3.0</td>\n",
       "      <td>3.0</td>\n",
       "    </tr>\n",
       "    <tr>\n",
       "      <th>4</th>\n",
       "      <td>3.0</td>\n",
       "      <td>3.0</td>\n",
       "    </tr>\n",
       "  </tbody>\n",
       "</table>\n",
       "</div>"
      ],
      "text/plain": [
       "   condition  grade\n",
       "0        2.0    4.0\n",
       "1        4.0    3.0\n",
       "2        3.0    6.0\n",
       "3        3.0    3.0\n",
       "4        3.0    3.0"
      ]
     },
     "execution_count": 42,
     "metadata": {},
     "output_type": "execute_result"
    }
   ],
   "source": [
    "X_train_ord.head()"
   ]
  },
  {
   "cell_type": "markdown",
   "metadata": {},
   "source": [
    "*Test Data*"
   ]
  },
  {
   "cell_type": "code",
   "execution_count": 43,
   "metadata": {},
   "outputs": [],
   "source": [
    "X_test_ord_cat_subset = X_test[ord_cat_selector]"
   ]
  },
  {
   "cell_type": "code",
   "execution_count": 44,
   "metadata": {},
   "outputs": [],
   "source": [
    "X_test_ord = pd.DataFrame(o_enc.transform(X_test_ord_cat_subset),\n",
    "                        columns = X_test_ord_cat_subset.columns)"
   ]
  },
  {
   "cell_type": "markdown",
   "metadata": {},
   "source": [
    "##### Discrete Nominal X Predictive Variables\n",
    "*Train Data*"
   ]
  },
  {
   "cell_type": "code",
   "execution_count": 45,
   "metadata": {},
   "outputs": [],
   "source": [
    "onehot_enc = OneHotEncoder(sparse = False, handle_unknown = 'ignore')"
   ]
  },
  {
   "cell_type": "code",
   "execution_count": 46,
   "metadata": {},
   "outputs": [
    {
     "data": {
      "text/plain": [
       "array([[0., 0., 1., ..., 0., 0., 0.],\n",
       "       [0., 0., 1., ..., 0., 0., 0.],\n",
       "       [1., 0., 0., ..., 0., 0., 0.],\n",
       "       ...,\n",
       "       [0., 0., 1., ..., 0., 0., 0.],\n",
       "       [0., 0., 1., ..., 0., 0., 0.],\n",
       "       [0., 0., 1., ..., 0., 0., 0.]])"
      ]
     },
     "execution_count": 46,
     "metadata": {},
     "output_type": "execute_result"
    }
   ],
   "source": [
    "nominal_cols = ['heat_source', 'sewer_system', 'DistrictName']\n",
    "onehot_enc.fit_transform(X_train[nominal_cols])"
   ]
  },
  {
   "cell_type": "code",
   "execution_count": 47,
   "metadata": {},
   "outputs": [
    {
     "data": {
      "text/plain": [
       "(6036, 28)"
      ]
     },
     "execution_count": 47,
     "metadata": {},
     "output_type": "execute_result"
    }
   ],
   "source": [
    "X_train_nom_trans = onehot_enc.fit_transform(X_train[nominal_cols])\n",
    "X_train_nom_trans.shape"
   ]
  },
  {
   "cell_type": "code",
   "execution_count": 48,
   "metadata": {},
   "outputs": [],
   "source": [
    "cols = onehot_enc.get_feature_names()"
   ]
  },
  {
   "cell_type": "code",
   "execution_count": 49,
   "metadata": {},
   "outputs": [
    {
     "data": {
      "text/html": [
       "<div>\n",
       "<style scoped>\n",
       "    .dataframe tbody tr th:only-of-type {\n",
       "        vertical-align: middle;\n",
       "    }\n",
       "\n",
       "    .dataframe tbody tr th {\n",
       "        vertical-align: top;\n",
       "    }\n",
       "\n",
       "    .dataframe thead th {\n",
       "        text-align: right;\n",
       "    }\n",
       "</style>\n",
       "<table border=\"1\" class=\"dataframe\">\n",
       "  <thead>\n",
       "    <tr style=\"text-align: right;\">\n",
       "      <th></th>\n",
       "      <th>x0_Electricity</th>\n",
       "      <th>x0_Electricity/Solar</th>\n",
       "      <th>x0_Gas</th>\n",
       "      <th>x0_Gas/Solar</th>\n",
       "      <th>x0_Oil</th>\n",
       "      <th>x0_Oil/Solar</th>\n",
       "      <th>x0_Other</th>\n",
       "      <th>x1_PRIVATE</th>\n",
       "      <th>x1_PUBLIC</th>\n",
       "      <th>x1_PUBLIC RESTRICTED</th>\n",
       "      <th>...</th>\n",
       "      <th>x2_Northshore School District</th>\n",
       "      <th>x2_Renton School District</th>\n",
       "      <th>x2_Riverview School District</th>\n",
       "      <th>x2_Seattle School District No. 1</th>\n",
       "      <th>x2_Shoreline School District</th>\n",
       "      <th>x2_Skykomish School District</th>\n",
       "      <th>x2_Snoqualmie Valley School District</th>\n",
       "      <th>x2_Tahoma School District</th>\n",
       "      <th>x2_Tukwila School District</th>\n",
       "      <th>x2_Vashon Island School District</th>\n",
       "    </tr>\n",
       "  </thead>\n",
       "  <tbody>\n",
       "    <tr>\n",
       "      <th>0</th>\n",
       "      <td>0.0</td>\n",
       "      <td>0.0</td>\n",
       "      <td>1.0</td>\n",
       "      <td>0.0</td>\n",
       "      <td>0.0</td>\n",
       "      <td>0.0</td>\n",
       "      <td>0.0</td>\n",
       "      <td>0.0</td>\n",
       "      <td>1.0</td>\n",
       "      <td>0.0</td>\n",
       "      <td>...</td>\n",
       "      <td>0.0</td>\n",
       "      <td>0.0</td>\n",
       "      <td>0.0</td>\n",
       "      <td>0.0</td>\n",
       "      <td>0.0</td>\n",
       "      <td>0.0</td>\n",
       "      <td>0.0</td>\n",
       "      <td>0.0</td>\n",
       "      <td>0.0</td>\n",
       "      <td>0.0</td>\n",
       "    </tr>\n",
       "    <tr>\n",
       "      <th>1</th>\n",
       "      <td>0.0</td>\n",
       "      <td>0.0</td>\n",
       "      <td>1.0</td>\n",
       "      <td>0.0</td>\n",
       "      <td>0.0</td>\n",
       "      <td>0.0</td>\n",
       "      <td>0.0</td>\n",
       "      <td>0.0</td>\n",
       "      <td>1.0</td>\n",
       "      <td>0.0</td>\n",
       "      <td>...</td>\n",
       "      <td>0.0</td>\n",
       "      <td>0.0</td>\n",
       "      <td>0.0</td>\n",
       "      <td>0.0</td>\n",
       "      <td>1.0</td>\n",
       "      <td>0.0</td>\n",
       "      <td>0.0</td>\n",
       "      <td>0.0</td>\n",
       "      <td>0.0</td>\n",
       "      <td>0.0</td>\n",
       "    </tr>\n",
       "    <tr>\n",
       "      <th>2</th>\n",
       "      <td>1.0</td>\n",
       "      <td>0.0</td>\n",
       "      <td>0.0</td>\n",
       "      <td>0.0</td>\n",
       "      <td>0.0</td>\n",
       "      <td>0.0</td>\n",
       "      <td>0.0</td>\n",
       "      <td>0.0</td>\n",
       "      <td>1.0</td>\n",
       "      <td>0.0</td>\n",
       "      <td>...</td>\n",
       "      <td>0.0</td>\n",
       "      <td>0.0</td>\n",
       "      <td>0.0</td>\n",
       "      <td>0.0</td>\n",
       "      <td>0.0</td>\n",
       "      <td>0.0</td>\n",
       "      <td>0.0</td>\n",
       "      <td>0.0</td>\n",
       "      <td>0.0</td>\n",
       "      <td>0.0</td>\n",
       "    </tr>\n",
       "    <tr>\n",
       "      <th>3</th>\n",
       "      <td>1.0</td>\n",
       "      <td>0.0</td>\n",
       "      <td>0.0</td>\n",
       "      <td>0.0</td>\n",
       "      <td>0.0</td>\n",
       "      <td>0.0</td>\n",
       "      <td>0.0</td>\n",
       "      <td>0.0</td>\n",
       "      <td>1.0</td>\n",
       "      <td>0.0</td>\n",
       "      <td>...</td>\n",
       "      <td>0.0</td>\n",
       "      <td>0.0</td>\n",
       "      <td>0.0</td>\n",
       "      <td>0.0</td>\n",
       "      <td>0.0</td>\n",
       "      <td>0.0</td>\n",
       "      <td>0.0</td>\n",
       "      <td>0.0</td>\n",
       "      <td>0.0</td>\n",
       "      <td>0.0</td>\n",
       "    </tr>\n",
       "    <tr>\n",
       "      <th>4</th>\n",
       "      <td>0.0</td>\n",
       "      <td>0.0</td>\n",
       "      <td>0.0</td>\n",
       "      <td>0.0</td>\n",
       "      <td>1.0</td>\n",
       "      <td>0.0</td>\n",
       "      <td>0.0</td>\n",
       "      <td>0.0</td>\n",
       "      <td>1.0</td>\n",
       "      <td>0.0</td>\n",
       "      <td>...</td>\n",
       "      <td>0.0</td>\n",
       "      <td>0.0</td>\n",
       "      <td>0.0</td>\n",
       "      <td>1.0</td>\n",
       "      <td>0.0</td>\n",
       "      <td>0.0</td>\n",
       "      <td>0.0</td>\n",
       "      <td>0.0</td>\n",
       "      <td>0.0</td>\n",
       "      <td>0.0</td>\n",
       "    </tr>\n",
       "  </tbody>\n",
       "</table>\n",
       "<p>5 rows × 28 columns</p>\n",
       "</div>"
      ],
      "text/plain": [
       "   x0_Electricity  x0_Electricity/Solar  x0_Gas  x0_Gas/Solar  x0_Oil  \\\n",
       "0             0.0                   0.0     1.0           0.0     0.0   \n",
       "1             0.0                   0.0     1.0           0.0     0.0   \n",
       "2             1.0                   0.0     0.0           0.0     0.0   \n",
       "3             1.0                   0.0     0.0           0.0     0.0   \n",
       "4             0.0                   0.0     0.0           0.0     1.0   \n",
       "\n",
       "   x0_Oil/Solar  x0_Other  x1_PRIVATE  x1_PUBLIC  x1_PUBLIC RESTRICTED  ...  \\\n",
       "0           0.0       0.0         0.0        1.0                   0.0  ...   \n",
       "1           0.0       0.0         0.0        1.0                   0.0  ...   \n",
       "2           0.0       0.0         0.0        1.0                   0.0  ...   \n",
       "3           0.0       0.0         0.0        1.0                   0.0  ...   \n",
       "4           0.0       0.0         0.0        1.0                   0.0  ...   \n",
       "\n",
       "   x2_Northshore School District  x2_Renton School District  \\\n",
       "0                            0.0                        0.0   \n",
       "1                            0.0                        0.0   \n",
       "2                            0.0                        0.0   \n",
       "3                            0.0                        0.0   \n",
       "4                            0.0                        0.0   \n",
       "\n",
       "   x2_Riverview School District  x2_Seattle School District No. 1  \\\n",
       "0                           0.0                               0.0   \n",
       "1                           0.0                               0.0   \n",
       "2                           0.0                               0.0   \n",
       "3                           0.0                               0.0   \n",
       "4                           0.0                               1.0   \n",
       "\n",
       "   x2_Shoreline School District  x2_Skykomish School District  \\\n",
       "0                           0.0                           0.0   \n",
       "1                           1.0                           0.0   \n",
       "2                           0.0                           0.0   \n",
       "3                           0.0                           0.0   \n",
       "4                           0.0                           0.0   \n",
       "\n",
       "   x2_Snoqualmie Valley School District  x2_Tahoma School District  \\\n",
       "0                                   0.0                        0.0   \n",
       "1                                   0.0                        0.0   \n",
       "2                                   0.0                        0.0   \n",
       "3                                   0.0                        0.0   \n",
       "4                                   0.0                        0.0   \n",
       "\n",
       "   x2_Tukwila School District  x2_Vashon Island School District  \n",
       "0                         0.0                               0.0  \n",
       "1                         0.0                               0.0  \n",
       "2                         0.0                               0.0  \n",
       "3                         0.0                               0.0  \n",
       "4                         0.0                               0.0  \n",
       "\n",
       "[5 rows x 28 columns]"
      ]
     },
     "execution_count": 49,
     "metadata": {},
     "output_type": "execute_result"
    }
   ],
   "source": [
    "X_train_nom = pd.DataFrame(X_train_nom_trans, columns = cols)\n",
    "X_train_nom.head()"
   ]
  },
  {
   "cell_type": "markdown",
   "metadata": {},
   "source": [
    "*Test Data*"
   ]
  },
  {
   "cell_type": "code",
   "execution_count": 50,
   "metadata": {},
   "outputs": [
    {
     "data": {
      "text/plain": [
       "(1509, 28)"
      ]
     },
     "execution_count": 50,
     "metadata": {},
     "output_type": "execute_result"
    }
   ],
   "source": [
    "X_test_nom_trans = onehot_enc.transform(X_test[nominal_cols])\n",
    "X_test_nom_trans.shape"
   ]
  },
  {
   "cell_type": "code",
   "execution_count": 51,
   "metadata": {},
   "outputs": [],
   "source": [
    "X_test_nom = pd.DataFrame(X_test_nom_trans, columns = cols)"
   ]
  },
  {
   "cell_type": "markdown",
   "metadata": {},
   "source": [
    "##### Combine Discrete/Categorical X/ Predictive Variables"
   ]
  },
  {
   "cell_type": "code",
   "execution_count": 52,
   "metadata": {},
   "outputs": [
    {
     "data": {
      "text/html": [
       "<div>\n",
       "<style scoped>\n",
       "    .dataframe tbody tr th:only-of-type {\n",
       "        vertical-align: middle;\n",
       "    }\n",
       "\n",
       "    .dataframe tbody tr th {\n",
       "        vertical-align: top;\n",
       "    }\n",
       "\n",
       "    .dataframe thead th {\n",
       "        text-align: right;\n",
       "    }\n",
       "</style>\n",
       "<table border=\"1\" class=\"dataframe\">\n",
       "  <thead>\n",
       "    <tr style=\"text-align: right;\">\n",
       "      <th></th>\n",
       "      <th>condition</th>\n",
       "      <th>grade</th>\n",
       "      <th>x0_Electricity</th>\n",
       "      <th>x0_Electricity/Solar</th>\n",
       "      <th>x0_Gas</th>\n",
       "      <th>x0_Gas/Solar</th>\n",
       "      <th>x0_Oil</th>\n",
       "      <th>x0_Oil/Solar</th>\n",
       "      <th>x0_Other</th>\n",
       "      <th>x1_PRIVATE</th>\n",
       "      <th>...</th>\n",
       "      <th>x2_Northshore School District</th>\n",
       "      <th>x2_Renton School District</th>\n",
       "      <th>x2_Riverview School District</th>\n",
       "      <th>x2_Seattle School District No. 1</th>\n",
       "      <th>x2_Shoreline School District</th>\n",
       "      <th>x2_Skykomish School District</th>\n",
       "      <th>x2_Snoqualmie Valley School District</th>\n",
       "      <th>x2_Tahoma School District</th>\n",
       "      <th>x2_Tukwila School District</th>\n",
       "      <th>x2_Vashon Island School District</th>\n",
       "    </tr>\n",
       "  </thead>\n",
       "  <tbody>\n",
       "    <tr>\n",
       "      <th>0</th>\n",
       "      <td>2.0</td>\n",
       "      <td>4.0</td>\n",
       "      <td>0.0</td>\n",
       "      <td>0.0</td>\n",
       "      <td>1.0</td>\n",
       "      <td>0.0</td>\n",
       "      <td>0.0</td>\n",
       "      <td>0.0</td>\n",
       "      <td>0.0</td>\n",
       "      <td>0.0</td>\n",
       "      <td>...</td>\n",
       "      <td>0.0</td>\n",
       "      <td>0.0</td>\n",
       "      <td>0.0</td>\n",
       "      <td>0.0</td>\n",
       "      <td>0.0</td>\n",
       "      <td>0.0</td>\n",
       "      <td>0.0</td>\n",
       "      <td>0.0</td>\n",
       "      <td>0.0</td>\n",
       "      <td>0.0</td>\n",
       "    </tr>\n",
       "    <tr>\n",
       "      <th>1</th>\n",
       "      <td>4.0</td>\n",
       "      <td>3.0</td>\n",
       "      <td>0.0</td>\n",
       "      <td>0.0</td>\n",
       "      <td>1.0</td>\n",
       "      <td>0.0</td>\n",
       "      <td>0.0</td>\n",
       "      <td>0.0</td>\n",
       "      <td>0.0</td>\n",
       "      <td>0.0</td>\n",
       "      <td>...</td>\n",
       "      <td>0.0</td>\n",
       "      <td>0.0</td>\n",
       "      <td>0.0</td>\n",
       "      <td>0.0</td>\n",
       "      <td>1.0</td>\n",
       "      <td>0.0</td>\n",
       "      <td>0.0</td>\n",
       "      <td>0.0</td>\n",
       "      <td>0.0</td>\n",
       "      <td>0.0</td>\n",
       "    </tr>\n",
       "    <tr>\n",
       "      <th>2</th>\n",
       "      <td>3.0</td>\n",
       "      <td>6.0</td>\n",
       "      <td>1.0</td>\n",
       "      <td>0.0</td>\n",
       "      <td>0.0</td>\n",
       "      <td>0.0</td>\n",
       "      <td>0.0</td>\n",
       "      <td>0.0</td>\n",
       "      <td>0.0</td>\n",
       "      <td>0.0</td>\n",
       "      <td>...</td>\n",
       "      <td>0.0</td>\n",
       "      <td>0.0</td>\n",
       "      <td>0.0</td>\n",
       "      <td>0.0</td>\n",
       "      <td>0.0</td>\n",
       "      <td>0.0</td>\n",
       "      <td>0.0</td>\n",
       "      <td>0.0</td>\n",
       "      <td>0.0</td>\n",
       "      <td>0.0</td>\n",
       "    </tr>\n",
       "    <tr>\n",
       "      <th>3</th>\n",
       "      <td>3.0</td>\n",
       "      <td>3.0</td>\n",
       "      <td>1.0</td>\n",
       "      <td>0.0</td>\n",
       "      <td>0.0</td>\n",
       "      <td>0.0</td>\n",
       "      <td>0.0</td>\n",
       "      <td>0.0</td>\n",
       "      <td>0.0</td>\n",
       "      <td>0.0</td>\n",
       "      <td>...</td>\n",
       "      <td>0.0</td>\n",
       "      <td>0.0</td>\n",
       "      <td>0.0</td>\n",
       "      <td>0.0</td>\n",
       "      <td>0.0</td>\n",
       "      <td>0.0</td>\n",
       "      <td>0.0</td>\n",
       "      <td>0.0</td>\n",
       "      <td>0.0</td>\n",
       "      <td>0.0</td>\n",
       "    </tr>\n",
       "    <tr>\n",
       "      <th>4</th>\n",
       "      <td>3.0</td>\n",
       "      <td>3.0</td>\n",
       "      <td>0.0</td>\n",
       "      <td>0.0</td>\n",
       "      <td>0.0</td>\n",
       "      <td>0.0</td>\n",
       "      <td>1.0</td>\n",
       "      <td>0.0</td>\n",
       "      <td>0.0</td>\n",
       "      <td>0.0</td>\n",
       "      <td>...</td>\n",
       "      <td>0.0</td>\n",
       "      <td>0.0</td>\n",
       "      <td>0.0</td>\n",
       "      <td>1.0</td>\n",
       "      <td>0.0</td>\n",
       "      <td>0.0</td>\n",
       "      <td>0.0</td>\n",
       "      <td>0.0</td>\n",
       "      <td>0.0</td>\n",
       "      <td>0.0</td>\n",
       "    </tr>\n",
       "    <tr>\n",
       "      <th>...</th>\n",
       "      <td>...</td>\n",
       "      <td>...</td>\n",
       "      <td>...</td>\n",
       "      <td>...</td>\n",
       "      <td>...</td>\n",
       "      <td>...</td>\n",
       "      <td>...</td>\n",
       "      <td>...</td>\n",
       "      <td>...</td>\n",
       "      <td>...</td>\n",
       "      <td>...</td>\n",
       "      <td>...</td>\n",
       "      <td>...</td>\n",
       "      <td>...</td>\n",
       "      <td>...</td>\n",
       "      <td>...</td>\n",
       "      <td>...</td>\n",
       "      <td>...</td>\n",
       "      <td>...</td>\n",
       "      <td>...</td>\n",
       "      <td>...</td>\n",
       "    </tr>\n",
       "    <tr>\n",
       "      <th>6031</th>\n",
       "      <td>3.0</td>\n",
       "      <td>3.0</td>\n",
       "      <td>0.0</td>\n",
       "      <td>0.0</td>\n",
       "      <td>1.0</td>\n",
       "      <td>0.0</td>\n",
       "      <td>0.0</td>\n",
       "      <td>0.0</td>\n",
       "      <td>0.0</td>\n",
       "      <td>0.0</td>\n",
       "      <td>...</td>\n",
       "      <td>0.0</td>\n",
       "      <td>0.0</td>\n",
       "      <td>0.0</td>\n",
       "      <td>0.0</td>\n",
       "      <td>0.0</td>\n",
       "      <td>0.0</td>\n",
       "      <td>0.0</td>\n",
       "      <td>0.0</td>\n",
       "      <td>0.0</td>\n",
       "      <td>0.0</td>\n",
       "    </tr>\n",
       "    <tr>\n",
       "      <th>6032</th>\n",
       "      <td>2.0</td>\n",
       "      <td>3.0</td>\n",
       "      <td>0.0</td>\n",
       "      <td>0.0</td>\n",
       "      <td>1.0</td>\n",
       "      <td>0.0</td>\n",
       "      <td>0.0</td>\n",
       "      <td>0.0</td>\n",
       "      <td>0.0</td>\n",
       "      <td>0.0</td>\n",
       "      <td>...</td>\n",
       "      <td>0.0</td>\n",
       "      <td>0.0</td>\n",
       "      <td>0.0</td>\n",
       "      <td>0.0</td>\n",
       "      <td>0.0</td>\n",
       "      <td>0.0</td>\n",
       "      <td>0.0</td>\n",
       "      <td>0.0</td>\n",
       "      <td>0.0</td>\n",
       "      <td>0.0</td>\n",
       "    </tr>\n",
       "    <tr>\n",
       "      <th>6033</th>\n",
       "      <td>2.0</td>\n",
       "      <td>5.0</td>\n",
       "      <td>0.0</td>\n",
       "      <td>0.0</td>\n",
       "      <td>1.0</td>\n",
       "      <td>0.0</td>\n",
       "      <td>0.0</td>\n",
       "      <td>0.0</td>\n",
       "      <td>0.0</td>\n",
       "      <td>0.0</td>\n",
       "      <td>...</td>\n",
       "      <td>0.0</td>\n",
       "      <td>0.0</td>\n",
       "      <td>0.0</td>\n",
       "      <td>0.0</td>\n",
       "      <td>0.0</td>\n",
       "      <td>0.0</td>\n",
       "      <td>0.0</td>\n",
       "      <td>0.0</td>\n",
       "      <td>0.0</td>\n",
       "      <td>0.0</td>\n",
       "    </tr>\n",
       "    <tr>\n",
       "      <th>6034</th>\n",
       "      <td>2.0</td>\n",
       "      <td>4.0</td>\n",
       "      <td>0.0</td>\n",
       "      <td>0.0</td>\n",
       "      <td>1.0</td>\n",
       "      <td>0.0</td>\n",
       "      <td>0.0</td>\n",
       "      <td>0.0</td>\n",
       "      <td>0.0</td>\n",
       "      <td>0.0</td>\n",
       "      <td>...</td>\n",
       "      <td>0.0</td>\n",
       "      <td>0.0</td>\n",
       "      <td>0.0</td>\n",
       "      <td>0.0</td>\n",
       "      <td>0.0</td>\n",
       "      <td>0.0</td>\n",
       "      <td>0.0</td>\n",
       "      <td>0.0</td>\n",
       "      <td>0.0</td>\n",
       "      <td>0.0</td>\n",
       "    </tr>\n",
       "    <tr>\n",
       "      <th>6035</th>\n",
       "      <td>2.0</td>\n",
       "      <td>3.0</td>\n",
       "      <td>0.0</td>\n",
       "      <td>0.0</td>\n",
       "      <td>1.0</td>\n",
       "      <td>0.0</td>\n",
       "      <td>0.0</td>\n",
       "      <td>0.0</td>\n",
       "      <td>0.0</td>\n",
       "      <td>1.0</td>\n",
       "      <td>...</td>\n",
       "      <td>1.0</td>\n",
       "      <td>0.0</td>\n",
       "      <td>0.0</td>\n",
       "      <td>0.0</td>\n",
       "      <td>0.0</td>\n",
       "      <td>0.0</td>\n",
       "      <td>0.0</td>\n",
       "      <td>0.0</td>\n",
       "      <td>0.0</td>\n",
       "      <td>0.0</td>\n",
       "    </tr>\n",
       "  </tbody>\n",
       "</table>\n",
       "<p>6036 rows × 30 columns</p>\n",
       "</div>"
      ],
      "text/plain": [
       "      condition  grade  x0_Electricity  x0_Electricity/Solar  x0_Gas  \\\n",
       "0           2.0    4.0             0.0                   0.0     1.0   \n",
       "1           4.0    3.0             0.0                   0.0     1.0   \n",
       "2           3.0    6.0             1.0                   0.0     0.0   \n",
       "3           3.0    3.0             1.0                   0.0     0.0   \n",
       "4           3.0    3.0             0.0                   0.0     0.0   \n",
       "...         ...    ...             ...                   ...     ...   \n",
       "6031        3.0    3.0             0.0                   0.0     1.0   \n",
       "6032        2.0    3.0             0.0                   0.0     1.0   \n",
       "6033        2.0    5.0             0.0                   0.0     1.0   \n",
       "6034        2.0    4.0             0.0                   0.0     1.0   \n",
       "6035        2.0    3.0             0.0                   0.0     1.0   \n",
       "\n",
       "      x0_Gas/Solar  x0_Oil  x0_Oil/Solar  x0_Other  x1_PRIVATE  ...  \\\n",
       "0              0.0     0.0           0.0       0.0         0.0  ...   \n",
       "1              0.0     0.0           0.0       0.0         0.0  ...   \n",
       "2              0.0     0.0           0.0       0.0         0.0  ...   \n",
       "3              0.0     0.0           0.0       0.0         0.0  ...   \n",
       "4              0.0     1.0           0.0       0.0         0.0  ...   \n",
       "...            ...     ...           ...       ...         ...  ...   \n",
       "6031           0.0     0.0           0.0       0.0         0.0  ...   \n",
       "6032           0.0     0.0           0.0       0.0         0.0  ...   \n",
       "6033           0.0     0.0           0.0       0.0         0.0  ...   \n",
       "6034           0.0     0.0           0.0       0.0         0.0  ...   \n",
       "6035           0.0     0.0           0.0       0.0         1.0  ...   \n",
       "\n",
       "      x2_Northshore School District  x2_Renton School District  \\\n",
       "0                               0.0                        0.0   \n",
       "1                               0.0                        0.0   \n",
       "2                               0.0                        0.0   \n",
       "3                               0.0                        0.0   \n",
       "4                               0.0                        0.0   \n",
       "...                             ...                        ...   \n",
       "6031                            0.0                        0.0   \n",
       "6032                            0.0                        0.0   \n",
       "6033                            0.0                        0.0   \n",
       "6034                            0.0                        0.0   \n",
       "6035                            1.0                        0.0   \n",
       "\n",
       "      x2_Riverview School District  x2_Seattle School District No. 1  \\\n",
       "0                              0.0                               0.0   \n",
       "1                              0.0                               0.0   \n",
       "2                              0.0                               0.0   \n",
       "3                              0.0                               0.0   \n",
       "4                              0.0                               1.0   \n",
       "...                            ...                               ...   \n",
       "6031                           0.0                               0.0   \n",
       "6032                           0.0                               0.0   \n",
       "6033                           0.0                               0.0   \n",
       "6034                           0.0                               0.0   \n",
       "6035                           0.0                               0.0   \n",
       "\n",
       "      x2_Shoreline School District  x2_Skykomish School District  \\\n",
       "0                              0.0                           0.0   \n",
       "1                              1.0                           0.0   \n",
       "2                              0.0                           0.0   \n",
       "3                              0.0                           0.0   \n",
       "4                              0.0                           0.0   \n",
       "...                            ...                           ...   \n",
       "6031                           0.0                           0.0   \n",
       "6032                           0.0                           0.0   \n",
       "6033                           0.0                           0.0   \n",
       "6034                           0.0                           0.0   \n",
       "6035                           0.0                           0.0   \n",
       "\n",
       "      x2_Snoqualmie Valley School District  x2_Tahoma School District  \\\n",
       "0                                      0.0                        0.0   \n",
       "1                                      0.0                        0.0   \n",
       "2                                      0.0                        0.0   \n",
       "3                                      0.0                        0.0   \n",
       "4                                      0.0                        0.0   \n",
       "...                                    ...                        ...   \n",
       "6031                                   0.0                        0.0   \n",
       "6032                                   0.0                        0.0   \n",
       "6033                                   0.0                        0.0   \n",
       "6034                                   0.0                        0.0   \n",
       "6035                                   0.0                        0.0   \n",
       "\n",
       "      x2_Tukwila School District  x2_Vashon Island School District  \n",
       "0                            0.0                               0.0  \n",
       "1                            0.0                               0.0  \n",
       "2                            0.0                               0.0  \n",
       "3                            0.0                               0.0  \n",
       "4                            0.0                               0.0  \n",
       "...                          ...                               ...  \n",
       "6031                         0.0                               0.0  \n",
       "6032                         0.0                               0.0  \n",
       "6033                         0.0                               0.0  \n",
       "6034                         0.0                               0.0  \n",
       "6035                         0.0                               0.0  \n",
       "\n",
       "[6036 rows x 30 columns]"
      ]
     },
     "execution_count": 52,
     "metadata": {},
     "output_type": "execute_result"
    }
   ],
   "source": [
    "#combine all catergorical variables\n",
    "\n",
    "X_train_cat_df = pd.concat([X_train_ord,X_train_nom],axis = 1)\n",
    "X_train_cat_df"
   ]
  },
  {
   "cell_type": "markdown",
   "metadata": {},
   "source": [
    "*Test Data*"
   ]
  },
  {
   "cell_type": "code",
   "execution_count": 53,
   "metadata": {},
   "outputs": [],
   "source": [
    "X_test_cat_df = pd.concat([X_test_ord,X_test_nom],axis = 1)"
   ]
  },
  {
   "cell_type": "markdown",
   "metadata": {},
   "source": [
    "#### Combine Continuous and Discrete X/ Predictive Variables"
   ]
  },
  {
   "cell_type": "code",
   "execution_count": 54,
   "metadata": {},
   "outputs": [],
   "source": [
    "#Train Data - Combine all processed X Variables\n",
    "X_process_train = pd.concat([X_train_numeric.reset_index(),X_train_cat_df],axis = 1)"
   ]
  },
  {
   "cell_type": "code",
   "execution_count": 55,
   "metadata": {},
   "outputs": [
    {
     "data": {
      "text/html": [
       "<div>\n",
       "<style scoped>\n",
       "    .dataframe tbody tr th:only-of-type {\n",
       "        vertical-align: middle;\n",
       "    }\n",
       "\n",
       "    .dataframe tbody tr th {\n",
       "        vertical-align: top;\n",
       "    }\n",
       "\n",
       "    .dataframe thead th {\n",
       "        text-align: right;\n",
       "    }\n",
       "</style>\n",
       "<table border=\"1\" class=\"dataframe\">\n",
       "  <thead>\n",
       "    <tr style=\"text-align: right;\">\n",
       "      <th></th>\n",
       "      <th>index</th>\n",
       "      <th>bedrooms</th>\n",
       "      <th>bathrooms</th>\n",
       "      <th>sqft_living</th>\n",
       "      <th>sqft_lot</th>\n",
       "      <th>floors</th>\n",
       "      <th>sqft_basement</th>\n",
       "      <th>sqft_garage</th>\n",
       "      <th>sqft_patio</th>\n",
       "      <th>yr_built</th>\n",
       "      <th>...</th>\n",
       "      <th>x2_Northshore School District</th>\n",
       "      <th>x2_Renton School District</th>\n",
       "      <th>x2_Riverview School District</th>\n",
       "      <th>x2_Seattle School District No. 1</th>\n",
       "      <th>x2_Shoreline School District</th>\n",
       "      <th>x2_Skykomish School District</th>\n",
       "      <th>x2_Snoqualmie Valley School District</th>\n",
       "      <th>x2_Tahoma School District</th>\n",
       "      <th>x2_Tukwila School District</th>\n",
       "      <th>x2_Vashon Island School District</th>\n",
       "    </tr>\n",
       "  </thead>\n",
       "  <tbody>\n",
       "    <tr>\n",
       "      <th>0</th>\n",
       "      <td>1786</td>\n",
       "      <td>4</td>\n",
       "      <td>2.5</td>\n",
       "      <td>2370</td>\n",
       "      <td>4000</td>\n",
       "      <td>2.0</td>\n",
       "      <td>0</td>\n",
       "      <td>400</td>\n",
       "      <td>70</td>\n",
       "      <td>2021</td>\n",
       "      <td>...</td>\n",
       "      <td>0.0</td>\n",
       "      <td>0.0</td>\n",
       "      <td>0.0</td>\n",
       "      <td>0.0</td>\n",
       "      <td>0.0</td>\n",
       "      <td>0.0</td>\n",
       "      <td>0.0</td>\n",
       "      <td>0.0</td>\n",
       "      <td>0.0</td>\n",
       "      <td>0.0</td>\n",
       "    </tr>\n",
       "    <tr>\n",
       "      <th>1</th>\n",
       "      <td>4113</td>\n",
       "      <td>4</td>\n",
       "      <td>3.0</td>\n",
       "      <td>2360</td>\n",
       "      <td>9000</td>\n",
       "      <td>1.0</td>\n",
       "      <td>1460</td>\n",
       "      <td>560</td>\n",
       "      <td>370</td>\n",
       "      <td>1964</td>\n",
       "      <td>...</td>\n",
       "      <td>0.0</td>\n",
       "      <td>0.0</td>\n",
       "      <td>0.0</td>\n",
       "      <td>0.0</td>\n",
       "      <td>1.0</td>\n",
       "      <td>0.0</td>\n",
       "      <td>0.0</td>\n",
       "      <td>0.0</td>\n",
       "      <td>0.0</td>\n",
       "      <td>0.0</td>\n",
       "    </tr>\n",
       "    <tr>\n",
       "      <th>2</th>\n",
       "      <td>7488</td>\n",
       "      <td>5</td>\n",
       "      <td>3.5</td>\n",
       "      <td>3510</td>\n",
       "      <td>12729</td>\n",
       "      <td>2.0</td>\n",
       "      <td>0</td>\n",
       "      <td>480</td>\n",
       "      <td>680</td>\n",
       "      <td>1980</td>\n",
       "      <td>...</td>\n",
       "      <td>0.0</td>\n",
       "      <td>0.0</td>\n",
       "      <td>0.0</td>\n",
       "      <td>0.0</td>\n",
       "      <td>0.0</td>\n",
       "      <td>0.0</td>\n",
       "      <td>0.0</td>\n",
       "      <td>0.0</td>\n",
       "      <td>0.0</td>\n",
       "      <td>0.0</td>\n",
       "    </tr>\n",
       "    <tr>\n",
       "      <th>3</th>\n",
       "      <td>4207</td>\n",
       "      <td>4</td>\n",
       "      <td>2.5</td>\n",
       "      <td>2130</td>\n",
       "      <td>7000</td>\n",
       "      <td>2.0</td>\n",
       "      <td>950</td>\n",
       "      <td>520</td>\n",
       "      <td>470</td>\n",
       "      <td>1995</td>\n",
       "      <td>...</td>\n",
       "      <td>0.0</td>\n",
       "      <td>0.0</td>\n",
       "      <td>0.0</td>\n",
       "      <td>0.0</td>\n",
       "      <td>0.0</td>\n",
       "      <td>0.0</td>\n",
       "      <td>0.0</td>\n",
       "      <td>0.0</td>\n",
       "      <td>0.0</td>\n",
       "      <td>0.0</td>\n",
       "    </tr>\n",
       "    <tr>\n",
       "      <th>4</th>\n",
       "      <td>2833</td>\n",
       "      <td>5</td>\n",
       "      <td>3.0</td>\n",
       "      <td>3120</td>\n",
       "      <td>2963</td>\n",
       "      <td>2.0</td>\n",
       "      <td>1130</td>\n",
       "      <td>0</td>\n",
       "      <td>0</td>\n",
       "      <td>1930</td>\n",
       "      <td>...</td>\n",
       "      <td>0.0</td>\n",
       "      <td>0.0</td>\n",
       "      <td>0.0</td>\n",
       "      <td>1.0</td>\n",
       "      <td>0.0</td>\n",
       "      <td>0.0</td>\n",
       "      <td>0.0</td>\n",
       "      <td>0.0</td>\n",
       "      <td>0.0</td>\n",
       "      <td>0.0</td>\n",
       "    </tr>\n",
       "  </tbody>\n",
       "</table>\n",
       "<p>5 rows × 44 columns</p>\n",
       "</div>"
      ],
      "text/plain": [
       "   index  bedrooms  bathrooms  sqft_living  sqft_lot  floors  sqft_basement  \\\n",
       "0   1786         4        2.5         2370      4000     2.0              0   \n",
       "1   4113         4        3.0         2360      9000     1.0           1460   \n",
       "2   7488         5        3.5         3510     12729     2.0              0   \n",
       "3   4207         4        2.5         2130      7000     2.0            950   \n",
       "4   2833         5        3.0         3120      2963     2.0           1130   \n",
       "\n",
       "   sqft_garage  sqft_patio  yr_built  ...  x2_Northshore School District  \\\n",
       "0          400          70      2021  ...                            0.0   \n",
       "1          560         370      1964  ...                            0.0   \n",
       "2          480         680      1980  ...                            0.0   \n",
       "3          520         470      1995  ...                            0.0   \n",
       "4            0           0      1930  ...                            0.0   \n",
       "\n",
       "   x2_Renton School District  x2_Riverview School District  \\\n",
       "0                        0.0                           0.0   \n",
       "1                        0.0                           0.0   \n",
       "2                        0.0                           0.0   \n",
       "3                        0.0                           0.0   \n",
       "4                        0.0                           0.0   \n",
       "\n",
       "   x2_Seattle School District No. 1  x2_Shoreline School District  \\\n",
       "0                               0.0                           0.0   \n",
       "1                               0.0                           1.0   \n",
       "2                               0.0                           0.0   \n",
       "3                               0.0                           0.0   \n",
       "4                               1.0                           0.0   \n",
       "\n",
       "   x2_Skykomish School District  x2_Snoqualmie Valley School District  \\\n",
       "0                           0.0                                   0.0   \n",
       "1                           0.0                                   0.0   \n",
       "2                           0.0                                   0.0   \n",
       "3                           0.0                                   0.0   \n",
       "4                           0.0                                   0.0   \n",
       "\n",
       "   x2_Tahoma School District  x2_Tukwila School District  \\\n",
       "0                        0.0                         0.0   \n",
       "1                        0.0                         0.0   \n",
       "2                        0.0                         0.0   \n",
       "3                        0.0                         0.0   \n",
       "4                        0.0                         0.0   \n",
       "\n",
       "   x2_Vashon Island School District  \n",
       "0                               0.0  \n",
       "1                               0.0  \n",
       "2                               0.0  \n",
       "3                               0.0  \n",
       "4                               0.0  \n",
       "\n",
       "[5 rows x 44 columns]"
      ]
     },
     "execution_count": 55,
     "metadata": {},
     "output_type": "execute_result"
    }
   ],
   "source": [
    "X_process_train.head()"
   ]
  },
  {
   "cell_type": "code",
   "execution_count": 56,
   "metadata": {},
   "outputs": [
    {
     "data": {
      "text/plain": [
       "(6036, 44)"
      ]
     },
     "execution_count": 56,
     "metadata": {},
     "output_type": "execute_result"
    }
   ],
   "source": [
    "X_process_train.shape"
   ]
  },
  {
   "cell_type": "code",
   "execution_count": 57,
   "metadata": {},
   "outputs": [
    {
     "data": {
      "text/plain": [
       "index                                   0\n",
       "bedrooms                                0\n",
       "bathrooms                               0\n",
       "sqft_living                             0\n",
       "sqft_lot                                0\n",
       "floors                                  0\n",
       "sqft_basement                           0\n",
       "sqft_garage                             0\n",
       "sqft_patio                              0\n",
       "yr_built                                0\n",
       "ELA                                     0\n",
       "Math                                    0\n",
       "Zip Code                                0\n",
       "District Test Score                     0\n",
       "condition                               0\n",
       "grade                                   0\n",
       "x0_Electricity                          0\n",
       "x0_Electricity/Solar                    0\n",
       "x0_Gas                                  0\n",
       "x0_Gas/Solar                            0\n",
       "x0_Oil                                  0\n",
       "x0_Oil/Solar                            0\n",
       "x0_Other                                0\n",
       "x1_PRIVATE                              0\n",
       "x1_PUBLIC                               0\n",
       "x1_PUBLIC RESTRICTED                    0\n",
       "x2_Auburn School District               0\n",
       "x2_Bellevue School District             0\n",
       "x2_Enumclaw School District             0\n",
       "x2_Federal Way School District          0\n",
       "x2_Fife School District                 0\n",
       "x2_Highline School District             0\n",
       "x2_Issaquah School District             0\n",
       "x2_Mercer Island School District        0\n",
       "x2_Northshore School District           0\n",
       "x2_Renton School District               0\n",
       "x2_Riverview School District            0\n",
       "x2_Seattle School District No. 1        0\n",
       "x2_Shoreline School District            0\n",
       "x2_Skykomish School District            0\n",
       "x2_Snoqualmie Valley School District    0\n",
       "x2_Tahoma School District               0\n",
       "x2_Tukwila School District              0\n",
       "x2_Vashon Island School District        0\n",
       "dtype: int64"
      ]
     },
     "execution_count": 57,
     "metadata": {},
     "output_type": "execute_result"
    }
   ],
   "source": [
    "X_process_train.isnull().sum()"
   ]
  },
  {
   "cell_type": "markdown",
   "metadata": {},
   "source": [
    "*Test Data*"
   ]
  },
  {
   "cell_type": "code",
   "execution_count": 58,
   "metadata": {},
   "outputs": [],
   "source": [
    "X_process_test = pd.concat([X_test_numeric.reset_index(),X_test_cat_df],axis = 1)"
   ]
  },
  {
   "cell_type": "markdown",
   "metadata": {},
   "source": [
    "#### Scale the Data"
   ]
  },
  {
   "cell_type": "code",
   "execution_count": 59,
   "metadata": {},
   "outputs": [],
   "source": [
    "# Now we'll apply it to our data by using the .fit() (calculates stds and means) and .transform() methods.\n",
    "ss = StandardScaler()\n",
    "#Train Data\n",
    "ss.fit(X_process_train)\n",
    "X_standard_process_train = ss.transform(X_process_train)\n",
    "\n",
    "#Test Data\n",
    "X_standard_process_test = ss.transform(X_process_test)"
   ]
  },
  {
   "cell_type": "code",
   "execution_count": 60,
   "metadata": {},
   "outputs": [
    {
     "data": {
      "text/plain": [
       "index                                   0\n",
       "bedrooms                                0\n",
       "bathrooms                               0\n",
       "sqft_living                             0\n",
       "sqft_lot                                0\n",
       "floors                                  0\n",
       "sqft_basement                           0\n",
       "sqft_garage                             0\n",
       "sqft_patio                              0\n",
       "yr_built                                0\n",
       "ELA                                     0\n",
       "Math                                    0\n",
       "Zip Code                                0\n",
       "District Test Score                     0\n",
       "condition                               0\n",
       "grade                                   0\n",
       "x0_Electricity                          0\n",
       "x0_Electricity/Solar                    0\n",
       "x0_Gas                                  0\n",
       "x0_Gas/Solar                            0\n",
       "x0_Oil                                  0\n",
       "x0_Oil/Solar                            0\n",
       "x0_Other                                0\n",
       "x1_PRIVATE                              0\n",
       "x1_PUBLIC                               0\n",
       "x1_PUBLIC RESTRICTED                    0\n",
       "x2_Auburn School District               0\n",
       "x2_Bellevue School District             0\n",
       "x2_Enumclaw School District             0\n",
       "x2_Federal Way School District          0\n",
       "x2_Fife School District                 0\n",
       "x2_Highline School District             0\n",
       "x2_Issaquah School District             0\n",
       "x2_Mercer Island School District        0\n",
       "x2_Northshore School District           0\n",
       "x2_Renton School District               0\n",
       "x2_Riverview School District            0\n",
       "x2_Seattle School District No. 1        0\n",
       "x2_Shoreline School District            0\n",
       "x2_Skykomish School District            0\n",
       "x2_Snoqualmie Valley School District    0\n",
       "x2_Tahoma School District               0\n",
       "x2_Tukwila School District              0\n",
       "x2_Vashon Island School District        0\n",
       "dtype: int64"
      ]
     },
     "execution_count": 60,
     "metadata": {},
     "output_type": "execute_result"
    }
   ],
   "source": [
    "pd.DataFrame(X_standard_process_train, columns = X_process_train.columns).isna().sum()"
   ]
  },
  {
   "cell_type": "markdown",
   "metadata": {},
   "source": [
    "#### Creating, Fitting, and Running the Model"
   ]
  },
  {
   "cell_type": "code",
   "execution_count": 61,
   "metadata": {},
   "outputs": [],
   "source": [
    "# Instantiate model\n",
    "lr_simple_model = LinearRegression()\n",
    "\n",
    "# Fit model\n",
    "result = lr_simple_model.fit(X_standard_process_train, y_train)"
   ]
  },
  {
   "cell_type": "code",
   "execution_count": 62,
   "metadata": {},
   "outputs": [
    {
     "data": {
      "text/plain": [
       "array([-6.22523591e+03, -2.76455816e+03,  1.52828187e+04,  6.49596087e+04,\n",
       "        7.77153457e+03,  1.24729279e+04, -9.81306516e+03, -2.29335210e+03,\n",
       "        9.43606419e+03, -9.60546018e+03, -3.73006950e+18, -1.80171727e+16,\n",
       "       -1.54834085e+04,  3.31877757e+17,  3.28035170e+04,  7.08165410e+04,\n",
       "        8.09299681e+17,  1.12534691e+17,  9.65941832e+17,  9.02659342e+16,\n",
       "        6.14481416e+17,  3.01086073e+16,  5.21409957e+16,  2.07283352e+18,\n",
       "        2.07414323e+18,  8.38954404e+16, -9.90312824e+17,  3.46981532e+17,\n",
       "       -5.10625249e+17, -1.28632962e+18, -9.70252247e+17, -1.98980435e+18,\n",
       "        5.97185891e+17,  4.99483841e+17,  5.45782599e+17, -9.90428599e+17,\n",
       "        2.97777054e+17, -1.72490802e+16,  1.74184747e+17,  3.75336267e+17,\n",
       "        3.89180152e+17,  4.99363693e+17, -1.39720714e+18, -1.78632050e+16])"
      ]
     },
     "execution_count": 62,
     "metadata": {},
     "output_type": "execute_result"
    }
   ],
   "source": [
    "# Retrieve estimated slope coefficient\n",
    "result.coef_"
   ]
  },
  {
   "cell_type": "code",
   "execution_count": 63,
   "metadata": {},
   "outputs": [
    {
     "data": {
      "text/plain": [
       "902287.4297802623"
      ]
     },
     "execution_count": 63,
     "metadata": {},
     "output_type": "execute_result"
    }
   ],
   "source": [
    "# Retrieve estimated y-intercept coefficient\n",
    "result.intercept_"
   ]
  },
  {
   "cell_type": "code",
   "execution_count": 64,
   "metadata": {},
   "outputs": [
    {
     "data": {
      "text/plain": [
       "0.5285656912709116"
      ]
     },
     "execution_count": 64,
     "metadata": {},
     "output_type": "execute_result"
    }
   ],
   "source": [
    "#GIVES US OUR R**2\n",
    "lr_simple_model.score(X_standard_process_train, y_train)"
   ]
  },
  {
   "cell_type": "markdown",
   "metadata": {},
   "source": [
    "*Test Data*"
   ]
  },
  {
   "cell_type": "code",
   "execution_count": 65,
   "metadata": {},
   "outputs": [
    {
     "data": {
      "text/plain": [
       "0.5270087699051671"
      ]
     },
     "execution_count": 65,
     "metadata": {},
     "output_type": "execute_result"
    }
   ],
   "source": [
    "lr_simple_model.score(X_standard_process_test, y_test)"
   ]
  },
  {
   "cell_type": "markdown",
   "metadata": {},
   "source": [
    "#### Predictions\n",
    "*Using Test Data*"
   ]
  },
  {
   "cell_type": "code",
   "execution_count": 66,
   "metadata": {},
   "outputs": [
    {
     "data": {
      "text/plain": [
       "array([629676.05478026, 617615.42978026, 992620.05478026, ...,\n",
       "       670892.05478026, 517548.05478026, 847788.05478026])"
      ]
     },
     "execution_count": 66,
     "metadata": {},
     "output_type": "execute_result"
    }
   ],
   "source": [
    "y_hat = lr_simple_model.predict(X_standard_process_test)\n",
    "y_hat"
   ]
  },
  {
   "cell_type": "code",
   "execution_count": 67,
   "metadata": {},
   "outputs": [
    {
     "name": "stdout",
     "output_type": "stream",
     "text": [
      "Final Model Train: 0.5285656912709116\n",
      "Final Model Test: 0.5270087699051671\n"
     ]
    }
   ],
   "source": [
    "print(\"Final Model Train:\" , lr_simple_model.score(X_standard_process_train, y_train))\n",
    "print(\"Final Model Test:\" , lr_simple_model.score(X_standard_process_test, y_test))"
   ]
  },
  {
   "cell_type": "code",
   "execution_count": null,
   "metadata": {},
   "outputs": [],
   "source": []
  },
  {
   "cell_type": "code",
   "execution_count": null,
   "metadata": {},
   "outputs": [],
   "source": []
  },
  {
   "cell_type": "markdown",
   "metadata": {},
   "source": [
    "### 'Final' Model\n",
    "\n",
    "In the end, you'll arrive at a 'final' model - aka the one you'll use to make your recommendations/conclusions. This likely blends any group work. It might not be the one with the highest scores, but instead might be considered 'final' or 'best' for other reasons."
   ]
  },
  {
   "cell_type": "code",
   "execution_count": 19,
   "metadata": {},
   "outputs": [],
   "source": [
    "# code here to show your final model"
   ]
  },
  {
   "cell_type": "code",
   "execution_count": 20,
   "metadata": {},
   "outputs": [],
   "source": [
    "# Prepare data\n",
    "X = final_kc_df.drop('price', axis=1)\n",
    "y = final_kc_df['price']"
   ]
  },
  {
   "cell_type": "code",
   "execution_count": 21,
   "metadata": {},
   "outputs": [],
   "source": [
    "# Test/Train Split - Train 80% of Data, Test 20% of Data\n",
    "X_train, X_test, y_train, y_test = train_test_split(X, y, test_size = 0.2, random_state = 42)"
   ]
  },
  {
   "cell_type": "markdown",
   "metadata": {},
   "source": [
    "### Processing the Data"
   ]
  },
  {
   "cell_type": "markdown",
   "metadata": {},
   "source": [
    "#### Continuous X/ Predictive Variables"
   ]
  },
  {
   "cell_type": "code",
   "execution_count": 22,
   "metadata": {},
   "outputs": [],
   "source": [
    "#Separate Continuous X Variables from rest of X Variables"
   ]
  },
  {
   "cell_type": "markdown",
   "metadata": {},
   "source": [
    "*Train Data*"
   ]
  },
  {
   "cell_type": "code",
   "execution_count": 23,
   "metadata": {},
   "outputs": [],
   "source": [
    "#Define our columns with numeric data\n",
    "numeric_cols = ['bathrooms','sqft_living','sqft_patio']"
   ]
  },
  {
   "cell_type": "code",
   "execution_count": 24,
   "metadata": {},
   "outputs": [],
   "source": [
    "#Define our numeric training data\n",
    "X_train_numeric = X_train[numeric_cols]"
   ]
  },
  {
   "cell_type": "markdown",
   "metadata": {},
   "source": [
    "*Test Data*"
   ]
  },
  {
   "cell_type": "code",
   "execution_count": 25,
   "metadata": {},
   "outputs": [],
   "source": [
    "#Define our numeric testing data\n",
    "X_test_numeric = X_test[numeric_cols]"
   ]
  },
  {
   "cell_type": "markdown",
   "metadata": {},
   "source": [
    "#### Discrete X/ Predictive Variables"
   ]
  },
  {
   "cell_type": "markdown",
   "metadata": {},
   "source": [
    "#### Discrete Ordinal X/ Predictive Variables"
   ]
  },
  {
   "cell_type": "code",
   "execution_count": 26,
   "metadata": {},
   "outputs": [],
   "source": [
    "#Separate Discrete Ordinal X Variables from rest of X Variables"
   ]
  },
  {
   "cell_type": "markdown",
   "metadata": {},
   "source": [
    "*Train Data*"
   ]
  },
  {
   "cell_type": "code",
   "execution_count": 27,
   "metadata": {},
   "outputs": [],
   "source": [
    "#Define our columns with ordinal data and create train data subset\n",
    "ord_cat_selector = ['condition','grade']\n",
    "X_train_ord_cat_subset = X_train[ord_cat_selector]"
   ]
  },
  {
   "cell_type": "code",
   "execution_count": 28,
   "metadata": {},
   "outputs": [
    {
     "data": {
      "text/plain": [
       "array(['Average', 'Very Good', 'Good'], dtype=object)"
      ]
     },
     "execution_count": 28,
     "metadata": {},
     "output_type": "execute_result"
    }
   ],
   "source": [
    "#View unique values in our ordinal columns\n",
    "X_train_ord_cat_subset['condition'].unique()"
   ]
  },
  {
   "cell_type": "code",
   "execution_count": 29,
   "metadata": {},
   "outputs": [
    {
     "data": {
      "text/plain": [
       "array(['8 Good', '7 Average', '10 Very Good', '9 Better', '6 Low Average',\n",
       "       '5 Fair', '11 Excellent', '13 Mansion'], dtype=object)"
      ]
     },
     "execution_count": 29,
     "metadata": {},
     "output_type": "execute_result"
    }
   ],
   "source": [
    "X_train_ord_cat_subset['grade'].unique()"
   ]
  },
  {
   "cell_type": "code",
   "execution_count": 30,
   "metadata": {},
   "outputs": [],
   "source": [
    "# REPLACE WITH COLUMN'S UNIQUE VALUES IN ASCENDING ORDER --->\n",
    "condition_list = ['Poor', 'Fair', 'Average', 'Good', 'Very Good'] \n",
    "grade_list = ['3 Poor', '5 Fair', '6 Low Average', '7 Average','8 Good','9 Better','10 Very Good','11 Excellent',\\\n",
    "             '12 Luxury','13 Mansion']"
   ]
  },
  {
   "cell_type": "code",
   "execution_count": 31,
   "metadata": {},
   "outputs": [
    {
     "data": {
      "text/plain": [
       "OrdinalEncoder(categories=[['Poor', 'Fair', 'Average', 'Good', 'Very Good'],\n",
       "                           ['3 Poor', '5 Fair', '6 Low Average', '7 Average',\n",
       "                            '8 Good', '9 Better', '10 Very Good',\n",
       "                            '11 Excellent', '12 Luxury', '13 Mansion']])"
      ]
     },
     "execution_count": 31,
     "metadata": {},
     "output_type": "execute_result"
    }
   ],
   "source": [
    "#Fit ordinal train data\n",
    "o_enc = OrdinalEncoder(categories = [condition_list, grade_list])\n",
    "o_enc.fit(X_train_ord_cat_subset)"
   ]
  },
  {
   "cell_type": "code",
   "execution_count": 32,
   "metadata": {},
   "outputs": [
    {
     "data": {
      "text/plain": [
       "array([[2., 4.],\n",
       "       [4., 3.],\n",
       "       [3., 6.],\n",
       "       ...,\n",
       "       [2., 5.],\n",
       "       [2., 4.],\n",
       "       [2., 3.]])"
      ]
     },
     "execution_count": 32,
     "metadata": {},
     "output_type": "execute_result"
    }
   ],
   "source": [
    "#Transform ordinal train data\n",
    "o_enc.transform(X_train_ord_cat_subset)"
   ]
  },
  {
   "cell_type": "code",
   "execution_count": 33,
   "metadata": {},
   "outputs": [],
   "source": [
    "#Turn ordinal train data back into a dataframe\n",
    "X_train_ord = pd.DataFrame(o_enc.transform(X_train_ord_cat_subset),\n",
    "                        columns = X_train_ord_cat_subset.columns)"
   ]
  },
  {
   "cell_type": "code",
   "execution_count": 34,
   "metadata": {},
   "outputs": [
    {
     "data": {
      "text/html": [
       "<div>\n",
       "<style scoped>\n",
       "    .dataframe tbody tr th:only-of-type {\n",
       "        vertical-align: middle;\n",
       "    }\n",
       "\n",
       "    .dataframe tbody tr th {\n",
       "        vertical-align: top;\n",
       "    }\n",
       "\n",
       "    .dataframe thead th {\n",
       "        text-align: right;\n",
       "    }\n",
       "</style>\n",
       "<table border=\"1\" class=\"dataframe\">\n",
       "  <thead>\n",
       "    <tr style=\"text-align: right;\">\n",
       "      <th></th>\n",
       "      <th>condition</th>\n",
       "      <th>grade</th>\n",
       "    </tr>\n",
       "  </thead>\n",
       "  <tbody>\n",
       "    <tr>\n",
       "      <th>0</th>\n",
       "      <td>2.0</td>\n",
       "      <td>4.0</td>\n",
       "    </tr>\n",
       "    <tr>\n",
       "      <th>1</th>\n",
       "      <td>4.0</td>\n",
       "      <td>3.0</td>\n",
       "    </tr>\n",
       "    <tr>\n",
       "      <th>2</th>\n",
       "      <td>3.0</td>\n",
       "      <td>6.0</td>\n",
       "    </tr>\n",
       "    <tr>\n",
       "      <th>3</th>\n",
       "      <td>3.0</td>\n",
       "      <td>3.0</td>\n",
       "    </tr>\n",
       "    <tr>\n",
       "      <th>4</th>\n",
       "      <td>3.0</td>\n",
       "      <td>3.0</td>\n",
       "    </tr>\n",
       "  </tbody>\n",
       "</table>\n",
       "</div>"
      ],
      "text/plain": [
       "   condition  grade\n",
       "0        2.0    4.0\n",
       "1        4.0    3.0\n",
       "2        3.0    6.0\n",
       "3        3.0    3.0\n",
       "4        3.0    3.0"
      ]
     },
     "execution_count": 34,
     "metadata": {},
     "output_type": "execute_result"
    }
   ],
   "source": [
    "#Preview ordinal data to confirm numerical values have replaced unique values\n",
    "X_train_ord.head()"
   ]
  },
  {
   "cell_type": "markdown",
   "metadata": {},
   "source": [
    "*Test Data*"
   ]
  },
  {
   "cell_type": "code",
   "execution_count": 35,
   "metadata": {},
   "outputs": [],
   "source": [
    "#Define ordinal test subset\n",
    "X_test_ord_cat_subset = X_test[ord_cat_selector]"
   ]
  },
  {
   "cell_type": "code",
   "execution_count": 36,
   "metadata": {},
   "outputs": [
    {
     "data": {
      "text/plain": [
       "array([[3., 4.],\n",
       "       [3., 3.],\n",
       "       [2., 3.],\n",
       "       ...,\n",
       "       [3., 3.],\n",
       "       [2., 3.],\n",
       "       [2., 4.]])"
      ]
     },
     "execution_count": 36,
     "metadata": {},
     "output_type": "execute_result"
    }
   ],
   "source": [
    "#Transform ordinal test data\n",
    "o_enc.transform(X_test_ord_cat_subset)"
   ]
  },
  {
   "cell_type": "code",
   "execution_count": 37,
   "metadata": {},
   "outputs": [],
   "source": [
    "#Turn ordinal test data back into a dataframe\n",
    "X_test_ord = pd.DataFrame(o_enc.transform(X_test_ord_cat_subset),\n",
    "                        columns = X_test_ord_cat_subset.columns)"
   ]
  },
  {
   "cell_type": "markdown",
   "metadata": {},
   "source": [
    "#### Discrete Nominal  X/ Predictive Variables"
   ]
  },
  {
   "cell_type": "code",
   "execution_count": 38,
   "metadata": {},
   "outputs": [],
   "source": [
    "#Separate Discrete Nominal X Variables from rest of X Variables"
   ]
  },
  {
   "cell_type": "code",
   "execution_count": 39,
   "metadata": {},
   "outputs": [],
   "source": [
    "onehot_enc = OneHotEncoder(drop = 'first', sparse = False)"
   ]
  },
  {
   "cell_type": "markdown",
   "metadata": {},
   "source": [
    "*Train Data*"
   ]
  },
  {
   "cell_type": "code",
   "execution_count": 68,
   "metadata": {},
   "outputs": [],
   "source": [
    "#Define nominal columns\n",
    "# nominal_cols = ['DistrictName'] \n",
    "# R2 is 52\n",
    "nominal_cols = ['heat_source','sewer_system','yr_built','Zip Code']\n",
    "# R2 is 58.7"
   ]
  },
  {
   "cell_type": "code",
   "execution_count": 69,
   "metadata": {},
   "outputs": [],
   "source": [
    "#Fit and Transform nominal train data\n",
    "X_train_nom_trans = onehot_enc.fit_transform(X_train[nominal_cols])"
   ]
  },
  {
   "cell_type": "code",
   "execution_count": 70,
   "metadata": {},
   "outputs": [
    {
     "data": {
      "text/plain": [
       "(6036, 207)"
      ]
     },
     "execution_count": 70,
     "metadata": {},
     "output_type": "execute_result"
    }
   ],
   "source": [
    "#View nominal train data shape\n",
    "X_train_nom_trans.shape"
   ]
  },
  {
   "cell_type": "code",
   "execution_count": 71,
   "metadata": {},
   "outputs": [],
   "source": [
    "#Get columns names\n",
    "cols = onehot_enc.get_feature_names()"
   ]
  },
  {
   "cell_type": "code",
   "execution_count": 72,
   "metadata": {},
   "outputs": [
    {
     "data": {
      "text/html": [
       "<div>\n",
       "<style scoped>\n",
       "    .dataframe tbody tr th:only-of-type {\n",
       "        vertical-align: middle;\n",
       "    }\n",
       "\n",
       "    .dataframe tbody tr th {\n",
       "        vertical-align: top;\n",
       "    }\n",
       "\n",
       "    .dataframe thead th {\n",
       "        text-align: right;\n",
       "    }\n",
       "</style>\n",
       "<table border=\"1\" class=\"dataframe\">\n",
       "  <thead>\n",
       "    <tr style=\"text-align: right;\">\n",
       "      <th></th>\n",
       "      <th>x0_Electricity</th>\n",
       "      <th>x0_Electricity/Solar</th>\n",
       "      <th>x0_Gas</th>\n",
       "      <th>x0_Gas/Solar</th>\n",
       "      <th>x0_Oil</th>\n",
       "      <th>x0_Oil/Solar</th>\n",
       "      <th>x0_Other</th>\n",
       "      <th>x1_PRIVATE</th>\n",
       "      <th>x1_PUBLIC</th>\n",
       "      <th>x1_PUBLIC RESTRICTED</th>\n",
       "      <th>...</th>\n",
       "      <th>x3_98155</th>\n",
       "      <th>x3_98166</th>\n",
       "      <th>x3_98168</th>\n",
       "      <th>x3_98177</th>\n",
       "      <th>x3_98178</th>\n",
       "      <th>x3_98188</th>\n",
       "      <th>x3_98198</th>\n",
       "      <th>x3_98199</th>\n",
       "      <th>x3_98288</th>\n",
       "      <th>x3_98354</th>\n",
       "    </tr>\n",
       "  </thead>\n",
       "  <tbody>\n",
       "    <tr>\n",
       "      <th>0</th>\n",
       "      <td>0.0</td>\n",
       "      <td>0.0</td>\n",
       "      <td>1.0</td>\n",
       "      <td>0.0</td>\n",
       "      <td>0.0</td>\n",
       "      <td>0.0</td>\n",
       "      <td>0.0</td>\n",
       "      <td>0.0</td>\n",
       "      <td>1.0</td>\n",
       "      <td>0.0</td>\n",
       "      <td>...</td>\n",
       "      <td>0.0</td>\n",
       "      <td>0.0</td>\n",
       "      <td>0.0</td>\n",
       "      <td>0.0</td>\n",
       "      <td>0.0</td>\n",
       "      <td>0.0</td>\n",
       "      <td>0.0</td>\n",
       "      <td>0.0</td>\n",
       "      <td>0.0</td>\n",
       "      <td>0.0</td>\n",
       "    </tr>\n",
       "    <tr>\n",
       "      <th>1</th>\n",
       "      <td>0.0</td>\n",
       "      <td>0.0</td>\n",
       "      <td>1.0</td>\n",
       "      <td>0.0</td>\n",
       "      <td>0.0</td>\n",
       "      <td>0.0</td>\n",
       "      <td>0.0</td>\n",
       "      <td>0.0</td>\n",
       "      <td>1.0</td>\n",
       "      <td>0.0</td>\n",
       "      <td>...</td>\n",
       "      <td>1.0</td>\n",
       "      <td>0.0</td>\n",
       "      <td>0.0</td>\n",
       "      <td>0.0</td>\n",
       "      <td>0.0</td>\n",
       "      <td>0.0</td>\n",
       "      <td>0.0</td>\n",
       "      <td>0.0</td>\n",
       "      <td>0.0</td>\n",
       "      <td>0.0</td>\n",
       "    </tr>\n",
       "    <tr>\n",
       "      <th>2</th>\n",
       "      <td>1.0</td>\n",
       "      <td>0.0</td>\n",
       "      <td>0.0</td>\n",
       "      <td>0.0</td>\n",
       "      <td>0.0</td>\n",
       "      <td>0.0</td>\n",
       "      <td>0.0</td>\n",
       "      <td>0.0</td>\n",
       "      <td>1.0</td>\n",
       "      <td>0.0</td>\n",
       "      <td>...</td>\n",
       "      <td>0.0</td>\n",
       "      <td>0.0</td>\n",
       "      <td>0.0</td>\n",
       "      <td>0.0</td>\n",
       "      <td>0.0</td>\n",
       "      <td>0.0</td>\n",
       "      <td>0.0</td>\n",
       "      <td>0.0</td>\n",
       "      <td>0.0</td>\n",
       "      <td>0.0</td>\n",
       "    </tr>\n",
       "    <tr>\n",
       "      <th>3</th>\n",
       "      <td>1.0</td>\n",
       "      <td>0.0</td>\n",
       "      <td>0.0</td>\n",
       "      <td>0.0</td>\n",
       "      <td>0.0</td>\n",
       "      <td>0.0</td>\n",
       "      <td>0.0</td>\n",
       "      <td>0.0</td>\n",
       "      <td>1.0</td>\n",
       "      <td>0.0</td>\n",
       "      <td>...</td>\n",
       "      <td>0.0</td>\n",
       "      <td>0.0</td>\n",
       "      <td>0.0</td>\n",
       "      <td>0.0</td>\n",
       "      <td>0.0</td>\n",
       "      <td>0.0</td>\n",
       "      <td>0.0</td>\n",
       "      <td>0.0</td>\n",
       "      <td>0.0</td>\n",
       "      <td>0.0</td>\n",
       "    </tr>\n",
       "    <tr>\n",
       "      <th>4</th>\n",
       "      <td>0.0</td>\n",
       "      <td>0.0</td>\n",
       "      <td>0.0</td>\n",
       "      <td>0.0</td>\n",
       "      <td>1.0</td>\n",
       "      <td>0.0</td>\n",
       "      <td>0.0</td>\n",
       "      <td>0.0</td>\n",
       "      <td>1.0</td>\n",
       "      <td>0.0</td>\n",
       "      <td>...</td>\n",
       "      <td>0.0</td>\n",
       "      <td>0.0</td>\n",
       "      <td>0.0</td>\n",
       "      <td>0.0</td>\n",
       "      <td>0.0</td>\n",
       "      <td>0.0</td>\n",
       "      <td>0.0</td>\n",
       "      <td>0.0</td>\n",
       "      <td>0.0</td>\n",
       "      <td>0.0</td>\n",
       "    </tr>\n",
       "  </tbody>\n",
       "</table>\n",
       "<p>5 rows × 207 columns</p>\n",
       "</div>"
      ],
      "text/plain": [
       "   x0_Electricity  x0_Electricity/Solar  x0_Gas  x0_Gas/Solar  x0_Oil  \\\n",
       "0             0.0                   0.0     1.0           0.0     0.0   \n",
       "1             0.0                   0.0     1.0           0.0     0.0   \n",
       "2             1.0                   0.0     0.0           0.0     0.0   \n",
       "3             1.0                   0.0     0.0           0.0     0.0   \n",
       "4             0.0                   0.0     0.0           0.0     1.0   \n",
       "\n",
       "   x0_Oil/Solar  x0_Other  x1_PRIVATE  x1_PUBLIC  x1_PUBLIC RESTRICTED  ...  \\\n",
       "0           0.0       0.0         0.0        1.0                   0.0  ...   \n",
       "1           0.0       0.0         0.0        1.0                   0.0  ...   \n",
       "2           0.0       0.0         0.0        1.0                   0.0  ...   \n",
       "3           0.0       0.0         0.0        1.0                   0.0  ...   \n",
       "4           0.0       0.0         0.0        1.0                   0.0  ...   \n",
       "\n",
       "   x3_98155  x3_98166  x3_98168  x3_98177  x3_98178  x3_98188  x3_98198  \\\n",
       "0       0.0       0.0       0.0       0.0       0.0       0.0       0.0   \n",
       "1       1.0       0.0       0.0       0.0       0.0       0.0       0.0   \n",
       "2       0.0       0.0       0.0       0.0       0.0       0.0       0.0   \n",
       "3       0.0       0.0       0.0       0.0       0.0       0.0       0.0   \n",
       "4       0.0       0.0       0.0       0.0       0.0       0.0       0.0   \n",
       "\n",
       "   x3_98199  x3_98288  x3_98354  \n",
       "0       0.0       0.0       0.0  \n",
       "1       0.0       0.0       0.0  \n",
       "2       0.0       0.0       0.0  \n",
       "3       0.0       0.0       0.0  \n",
       "4       0.0       0.0       0.0  \n",
       "\n",
       "[5 rows x 207 columns]"
      ]
     },
     "execution_count": 72,
     "metadata": {},
     "output_type": "execute_result"
    }
   ],
   "source": [
    "#Turn nominal train data back into a dataframe\n",
    "X_train_nom = pd.DataFrame(X_train_nom_trans, columns = cols)\n",
    "#Preview nominal train dataframe\n",
    "X_train_nom.head()"
   ]
  },
  {
   "cell_type": "markdown",
   "metadata": {},
   "source": [
    "*Test Data*"
   ]
  },
  {
   "cell_type": "code",
   "execution_count": 73,
   "metadata": {},
   "outputs": [],
   "source": [
    "# Transform nominal test data\n",
    "X_test_nom_trans = onehot_enc.transform(X_test[nominal_cols])"
   ]
  },
  {
   "cell_type": "code",
   "execution_count": 46,
   "metadata": {},
   "outputs": [
    {
     "data": {
      "text/plain": [
       "(1509, 209)"
      ]
     },
     "execution_count": 46,
     "metadata": {},
     "output_type": "execute_result"
    }
   ],
   "source": [
    "#View nominal test data shape\n",
    "X_test_nom_trans.shape"
   ]
  },
  {
   "cell_type": "code",
   "execution_count": 74,
   "metadata": {},
   "outputs": [],
   "source": [
    "#Turn nominal test data back into a dataframe\n",
    "X_test_nom = pd.DataFrame(X_test_nom_trans, columns = cols)"
   ]
  },
  {
   "cell_type": "markdown",
   "metadata": {},
   "source": [
    "#### Combine Discrete/Categorical X/ Predictive Variables"
   ]
  },
  {
   "cell_type": "markdown",
   "metadata": {},
   "source": [
    "*Train Data*"
   ]
  },
  {
   "cell_type": "code",
   "execution_count": 75,
   "metadata": {},
   "outputs": [],
   "source": [
    "#Concatinating the ordinal and nominal training dataframes\n",
    "X_train_cat = pd.concat([X_train_ord, X_train_nom],axis = 1)"
   ]
  },
  {
   "cell_type": "markdown",
   "metadata": {},
   "source": [
    "*Test Data*"
   ]
  },
  {
   "cell_type": "code",
   "execution_count": 76,
   "metadata": {},
   "outputs": [],
   "source": [
    "#Concatinating the ordinal and nominal testing dataframes\n",
    "X_test_cat = pd.concat([X_test_ord, X_test_nom],axis = 1)"
   ]
  },
  {
   "cell_type": "markdown",
   "metadata": {},
   "source": [
    "#### Combine Continuous and Discrete X/ Predictive Variables"
   ]
  },
  {
   "cell_type": "markdown",
   "metadata": {},
   "source": [
    "*Train Data - Combine all processed X Variables*"
   ]
  },
  {
   "cell_type": "code",
   "execution_count": 77,
   "metadata": {},
   "outputs": [],
   "source": [
    "#Resetting index so the data lines up\n",
    "X_process_train = pd.concat([X_train_numeric.reset_index(),X_train_cat],axis = 1)\n",
    "#Dropping the old index column\n",
    "X_process_train = X_process_train.drop('index', axis = 1)"
   ]
  },
  {
   "cell_type": "code",
   "execution_count": 78,
   "metadata": {},
   "outputs": [
    {
     "data": {
      "text/plain": [
       "(6036, 222)"
      ]
     },
     "execution_count": 78,
     "metadata": {},
     "output_type": "execute_result"
    }
   ],
   "source": [
    "#Checking the new shape of our combined dataframe\n",
    "X_process_train.shape"
   ]
  },
  {
   "cell_type": "markdown",
   "metadata": {},
   "source": [
    "*Test Data - Combine all processed X Variables*"
   ]
  },
  {
   "cell_type": "code",
   "execution_count": 79,
   "metadata": {},
   "outputs": [],
   "source": [
    "#Resetting index so the data lines up\n",
    "X_process_test = pd.concat([X_test_numeric.reset_index(),X_test_cat],axis = 1)\n",
    "#Dropping the old index column\n",
    "X_process_test = X_process_test.drop('index', axis = 1)"
   ]
  },
  {
   "cell_type": "markdown",
   "metadata": {},
   "source": [
    "#### Scale the Data"
   ]
  },
  {
   "cell_type": "code",
   "execution_count": 80,
   "metadata": {},
   "outputs": [],
   "source": [
    "# Create a StandardScaler object to scale data\n",
    "ss = StandardScaler()"
   ]
  },
  {
   "cell_type": "markdown",
   "metadata": {},
   "source": [
    "*Train Data*"
   ]
  },
  {
   "cell_type": "code",
   "execution_count": 81,
   "metadata": {},
   "outputs": [],
   "source": [
    "#Fit and Transforming Train Data with our StandardScaler object\n",
    "ss.fit(X_process_train)\n",
    "X_standard_process_train = ss.transform(X_process_train)"
   ]
  },
  {
   "cell_type": "markdown",
   "metadata": {},
   "source": [
    "*Test Data*"
   ]
  },
  {
   "cell_type": "code",
   "execution_count": 82,
   "metadata": {},
   "outputs": [],
   "source": [
    "#Fit and Transforming Test Data with our StandardScaler object\n",
    "X_standard_process_test = ss.transform(X_process_test)"
   ]
  },
  {
   "cell_type": "markdown",
   "metadata": {},
   "source": [
    "### Creating, Fitting, and Running the Model"
   ]
  },
  {
   "cell_type": "code",
   "execution_count": 83,
   "metadata": {},
   "outputs": [],
   "source": [
    "# Instantiate model\n",
    "lr_simple_model = LinearRegression()\n",
    "\n",
    "# Fit model\n",
    "final_result = lr_simple_model.fit(X_standard_process_train, y_train)"
   ]
  },
  {
   "cell_type": "code",
   "execution_count": 84,
   "metadata": {},
   "outputs": [],
   "source": [
    "# code here to evaluate your final model"
   ]
  },
  {
   "cell_type": "code",
   "execution_count": 85,
   "metadata": {},
   "outputs": [
    {
     "data": {
      "text/plain": [
       "array([-1.40996751e+03,  1.05960097e+04,  7.62985727e+04,  1.95870682e+04,\n",
       "       -2.90183740e+03, -1.61563999e+04,  4.52855674e+03,  4.96746641e+03,\n",
       "       -3.75248352e+18, -1.33324864e+18, -1.21677227e+18, -2.13234160e+18,\n",
       "       -3.12555685e+17,  3.83828952e+04,  6.35434325e+04, -7.28302435e+17,\n",
       "       -1.01271867e+17, -8.69267349e+17, -8.12318368e+16, -5.52982192e+17,\n",
       "       -2.70952436e+16, -4.69225616e+16, -4.08799383e+18, -4.09057681e+18,\n",
       "       -1.65456627e+17, -6.04183638e+17, -3.08992603e+17, -2.64766988e+17,\n",
       "       -3.99951181e+17, -4.72712640e+17, -3.62252738e+17, -4.62309629e+17,\n",
       "       -4.33686822e+17, -6.05893763e+17, -5.98919845e+17, -6.23862101e+17,\n",
       "       -5.34137026e+17, -4.52104601e+17, -5.54981850e+17, -4.60774630e+17,\n",
       "       -5.08665530e+17, -5.65129547e+17, -3.13887866e+17, -6.43949167e+17,\n",
       "       -4.32289538e+17, -4.76826160e+17, -5.00757903e+17, -2.93735836e+17,\n",
       "       -4.57722539e+17, -5.07814150e+17, -6.18009272e+17, -6.59317904e+17,\n",
       "       -5.79347438e+17, -5.81238685e+17, -4.71992027e+17, -4.64827603e+17,\n",
       "       -3.63925318e+17, -2.06960493e+17, -1.76397264e+17, -2.00377776e+17,\n",
       "       -2.20331048e+17, -2.56303006e+17, -2.85637093e+17, -2.47597056e+17,\n",
       "       -3.04821424e+17, -4.41716300e+17, -3.96014155e+17, -4.83440471e+17,\n",
       "       -3.51642047e+17, -4.09521213e+17, -3.47858785e+17, -3.40884867e+17,\n",
       "       -4.77978771e+17, -4.00114927e+17, -4.05756404e+17, -4.54006455e+17,\n",
       "       -4.49655686e+17, -4.44968962e+17, -4.39954050e+17, -4.44771799e+17,\n",
       "       -4.93311182e+17, -4.41674032e+17, -4.34737119e+17, -4.05752217e+17,\n",
       "       -5.50038781e+17, -4.12275937e+17, -4.92475671e+17, -5.67495424e+17,\n",
       "       -5.33078206e+17, -4.10724313e+17, -4.17723009e+17, -4.66814432e+17,\n",
       "       -4.95713750e+17, -4.57797995e+17, -3.73831341e+17, -2.85539967e+17,\n",
       "       -2.28578622e+17, -2.57214773e+17, -2.65906733e+17, -2.32239751e+17,\n",
       "       -2.72220433e+17, -2.77842729e+17, -3.29462772e+17, -3.32786299e+17,\n",
       "       -2.32266367e+17, -1.88797950e+17, -1.56037468e+17, -8.73003025e+16,\n",
       "       -1.29253356e+17, -1.04142829e+17, -9.99458682e+16, -8.74485329e+16,\n",
       "       -9.91531021e+16, -9.61821385e+16, -9.40844651e+16, -7.80836042e+16,\n",
       "       -4.40761421e+16, -3.71389674e+16, -2.26403858e+16, -1.31840812e+16,\n",
       "        1.39150310e+15,  1.53369023e+16,  2.94369686e+16,  4.72913825e+16,\n",
       "        5.35528014e+16,  6.27815805e+16,  8.78416810e+16,  9.88625590e+16,\n",
       "        1.43182400e+17,  1.57408313e+17,  1.69221382e+17,  1.79743789e+17,\n",
       "        1.61204664e+17,  1.27407624e+17,  1.26999979e+17,  1.48899847e+17,\n",
       "        1.40095612e+17,  1.96481601e+17,  2.37368719e+17,  2.50468511e+17,\n",
       "        2.73555757e+17,  2.83007135e+17,  3.11323721e+17,  3.60329375e+17,\n",
       "        3.34909566e+17,  3.05283293e+17,  8.05395203e+17,  5.05417638e+17,\n",
       "       -8.70097699e+17, -5.49228997e+17, -6.98140247e+17,  7.30312338e+16,\n",
       "        4.69885309e+16,  3.48925100e+17,  8.79939976e+16,  2.13432655e+17,\n",
       "       -3.60043554e+17,  9.08466917e+16,  2.19340826e+16,  5.90121016e+16,\n",
       "       -2.51523663e+17, -1.11760448e+18,  3.31775428e+16,  1.34776000e+17,\n",
       "        2.11019159e+17,  2.58582191e+17, -5.97478229e+17, -6.20245112e+17,\n",
       "       -3.25866574e+17,  2.14607030e+17,  3.08718459e+17, -2.70665777e+17,\n",
       "        1.70667209e+17,  4.37116978e+17, -1.39806745e+17, -1.62365006e+17,\n",
       "       -2.82721677e+16,  3.52165987e+17,  1.36786246e+17, -2.77793892e+17,\n",
       "        5.74454648e+17, -1.77162472e+17,  4.80072459e+17,  4.02947233e+17,\n",
       "        2.45538671e+17,  9.96301264e+16,  3.27399915e+17,  4.05643875e+17,\n",
       "        3.98393131e+17,  2.12439513e+17,  1.70546287e+17,  6.32512283e+16,\n",
       "        2.85426203e+17,  2.04381901e+17, -3.14120539e+17,  2.83078389e+17,\n",
       "       -2.45848180e+17,  1.13251566e+17,  1.85661447e+17,  4.01366797e+17,\n",
       "        3.07067434e+17,  4.52241466e+17,  4.51081791e+17,  2.54582112e+17,\n",
       "        3.08251911e+17,  4.70475847e+17, -1.91074748e+17,  7.02279612e+17,\n",
       "        3.55041771e+17,  4.06773793e+17, -1.29693694e+17, -6.39245042e+16,\n",
       "        7.02306755e+17, -3.84093442e+16, -1.00749085e+17,  6.51416600e+17,\n",
       "       -7.64949648e+16, -1.93339892e+16,  1.27452501e+17,  5.11942368e+17,\n",
       "        1.11568117e+17,  3.36381407e+17])"
      ]
     },
     "execution_count": 85,
     "metadata": {},
     "output_type": "execute_result"
    }
   ],
   "source": [
    "# Retrieve estimated slope coefficient\n",
    "final_result.coef_"
   ]
  },
  {
   "cell_type": "code",
   "execution_count": 86,
   "metadata": {},
   "outputs": [
    {
     "data": {
      "text/plain": [
       "1109998.8783144616"
      ]
     },
     "execution_count": 86,
     "metadata": {},
     "output_type": "execute_result"
    }
   ],
   "source": [
    "# Retrieve estimated y-intercept coefficient\n",
    "final_result.intercept_"
   ]
  },
  {
   "cell_type": "code",
   "execution_count": 87,
   "metadata": {},
   "outputs": [
    {
     "name": "stdout",
     "output_type": "stream",
     "text": [
      "Final Model Train: 0.6150212622659608\n",
      "Final Model Test: 0.5870151708708777\n"
     ]
    }
   ],
   "source": [
    "#GIVES US OUR R**2\n",
    "print(\"Final Model Train:\" , lr_simple_model.score(X_standard_process_train, y_train))\n",
    "print(\"Final Model Test:\" , lr_simple_model.score(X_standard_process_test, y_test))"
   ]
  },
  {
   "cell_type": "code",
   "execution_count": 88,
   "metadata": {},
   "outputs": [
    {
     "data": {
      "text/plain": [
       "132830.36375402927"
      ]
     },
     "execution_count": 88,
     "metadata": {},
     "output_type": "execute_result"
    }
   ],
   "source": [
    "#MEAN ABSOLUTE ERROR\n",
    "metrics.mean_absolute_error(y_test, lr_simple_model.predict(X_standard_process_test))"
   ]
  },
  {
   "cell_type": "markdown",
   "metadata": {},
   "source": [
    "## Conclusions\n",
    "\n",
    "Provide your conclusions about the work you've done, including any limitations or next steps.\n",
    "\n",
    "Questions to consider:\n",
    "\n",
    "- What would you recommend the business do as a result of this work?\n",
    "- What are some reasons why your analysis might not fully solve the business problem?\n",
    "- What else could you do in the future to improve this project (future work)?\n"
   ]
  },
  {
   "cell_type": "code",
   "execution_count": null,
   "metadata": {},
   "outputs": [],
   "source": []
  },
  {
   "cell_type": "code",
   "execution_count": null,
   "metadata": {},
   "outputs": [],
   "source": []
  },
  {
   "cell_type": "code",
   "execution_count": null,
   "metadata": {},
   "outputs": [],
   "source": []
  }
 ],
 "metadata": {
  "kernelspec": {
   "display_name": "Python 3",
   "language": "python",
   "name": "python3"
  },
  "language_info": {
   "codemirror_mode": {
    "name": "ipython",
    "version": 3
   },
   "file_extension": ".py",
   "mimetype": "text/x-python",
   "name": "python",
   "nbconvert_exporter": "python",
   "pygments_lexer": "ipython3",
   "version": "3.8.5"
  }
 },
 "nbformat": 4,
 "nbformat_minor": 4
}
