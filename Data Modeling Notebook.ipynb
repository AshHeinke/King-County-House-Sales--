{
 "cells": [
  {
   "cell_type": "markdown",
   "metadata": {},
   "source": [
    "## Modeling\n",
    "\n",
    "Describe and justify the process for analyzing or modeling the data.\n",
    "\n",
    "Questions to consider:\n",
    "\n",
    "- How did you analyze the data to arrive at an initial approach?\n",
    "- How did you iterate on your initial approach to make it better?\n",
    "- Why are these choices appropriate given the data and the business problem?"
   ]
  },
  {
   "cell_type": "markdown",
   "metadata": {},
   "source": [
    "## Evaluation\n",
    "\n",
    "The evaluation of each model should accompany the creation of each model, and you should be sure to evaluate your models consistently.\n",
    "\n",
    "Evaluate how well your work solves the stated business problem. \n",
    "\n",
    "Questions to consider:\n",
    "\n",
    "- How do you interpret the results?\n",
    "- How well does your model fit your data? How much better is this than your baseline model? Is it over or under fit?\n",
    "- How well does your model/data fit any modeling assumptions?\n",
    "\n",
    "For the final model, you might also consider:\n",
    "\n",
    "- How confident are you that your results would generalize beyond the data you have?\n",
    "- How confident are you that this model would benefit the business if put into use?"
   ]
  },
  {
   "cell_type": "markdown",
   "metadata": {},
   "source": [
    "### Baseline Understanding\n",
    "\n",
    "- What does a baseline, model-less prediction look like?"
   ]
  },
  {
   "cell_type": "code",
   "execution_count": 1,
   "metadata": {},
   "outputs": [],
   "source": [
    "# code here to arrive at a baseline prediction"
   ]
  },
  {
   "cell_type": "markdown",
   "metadata": {},
   "source": [
    "### Import our Final CSV from our Data Preparation and Cleaning Notebook"
   ]
  },
  {
   "cell_type": "code",
   "execution_count": 2,
   "metadata": {},
   "outputs": [],
   "source": [
    "#Import libraries\n",
    "# Standard Packages\n",
    "import pandas as pd\n",
    "import numpy as np\n",
    "\n",
    "# Viz Packages\n",
    "import seaborn as sns\n",
    "import matplotlib.pyplot as plt\n",
    "\n",
    "# Scipy Stats\n",
    "import scipy.stats as stats \n",
    "\n",
    "# Statsmodel Api\n",
    "import statsmodels.api as sm\n",
    "from statsmodels.formula.api import ols\n",
    "\n",
    "# SKLearn Modules\n",
    "from sklearn.linear_model import LinearRegression\n",
    "from sklearn.feature_selection import RFE\n",
    "from sklearn.preprocessing import StandardScaler,  OrdinalEncoder, OneHotEncoder\n",
    "from sklearn.model_selection import train_test_split\n",
    "import sklearn.metrics as metrics\n",
    "\n",
    "# Suppress future and deprecation warnings\n",
    "import warnings\n",
    "warnings.filterwarnings(\"ignore\", category= FutureWarning)\n",
    "warnings.filterwarnings(\"ignore\", category=DeprecationWarning) "
   ]
  },
  {
   "cell_type": "code",
   "execution_count": 3,
   "metadata": {},
   "outputs": [],
   "source": [
    "final_kc_df = pd.read_csv('/Users/Aidan/Documents/Flatiron/Phase_2/King-County-House-Sales-/final_kc.csv')"
   ]
  },
  {
   "cell_type": "code",
   "execution_count": 4,
   "metadata": {},
   "outputs": [
    {
     "data": {
      "text/html": [
       "<div>\n",
       "<style scoped>\n",
       "    .dataframe tbody tr th:only-of-type {\n",
       "        vertical-align: middle;\n",
       "    }\n",
       "\n",
       "    .dataframe tbody tr th {\n",
       "        vertical-align: top;\n",
       "    }\n",
       "\n",
       "    .dataframe thead th {\n",
       "        text-align: right;\n",
       "    }\n",
       "</style>\n",
       "<table border=\"1\" class=\"dataframe\">\n",
       "  <thead>\n",
       "    <tr style=\"text-align: right;\">\n",
       "      <th></th>\n",
       "      <th>Unnamed: 0</th>\n",
       "      <th>index</th>\n",
       "      <th>id</th>\n",
       "      <th>date</th>\n",
       "      <th>price</th>\n",
       "      <th>bedrooms</th>\n",
       "      <th>bathrooms</th>\n",
       "      <th>sqft_living</th>\n",
       "      <th>sqft_lot</th>\n",
       "      <th>floors</th>\n",
       "      <th>...</th>\n",
       "      <th>address</th>\n",
       "      <th>lat</th>\n",
       "      <th>long</th>\n",
       "      <th>Zip Code</th>\n",
       "      <th>DistrictName</th>\n",
       "      <th>ELA</th>\n",
       "      <th>Math</th>\n",
       "      <th>Science</th>\n",
       "      <th>District Test Score</th>\n",
       "      <th>zipcodes</th>\n",
       "    </tr>\n",
       "  </thead>\n",
       "  <tbody>\n",
       "    <tr>\n",
       "      <th>0</th>\n",
       "      <td>0</td>\n",
       "      <td>0</td>\n",
       "      <td>7399300360</td>\n",
       "      <td>5/24/2022</td>\n",
       "      <td>675000.0</td>\n",
       "      <td>4</td>\n",
       "      <td>1.0</td>\n",
       "      <td>1180</td>\n",
       "      <td>7140</td>\n",
       "      <td>1.0</td>\n",
       "      <td>...</td>\n",
       "      <td>2102 Southeast 21st Court, Renton, Washington ...</td>\n",
       "      <td>47.461975</td>\n",
       "      <td>-122.19052</td>\n",
       "      <td>98055</td>\n",
       "      <td>Renton School District</td>\n",
       "      <td>42.9</td>\n",
       "      <td>32.5</td>\n",
       "      <td>33.3</td>\n",
       "      <td>36.23</td>\n",
       "      <td>['98006', '98031', '98032', '98055', '98056', ...</td>\n",
       "    </tr>\n",
       "    <tr>\n",
       "      <th>1</th>\n",
       "      <td>1</td>\n",
       "      <td>4</td>\n",
       "      <td>2873000690</td>\n",
       "      <td>6/11/2021</td>\n",
       "      <td>680000.0</td>\n",
       "      <td>4</td>\n",
       "      <td>3.0</td>\n",
       "      <td>2130</td>\n",
       "      <td>7649</td>\n",
       "      <td>1.0</td>\n",
       "      <td>...</td>\n",
       "      <td>20432 130th Place Southeast, Kent, Washington ...</td>\n",
       "      <td>47.418155</td>\n",
       "      <td>-122.16696</td>\n",
       "      <td>98031</td>\n",
       "      <td>Renton School District</td>\n",
       "      <td>42.9</td>\n",
       "      <td>32.5</td>\n",
       "      <td>33.3</td>\n",
       "      <td>36.23</td>\n",
       "      <td>['98006', '98031', '98032', '98055', '98056', ...</td>\n",
       "    </tr>\n",
       "    <tr>\n",
       "      <th>2</th>\n",
       "      <td>2</td>\n",
       "      <td>10</td>\n",
       "      <td>5469700570</td>\n",
       "      <td>6/23/2021</td>\n",
       "      <td>810000.0</td>\n",
       "      <td>5</td>\n",
       "      <td>3.0</td>\n",
       "      <td>3030</td>\n",
       "      <td>24759</td>\n",
       "      <td>1.0</td>\n",
       "      <td>...</td>\n",
       "      <td>12605 Southeast 235th Street, Kent, Washington...</td>\n",
       "      <td>47.390790</td>\n",
       "      <td>-122.17303</td>\n",
       "      <td>98031</td>\n",
       "      <td>Renton School District</td>\n",
       "      <td>42.9</td>\n",
       "      <td>32.5</td>\n",
       "      <td>33.3</td>\n",
       "      <td>36.23</td>\n",
       "      <td>['98006', '98031', '98032', '98055', '98056', ...</td>\n",
       "    </tr>\n",
       "    <tr>\n",
       "      <th>3</th>\n",
       "      <td>3</td>\n",
       "      <td>28</td>\n",
       "      <td>7399301200</td>\n",
       "      <td>3/29/2022</td>\n",
       "      <td>728000.0</td>\n",
       "      <td>4</td>\n",
       "      <td>2.0</td>\n",
       "      <td>2170</td>\n",
       "      <td>7520</td>\n",
       "      <td>1.0</td>\n",
       "      <td>...</td>\n",
       "      <td>1814 Aberdeen Avenue Southeast, Renton, Washin...</td>\n",
       "      <td>47.463930</td>\n",
       "      <td>-122.18974</td>\n",
       "      <td>98055</td>\n",
       "      <td>Renton School District</td>\n",
       "      <td>42.9</td>\n",
       "      <td>32.5</td>\n",
       "      <td>33.3</td>\n",
       "      <td>36.23</td>\n",
       "      <td>['98006', '98031', '98032', '98055', '98056', ...</td>\n",
       "    </tr>\n",
       "    <tr>\n",
       "      <th>4</th>\n",
       "      <td>4</td>\n",
       "      <td>50</td>\n",
       "      <td>9899200050</td>\n",
       "      <td>3/24/2022</td>\n",
       "      <td>565000.0</td>\n",
       "      <td>4</td>\n",
       "      <td>2.0</td>\n",
       "      <td>1400</td>\n",
       "      <td>10364</td>\n",
       "      <td>1.5</td>\n",
       "      <td>...</td>\n",
       "      <td>3426 Shattuck Avenue South, Renton, Washington...</td>\n",
       "      <td>47.448450</td>\n",
       "      <td>-122.21243</td>\n",
       "      <td>98055</td>\n",
       "      <td>Renton School District</td>\n",
       "      <td>42.9</td>\n",
       "      <td>32.5</td>\n",
       "      <td>33.3</td>\n",
       "      <td>36.23</td>\n",
       "      <td>['98006', '98031', '98032', '98055', '98056', ...</td>\n",
       "    </tr>\n",
       "  </tbody>\n",
       "</table>\n",
       "<p>5 rows × 33 columns</p>\n",
       "</div>"
      ],
      "text/plain": [
       "   Unnamed: 0  index          id       date     price  bedrooms  bathrooms  \\\n",
       "0           0      0  7399300360  5/24/2022  675000.0         4        1.0   \n",
       "1           1      4  2873000690  6/11/2021  680000.0         4        3.0   \n",
       "2           2     10  5469700570  6/23/2021  810000.0         5        3.0   \n",
       "3           3     28  7399301200  3/29/2022  728000.0         4        2.0   \n",
       "4           4     50  9899200050  3/24/2022  565000.0         4        2.0   \n",
       "\n",
       "   sqft_living  sqft_lot  floors  ...  \\\n",
       "0         1180      7140     1.0  ...   \n",
       "1         2130      7649     1.0  ...   \n",
       "2         3030     24759     1.0  ...   \n",
       "3         2170      7520     1.0  ...   \n",
       "4         1400     10364     1.5  ...   \n",
       "\n",
       "                                             address        lat       long  \\\n",
       "0  2102 Southeast 21st Court, Renton, Washington ...  47.461975 -122.19052   \n",
       "1  20432 130th Place Southeast, Kent, Washington ...  47.418155 -122.16696   \n",
       "2  12605 Southeast 235th Street, Kent, Washington...  47.390790 -122.17303   \n",
       "3  1814 Aberdeen Avenue Southeast, Renton, Washin...  47.463930 -122.18974   \n",
       "4  3426 Shattuck Avenue South, Renton, Washington...  47.448450 -122.21243   \n",
       "\n",
       "  Zip Code            DistrictName   ELA  Math  Science  District Test Score  \\\n",
       "0    98055  Renton School District  42.9  32.5     33.3                36.23   \n",
       "1    98031  Renton School District  42.9  32.5     33.3                36.23   \n",
       "2    98031  Renton School District  42.9  32.5     33.3                36.23   \n",
       "3    98055  Renton School District  42.9  32.5     33.3                36.23   \n",
       "4    98055  Renton School District  42.9  32.5     33.3                36.23   \n",
       "\n",
       "                                            zipcodes  \n",
       "0  ['98006', '98031', '98032', '98055', '98056', ...  \n",
       "1  ['98006', '98031', '98032', '98055', '98056', ...  \n",
       "2  ['98006', '98031', '98032', '98055', '98056', ...  \n",
       "3  ['98006', '98031', '98032', '98055', '98056', ...  \n",
       "4  ['98006', '98031', '98032', '98055', '98056', ...  \n",
       "\n",
       "[5 rows x 33 columns]"
      ]
     },
     "execution_count": 4,
     "metadata": {},
     "output_type": "execute_result"
    }
   ],
   "source": [
    "#Reminder of what it looks like.\n",
    "final_kc_df.head()"
   ]
  },
  {
   "cell_type": "code",
   "execution_count": 5,
   "metadata": {},
   "outputs": [],
   "source": [
    "#Remove uninformative columns \n",
    "final_kc_df= final_kc_df.drop(labels=['index','id', 'date','Unnamed: 0','address','lat','long', 'yr_renovated',\\\n",
    "                                     'zipcodes'], axis=1)"
   ]
  },
  {
   "cell_type": "code",
   "execution_count": 6,
   "metadata": {},
   "outputs": [
    {
     "data": {
      "text/plain": [
       "(7545, 24)"
      ]
     },
     "execution_count": 6,
     "metadata": {},
     "output_type": "execute_result"
    }
   ],
   "source": [
    "#Let's look at our shape after removing those columns.\n",
    "final_kc_df.shape"
   ]
  },
  {
   "cell_type": "code",
   "execution_count": 7,
   "metadata": {},
   "outputs": [
    {
     "name": "stdout",
     "output_type": "stream",
     "text": [
      "<class 'pandas.core.frame.DataFrame'>\n",
      "RangeIndex: 7545 entries, 0 to 7544\n",
      "Data columns (total 24 columns):\n",
      " #   Column               Non-Null Count  Dtype  \n",
      "---  ------               --------------  -----  \n",
      " 0   price                7545 non-null   float64\n",
      " 1   bedrooms             7545 non-null   int64  \n",
      " 2   bathrooms            7545 non-null   float64\n",
      " 3   sqft_living          7545 non-null   int64  \n",
      " 4   sqft_lot             7545 non-null   int64  \n",
      " 5   floors               7545 non-null   float64\n",
      " 6   waterfront           7545 non-null   object \n",
      " 7   greenbelt            7545 non-null   object \n",
      " 8   view                 7545 non-null   object \n",
      " 9   condition            7545 non-null   object \n",
      " 10  grade                7545 non-null   object \n",
      " 11  heat_source          7545 non-null   object \n",
      " 12  sewer_system         7545 non-null   object \n",
      " 13  sqft_above           7545 non-null   int64  \n",
      " 14  sqft_basement        7545 non-null   int64  \n",
      " 15  sqft_garage          7545 non-null   int64  \n",
      " 16  sqft_patio           7545 non-null   int64  \n",
      " 17  yr_built             7545 non-null   int64  \n",
      " 18  Zip Code             7545 non-null   int64  \n",
      " 19  DistrictName         7545 non-null   object \n",
      " 20  ELA                  7545 non-null   float64\n",
      " 21  Math                 7545 non-null   float64\n",
      " 22  Science              7357 non-null   float64\n",
      " 23  District Test Score  7545 non-null   float64\n",
      "dtypes: float64(7), int64(9), object(8)\n",
      "memory usage: 1.4+ MB\n"
     ]
    }
   ],
   "source": [
    "final_kc_df.info()"
   ]
  },
  {
   "cell_type": "markdown",
   "metadata": {},
   "source": [
    "### First  Model\n",
    "\n",
    "Before going too far down the data preparation rabbit hole, be sure to check your work against a first 'substandard' model! What is the easiest way for you to find out how hard your problem is?"
   ]
  },
  {
   "cell_type": "code",
   "execution_count": 8,
   "metadata": {},
   "outputs": [],
   "source": [
    "# code here for your first 'substandard' model"
   ]
  },
  {
   "cell_type": "code",
   "execution_count": 9,
   "metadata": {},
   "outputs": [],
   "source": [
    "# Prepare data\n",
    "\n",
    "#Using only numeric data for our first model and not using Science due to its Null values\n",
    "X = final_kc_df.drop(['price','waterfront','greenbelt','view','condition', 'grade', 'heat_source',\\\n",
    "                      'sewer_system', 'DistrictName', 'Science'], axis=1)\n",
    "y = final_kc_df['price']"
   ]
  },
  {
   "cell_type": "code",
   "execution_count": 10,
   "metadata": {},
   "outputs": [],
   "source": [
    "# Test/Train Split: Train is 80% of Data, Test is 20% of Data\n",
    "X_train, X_test, y_train, y_test = train_test_split(X, y, test_size = 0.2, random_state = 42)"
   ]
  },
  {
   "cell_type": "code",
   "execution_count": 11,
   "metadata": {},
   "outputs": [],
   "source": [
    "# Instantiate model\n",
    "lr_simple_model = LinearRegression()\n",
    "\n",
    "# Fit model\n",
    "first_result = lr_simple_model.fit(X_train, y_train)"
   ]
  },
  {
   "cell_type": "code",
   "execution_count": 12,
   "metadata": {},
   "outputs": [],
   "source": [
    "# code here to evaluate your first 'substandard' model"
   ]
  },
  {
   "cell_type": "code",
   "execution_count": 13,
   "metadata": {},
   "outputs": [
    {
     "data": {
      "text/plain": [
       "array([-2.20082591e+04,  3.81784694e+04,  1.21088887e+02,  2.88741002e-01,\n",
       "        2.82172963e+04,  2.58275410e+01,  7.82431431e+00,  1.05334932e+01,\n",
       "        8.14861195e+01, -9.14935234e+02,  1.05862858e+03,  4.05475033e+04,\n",
       "        2.81938674e+04, -6.18437290e+04])"
      ]
     },
     "execution_count": 13,
     "metadata": {},
     "output_type": "execute_result"
    }
   ],
   "source": [
    "# Retrieve estimated slope coefficient\n",
    "first_result.coef_"
   ]
  },
  {
   "cell_type": "code",
   "execution_count": 14,
   "metadata": {},
   "outputs": [
    {
     "data": {
      "text/plain": [
       "-102035003.15897562"
      ]
     },
     "execution_count": 14,
     "metadata": {},
     "output_type": "execute_result"
    }
   ],
   "source": [
    "# Retrieve estimated y-intercept coefficient\n",
    "first_result.intercept_"
   ]
  },
  {
   "cell_type": "code",
   "execution_count": 15,
   "metadata": {},
   "outputs": [
    {
     "name": "stdout",
     "output_type": "stream",
     "text": [
      "First Model Train: 0.41098826984635306\n",
      "First Model Test: 0.41715467409033447\n"
     ]
    }
   ],
   "source": [
    "#GIVES US OUR R**2\n",
    "print(\"First Model Train:\" , lr_simple_model.score(X_train, y_train))\n",
    "print(\"First Model Test:\" , lr_simple_model.score(X_test, y_test))"
   ]
  },
  {
   "cell_type": "code",
   "execution_count": 16,
   "metadata": {},
   "outputs": [
    {
     "data": {
      "text/plain": [
       "168903.66087232338"
      ]
     },
     "execution_count": 16,
     "metadata": {},
     "output_type": "execute_result"
    }
   ],
   "source": [
    "#MEAN ABSOLUTE ERROR\n",
    "metrics.mean_absolute_error(y_test, lr_simple_model.predict(X_test))"
   ]
  },
  {
   "cell_type": "markdown",
   "metadata": {},
   "source": [
    "### Modeling Iterations"
   ]
  },
  {
   "cell_type": "markdown",
   "metadata": {},
   "source": [
    "Before we create another model we should look for Multicollinearity and ensure that our predictive variables are indeed independent."
   ]
  },
  {
   "cell_type": "code",
   "execution_count": null,
   "metadata": {},
   "outputs": [],
   "source": []
  },
  {
   "cell_type": "code",
   "execution_count": null,
   "metadata": {},
   "outputs": [],
   "source": []
  },
  {
   "cell_type": "code",
   "execution_count": null,
   "metadata": {},
   "outputs": [],
   "source": []
  },
  {
   "cell_type": "code",
   "execution_count": null,
   "metadata": {},
   "outputs": [],
   "source": []
  },
  {
   "cell_type": "markdown",
   "metadata": {},
   "source": [
    "#### Second Model"
   ]
  },
  {
   "cell_type": "code",
   "execution_count": 17,
   "metadata": {},
   "outputs": [],
   "source": [
    "# code here to iteratively improve your models"
   ]
  },
  {
   "cell_type": "code",
   "execution_count": null,
   "metadata": {},
   "outputs": [],
   "source": []
  },
  {
   "cell_type": "code",
   "execution_count": 18,
   "metadata": {},
   "outputs": [],
   "source": [
    "# code here to evaluate your iterations"
   ]
  },
  {
   "cell_type": "code",
   "execution_count": null,
   "metadata": {},
   "outputs": [],
   "source": []
  },
  {
   "cell_type": "markdown",
   "metadata": {},
   "source": [
    "### 'Final' Model\n",
    "\n",
    "In the end, you'll arrive at a 'final' model - aka the one you'll use to make your recommendations/conclusions. This likely blends any group work. It might not be the one with the highest scores, but instead might be considered 'final' or 'best' for other reasons."
   ]
  },
  {
   "cell_type": "code",
   "execution_count": 19,
   "metadata": {},
   "outputs": [],
   "source": [
    "# code here to show your final model"
   ]
  },
  {
   "cell_type": "code",
   "execution_count": 20,
   "metadata": {},
   "outputs": [],
   "source": [
    "# Prepare data\n",
    "X = final_kc_df.drop('price', axis=1)\n",
    "y = final_kc_df['price']"
   ]
  },
  {
   "cell_type": "code",
   "execution_count": 21,
   "metadata": {},
   "outputs": [],
   "source": [
    "# Test/Train Split - Train 80% of Data, Test 20% of Data\n",
    "X_train, X_test, y_train, y_test = train_test_split(X, y, test_size = 0.2, random_state = 42)"
   ]
  },
  {
   "cell_type": "markdown",
   "metadata": {},
   "source": [
    "### Processing the Data"
   ]
  },
  {
   "cell_type": "markdown",
   "metadata": {},
   "source": [
    "#### Continuous X/ Predictive Variables"
   ]
  },
  {
   "cell_type": "code",
   "execution_count": 22,
   "metadata": {},
   "outputs": [],
   "source": [
    "#Separate Continuous X Variables from rest of X Variables"
   ]
  },
  {
   "cell_type": "markdown",
   "metadata": {},
   "source": [
    "*Train Data*"
   ]
  },
  {
   "cell_type": "code",
   "execution_count": 23,
   "metadata": {},
   "outputs": [],
   "source": [
    "#Define our columns with numeric data\n",
    "numeric_cols = ['bathrooms','sqft_living','sqft_patio']"
   ]
  },
  {
   "cell_type": "code",
   "execution_count": 24,
   "metadata": {},
   "outputs": [],
   "source": [
    "#Define our numeric training data\n",
    "X_train_numeric = X_train[numeric_cols]"
   ]
  },
  {
   "cell_type": "markdown",
   "metadata": {},
   "source": [
    "*Test Data*"
   ]
  },
  {
   "cell_type": "code",
   "execution_count": 25,
   "metadata": {},
   "outputs": [],
   "source": [
    "#Define our numeric testing data\n",
    "X_test_numeric = X_test[numeric_cols]"
   ]
  },
  {
   "cell_type": "markdown",
   "metadata": {},
   "source": [
    "#### Discrete X/ Predictive Variables"
   ]
  },
  {
   "cell_type": "markdown",
   "metadata": {},
   "source": [
    "#### Discrete Ordinal X/ Predictive Variables"
   ]
  },
  {
   "cell_type": "code",
   "execution_count": 26,
   "metadata": {},
   "outputs": [],
   "source": [
    "#Separate Discrete Ordinal X Variables from rest of X Variables"
   ]
  },
  {
   "cell_type": "markdown",
   "metadata": {},
   "source": [
    "*Train Data*"
   ]
  },
  {
   "cell_type": "code",
   "execution_count": 27,
   "metadata": {},
   "outputs": [],
   "source": [
    "#Define our columns with ordinal data and create train data subset\n",
    "ord_cat_selector = ['condition','grade']\n",
    "X_train_ord_cat_subset = X_train[ord_cat_selector]"
   ]
  },
  {
   "cell_type": "code",
   "execution_count": 28,
   "metadata": {},
   "outputs": [
    {
     "data": {
      "text/plain": [
       "array(['Average', 'Very Good', 'Good'], dtype=object)"
      ]
     },
     "execution_count": 28,
     "metadata": {},
     "output_type": "execute_result"
    }
   ],
   "source": [
    "#View unique values in our ordinal columns\n",
    "X_train_ord_cat_subset['condition'].unique()"
   ]
  },
  {
   "cell_type": "code",
   "execution_count": 29,
   "metadata": {},
   "outputs": [
    {
     "data": {
      "text/plain": [
       "array(['8 Good', '7 Average', '10 Very Good', '9 Better', '6 Low Average',\n",
       "       '5 Fair', '11 Excellent', '13 Mansion'], dtype=object)"
      ]
     },
     "execution_count": 29,
     "metadata": {},
     "output_type": "execute_result"
    }
   ],
   "source": [
    "X_train_ord_cat_subset['grade'].unique()"
   ]
  },
  {
   "cell_type": "code",
   "execution_count": 30,
   "metadata": {},
   "outputs": [],
   "source": [
    "# REPLACE WITH COLUMN'S UNIQUE VALUES IN ASCENDING ORDER --->\n",
    "condition_list = ['Poor', 'Fair', 'Average', 'Good', 'Very Good'] \n",
    "grade_list = ['3 Poor', '5 Fair', '6 Low Average', '7 Average','8 Good','9 Better','10 Very Good','11 Excellent',\\\n",
    "             '12 Luxury','13 Mansion']"
   ]
  },
  {
   "cell_type": "code",
   "execution_count": 31,
   "metadata": {},
   "outputs": [
    {
     "data": {
      "text/plain": [
       "OrdinalEncoder(categories=[['Poor', 'Fair', 'Average', 'Good', 'Very Good'],\n",
       "                           ['3 Poor', '5 Fair', '6 Low Average', '7 Average',\n",
       "                            '8 Good', '9 Better', '10 Very Good',\n",
       "                            '11 Excellent', '12 Luxury', '13 Mansion']])"
      ]
     },
     "execution_count": 31,
     "metadata": {},
     "output_type": "execute_result"
    }
   ],
   "source": [
    "#Fit ordinal train data\n",
    "o_enc = OrdinalEncoder(categories = [condition_list, grade_list])\n",
    "o_enc.fit(X_train_ord_cat_subset)"
   ]
  },
  {
   "cell_type": "code",
   "execution_count": 32,
   "metadata": {},
   "outputs": [
    {
     "data": {
      "text/plain": [
       "array([[2., 4.],\n",
       "       [4., 3.],\n",
       "       [3., 6.],\n",
       "       ...,\n",
       "       [2., 5.],\n",
       "       [2., 4.],\n",
       "       [2., 3.]])"
      ]
     },
     "execution_count": 32,
     "metadata": {},
     "output_type": "execute_result"
    }
   ],
   "source": [
    "#Transform ordinal train data\n",
    "o_enc.transform(X_train_ord_cat_subset)"
   ]
  },
  {
   "cell_type": "code",
   "execution_count": 33,
   "metadata": {},
   "outputs": [],
   "source": [
    "#Turn ordinal train data back into a dataframe\n",
    "X_train_ord = pd.DataFrame(o_enc.transform(X_train_ord_cat_subset),\n",
    "                        columns = X_train_ord_cat_subset.columns)"
   ]
  },
  {
   "cell_type": "code",
   "execution_count": 34,
   "metadata": {},
   "outputs": [
    {
     "data": {
      "text/html": [
       "<div>\n",
       "<style scoped>\n",
       "    .dataframe tbody tr th:only-of-type {\n",
       "        vertical-align: middle;\n",
       "    }\n",
       "\n",
       "    .dataframe tbody tr th {\n",
       "        vertical-align: top;\n",
       "    }\n",
       "\n",
       "    .dataframe thead th {\n",
       "        text-align: right;\n",
       "    }\n",
       "</style>\n",
       "<table border=\"1\" class=\"dataframe\">\n",
       "  <thead>\n",
       "    <tr style=\"text-align: right;\">\n",
       "      <th></th>\n",
       "      <th>condition</th>\n",
       "      <th>grade</th>\n",
       "    </tr>\n",
       "  </thead>\n",
       "  <tbody>\n",
       "    <tr>\n",
       "      <th>0</th>\n",
       "      <td>2.0</td>\n",
       "      <td>4.0</td>\n",
       "    </tr>\n",
       "    <tr>\n",
       "      <th>1</th>\n",
       "      <td>4.0</td>\n",
       "      <td>3.0</td>\n",
       "    </tr>\n",
       "    <tr>\n",
       "      <th>2</th>\n",
       "      <td>3.0</td>\n",
       "      <td>6.0</td>\n",
       "    </tr>\n",
       "    <tr>\n",
       "      <th>3</th>\n",
       "      <td>3.0</td>\n",
       "      <td>3.0</td>\n",
       "    </tr>\n",
       "    <tr>\n",
       "      <th>4</th>\n",
       "      <td>3.0</td>\n",
       "      <td>3.0</td>\n",
       "    </tr>\n",
       "  </tbody>\n",
       "</table>\n",
       "</div>"
      ],
      "text/plain": [
       "   condition  grade\n",
       "0        2.0    4.0\n",
       "1        4.0    3.0\n",
       "2        3.0    6.0\n",
       "3        3.0    3.0\n",
       "4        3.0    3.0"
      ]
     },
     "execution_count": 34,
     "metadata": {},
     "output_type": "execute_result"
    }
   ],
   "source": [
    "#Preview ordinal data to confirm numerical values have replaced unique values\n",
    "X_train_ord.head()"
   ]
  },
  {
   "cell_type": "markdown",
   "metadata": {},
   "source": [
    "*Test Data*"
   ]
  },
  {
   "cell_type": "code",
   "execution_count": 35,
   "metadata": {},
   "outputs": [],
   "source": [
    "#Define ordinal test subset\n",
    "X_test_ord_cat_subset = X_test[ord_cat_selector]"
   ]
  },
  {
   "cell_type": "code",
   "execution_count": 36,
   "metadata": {},
   "outputs": [
    {
     "data": {
      "text/plain": [
       "array([[3., 4.],\n",
       "       [3., 3.],\n",
       "       [2., 3.],\n",
       "       ...,\n",
       "       [3., 3.],\n",
       "       [2., 3.],\n",
       "       [2., 4.]])"
      ]
     },
     "execution_count": 36,
     "metadata": {},
     "output_type": "execute_result"
    }
   ],
   "source": [
    "#Transform ordinal test data\n",
    "o_enc.transform(X_test_ord_cat_subset)"
   ]
  },
  {
   "cell_type": "code",
   "execution_count": 37,
   "metadata": {},
   "outputs": [],
   "source": [
    "#Turn ordinal test data back into a dataframe\n",
    "X_test_ord = pd.DataFrame(o_enc.transform(X_test_ord_cat_subset),\n",
    "                        columns = X_test_ord_cat_subset.columns)"
   ]
  },
  {
   "cell_type": "markdown",
   "metadata": {},
   "source": [
    "#### Discrete Nominal  X/ Predictive Variables"
   ]
  },
  {
   "cell_type": "code",
   "execution_count": 38,
   "metadata": {},
   "outputs": [],
   "source": [
    "#Separate Discrete Nominal X Variables from rest of X Variables"
   ]
  },
  {
   "cell_type": "code",
   "execution_count": 39,
   "metadata": {},
   "outputs": [],
   "source": [
    "onehot_enc = OneHotEncoder(drop = 'first', sparse = False)"
   ]
  },
  {
   "cell_type": "markdown",
   "metadata": {},
   "source": [
    "*Train Data*"
   ]
  },
  {
   "cell_type": "code",
   "execution_count": 40,
   "metadata": {},
   "outputs": [],
   "source": [
    "#Define nominal columns\n",
    "# nominal_cols = ['DistrictName'] \n",
    "# R2 is 52\n",
    "nominal_cols = ['waterfront','greenbelt','view','heat_source','sewer_system','yr_built','Zip Code']\n",
    "# R2 is 58.9"
   ]
  },
  {
   "cell_type": "code",
   "execution_count": 41,
   "metadata": {},
   "outputs": [],
   "source": [
    "#Fit and Transform nominal train data\n",
    "X_train_nom_trans = onehot_enc.fit_transform(X_train[nominal_cols])"
   ]
  },
  {
   "cell_type": "code",
   "execution_count": 42,
   "metadata": {},
   "outputs": [
    {
     "data": {
      "text/plain": [
       "(6036, 209)"
      ]
     },
     "execution_count": 42,
     "metadata": {},
     "output_type": "execute_result"
    }
   ],
   "source": [
    "#View nominal train data shape\n",
    "X_train_nom_trans.shape"
   ]
  },
  {
   "cell_type": "code",
   "execution_count": 43,
   "metadata": {},
   "outputs": [],
   "source": [
    "#Get columns names\n",
    "cols = onehot_enc.get_feature_names()"
   ]
  },
  {
   "cell_type": "code",
   "execution_count": 44,
   "metadata": {},
   "outputs": [
    {
     "data": {
      "text/html": [
       "<div>\n",
       "<style scoped>\n",
       "    .dataframe tbody tr th:only-of-type {\n",
       "        vertical-align: middle;\n",
       "    }\n",
       "\n",
       "    .dataframe tbody tr th {\n",
       "        vertical-align: top;\n",
       "    }\n",
       "\n",
       "    .dataframe thead th {\n",
       "        text-align: right;\n",
       "    }\n",
       "</style>\n",
       "<table border=\"1\" class=\"dataframe\">\n",
       "  <thead>\n",
       "    <tr style=\"text-align: right;\">\n",
       "      <th></th>\n",
       "      <th>x0_YES</th>\n",
       "      <th>x1_YES</th>\n",
       "      <th>x2_EXCELLENT</th>\n",
       "      <th>x2_FAIR</th>\n",
       "      <th>x2_GOOD</th>\n",
       "      <th>x2_NONE</th>\n",
       "      <th>x3_Electricity/Solar</th>\n",
       "      <th>x3_Gas</th>\n",
       "      <th>x3_Gas/Solar</th>\n",
       "      <th>x3_Oil</th>\n",
       "      <th>...</th>\n",
       "      <th>x6_98155</th>\n",
       "      <th>x6_98166</th>\n",
       "      <th>x6_98168</th>\n",
       "      <th>x6_98177</th>\n",
       "      <th>x6_98178</th>\n",
       "      <th>x6_98188</th>\n",
       "      <th>x6_98198</th>\n",
       "      <th>x6_98199</th>\n",
       "      <th>x6_98288</th>\n",
       "      <th>x6_98354</th>\n",
       "    </tr>\n",
       "  </thead>\n",
       "  <tbody>\n",
       "    <tr>\n",
       "      <th>0</th>\n",
       "      <td>0.0</td>\n",
       "      <td>1.0</td>\n",
       "      <td>0.0</td>\n",
       "      <td>0.0</td>\n",
       "      <td>0.0</td>\n",
       "      <td>1.0</td>\n",
       "      <td>0.0</td>\n",
       "      <td>1.0</td>\n",
       "      <td>0.0</td>\n",
       "      <td>0.0</td>\n",
       "      <td>...</td>\n",
       "      <td>0.0</td>\n",
       "      <td>0.0</td>\n",
       "      <td>0.0</td>\n",
       "      <td>0.0</td>\n",
       "      <td>0.0</td>\n",
       "      <td>0.0</td>\n",
       "      <td>0.0</td>\n",
       "      <td>0.0</td>\n",
       "      <td>0.0</td>\n",
       "      <td>0.0</td>\n",
       "    </tr>\n",
       "    <tr>\n",
       "      <th>1</th>\n",
       "      <td>0.0</td>\n",
       "      <td>0.0</td>\n",
       "      <td>0.0</td>\n",
       "      <td>0.0</td>\n",
       "      <td>0.0</td>\n",
       "      <td>1.0</td>\n",
       "      <td>0.0</td>\n",
       "      <td>1.0</td>\n",
       "      <td>0.0</td>\n",
       "      <td>0.0</td>\n",
       "      <td>...</td>\n",
       "      <td>1.0</td>\n",
       "      <td>0.0</td>\n",
       "      <td>0.0</td>\n",
       "      <td>0.0</td>\n",
       "      <td>0.0</td>\n",
       "      <td>0.0</td>\n",
       "      <td>0.0</td>\n",
       "      <td>0.0</td>\n",
       "      <td>0.0</td>\n",
       "      <td>0.0</td>\n",
       "    </tr>\n",
       "    <tr>\n",
       "      <th>2</th>\n",
       "      <td>0.0</td>\n",
       "      <td>0.0</td>\n",
       "      <td>0.0</td>\n",
       "      <td>0.0</td>\n",
       "      <td>0.0</td>\n",
       "      <td>0.0</td>\n",
       "      <td>0.0</td>\n",
       "      <td>0.0</td>\n",
       "      <td>0.0</td>\n",
       "      <td>0.0</td>\n",
       "      <td>...</td>\n",
       "      <td>0.0</td>\n",
       "      <td>0.0</td>\n",
       "      <td>0.0</td>\n",
       "      <td>0.0</td>\n",
       "      <td>0.0</td>\n",
       "      <td>0.0</td>\n",
       "      <td>0.0</td>\n",
       "      <td>0.0</td>\n",
       "      <td>0.0</td>\n",
       "      <td>0.0</td>\n",
       "    </tr>\n",
       "    <tr>\n",
       "      <th>3</th>\n",
       "      <td>0.0</td>\n",
       "      <td>0.0</td>\n",
       "      <td>0.0</td>\n",
       "      <td>0.0</td>\n",
       "      <td>0.0</td>\n",
       "      <td>1.0</td>\n",
       "      <td>0.0</td>\n",
       "      <td>0.0</td>\n",
       "      <td>0.0</td>\n",
       "      <td>0.0</td>\n",
       "      <td>...</td>\n",
       "      <td>0.0</td>\n",
       "      <td>0.0</td>\n",
       "      <td>0.0</td>\n",
       "      <td>0.0</td>\n",
       "      <td>0.0</td>\n",
       "      <td>0.0</td>\n",
       "      <td>0.0</td>\n",
       "      <td>0.0</td>\n",
       "      <td>0.0</td>\n",
       "      <td>0.0</td>\n",
       "    </tr>\n",
       "    <tr>\n",
       "      <th>4</th>\n",
       "      <td>0.0</td>\n",
       "      <td>0.0</td>\n",
       "      <td>0.0</td>\n",
       "      <td>0.0</td>\n",
       "      <td>0.0</td>\n",
       "      <td>1.0</td>\n",
       "      <td>0.0</td>\n",
       "      <td>0.0</td>\n",
       "      <td>0.0</td>\n",
       "      <td>1.0</td>\n",
       "      <td>...</td>\n",
       "      <td>0.0</td>\n",
       "      <td>0.0</td>\n",
       "      <td>0.0</td>\n",
       "      <td>0.0</td>\n",
       "      <td>0.0</td>\n",
       "      <td>0.0</td>\n",
       "      <td>0.0</td>\n",
       "      <td>0.0</td>\n",
       "      <td>0.0</td>\n",
       "      <td>0.0</td>\n",
       "    </tr>\n",
       "  </tbody>\n",
       "</table>\n",
       "<p>5 rows × 209 columns</p>\n",
       "</div>"
      ],
      "text/plain": [
       "   x0_YES  x1_YES  x2_EXCELLENT  x2_FAIR  x2_GOOD  x2_NONE  \\\n",
       "0     0.0     1.0           0.0      0.0      0.0      1.0   \n",
       "1     0.0     0.0           0.0      0.0      0.0      1.0   \n",
       "2     0.0     0.0           0.0      0.0      0.0      0.0   \n",
       "3     0.0     0.0           0.0      0.0      0.0      1.0   \n",
       "4     0.0     0.0           0.0      0.0      0.0      1.0   \n",
       "\n",
       "   x3_Electricity/Solar  x3_Gas  x3_Gas/Solar  x3_Oil  ...  x6_98155  \\\n",
       "0                   0.0     1.0           0.0     0.0  ...       0.0   \n",
       "1                   0.0     1.0           0.0     0.0  ...       1.0   \n",
       "2                   0.0     0.0           0.0     0.0  ...       0.0   \n",
       "3                   0.0     0.0           0.0     0.0  ...       0.0   \n",
       "4                   0.0     0.0           0.0     1.0  ...       0.0   \n",
       "\n",
       "   x6_98166  x6_98168  x6_98177  x6_98178  x6_98188  x6_98198  x6_98199  \\\n",
       "0       0.0       0.0       0.0       0.0       0.0       0.0       0.0   \n",
       "1       0.0       0.0       0.0       0.0       0.0       0.0       0.0   \n",
       "2       0.0       0.0       0.0       0.0       0.0       0.0       0.0   \n",
       "3       0.0       0.0       0.0       0.0       0.0       0.0       0.0   \n",
       "4       0.0       0.0       0.0       0.0       0.0       0.0       0.0   \n",
       "\n",
       "   x6_98288  x6_98354  \n",
       "0       0.0       0.0  \n",
       "1       0.0       0.0  \n",
       "2       0.0       0.0  \n",
       "3       0.0       0.0  \n",
       "4       0.0       0.0  \n",
       "\n",
       "[5 rows x 209 columns]"
      ]
     },
     "execution_count": 44,
     "metadata": {},
     "output_type": "execute_result"
    }
   ],
   "source": [
    "#Turn nominal train data back into a dataframe\n",
    "X_train_nom = pd.DataFrame(X_train_nom_trans, columns = cols)\n",
    "#Preview nominal train dataframe\n",
    "X_train_nom.head()"
   ]
  },
  {
   "cell_type": "markdown",
   "metadata": {},
   "source": [
    "*Test Data*"
   ]
  },
  {
   "cell_type": "code",
   "execution_count": 45,
   "metadata": {},
   "outputs": [],
   "source": [
    "# Transform nominal test data\n",
    "X_test_nom_trans = onehot_enc.transform(X_test[nominal_cols])"
   ]
  },
  {
   "cell_type": "code",
   "execution_count": 46,
   "metadata": {},
   "outputs": [
    {
     "data": {
      "text/plain": [
       "(1509, 209)"
      ]
     },
     "execution_count": 46,
     "metadata": {},
     "output_type": "execute_result"
    }
   ],
   "source": [
    "#View nominal test data shape\n",
    "X_test_nom_trans.shape"
   ]
  },
  {
   "cell_type": "code",
   "execution_count": 47,
   "metadata": {},
   "outputs": [],
   "source": [
    "#Turn nominal test data back into a dataframe\n",
    "X_test_nom = pd.DataFrame(X_test_nom_trans, columns = cols)"
   ]
  },
  {
   "cell_type": "markdown",
   "metadata": {},
   "source": [
    "#### Combine Discrete/Categorical X/ Predictive Variables"
   ]
  },
  {
   "cell_type": "markdown",
   "metadata": {},
   "source": [
    "*Train Data*"
   ]
  },
  {
   "cell_type": "code",
   "execution_count": 48,
   "metadata": {},
   "outputs": [],
   "source": [
    "#Concatinating the ordinal and nominal training dataframes\n",
    "X_train_cat = pd.concat([X_train_ord, X_train_nom],axis = 1)"
   ]
  },
  {
   "cell_type": "markdown",
   "metadata": {},
   "source": [
    "*Test Data*"
   ]
  },
  {
   "cell_type": "code",
   "execution_count": 49,
   "metadata": {},
   "outputs": [],
   "source": [
    "#Concatinating the ordinal and nominal testing dataframes\n",
    "X_test_cat = pd.concat([X_test_ord, X_test_nom],axis = 1)"
   ]
  },
  {
   "cell_type": "markdown",
   "metadata": {},
   "source": [
    "#### Combine Continuous and Discrete X/ Predictive Variables"
   ]
  },
  {
   "cell_type": "markdown",
   "metadata": {},
   "source": [
    "*Train Data - Combine all processed X Variables*"
   ]
  },
  {
   "cell_type": "code",
   "execution_count": 50,
   "metadata": {},
   "outputs": [],
   "source": [
    "#Resetting index so the data lines up\n",
    "X_process_train = pd.concat([X_train_numeric.reset_index(),X_train_cat],axis = 1)\n",
    "#Dropping the old index column\n",
    "X_process_train = X_process_train.drop('index', axis = 1)"
   ]
  },
  {
   "cell_type": "code",
   "execution_count": 51,
   "metadata": {},
   "outputs": [
    {
     "data": {
      "text/plain": [
       "(6036, 214)"
      ]
     },
     "execution_count": 51,
     "metadata": {},
     "output_type": "execute_result"
    }
   ],
   "source": [
    "#Checking the new shape of our combined dataframe\n",
    "X_process_train.shape"
   ]
  },
  {
   "cell_type": "markdown",
   "metadata": {},
   "source": [
    "*Test Data - Combine all processed X Variables*"
   ]
  },
  {
   "cell_type": "code",
   "execution_count": 52,
   "metadata": {},
   "outputs": [],
   "source": [
    "#Resetting index so the data lines up\n",
    "X_process_test = pd.concat([X_test_numeric.reset_index(),X_test_cat],axis = 1)\n",
    "#Dropping the old index column\n",
    "X_process_test = X_process_test.drop('index', axis = 1)"
   ]
  },
  {
   "cell_type": "markdown",
   "metadata": {},
   "source": [
    "#### Scale the Data"
   ]
  },
  {
   "cell_type": "code",
   "execution_count": 53,
   "metadata": {},
   "outputs": [],
   "source": [
    "# Create a StandardScaler object to scale data\n",
    "ss = StandardScaler()"
   ]
  },
  {
   "cell_type": "markdown",
   "metadata": {},
   "source": [
    "*Train Data*"
   ]
  },
  {
   "cell_type": "code",
   "execution_count": 54,
   "metadata": {},
   "outputs": [],
   "source": [
    "#Fit and Transforming Train Data with our StandardScaler object\n",
    "ss.fit(X_process_train)\n",
    "X_standard_process_train = ss.transform(X_process_train)"
   ]
  },
  {
   "cell_type": "markdown",
   "metadata": {},
   "source": [
    "*Test Data*"
   ]
  },
  {
   "cell_type": "code",
   "execution_count": 55,
   "metadata": {},
   "outputs": [],
   "source": [
    "#Fit and Transforming Test Data with our StandardScaler object\n",
    "X_standard_process_test = ss.transform(X_process_test)"
   ]
  },
  {
   "cell_type": "markdown",
   "metadata": {},
   "source": [
    "### Creating, Fitting, and Running the Model"
   ]
  },
  {
   "cell_type": "code",
   "execution_count": 56,
   "metadata": {},
   "outputs": [],
   "source": [
    "# Instantiate model\n",
    "lr_simple_model = LinearRegression()\n",
    "\n",
    "# Fit model\n",
    "final_result = lr_simple_model.fit(X_standard_process_train, y_train)"
   ]
  },
  {
   "cell_type": "code",
   "execution_count": null,
   "metadata": {},
   "outputs": [],
   "source": [
    "# code here to evaluate your final model"
   ]
  },
  {
   "cell_type": "code",
   "execution_count": 57,
   "metadata": {},
   "outputs": [
    {
     "data": {
      "text/plain": [
       "array([ 7.39012933e+03,  6.44555729e+04,  8.54966982e+03,  3.47766649e+04,\n",
       "        6.13349001e+04, -1.54734397e+02,  7.03400392e+03,  6.47846279e+03,\n",
       "        7.87056705e+03,  4.52953736e+03, -1.47390041e+04, -1.21345394e+04,\n",
       "        3.31287351e+03,  2.19271848e+02,  2.31791239e+02,  4.17166020e+03,\n",
       "        3.70280131e+03, -3.58739027e+03,  5.38795959e+03,  3.61891100e+03,\n",
       "        1.14870068e+03, -3.53593592e+02,  3.06712627e+03, -1.24171965e+03,\n",
       "       -2.23455927e+03,  2.09184359e+03,  1.16116404e+03,  5.64593337e+03,\n",
       "        4.11500889e+03,  2.65512160e+03, -1.43369245e+02,  3.04004019e+03,\n",
       "        5.67643801e+03,  2.60550248e+03,  5.77378010e+03,  5.60319083e+03,\n",
       "        1.92358449e+03,  6.61480058e+03,  4.94702389e+02,  4.04175249e+03,\n",
       "        3.54351190e+03,  6.51895048e+03,  1.69932355e+03,  8.37278177e+03,\n",
       "       -1.77609224e+03,  4.26210802e+03,  3.59602976e+02,  4.45810715e+03,\n",
       "        3.81234915e+02,  4.71715850e+03, -4.40138608e+03,  1.78383014e+03,\n",
       "       -9.66299015e+02,  2.40089719e+03,  2.97338558e+03,  1.70120617e+03,\n",
       "       -1.12179860e+03,  7.36485850e+03,  5.18399610e+03,  6.22361152e+03,\n",
       "        4.51784217e+03,  3.63672386e+03,  3.48559540e+03,  2.80344944e+03,\n",
       "        6.21736917e+02,  4.21378029e+03,  5.03826788e+03,  3.52718911e+03,\n",
       "        3.27021647e+03,  8.11378930e+03,  2.04100155e+03,  4.90032153e+02,\n",
       "       -8.33317114e+02,  1.67191924e+03,  4.20941103e+03,  2.30548708e+03,\n",
       "        4.05202220e+03, -1.39505134e+03,  2.79010922e+03, -7.05247992e+02,\n",
       "        8.15286116e+02,  3.76092985e+03,  3.44614483e+02,  8.46396276e+02,\n",
       "        3.38941300e+03,  1.72569879e+03,  2.67023315e+03, -2.18459230e+03,\n",
       "       -2.85868670e+03, -1.42163945e+03, -3.67286605e+02,  2.78176799e+02,\n",
       "        4.76325583e+03,  7.57629416e+03,  1.87112977e+03, -3.45507647e+03,\n",
       "       -2.02918716e+03, -2.29175800e+03,  1.94565436e+03,  2.92468012e+03,\n",
       "       -2.67943357e+01,  3.48867833e+03,  2.10351547e+03,  2.01831914e+03,\n",
       "        3.32451920e+03,  5.94682602e+03,  2.69636208e+03,  7.94238581e+03,\n",
       "        7.39459578e+03,  7.69042122e+03,  6.52151875e+03,  6.81571029e+03,\n",
       "        7.13199868e+03,  5.46127520e+03,  8.56708529e+03,  1.36452535e+04,\n",
       "        1.04246224e+04,  4.48488039e+03,  9.40814702e+02,  6.00579937e+03,\n",
       "        6.64497269e+03,  4.10230006e+03,  8.25314573e+03,  7.06751306e+03,\n",
       "        8.77250662e+03,  2.67878385e+03, -8.08107463e+01,  3.64594391e+03,\n",
       "        7.95264559e+03,  3.95345053e+03,  6.06845628e+03,  1.14132728e+04,\n",
       "        1.16775621e+04,  1.51653113e+04,  1.15463936e+04,  1.11041484e+04,\n",
       "        1.74878291e+04,  1.23264919e+04,  1.33295295e+04,  1.20514693e+04,\n",
       "        9.29792995e+03, -5.59586209e+03, -6.80620275e+03, -5.33168011e+03,\n",
       "        1.36902018e+04,  5.26927481e+04,  3.93724536e+04,  6.23806314e+04,\n",
       "        1.40745988e+04,  4.22573294e+04,  1.69504308e+04,  2.76005863e+04,\n",
       "       -4.57696385e+03, -7.44204653e+03,  1.01985093e+04,  4.64768365e+04,\n",
       "        5.73987300e+04,  4.72699622e+04, -2.17141348e+03,  2.84950383e+03,\n",
       "       -3.66743378e+03,  4.94738034e+04,  8.39904055e+04,  3.13540922e+04,\n",
       "        2.25535557e+04,  6.84031270e+03,  4.90970679e+04, -2.96115877e+03,\n",
       "        7.31129617e+03,  6.40712778e+04,  3.84112494e+04,  1.08368045e+04,\n",
       "        3.89337113e+04,  4.89557491e+03,  2.39477615e+04,  4.91671422e+04,\n",
       "        4.16606943e+04,  1.83192854e+04,  4.72237623e+04,  4.55539842e+04,\n",
       "        5.55734801e+04,  3.29639450e+04, -1.39070570e+03,  1.54021948e+04,\n",
       "        5.25382579e+04,  3.98514263e+04,  1.66099749e+04,  4.99271374e+04,\n",
       "        1.23649495e+04,  2.04295746e+04,  2.61859828e+04,  5.59285271e+04,\n",
       "        3.45599633e+04,  6.17012788e+04,  3.05362132e+04,  2.98475442e+04,\n",
       "        3.60001165e+04,  4.93017931e+04,  2.54907788e+04,  3.90026094e+04,\n",
       "        3.17197068e+04,  3.43990615e+04,  2.03272526e+04,  5.39833401e+03,\n",
       "        3.86947010e+04,  2.77329617e+04,  1.32681744e+03,  3.96135147e+04,\n",
       "        9.73001274e+03,  4.16466387e+03,  6.28754087e+03,  3.96996178e+04,\n",
       "        2.83757753e+03,  4.39035311e+02])"
      ]
     },
     "execution_count": 57,
     "metadata": {},
     "output_type": "execute_result"
    }
   ],
   "source": [
    "# Retrieve estimated slope coefficient\n",
    "final_result.coef_"
   ]
  },
  {
   "cell_type": "code",
   "execution_count": 58,
   "metadata": {},
   "outputs": [
    {
     "data": {
      "text/plain": [
       "904465.635520212"
      ]
     },
     "execution_count": 58,
     "metadata": {},
     "output_type": "execute_result"
    }
   ],
   "source": [
    "# Retrieve estimated y-intercept coefficient\n",
    "final_result.intercept_"
   ]
  },
  {
   "cell_type": "code",
   "execution_count": 59,
   "metadata": {},
   "outputs": [
    {
     "name": "stdout",
     "output_type": "stream",
     "text": [
      "Final Model Train: 0.6197893726751975\n",
      "Final Model Test: 0.5894612277636274\n"
     ]
    }
   ],
   "source": [
    "#GIVES US OUR R**2\n",
    "print(\"Final Model Train:\" , lr_simple_model.score(X_standard_process_train, y_train))\n",
    "print(\"Final Model Test:\" , lr_simple_model.score(X_standard_process_test, y_test))"
   ]
  },
  {
   "cell_type": "code",
   "execution_count": 62,
   "metadata": {},
   "outputs": [
    {
     "data": {
      "text/plain": [
       "131819.640483476"
      ]
     },
     "execution_count": 62,
     "metadata": {},
     "output_type": "execute_result"
    }
   ],
   "source": [
    "#MEAN ABSOLUTE ERROR\n",
    "metrics.mean_absolute_error(y_test, lr_simple_model.predict(X_standard_process_test))"
   ]
  },
  {
   "cell_type": "markdown",
   "metadata": {},
   "source": [
    "## Conclusions\n",
    "\n",
    "Provide your conclusions about the work you've done, including any limitations or next steps.\n",
    "\n",
    "Questions to consider:\n",
    "\n",
    "- What would you recommend the business do as a result of this work?\n",
    "- What are some reasons why your analysis might not fully solve the business problem?\n",
    "- What else could you do in the future to improve this project (future work)?\n"
   ]
  },
  {
   "cell_type": "code",
   "execution_count": null,
   "metadata": {},
   "outputs": [],
   "source": []
  },
  {
   "cell_type": "code",
   "execution_count": null,
   "metadata": {},
   "outputs": [],
   "source": []
  },
  {
   "cell_type": "code",
   "execution_count": null,
   "metadata": {},
   "outputs": [],
   "source": []
  }
 ],
 "metadata": {
  "kernelspec": {
   "display_name": "Python 3",
   "language": "python",
   "name": "python3"
  },
  "language_info": {
   "codemirror_mode": {
    "name": "ipython",
    "version": 3
   },
   "file_extension": ".py",
   "mimetype": "text/x-python",
   "name": "python",
   "nbconvert_exporter": "python",
   "pygments_lexer": "ipython3",
   "version": "3.8.5"
  }
 },
 "nbformat": 4,
 "nbformat_minor": 4
}
