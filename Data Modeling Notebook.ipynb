{
 "cells": [
  {
   "cell_type": "markdown",
   "metadata": {},
   "source": [
    "## Modeling\n",
    "\n",
    "Describe and justify the process for analyzing or modeling the data.\n",
    "\n",
    "Questions to consider:\n",
    "\n",
    "- How did you analyze the data to arrive at an initial approach?\n",
    "- How did you iterate on your initial approach to make it better?\n",
    "- Why are these choices appropriate given the data and the business problem?"
   ]
  },
  {
   "cell_type": "markdown",
   "metadata": {},
   "source": [
    "## Evaluation\n",
    "\n",
    "The evaluation of each model should accompany the creation of each model, and you should be sure to evaluate your models consistently.\n",
    "\n",
    "Evaluate how well your work solves the stated business problem. \n",
    "\n",
    "Questions to consider:\n",
    "\n",
    "- How do you interpret the results?\n",
    "- How well does your model fit your data? How much better is this than your baseline model? Is it over or under fit?\n",
    "- How well does your model/data fit any modeling assumptions?\n",
    "\n",
    "For the final model, you might also consider:\n",
    "\n",
    "- How confident are you that your results would generalize beyond the data you have?\n",
    "- How confident are you that this model would benefit the business if put into use?"
   ]
  },
  {
   "cell_type": "markdown",
   "metadata": {},
   "source": [
    "### Baseline Understanding\n",
    "\n",
    "- What does a baseline, model-less prediction look like?"
   ]
  },
  {
   "cell_type": "code",
   "execution_count": 1,
   "metadata": {},
   "outputs": [],
   "source": [
    "# code here to arrive at a baseline prediction"
   ]
  },
  {
   "cell_type": "markdown",
   "metadata": {},
   "source": [
    "### Import our Final CSV from our Data Preparation and Cleaning Notebook"
   ]
  },
  {
   "cell_type": "code",
   "execution_count": 2,
   "metadata": {},
   "outputs": [],
   "source": [
    "#Import libraries\n",
    "# Standard Packages\n",
    "import pandas as pd\n",
    "import numpy as np\n",
    "\n",
    "# Viz Packages\n",
    "import seaborn as sns\n",
    "import matplotlib.pyplot as plt\n",
    "%matplotlib inline\n",
    "\n",
    "# Scipy Stats\n",
    "import scipy.stats as stats \n",
    "\n",
    "# Statsmodel Api\n",
    "import statsmodels.api as sm\n",
    "from statsmodels.formula.api import ols\n",
    "\n",
    "# SKLearn Modules\n",
    "from sklearn.linear_model import LinearRegression\n",
    "from sklearn.feature_selection import RFE\n",
    "from sklearn.preprocessing import StandardScaler,  OrdinalEncoder, OneHotEncoder\n",
    "from sklearn.model_selection import train_test_split\n",
    "import sklearn.metrics as metrics\n",
    "\n",
    "# Suppress future and deprecation warnings\n",
    "import warnings\n",
    "warnings.filterwarnings(\"ignore\", category= FutureWarning)\n",
    "warnings.filterwarnings(\"ignore\", category=DeprecationWarning) "
   ]
  },
  {
   "cell_type": "code",
   "execution_count": 3,
   "metadata": {},
   "outputs": [],
   "source": [
    "#Importing file from Aidan's Comp\n",
    "final_kc_df = pd.read_csv('/Users/Aidan/Documents/Flatiron/Phase_2/King-County-House-Sales-/final_kc.csv')"
   ]
  },
  {
   "cell_type": "code",
   "execution_count": 4,
   "metadata": {},
   "outputs": [],
   "source": [
    "#Importing file from Ash's Comp\n",
    "# final_kc_df = pd.read_csv('/Users/aheinke/Documents/Flatiron/NYC-DS-010923/Phase_2/Phase2_Final_Proj/final_kc.csv')"
   ]
  },
  {
   "cell_type": "code",
   "execution_count": 5,
   "metadata": {},
   "outputs": [
    {
     "data": {
      "text/html": [
       "<div>\n",
       "<style scoped>\n",
       "    .dataframe tbody tr th:only-of-type {\n",
       "        vertical-align: middle;\n",
       "    }\n",
       "\n",
       "    .dataframe tbody tr th {\n",
       "        vertical-align: top;\n",
       "    }\n",
       "\n",
       "    .dataframe thead th {\n",
       "        text-align: right;\n",
       "    }\n",
       "</style>\n",
       "<table border=\"1\" class=\"dataframe\">\n",
       "  <thead>\n",
       "    <tr style=\"text-align: right;\">\n",
       "      <th></th>\n",
       "      <th>Unnamed: 0</th>\n",
       "      <th>index</th>\n",
       "      <th>id</th>\n",
       "      <th>date</th>\n",
       "      <th>price</th>\n",
       "      <th>bedrooms</th>\n",
       "      <th>bathrooms</th>\n",
       "      <th>sqft_living</th>\n",
       "      <th>sqft_lot</th>\n",
       "      <th>floors</th>\n",
       "      <th>...</th>\n",
       "      <th>address</th>\n",
       "      <th>lat</th>\n",
       "      <th>long</th>\n",
       "      <th>Zip Code</th>\n",
       "      <th>DistrictName</th>\n",
       "      <th>ELA</th>\n",
       "      <th>Math</th>\n",
       "      <th>Science</th>\n",
       "      <th>District Test Score</th>\n",
       "      <th>zipcodes</th>\n",
       "    </tr>\n",
       "  </thead>\n",
       "  <tbody>\n",
       "    <tr>\n",
       "      <th>0</th>\n",
       "      <td>0</td>\n",
       "      <td>0</td>\n",
       "      <td>7399300360</td>\n",
       "      <td>5/24/2022</td>\n",
       "      <td>675000.0</td>\n",
       "      <td>4</td>\n",
       "      <td>1.0</td>\n",
       "      <td>1180</td>\n",
       "      <td>7140</td>\n",
       "      <td>1.0</td>\n",
       "      <td>...</td>\n",
       "      <td>2102 Southeast 21st Court, Renton, Washington ...</td>\n",
       "      <td>47.461975</td>\n",
       "      <td>-122.19052</td>\n",
       "      <td>98055</td>\n",
       "      <td>Renton School District</td>\n",
       "      <td>42.9</td>\n",
       "      <td>32.5</td>\n",
       "      <td>33.3</td>\n",
       "      <td>36.23</td>\n",
       "      <td>['98006', '98031', '98032', '98055', '98056', ...</td>\n",
       "    </tr>\n",
       "    <tr>\n",
       "      <th>1</th>\n",
       "      <td>1</td>\n",
       "      <td>11</td>\n",
       "      <td>2873000690</td>\n",
       "      <td>6/11/2021</td>\n",
       "      <td>680000.0</td>\n",
       "      <td>4</td>\n",
       "      <td>3.0</td>\n",
       "      <td>2130</td>\n",
       "      <td>7649</td>\n",
       "      <td>1.0</td>\n",
       "      <td>...</td>\n",
       "      <td>20432 130th Place Southeast, Kent, Washington ...</td>\n",
       "      <td>47.418155</td>\n",
       "      <td>-122.16696</td>\n",
       "      <td>98031</td>\n",
       "      <td>Renton School District</td>\n",
       "      <td>42.9</td>\n",
       "      <td>32.5</td>\n",
       "      <td>33.3</td>\n",
       "      <td>36.23</td>\n",
       "      <td>['98006', '98031', '98032', '98055', '98056', ...</td>\n",
       "    </tr>\n",
       "    <tr>\n",
       "      <th>2</th>\n",
       "      <td>2</td>\n",
       "      <td>22</td>\n",
       "      <td>7231501575</td>\n",
       "      <td>12/28/2021</td>\n",
       "      <td>450000.0</td>\n",
       "      <td>2</td>\n",
       "      <td>1.0</td>\n",
       "      <td>900</td>\n",
       "      <td>6000</td>\n",
       "      <td>1.0</td>\n",
       "      <td>...</td>\n",
       "      <td>533 Wells Avenue South, Renton, Washington 980...</td>\n",
       "      <td>47.475360</td>\n",
       "      <td>-122.20573</td>\n",
       "      <td>98057</td>\n",
       "      <td>Renton School District</td>\n",
       "      <td>42.9</td>\n",
       "      <td>32.5</td>\n",
       "      <td>33.3</td>\n",
       "      <td>36.23</td>\n",
       "      <td>['98006', '98031', '98032', '98055', '98056', ...</td>\n",
       "    </tr>\n",
       "    <tr>\n",
       "      <th>3</th>\n",
       "      <td>3</td>\n",
       "      <td>25</td>\n",
       "      <td>2095600170</td>\n",
       "      <td>10/8/2021</td>\n",
       "      <td>580000.0</td>\n",
       "      <td>3</td>\n",
       "      <td>3.0</td>\n",
       "      <td>2020</td>\n",
       "      <td>4482</td>\n",
       "      <td>1.0</td>\n",
       "      <td>...</td>\n",
       "      <td>22609 102nd Place Southeast, Kent, Washington ...</td>\n",
       "      <td>47.399470</td>\n",
       "      <td>-122.20413</td>\n",
       "      <td>98031</td>\n",
       "      <td>Renton School District</td>\n",
       "      <td>42.9</td>\n",
       "      <td>32.5</td>\n",
       "      <td>33.3</td>\n",
       "      <td>36.23</td>\n",
       "      <td>['98006', '98031', '98032', '98055', '98056', ...</td>\n",
       "    </tr>\n",
       "    <tr>\n",
       "      <th>4</th>\n",
       "      <td>4</td>\n",
       "      <td>30</td>\n",
       "      <td>9320600110</td>\n",
       "      <td>8/18/2021</td>\n",
       "      <td>500000.0</td>\n",
       "      <td>3</td>\n",
       "      <td>1.5</td>\n",
       "      <td>1140</td>\n",
       "      <td>9690</td>\n",
       "      <td>1.0</td>\n",
       "      <td>...</td>\n",
       "      <td>9812 South 212th Street, Kent, Washington 9803...</td>\n",
       "      <td>47.411835</td>\n",
       "      <td>-122.20954</td>\n",
       "      <td>98031</td>\n",
       "      <td>Renton School District</td>\n",
       "      <td>42.9</td>\n",
       "      <td>32.5</td>\n",
       "      <td>33.3</td>\n",
       "      <td>36.23</td>\n",
       "      <td>['98006', '98031', '98032', '98055', '98056', ...</td>\n",
       "    </tr>\n",
       "  </tbody>\n",
       "</table>\n",
       "<p>5 rows × 34 columns</p>\n",
       "</div>"
      ],
      "text/plain": [
       "   Unnamed: 0  index          id        date     price  bedrooms  bathrooms  \\\n",
       "0           0      0  7399300360   5/24/2022  675000.0         4        1.0   \n",
       "1           1     11  2873000690   6/11/2021  680000.0         4        3.0   \n",
       "2           2     22  7231501575  12/28/2021  450000.0         2        1.0   \n",
       "3           3     25  2095600170   10/8/2021  580000.0         3        3.0   \n",
       "4           4     30  9320600110   8/18/2021  500000.0         3        1.5   \n",
       "\n",
       "   sqft_living  sqft_lot  floors  ...  \\\n",
       "0         1180      7140     1.0  ...   \n",
       "1         2130      7649     1.0  ...   \n",
       "2          900      6000     1.0  ...   \n",
       "3         2020      4482     1.0  ...   \n",
       "4         1140      9690     1.0  ...   \n",
       "\n",
       "                                             address        lat       long  \\\n",
       "0  2102 Southeast 21st Court, Renton, Washington ...  47.461975 -122.19052   \n",
       "1  20432 130th Place Southeast, Kent, Washington ...  47.418155 -122.16696   \n",
       "2  533 Wells Avenue South, Renton, Washington 980...  47.475360 -122.20573   \n",
       "3  22609 102nd Place Southeast, Kent, Washington ...  47.399470 -122.20413   \n",
       "4  9812 South 212th Street, Kent, Washington 9803...  47.411835 -122.20954   \n",
       "\n",
       "  Zip Code            DistrictName   ELA  Math Science  District Test Score  \\\n",
       "0    98055  Renton School District  42.9  32.5    33.3                36.23   \n",
       "1    98031  Renton School District  42.9  32.5    33.3                36.23   \n",
       "2    98057  Renton School District  42.9  32.5    33.3                36.23   \n",
       "3    98031  Renton School District  42.9  32.5    33.3                36.23   \n",
       "4    98031  Renton School District  42.9  32.5    33.3                36.23   \n",
       "\n",
       "                                            zipcodes  \n",
       "0  ['98006', '98031', '98032', '98055', '98056', ...  \n",
       "1  ['98006', '98031', '98032', '98055', '98056', ...  \n",
       "2  ['98006', '98031', '98032', '98055', '98056', ...  \n",
       "3  ['98006', '98031', '98032', '98055', '98056', ...  \n",
       "4  ['98006', '98031', '98032', '98055', '98056', ...  \n",
       "\n",
       "[5 rows x 34 columns]"
      ]
     },
     "execution_count": 5,
     "metadata": {},
     "output_type": "execute_result"
    }
   ],
   "source": [
    "#Reminder of what it looks like.\n",
    "final_kc_df.head()"
   ]
  },
  {
   "cell_type": "code",
   "execution_count": 6,
   "metadata": {},
   "outputs": [],
   "source": [
    "#Remove uninformative columns \n",
    "final_kc_df= final_kc_df.drop(labels=['index','id', 'date','Unnamed: 0','address','lat','long', 'yr_renovated',\\\n",
    "                                     'zipcodes'], axis=1)"
   ]
  },
  {
   "cell_type": "code",
   "execution_count": 7,
   "metadata": {},
   "outputs": [
    {
     "data": {
      "text/plain": [
       "(29171, 25)"
      ]
     },
     "execution_count": 7,
     "metadata": {},
     "output_type": "execute_result"
    }
   ],
   "source": [
    "#Let's look at our shape after removing those columns.\n",
    "final_kc_df.shape"
   ]
  },
  {
   "cell_type": "code",
   "execution_count": 8,
   "metadata": {},
   "outputs": [
    {
     "name": "stdout",
     "output_type": "stream",
     "text": [
      "<class 'pandas.core.frame.DataFrame'>\n",
      "RangeIndex: 29171 entries, 0 to 29170\n",
      "Data columns (total 25 columns):\n",
      " #   Column               Non-Null Count  Dtype  \n",
      "---  ------               --------------  -----  \n",
      " 0   price                29171 non-null  float64\n",
      " 1   bedrooms             29171 non-null  int64  \n",
      " 2   bathrooms            29171 non-null  float64\n",
      " 3   sqft_living          29171 non-null  int64  \n",
      " 4   sqft_lot             29171 non-null  int64  \n",
      " 5   floors               29171 non-null  float64\n",
      " 6   waterfront           29171 non-null  object \n",
      " 7   greenbelt            29171 non-null  object \n",
      " 8   nuisance             29171 non-null  object \n",
      " 9   view                 29171 non-null  object \n",
      " 10  condition            29171 non-null  object \n",
      " 11  grade                29171 non-null  object \n",
      " 12  heat_source          29171 non-null  object \n",
      " 13  sewer_system         29171 non-null  object \n",
      " 14  sqft_above           29171 non-null  int64  \n",
      " 15  sqft_basement        29171 non-null  int64  \n",
      " 16  sqft_garage          29171 non-null  int64  \n",
      " 17  sqft_patio           29171 non-null  int64  \n",
      " 18  yr_built             29171 non-null  int64  \n",
      " 19  Zip Code             29171 non-null  int64  \n",
      " 20  DistrictName         29171 non-null  object \n",
      " 21  ELA                  29171 non-null  float64\n",
      " 22  Math                 29171 non-null  float64\n",
      " 23  Science              28686 non-null  float64\n",
      " 24  District Test Score  29171 non-null  float64\n",
      "dtypes: float64(7), int64(9), object(9)\n",
      "memory usage: 5.6+ MB\n"
     ]
    }
   ],
   "source": [
    "final_kc_df.info()"
   ]
  },
  {
   "cell_type": "markdown",
   "metadata": {},
   "source": [
    "### First  Model"
   ]
  },
  {
   "cell_type": "markdown",
   "metadata": {},
   "source": [
    "Using only numeric data where we have integer or float values. Not using `Science` Test Scores due to its Null values since Skykomish School District does note have scores."
   ]
  },
  {
   "cell_type": "code",
   "execution_count": 9,
   "metadata": {},
   "outputs": [],
   "source": [
    "# Prepare data\n",
    "X = final_kc_df.drop(['price','waterfront','greenbelt','view','condition', 'grade', 'heat_source',\\\n",
    "                      'sewer_system', 'nuisance', 'DistrictName', 'Science'], axis=1)\n",
    "y = final_kc_df['price']"
   ]
  },
  {
   "cell_type": "code",
   "execution_count": 10,
   "metadata": {},
   "outputs": [],
   "source": [
    "# Test/Train Split: Train is 80% of Data, Test is 20% of Data\n",
    "X_train, X_test, y_train, y_test = train_test_split(X, y, test_size = 0.2, random_state = 42)"
   ]
  },
  {
   "cell_type": "code",
   "execution_count": 11,
   "metadata": {},
   "outputs": [],
   "source": [
    "# Instantiate model\n",
    "lr_simple_model = LinearRegression()\n",
    "\n",
    "# Fit model\n",
    "first_result = lr_simple_model.fit(X_train, y_train)"
   ]
  },
  {
   "cell_type": "code",
   "execution_count": 12,
   "metadata": {},
   "outputs": [
    {
     "data": {
      "text/plain": [
       "array([-1.46579366e+05,  1.28660794e+05,  2.71140105e+02,  1.30730041e-01,\n",
       "       -6.75387915e+04,  3.17179967e+02,  1.36036566e+02, -1.39166302e+02,\n",
       "        2.22984075e+02, -2.72278103e+03,  7.44511474e+02,  3.98629808e+03,\n",
       "        3.02912883e+04, -2.12646124e+04])"
      ]
     },
     "execution_count": 12,
     "metadata": {},
     "output_type": "execute_result"
    }
   ],
   "source": [
    "# Retrieve estimated slope coefficient\n",
    "first_result.coef_"
   ]
  },
  {
   "cell_type": "code",
   "execution_count": 13,
   "metadata": {},
   "outputs": [
    {
     "data": {
      "text/plain": [
       "-68028501.90766136"
      ]
     },
     "execution_count": 13,
     "metadata": {},
     "output_type": "execute_result"
    }
   ],
   "source": [
    "# Retrieve estimated y-intercept coefficient\n",
    "first_result.intercept_"
   ]
  },
  {
   "cell_type": "code",
   "execution_count": 14,
   "metadata": {},
   "outputs": [
    {
     "name": "stdout",
     "output_type": "stream",
     "text": [
      "First Model Train: 0.48656816465982333\n",
      "First Model Test: 0.5119899028835484\n"
     ]
    }
   ],
   "source": [
    "#GIVES US OUR R**2\n",
    "print(\"First Model Train:\" , lr_simple_model.score(X_train, y_train))\n",
    "print(\"First Model Test:\" , lr_simple_model.score(X_test, y_test))"
   ]
  },
  {
   "cell_type": "code",
   "execution_count": 15,
   "metadata": {},
   "outputs": [
    {
     "data": {
      "text/plain": [
       "352353.36107653956"
      ]
     },
     "execution_count": 15,
     "metadata": {},
     "output_type": "execute_result"
    }
   ],
   "source": [
    "#MEAN ABSOLUTE ERROR\n",
    "metrics.mean_absolute_error(y_test, lr_simple_model.predict(X_test))"
   ]
  },
  {
   "cell_type": "markdown",
   "metadata": {},
   "source": [
    "INTERPRETATION OF FIRST MODEL GOES HERE"
   ]
  },
  {
   "cell_type": "markdown",
   "metadata": {},
   "source": [
    "### Modeling Iterations"
   ]
  },
  {
   "cell_type": "markdown",
   "metadata": {},
   "source": [
    "Before we create another model we should look for Multicollinearity and ensure that our predictive variables are indeed independent."
   ]
  },
  {
   "cell_type": "code",
   "execution_count": 16,
   "metadata": {},
   "outputs": [
    {
     "data": {
      "image/png": "[encoded data removed]",
      "text/plain": [
       "<Figure size 1008x1008 with 2 Axes>"
      ]
     },
     "metadata": {},
     "output_type": "display_data"
    }
   ],
   "source": [
    "#Heatmap for Collinearity\n",
    "sns.set(rc={'figure.figsize':(14, 14)})\n",
    "sns.heatmap(X_train.corr(),annot=True);"
   ]
  },
  {
   "cell_type": "code",
   "execution_count": 17,
   "metadata": {},
   "outputs": [
    {
     "data": {
      "text/html": [
       "<div>\n",
       "<style scoped>\n",
       "    .dataframe tbody tr th:only-of-type {\n",
       "        vertical-align: middle;\n",
       "    }\n",
       "\n",
       "    .dataframe tbody tr th {\n",
       "        vertical-align: top;\n",
       "    }\n",
       "\n",
       "    .dataframe thead th {\n",
       "        text-align: right;\n",
       "    }\n",
       "</style>\n",
       "<table border=\"1\" class=\"dataframe\">\n",
       "  <thead>\n",
       "    <tr style=\"text-align: right;\">\n",
       "      <th></th>\n",
       "      <th>bedrooms</th>\n",
       "      <th>bathrooms</th>\n",
       "      <th>sqft_living</th>\n",
       "      <th>sqft_lot</th>\n",
       "      <th>floors</th>\n",
       "      <th>sqft_above</th>\n",
       "      <th>sqft_basement</th>\n",
       "      <th>sqft_garage</th>\n",
       "      <th>sqft_patio</th>\n",
       "      <th>yr_built</th>\n",
       "      <th>Zip Code</th>\n",
       "      <th>ELA</th>\n",
       "      <th>Math</th>\n",
       "      <th>District Test Score</th>\n",
       "    </tr>\n",
       "  </thead>\n",
       "  <tbody>\n",
       "    <tr>\n",
       "      <th>bedrooms</th>\n",
       "      <td>1.000000</td>\n",
       "      <td>0.592982</td>\n",
       "      <td>0.636945</td>\n",
       "      <td>-0.001679</td>\n",
       "      <td>0.193921</td>\n",
       "      <td>0.541070</td>\n",
       "      <td>0.239439</td>\n",
       "      <td>0.306055</td>\n",
       "      <td>0.194604</td>\n",
       "      <td>0.181470</td>\n",
       "      <td>-0.160863</td>\n",
       "      <td>0.133511</td>\n",
       "      <td>0.131035</td>\n",
       "      <td>0.139570</td>\n",
       "    </tr>\n",
       "    <tr>\n",
       "      <th>bathrooms</th>\n",
       "      <td>0.592982</td>\n",
       "      <td>1.000000</td>\n",
       "      <td>0.780150</td>\n",
       "      <td>0.040826</td>\n",
       "      <td>0.429420</td>\n",
       "      <td>0.679883</td>\n",
       "      <td>0.263482</td>\n",
       "      <td>0.460655</td>\n",
       "      <td>0.333332</td>\n",
       "      <td>0.456992</td>\n",
       "      <td>-0.176279</td>\n",
       "      <td>0.223574</td>\n",
       "      <td>0.213246</td>\n",
       "      <td>0.225269</td>\n",
       "    </tr>\n",
       "    <tr>\n",
       "      <th>sqft_living</th>\n",
       "      <td>0.636945</td>\n",
       "      <td>0.780150</td>\n",
       "      <td>1.000000</td>\n",
       "      <td>0.121821</td>\n",
       "      <td>0.356021</td>\n",
       "      <td>0.881117</td>\n",
       "      <td>0.335551</td>\n",
       "      <td>0.504983</td>\n",
       "      <td>0.404422</td>\n",
       "      <td>0.328646</td>\n",
       "      <td>-0.193462</td>\n",
       "      <td>0.261937</td>\n",
       "      <td>0.246240</td>\n",
       "      <td>0.265761</td>\n",
       "    </tr>\n",
       "    <tr>\n",
       "      <th>sqft_lot</th>\n",
       "      <td>-0.001679</td>\n",
       "      <td>0.040826</td>\n",
       "      <td>0.121821</td>\n",
       "      <td>1.000000</td>\n",
       "      <td>-0.021275</td>\n",
       "      <td>0.132321</td>\n",
       "      <td>-0.000465</td>\n",
       "      <td>0.092211</td>\n",
       "      <td>0.161519</td>\n",
       "      <td>0.014009</td>\n",
       "      <td>-0.102327</td>\n",
       "      <td>0.048849</td>\n",
       "      <td>0.012596</td>\n",
       "      <td>0.040447</td>\n",
       "    </tr>\n",
       "    <tr>\n",
       "      <th>floors</th>\n",
       "      <td>0.193921</td>\n",
       "      <td>0.429420</td>\n",
       "      <td>0.356021</td>\n",
       "      <td>-0.021275</td>\n",
       "      <td>1.000000</td>\n",
       "      <td>0.504333</td>\n",
       "      <td>-0.240184</td>\n",
       "      <td>0.179701</td>\n",
       "      <td>0.124448</td>\n",
       "      <td>0.522993</td>\n",
       "      <td>-0.037590</td>\n",
       "      <td>0.125537</td>\n",
       "      <td>0.102862</td>\n",
       "      <td>0.109355</td>\n",
       "    </tr>\n",
       "    <tr>\n",
       "      <th>sqft_above</th>\n",
       "      <td>0.541070</td>\n",
       "      <td>0.679883</td>\n",
       "      <td>0.881117</td>\n",
       "      <td>0.132321</td>\n",
       "      <td>0.504333</td>\n",
       "      <td>1.000000</td>\n",
       "      <td>-0.074031</td>\n",
       "      <td>0.556861</td>\n",
       "      <td>0.320018</td>\n",
       "      <td>0.429417</td>\n",
       "      <td>-0.267618</td>\n",
       "      <td>0.261920</td>\n",
       "      <td>0.224180</td>\n",
       "      <td>0.258395</td>\n",
       "    </tr>\n",
       "    <tr>\n",
       "      <th>sqft_basement</th>\n",
       "      <td>0.239439</td>\n",
       "      <td>0.263482</td>\n",
       "      <td>0.335551</td>\n",
       "      <td>-0.000465</td>\n",
       "      <td>-0.240184</td>\n",
       "      <td>-0.074031</td>\n",
       "      <td>1.000000</td>\n",
       "      <td>0.015303</td>\n",
       "      <td>0.212245</td>\n",
       "      <td>-0.228894</td>\n",
       "      <td>0.165875</td>\n",
       "      <td>0.034354</td>\n",
       "      <td>0.078852</td>\n",
       "      <td>0.046735</td>\n",
       "    </tr>\n",
       "    <tr>\n",
       "      <th>sqft_garage</th>\n",
       "      <td>0.306055</td>\n",
       "      <td>0.460655</td>\n",
       "      <td>0.504983</td>\n",
       "      <td>0.092211</td>\n",
       "      <td>0.179701</td>\n",
       "      <td>0.556861</td>\n",
       "      <td>0.015303</td>\n",
       "      <td>1.000000</td>\n",
       "      <td>0.229210</td>\n",
       "      <td>0.495794</td>\n",
       "      <td>-0.363107</td>\n",
       "      <td>0.196897</td>\n",
       "      <td>0.164113</td>\n",
       "      <td>0.199270</td>\n",
       "    </tr>\n",
       "    <tr>\n",
       "      <th>sqft_patio</th>\n",
       "      <td>0.194604</td>\n",
       "      <td>0.333332</td>\n",
       "      <td>0.404422</td>\n",
       "      <td>0.161519</td>\n",
       "      <td>0.124448</td>\n",
       "      <td>0.320018</td>\n",
       "      <td>0.212245</td>\n",
       "      <td>0.229210</td>\n",
       "      <td>1.000000</td>\n",
       "      <td>0.135812</td>\n",
       "      <td>-0.107332</td>\n",
       "      <td>0.128419</td>\n",
       "      <td>0.120195</td>\n",
       "      <td>0.132194</td>\n",
       "    </tr>\n",
       "    <tr>\n",
       "      <th>yr_built</th>\n",
       "      <td>0.181470</td>\n",
       "      <td>0.456992</td>\n",
       "      <td>0.328646</td>\n",
       "      <td>0.014009</td>\n",
       "      <td>0.522993</td>\n",
       "      <td>0.429417</td>\n",
       "      <td>-0.228894</td>\n",
       "      <td>0.495794</td>\n",
       "      <td>0.135812</td>\n",
       "      <td>1.000000</td>\n",
       "      <td>-0.299281</td>\n",
       "      <td>0.124317</td>\n",
       "      <td>0.073143</td>\n",
       "      <td>0.113178</td>\n",
       "    </tr>\n",
       "    <tr>\n",
       "      <th>Zip Code</th>\n",
       "      <td>-0.160863</td>\n",
       "      <td>-0.176279</td>\n",
       "      <td>-0.193462</td>\n",
       "      <td>-0.102327</td>\n",
       "      <td>-0.037590</td>\n",
       "      <td>-0.267618</td>\n",
       "      <td>0.165875</td>\n",
       "      <td>-0.363107</td>\n",
       "      <td>-0.107332</td>\n",
       "      <td>-0.299281</td>\n",
       "      <td>1.000000</td>\n",
       "      <td>-0.323141</td>\n",
       "      <td>-0.279166</td>\n",
       "      <td>-0.320415</td>\n",
       "    </tr>\n",
       "    <tr>\n",
       "      <th>ELA</th>\n",
       "      <td>0.133511</td>\n",
       "      <td>0.223574</td>\n",
       "      <td>0.261937</td>\n",
       "      <td>0.048849</td>\n",
       "      <td>0.125537</td>\n",
       "      <td>0.261920</td>\n",
       "      <td>0.034354</td>\n",
       "      <td>0.196897</td>\n",
       "      <td>0.128419</td>\n",
       "      <td>0.124317</td>\n",
       "      <td>-0.323141</td>\n",
       "      <td>1.000000</td>\n",
       "      <td>0.943067</td>\n",
       "      <td>0.983200</td>\n",
       "    </tr>\n",
       "    <tr>\n",
       "      <th>Math</th>\n",
       "      <td>0.131035</td>\n",
       "      <td>0.213246</td>\n",
       "      <td>0.246240</td>\n",
       "      <td>0.012596</td>\n",
       "      <td>0.102862</td>\n",
       "      <td>0.224180</td>\n",
       "      <td>0.078852</td>\n",
       "      <td>0.164113</td>\n",
       "      <td>0.120195</td>\n",
       "      <td>0.073143</td>\n",
       "      <td>-0.279166</td>\n",
       "      <td>0.943067</td>\n",
       "      <td>1.000000</td>\n",
       "      <td>0.982129</td>\n",
       "    </tr>\n",
       "    <tr>\n",
       "      <th>District Test Score</th>\n",
       "      <td>0.139570</td>\n",
       "      <td>0.225269</td>\n",
       "      <td>0.265761</td>\n",
       "      <td>0.040447</td>\n",
       "      <td>0.109355</td>\n",
       "      <td>0.258395</td>\n",
       "      <td>0.046735</td>\n",
       "      <td>0.199270</td>\n",
       "      <td>0.132194</td>\n",
       "      <td>0.113178</td>\n",
       "      <td>-0.320415</td>\n",
       "      <td>0.983200</td>\n",
       "      <td>0.982129</td>\n",
       "      <td>1.000000</td>\n",
       "    </tr>\n",
       "  </tbody>\n",
       "</table>\n",
       "</div>"
      ],
      "text/plain": [
       "                     bedrooms  bathrooms  sqft_living  sqft_lot    floors  \\\n",
       "bedrooms             1.000000   0.592982     0.636945 -0.001679  0.193921   \n",
       "bathrooms            0.592982   1.000000     0.780150  0.040826  0.429420   \n",
       "sqft_living          0.636945   0.780150     1.000000  0.121821  0.356021   \n",
       "sqft_lot            -0.001679   0.040826     0.121821  1.000000 -0.021275   \n",
       "floors               0.193921   0.429420     0.356021 -0.021275  1.000000   \n",
       "sqft_above           0.541070   0.679883     0.881117  0.132321  0.504333   \n",
       "sqft_basement        0.239439   0.263482     0.335551 -0.000465 -0.240184   \n",
       "sqft_garage          0.306055   0.460655     0.504983  0.092211  0.179701   \n",
       "sqft_patio           0.194604   0.333332     0.404422  0.161519  0.124448   \n",
       "yr_built             0.181470   0.456992     0.328646  0.014009  0.522993   \n",
       "Zip Code            -0.160863  -0.176279    -0.193462 -0.102327 -0.037590   \n",
       "ELA                  0.133511   0.223574     0.261937  0.048849  0.125537   \n",
       "Math                 0.131035   0.213246     0.246240  0.012596  0.102862   \n",
       "District Test Score  0.139570   0.225269     0.265761  0.040447  0.109355   \n",
       "\n",
       "                     sqft_above  sqft_basement  sqft_garage  sqft_patio  \\\n",
       "bedrooms               0.541070       0.239439     0.306055    0.194604   \n",
       "bathrooms              0.679883       0.263482     0.460655    0.333332   \n",
       "sqft_living            0.881117       0.335551     0.504983    0.404422   \n",
       "sqft_lot               0.132321      -0.000465     0.092211    0.161519   \n",
       "floors                 0.504333      -0.240184     0.179701    0.124448   \n",
       "sqft_above             1.000000      -0.074031     0.556861    0.320018   \n",
       "sqft_basement         -0.074031       1.000000     0.015303    0.212245   \n",
       "sqft_garage            0.556861       0.015303     1.000000    0.229210   \n",
       "sqft_patio             0.320018       0.212245     0.229210    1.000000   \n",
       "yr_built               0.429417      -0.228894     0.495794    0.135812   \n",
       "Zip Code              -0.267618       0.165875    -0.363107   -0.107332   \n",
       "ELA                    0.261920       0.034354     0.196897    0.128419   \n",
       "Math                   0.224180       0.078852     0.164113    0.120195   \n",
       "District Test Score    0.258395       0.046735     0.199270    0.132194   \n",
       "\n",
       "                     yr_built  Zip Code       ELA      Math  \\\n",
       "bedrooms             0.181470 -0.160863  0.133511  0.131035   \n",
       "bathrooms            0.456992 -0.176279  0.223574  0.213246   \n",
       "sqft_living          0.328646 -0.193462  0.261937  0.246240   \n",
       "sqft_lot             0.014009 -0.102327  0.048849  0.012596   \n",
       "floors               0.522993 -0.037590  0.125537  0.102862   \n",
       "sqft_above           0.429417 -0.267618  0.261920  0.224180   \n",
       "sqft_basement       -0.228894  0.165875  0.034354  0.078852   \n",
       "sqft_garage          0.495794 -0.363107  0.196897  0.164113   \n",
       "sqft_patio           0.135812 -0.107332  0.128419  0.120195   \n",
       "yr_built             1.000000 -0.299281  0.124317  0.073143   \n",
       "Zip Code            -0.299281  1.000000 -0.323141 -0.279166   \n",
       "ELA                  0.124317 -0.323141  1.000000  0.943067   \n",
       "Math                 0.073143 -0.279166  0.943067  1.000000   \n",
       "District Test Score  0.113178 -0.320415  0.983200  0.982129   \n",
       "\n",
       "                     District Test Score  \n",
       "bedrooms                        0.139570  \n",
       "bathrooms                       0.225269  \n",
       "sqft_living                     0.265761  \n",
       "sqft_lot                        0.040447  \n",
       "floors                          0.109355  \n",
       "sqft_above                      0.258395  \n",
       "sqft_basement                   0.046735  \n",
       "sqft_garage                     0.199270  \n",
       "sqft_patio                      0.132194  \n",
       "yr_built                        0.113178  \n",
       "Zip Code                       -0.320415  \n",
       "ELA                             0.983200  \n",
       "Math                            0.982129  \n",
       "District Test Score             1.000000  "
      ]
     },
     "execution_count": 17,
     "metadata": {},
     "output_type": "execute_result"
    }
   ],
   "source": [
    "#View Correlation between Independent Numeric Variables\n",
    "X_train.corr()"
   ]
  },
  {
   "cell_type": "markdown",
   "metadata": {},
   "source": [
    "INTERPRETATION OF WHICH VARIABLES ARE CORRELATED HERE"
   ]
  },
  {
   "cell_type": "markdown",
   "metadata": {},
   "source": [
    "### Second Model"
   ]
  },
  {
   "cell_type": "markdown",
   "metadata": {},
   "source": [
    "Adding in categorical data to our model and dropping `sqft_above` as it too closely correlates with `sqft_living`. Again we are removing `Science` as it contains null values due to Skykomish School District not having scores."
   ]
  },
  {
   "cell_type": "code",
   "execution_count": 18,
   "metadata": {},
   "outputs": [
    {
     "name": "stdout",
     "output_type": "stream",
     "text": [
      "<class 'pandas.core.frame.DataFrame'>\n",
      "RangeIndex: 29171 entries, 0 to 29170\n",
      "Data columns (total 25 columns):\n",
      " #   Column               Non-Null Count  Dtype  \n",
      "---  ------               --------------  -----  \n",
      " 0   price                29171 non-null  float64\n",
      " 1   bedrooms             29171 non-null  int64  \n",
      " 2   bathrooms            29171 non-null  float64\n",
      " 3   sqft_living          29171 non-null  int64  \n",
      " 4   sqft_lot             29171 non-null  int64  \n",
      " 5   floors               29171 non-null  float64\n",
      " 6   waterfront           29171 non-null  object \n",
      " 7   greenbelt            29171 non-null  object \n",
      " 8   nuisance             29171 non-null  object \n",
      " 9   view                 29171 non-null  object \n",
      " 10  condition            29171 non-null  object \n",
      " 11  grade                29171 non-null  object \n",
      " 12  heat_source          29171 non-null  object \n",
      " 13  sewer_system         29171 non-null  object \n",
      " 14  sqft_above           29171 non-null  int64  \n",
      " 15  sqft_basement        29171 non-null  int64  \n",
      " 16  sqft_garage          29171 non-null  int64  \n",
      " 17  sqft_patio           29171 non-null  int64  \n",
      " 18  yr_built             29171 non-null  int64  \n",
      " 19  Zip Code             29171 non-null  int64  \n",
      " 20  DistrictName         29171 non-null  object \n",
      " 21  ELA                  29171 non-null  float64\n",
      " 22  Math                 29171 non-null  float64\n",
      " 23  Science              28686 non-null  float64\n",
      " 24  District Test Score  29171 non-null  float64\n",
      "dtypes: float64(7), int64(9), object(9)\n",
      "memory usage: 5.6+ MB\n"
     ]
    }
   ],
   "source": [
    "final_kc_df.info()"
   ]
  },
  {
   "cell_type": "code",
   "execution_count": 19,
   "metadata": {},
   "outputs": [],
   "source": [
    "#Dropping columns\n",
    "final_kc_df2 = final_kc_df.drop(['sqft_above', 'nuisance', 'waterfront', 'greenbelt','view', 'Science'], axis = 1)"
   ]
  },
  {
   "cell_type": "markdown",
   "metadata": {},
   "source": [
    "##### Preparing Data"
   ]
  },
  {
   "cell_type": "code",
   "execution_count": 20,
   "metadata": {},
   "outputs": [],
   "source": [
    "#Defining variables for 2nd model\n",
    "X = final_kc_df2.drop('price', axis=1)\n",
    "y = final_kc_df2['price']"
   ]
  },
  {
   "cell_type": "markdown",
   "metadata": {},
   "source": [
    "##### Train/Test Split\n",
    "*Train 80% of Data, Test 20% of Data*"
   ]
  },
  {
   "cell_type": "code",
   "execution_count": 21,
   "metadata": {},
   "outputs": [],
   "source": [
    "X_train, X_test, y_train, y_test = train_test_split(X, y, test_size = 0.2, random_state = 42)"
   ]
  },
  {
   "cell_type": "markdown",
   "metadata": {},
   "source": [
    "##### Processing Data"
   ]
  },
  {
   "cell_type": "code",
   "execution_count": 22,
   "metadata": {},
   "outputs": [
    {
     "data": {
      "text/plain": [
       "(23336,)"
      ]
     },
     "execution_count": 22,
     "metadata": {},
     "output_type": "execute_result"
    }
   ],
   "source": [
    "#Train Data\n",
    "y_train.shape"
   ]
  },
  {
   "cell_type": "code",
   "execution_count": 23,
   "metadata": {},
   "outputs": [
    {
     "data": {
      "text/plain": [
       "(5835,)"
      ]
     },
     "execution_count": 23,
     "metadata": {},
     "output_type": "execute_result"
    }
   ],
   "source": [
    "#Test Data\n",
    "y_test.shape"
   ]
  },
  {
   "cell_type": "markdown",
   "metadata": {},
   "source": [
    "##### Separate Continuous X Predictive Variables\n",
    "*Train Data*"
   ]
  },
  {
   "cell_type": "code",
   "execution_count": 24,
   "metadata": {},
   "outputs": [],
   "source": [
    "#Define our columns with numeric data- same as First Model\n",
    "numeric_cols = ['bedrooms','bathrooms','sqft_living','sqft_lot','floors','sqft_basement',\\\n",
    "                           'sqft_garage','sqft_patio','yr_built','ELA','Math','Zip Code','District Test Score']"
   ]
  },
  {
   "cell_type": "code",
   "execution_count": 25,
   "metadata": {},
   "outputs": [],
   "source": [
    "X_train_numeric = X_train[numeric_cols]"
   ]
  },
  {
   "cell_type": "markdown",
   "metadata": {},
   "source": [
    "*Test Data*"
   ]
  },
  {
   "cell_type": "code",
   "execution_count": 26,
   "metadata": {},
   "outputs": [],
   "source": [
    "X_test_numeric = X_test[numeric_cols]"
   ]
  },
  {
   "cell_type": "markdown",
   "metadata": {},
   "source": [
    "##### Discrete Ordinal X Predictive Variables\n",
    "*Train Data*"
   ]
  },
  {
   "cell_type": "code",
   "execution_count": 27,
   "metadata": {},
   "outputs": [],
   "source": [
    "ord_cat_selector = ['condition', 'grade']\n",
    "X_train_ord_cat_subset = X_train[ord_cat_selector]"
   ]
  },
  {
   "cell_type": "code",
   "execution_count": 28,
   "metadata": {},
   "outputs": [
    {
     "data": {
      "text/plain": [
       "array(['Good', 'Average', 'Very Good', 'Poor', 'Fair'], dtype=object)"
      ]
     },
     "execution_count": 28,
     "metadata": {},
     "output_type": "execute_result"
    }
   ],
   "source": [
    "X_train_ord_cat_subset['condition'].unique()"
   ]
  },
  {
   "cell_type": "code",
   "execution_count": 29,
   "metadata": {},
   "outputs": [
    {
     "data": {
      "text/plain": [
       "array(['9 Better', '7 Average', '8 Good', '6 Low Average', '11 Excellent',\n",
       "       '10 Very Good', '5 Fair', '4 Low', '3 Poor', '12 Luxury',\n",
       "       '13 Mansion', '2 Substandard'], dtype=object)"
      ]
     },
     "execution_count": 29,
     "metadata": {},
     "output_type": "execute_result"
    }
   ],
   "source": [
    "X_train_ord_cat_subset['grade'].unique()"
   ]
  },
  {
   "cell_type": "code",
   "execution_count": 30,
   "metadata": {},
   "outputs": [],
   "source": [
    "# REPLACE WITH COLUMN'S UNIQUE VALUES IN ASCENDING ORDER --->\n",
    "condition_list = ['Poor', 'Fair', 'Average', 'Good', 'Very Good'] \n",
    "grade_list = ['2 Substandard','3 Poor','4 Low', '5 Fair', '6 Low Average', '7 Average','8 Good','9 Better',\\\n",
    "              '10 Very Good','11 Excellent','12 Luxury','13 Mansion']"
   ]
  },
  {
   "cell_type": "code",
   "execution_count": 31,
   "metadata": {},
   "outputs": [
    {
     "data": {
      "text/plain": [
       "OrdinalEncoder(categories=[['Poor', 'Fair', 'Average', 'Good', 'Very Good'],\n",
       "                           ['2 Substandard', '3 Poor', '4 Low', '5 Fair',\n",
       "                            '6 Low Average', '7 Average', '8 Good', '9 Better',\n",
       "                            '10 Very Good', '11 Excellent', '12 Luxury',\n",
       "                            '13 Mansion']])"
      ]
     },
     "execution_count": 31,
     "metadata": {},
     "output_type": "execute_result"
    }
   ],
   "source": [
    "o_enc = OrdinalEncoder(categories = [condition_list, grade_list])\n",
    "o_enc.fit(X_train_ord_cat_subset)"
   ]
  },
  {
   "cell_type": "code",
   "execution_count": 32,
   "metadata": {},
   "outputs": [
    {
     "data": {
      "text/plain": [
       "array([[3., 7.],\n",
       "       [3., 5.],\n",
       "       [3., 5.],\n",
       "       ...,\n",
       "       [3., 5.],\n",
       "       [4., 5.],\n",
       "       [2., 6.]])"
      ]
     },
     "execution_count": 32,
     "metadata": {},
     "output_type": "execute_result"
    }
   ],
   "source": [
    "o_enc.transform(X_train_ord_cat_subset)"
   ]
  },
  {
   "cell_type": "code",
   "execution_count": 33,
   "metadata": {},
   "outputs": [],
   "source": [
    "X_train_ord = pd.DataFrame(o_enc.transform(X_train_ord_cat_subset),\n",
    "                        columns = X_train_ord_cat_subset.columns)"
   ]
  },
  {
   "cell_type": "code",
   "execution_count": 34,
   "metadata": {},
   "outputs": [
    {
     "data": {
      "text/html": [
       "<div>\n",
       "<style scoped>\n",
       "    .dataframe tbody tr th:only-of-type {\n",
       "        vertical-align: middle;\n",
       "    }\n",
       "\n",
       "    .dataframe tbody tr th {\n",
       "        vertical-align: top;\n",
       "    }\n",
       "\n",
       "    .dataframe thead th {\n",
       "        text-align: right;\n",
       "    }\n",
       "</style>\n",
       "<table border=\"1\" class=\"dataframe\">\n",
       "  <thead>\n",
       "    <tr style=\"text-align: right;\">\n",
       "      <th></th>\n",
       "      <th>condition</th>\n",
       "      <th>grade</th>\n",
       "    </tr>\n",
       "  </thead>\n",
       "  <tbody>\n",
       "    <tr>\n",
       "      <th>0</th>\n",
       "      <td>3.0</td>\n",
       "      <td>7.0</td>\n",
       "    </tr>\n",
       "    <tr>\n",
       "      <th>1</th>\n",
       "      <td>3.0</td>\n",
       "      <td>5.0</td>\n",
       "    </tr>\n",
       "    <tr>\n",
       "      <th>2</th>\n",
       "      <td>3.0</td>\n",
       "      <td>5.0</td>\n",
       "    </tr>\n",
       "    <tr>\n",
       "      <th>3</th>\n",
       "      <td>2.0</td>\n",
       "      <td>6.0</td>\n",
       "    </tr>\n",
       "    <tr>\n",
       "      <th>4</th>\n",
       "      <td>2.0</td>\n",
       "      <td>6.0</td>\n",
       "    </tr>\n",
       "  </tbody>\n",
       "</table>\n",
       "</div>"
      ],
      "text/plain": [
       "   condition  grade\n",
       "0        3.0    7.0\n",
       "1        3.0    5.0\n",
       "2        3.0    5.0\n",
       "3        2.0    6.0\n",
       "4        2.0    6.0"
      ]
     },
     "execution_count": 34,
     "metadata": {},
     "output_type": "execute_result"
    }
   ],
   "source": [
    "X_train_ord.head()"
   ]
  },
  {
   "cell_type": "markdown",
   "metadata": {},
   "source": [
    "*Test Data*"
   ]
  },
  {
   "cell_type": "code",
   "execution_count": 35,
   "metadata": {},
   "outputs": [],
   "source": [
    "X_test_ord_cat_subset = X_test[ord_cat_selector]"
   ]
  },
  {
   "cell_type": "code",
   "execution_count": 36,
   "metadata": {},
   "outputs": [],
   "source": [
    "X_test_ord = pd.DataFrame(o_enc.transform(X_test_ord_cat_subset),\n",
    "                        columns = X_test_ord_cat_subset.columns)"
   ]
  },
  {
   "cell_type": "markdown",
   "metadata": {},
   "source": [
    "##### Discrete Nominal X Predictive Variables\n",
    "*Train Data*"
   ]
  },
  {
   "cell_type": "code",
   "execution_count": 37,
   "metadata": {},
   "outputs": [],
   "source": [
    "onehot_enc = OneHotEncoder(sparse = False, handle_unknown = 'ignore')"
   ]
  },
  {
   "cell_type": "code",
   "execution_count": 38,
   "metadata": {},
   "outputs": [
    {
     "data": {
      "text/plain": [
       "array([[0., 0., 1., ..., 0., 0., 0.],\n",
       "       [1., 0., 0., ..., 0., 0., 0.],\n",
       "       [0., 0., 1., ..., 0., 0., 0.],\n",
       "       ...,\n",
       "       [0., 0., 0., ..., 0., 0., 0.],\n",
       "       [0., 0., 1., ..., 0., 0., 0.],\n",
       "       [1., 0., 0., ..., 0., 0., 0.]])"
      ]
     },
     "execution_count": 38,
     "metadata": {},
     "output_type": "execute_result"
    }
   ],
   "source": [
    "nominal_cols = ['heat_source', 'sewer_system', 'DistrictName']\n",
    "onehot_enc.fit_transform(X_train[nominal_cols])"
   ]
  },
  {
   "cell_type": "code",
   "execution_count": 39,
   "metadata": {},
   "outputs": [
    {
     "data": {
      "text/plain": [
       "(23336, 29)"
      ]
     },
     "execution_count": 39,
     "metadata": {},
     "output_type": "execute_result"
    }
   ],
   "source": [
    "X_train_nom_trans = onehot_enc.fit_transform(X_train[nominal_cols])\n",
    "X_train_nom_trans.shape"
   ]
  },
  {
   "cell_type": "code",
   "execution_count": 40,
   "metadata": {},
   "outputs": [],
   "source": [
    "cols = onehot_enc.get_feature_names()"
   ]
  },
  {
   "cell_type": "code",
   "execution_count": 41,
   "metadata": {},
   "outputs": [
    {
     "data": {
      "text/html": [
       "<div>\n",
       "<style scoped>\n",
       "    .dataframe tbody tr th:only-of-type {\n",
       "        vertical-align: middle;\n",
       "    }\n",
       "\n",
       "    .dataframe tbody tr th {\n",
       "        vertical-align: top;\n",
       "    }\n",
       "\n",
       "    .dataframe thead th {\n",
       "        text-align: right;\n",
       "    }\n",
       "</style>\n",
       "<table border=\"1\" class=\"dataframe\">\n",
       "  <thead>\n",
       "    <tr style=\"text-align: right;\">\n",
       "      <th></th>\n",
       "      <th>x0_Electricity</th>\n",
       "      <th>x0_Electricity/Solar</th>\n",
       "      <th>x0_Gas</th>\n",
       "      <th>x0_Gas/Solar</th>\n",
       "      <th>x0_Oil</th>\n",
       "      <th>x0_Oil/Solar</th>\n",
       "      <th>x0_Other</th>\n",
       "      <th>x1_PRIVATE</th>\n",
       "      <th>x1_PRIVATE RESTRICTED</th>\n",
       "      <th>x1_PUBLIC</th>\n",
       "      <th>...</th>\n",
       "      <th>x2_Northshore School District</th>\n",
       "      <th>x2_Renton School District</th>\n",
       "      <th>x2_Riverview School District</th>\n",
       "      <th>x2_Seattle School District No. 1</th>\n",
       "      <th>x2_Shoreline School District</th>\n",
       "      <th>x2_Skykomish School District</th>\n",
       "      <th>x2_Snoqualmie Valley School District</th>\n",
       "      <th>x2_Tahoma School District</th>\n",
       "      <th>x2_Tukwila School District</th>\n",
       "      <th>x2_Vashon Island School District</th>\n",
       "    </tr>\n",
       "  </thead>\n",
       "  <tbody>\n",
       "    <tr>\n",
       "      <th>0</th>\n",
       "      <td>0.0</td>\n",
       "      <td>0.0</td>\n",
       "      <td>1.0</td>\n",
       "      <td>0.0</td>\n",
       "      <td>0.0</td>\n",
       "      <td>0.0</td>\n",
       "      <td>0.0</td>\n",
       "      <td>0.0</td>\n",
       "      <td>0.0</td>\n",
       "      <td>1.0</td>\n",
       "      <td>...</td>\n",
       "      <td>0.0</td>\n",
       "      <td>0.0</td>\n",
       "      <td>0.0</td>\n",
       "      <td>0.0</td>\n",
       "      <td>0.0</td>\n",
       "      <td>0.0</td>\n",
       "      <td>1.0</td>\n",
       "      <td>0.0</td>\n",
       "      <td>0.0</td>\n",
       "      <td>0.0</td>\n",
       "    </tr>\n",
       "    <tr>\n",
       "      <th>1</th>\n",
       "      <td>1.0</td>\n",
       "      <td>0.0</td>\n",
       "      <td>0.0</td>\n",
       "      <td>0.0</td>\n",
       "      <td>0.0</td>\n",
       "      <td>0.0</td>\n",
       "      <td>0.0</td>\n",
       "      <td>0.0</td>\n",
       "      <td>0.0</td>\n",
       "      <td>1.0</td>\n",
       "      <td>...</td>\n",
       "      <td>0.0</td>\n",
       "      <td>0.0</td>\n",
       "      <td>0.0</td>\n",
       "      <td>1.0</td>\n",
       "      <td>0.0</td>\n",
       "      <td>0.0</td>\n",
       "      <td>0.0</td>\n",
       "      <td>0.0</td>\n",
       "      <td>0.0</td>\n",
       "      <td>0.0</td>\n",
       "    </tr>\n",
       "    <tr>\n",
       "      <th>2</th>\n",
       "      <td>0.0</td>\n",
       "      <td>0.0</td>\n",
       "      <td>1.0</td>\n",
       "      <td>0.0</td>\n",
       "      <td>0.0</td>\n",
       "      <td>0.0</td>\n",
       "      <td>0.0</td>\n",
       "      <td>0.0</td>\n",
       "      <td>0.0</td>\n",
       "      <td>1.0</td>\n",
       "      <td>...</td>\n",
       "      <td>0.0</td>\n",
       "      <td>0.0</td>\n",
       "      <td>0.0</td>\n",
       "      <td>1.0</td>\n",
       "      <td>0.0</td>\n",
       "      <td>0.0</td>\n",
       "      <td>0.0</td>\n",
       "      <td>0.0</td>\n",
       "      <td>0.0</td>\n",
       "      <td>0.0</td>\n",
       "    </tr>\n",
       "    <tr>\n",
       "      <th>3</th>\n",
       "      <td>0.0</td>\n",
       "      <td>0.0</td>\n",
       "      <td>1.0</td>\n",
       "      <td>0.0</td>\n",
       "      <td>0.0</td>\n",
       "      <td>0.0</td>\n",
       "      <td>0.0</td>\n",
       "      <td>0.0</td>\n",
       "      <td>0.0</td>\n",
       "      <td>1.0</td>\n",
       "      <td>...</td>\n",
       "      <td>0.0</td>\n",
       "      <td>0.0</td>\n",
       "      <td>0.0</td>\n",
       "      <td>0.0</td>\n",
       "      <td>0.0</td>\n",
       "      <td>0.0</td>\n",
       "      <td>0.0</td>\n",
       "      <td>0.0</td>\n",
       "      <td>0.0</td>\n",
       "      <td>0.0</td>\n",
       "    </tr>\n",
       "    <tr>\n",
       "      <th>4</th>\n",
       "      <td>0.0</td>\n",
       "      <td>0.0</td>\n",
       "      <td>1.0</td>\n",
       "      <td>0.0</td>\n",
       "      <td>0.0</td>\n",
       "      <td>0.0</td>\n",
       "      <td>0.0</td>\n",
       "      <td>0.0</td>\n",
       "      <td>0.0</td>\n",
       "      <td>1.0</td>\n",
       "      <td>...</td>\n",
       "      <td>0.0</td>\n",
       "      <td>0.0</td>\n",
       "      <td>0.0</td>\n",
       "      <td>0.0</td>\n",
       "      <td>0.0</td>\n",
       "      <td>0.0</td>\n",
       "      <td>0.0</td>\n",
       "      <td>0.0</td>\n",
       "      <td>0.0</td>\n",
       "      <td>0.0</td>\n",
       "    </tr>\n",
       "  </tbody>\n",
       "</table>\n",
       "<p>5 rows × 29 columns</p>\n",
       "</div>"
      ],
      "text/plain": [
       "   x0_Electricity  x0_Electricity/Solar  x0_Gas  x0_Gas/Solar  x0_Oil  \\\n",
       "0             0.0                   0.0     1.0           0.0     0.0   \n",
       "1             1.0                   0.0     0.0           0.0     0.0   \n",
       "2             0.0                   0.0     1.0           0.0     0.0   \n",
       "3             0.0                   0.0     1.0           0.0     0.0   \n",
       "4             0.0                   0.0     1.0           0.0     0.0   \n",
       "\n",
       "   x0_Oil/Solar  x0_Other  x1_PRIVATE  x1_PRIVATE RESTRICTED  x1_PUBLIC  ...  \\\n",
       "0           0.0       0.0         0.0                    0.0        1.0  ...   \n",
       "1           0.0       0.0         0.0                    0.0        1.0  ...   \n",
       "2           0.0       0.0         0.0                    0.0        1.0  ...   \n",
       "3           0.0       0.0         0.0                    0.0        1.0  ...   \n",
       "4           0.0       0.0         0.0                    0.0        1.0  ...   \n",
       "\n",
       "   x2_Northshore School District  x2_Renton School District  \\\n",
       "0                            0.0                        0.0   \n",
       "1                            0.0                        0.0   \n",
       "2                            0.0                        0.0   \n",
       "3                            0.0                        0.0   \n",
       "4                            0.0                        0.0   \n",
       "\n",
       "   x2_Riverview School District  x2_Seattle School District No. 1  \\\n",
       "0                           0.0                               0.0   \n",
       "1                           0.0                               1.0   \n",
       "2                           0.0                               1.0   \n",
       "3                           0.0                               0.0   \n",
       "4                           0.0                               0.0   \n",
       "\n",
       "   x2_Shoreline School District  x2_Skykomish School District  \\\n",
       "0                           0.0                           0.0   \n",
       "1                           0.0                           0.0   \n",
       "2                           0.0                           0.0   \n",
       "3                           0.0                           0.0   \n",
       "4                           0.0                           0.0   \n",
       "\n",
       "   x2_Snoqualmie Valley School District  x2_Tahoma School District  \\\n",
       "0                                   1.0                        0.0   \n",
       "1                                   0.0                        0.0   \n",
       "2                                   0.0                        0.0   \n",
       "3                                   0.0                        0.0   \n",
       "4                                   0.0                        0.0   \n",
       "\n",
       "   x2_Tukwila School District  x2_Vashon Island School District  \n",
       "0                         0.0                               0.0  \n",
       "1                         0.0                               0.0  \n",
       "2                         0.0                               0.0  \n",
       "3                         0.0                               0.0  \n",
       "4                         0.0                               0.0  \n",
       "\n",
       "[5 rows x 29 columns]"
      ]
     },
     "execution_count": 41,
     "metadata": {},
     "output_type": "execute_result"
    }
   ],
   "source": [
    "X_train_nom = pd.DataFrame(X_train_nom_trans, columns = cols)\n",
    "X_train_nom.head()"
   ]
  },
  {
   "cell_type": "markdown",
   "metadata": {},
   "source": [
    "*Test Data*"
   ]
  },
  {
   "cell_type": "code",
   "execution_count": 42,
   "metadata": {},
   "outputs": [
    {
     "data": {
      "text/plain": [
       "(5835, 29)"
      ]
     },
     "execution_count": 42,
     "metadata": {},
     "output_type": "execute_result"
    }
   ],
   "source": [
    "X_test_nom_trans = onehot_enc.transform(X_test[nominal_cols])\n",
    "X_test_nom_trans.shape"
   ]
  },
  {
   "cell_type": "code",
   "execution_count": 43,
   "metadata": {},
   "outputs": [],
   "source": [
    "X_test_nom = pd.DataFrame(X_test_nom_trans, columns = cols)"
   ]
  },
  {
   "cell_type": "markdown",
   "metadata": {},
   "source": [
    "##### Combine Discrete/Categorical X/ Predictive Variables"
   ]
  },
  {
   "cell_type": "code",
   "execution_count": 44,
   "metadata": {},
   "outputs": [
    {
     "data": {
      "text/html": [
       "<div>\n",
       "<style scoped>\n",
       "    .dataframe tbody tr th:only-of-type {\n",
       "        vertical-align: middle;\n",
       "    }\n",
       "\n",
       "    .dataframe tbody tr th {\n",
       "        vertical-align: top;\n",
       "    }\n",
       "\n",
       "    .dataframe thead th {\n",
       "        text-align: right;\n",
       "    }\n",
       "</style>\n",
       "<table border=\"1\" class=\"dataframe\">\n",
       "  <thead>\n",
       "    <tr style=\"text-align: right;\">\n",
       "      <th></th>\n",
       "      <th>condition</th>\n",
       "      <th>grade</th>\n",
       "      <th>x0_Electricity</th>\n",
       "      <th>x0_Electricity/Solar</th>\n",
       "      <th>x0_Gas</th>\n",
       "      <th>x0_Gas/Solar</th>\n",
       "      <th>x0_Oil</th>\n",
       "      <th>x0_Oil/Solar</th>\n",
       "      <th>x0_Other</th>\n",
       "      <th>x1_PRIVATE</th>\n",
       "      <th>...</th>\n",
       "      <th>x2_Northshore School District</th>\n",
       "      <th>x2_Renton School District</th>\n",
       "      <th>x2_Riverview School District</th>\n",
       "      <th>x2_Seattle School District No. 1</th>\n",
       "      <th>x2_Shoreline School District</th>\n",
       "      <th>x2_Skykomish School District</th>\n",
       "      <th>x2_Snoqualmie Valley School District</th>\n",
       "      <th>x2_Tahoma School District</th>\n",
       "      <th>x2_Tukwila School District</th>\n",
       "      <th>x2_Vashon Island School District</th>\n",
       "    </tr>\n",
       "  </thead>\n",
       "  <tbody>\n",
       "    <tr>\n",
       "      <th>0</th>\n",
       "      <td>3.0</td>\n",
       "      <td>7.0</td>\n",
       "      <td>0.0</td>\n",
       "      <td>0.0</td>\n",
       "      <td>1.0</td>\n",
       "      <td>0.0</td>\n",
       "      <td>0.0</td>\n",
       "      <td>0.0</td>\n",
       "      <td>0.0</td>\n",
       "      <td>0.0</td>\n",
       "      <td>...</td>\n",
       "      <td>0.0</td>\n",
       "      <td>0.0</td>\n",
       "      <td>0.0</td>\n",
       "      <td>0.0</td>\n",
       "      <td>0.0</td>\n",
       "      <td>0.0</td>\n",
       "      <td>1.0</td>\n",
       "      <td>0.0</td>\n",
       "      <td>0.0</td>\n",
       "      <td>0.0</td>\n",
       "    </tr>\n",
       "    <tr>\n",
       "      <th>1</th>\n",
       "      <td>3.0</td>\n",
       "      <td>5.0</td>\n",
       "      <td>1.0</td>\n",
       "      <td>0.0</td>\n",
       "      <td>0.0</td>\n",
       "      <td>0.0</td>\n",
       "      <td>0.0</td>\n",
       "      <td>0.0</td>\n",
       "      <td>0.0</td>\n",
       "      <td>0.0</td>\n",
       "      <td>...</td>\n",
       "      <td>0.0</td>\n",
       "      <td>0.0</td>\n",
       "      <td>0.0</td>\n",
       "      <td>1.0</td>\n",
       "      <td>0.0</td>\n",
       "      <td>0.0</td>\n",
       "      <td>0.0</td>\n",
       "      <td>0.0</td>\n",
       "      <td>0.0</td>\n",
       "      <td>0.0</td>\n",
       "    </tr>\n",
       "    <tr>\n",
       "      <th>2</th>\n",
       "      <td>3.0</td>\n",
       "      <td>5.0</td>\n",
       "      <td>0.0</td>\n",
       "      <td>0.0</td>\n",
       "      <td>1.0</td>\n",
       "      <td>0.0</td>\n",
       "      <td>0.0</td>\n",
       "      <td>0.0</td>\n",
       "      <td>0.0</td>\n",
       "      <td>0.0</td>\n",
       "      <td>...</td>\n",
       "      <td>0.0</td>\n",
       "      <td>0.0</td>\n",
       "      <td>0.0</td>\n",
       "      <td>1.0</td>\n",
       "      <td>0.0</td>\n",
       "      <td>0.0</td>\n",
       "      <td>0.0</td>\n",
       "      <td>0.0</td>\n",
       "      <td>0.0</td>\n",
       "      <td>0.0</td>\n",
       "    </tr>\n",
       "    <tr>\n",
       "      <th>3</th>\n",
       "      <td>2.0</td>\n",
       "      <td>6.0</td>\n",
       "      <td>0.0</td>\n",
       "      <td>0.0</td>\n",
       "      <td>1.0</td>\n",
       "      <td>0.0</td>\n",
       "      <td>0.0</td>\n",
       "      <td>0.0</td>\n",
       "      <td>0.0</td>\n",
       "      <td>0.0</td>\n",
       "      <td>...</td>\n",
       "      <td>0.0</td>\n",
       "      <td>0.0</td>\n",
       "      <td>0.0</td>\n",
       "      <td>0.0</td>\n",
       "      <td>0.0</td>\n",
       "      <td>0.0</td>\n",
       "      <td>0.0</td>\n",
       "      <td>0.0</td>\n",
       "      <td>0.0</td>\n",
       "      <td>0.0</td>\n",
       "    </tr>\n",
       "    <tr>\n",
       "      <th>4</th>\n",
       "      <td>2.0</td>\n",
       "      <td>6.0</td>\n",
       "      <td>0.0</td>\n",
       "      <td>0.0</td>\n",
       "      <td>1.0</td>\n",
       "      <td>0.0</td>\n",
       "      <td>0.0</td>\n",
       "      <td>0.0</td>\n",
       "      <td>0.0</td>\n",
       "      <td>0.0</td>\n",
       "      <td>...</td>\n",
       "      <td>0.0</td>\n",
       "      <td>0.0</td>\n",
       "      <td>0.0</td>\n",
       "      <td>0.0</td>\n",
       "      <td>0.0</td>\n",
       "      <td>0.0</td>\n",
       "      <td>0.0</td>\n",
       "      <td>0.0</td>\n",
       "      <td>0.0</td>\n",
       "      <td>0.0</td>\n",
       "    </tr>\n",
       "    <tr>\n",
       "      <th>...</th>\n",
       "      <td>...</td>\n",
       "      <td>...</td>\n",
       "      <td>...</td>\n",
       "      <td>...</td>\n",
       "      <td>...</td>\n",
       "      <td>...</td>\n",
       "      <td>...</td>\n",
       "      <td>...</td>\n",
       "      <td>...</td>\n",
       "      <td>...</td>\n",
       "      <td>...</td>\n",
       "      <td>...</td>\n",
       "      <td>...</td>\n",
       "      <td>...</td>\n",
       "      <td>...</td>\n",
       "      <td>...</td>\n",
       "      <td>...</td>\n",
       "      <td>...</td>\n",
       "      <td>...</td>\n",
       "      <td>...</td>\n",
       "      <td>...</td>\n",
       "    </tr>\n",
       "    <tr>\n",
       "      <th>23331</th>\n",
       "      <td>3.0</td>\n",
       "      <td>6.0</td>\n",
       "      <td>1.0</td>\n",
       "      <td>0.0</td>\n",
       "      <td>0.0</td>\n",
       "      <td>0.0</td>\n",
       "      <td>0.0</td>\n",
       "      <td>0.0</td>\n",
       "      <td>0.0</td>\n",
       "      <td>0.0</td>\n",
       "      <td>...</td>\n",
       "      <td>0.0</td>\n",
       "      <td>0.0</td>\n",
       "      <td>0.0</td>\n",
       "      <td>0.0</td>\n",
       "      <td>0.0</td>\n",
       "      <td>0.0</td>\n",
       "      <td>0.0</td>\n",
       "      <td>0.0</td>\n",
       "      <td>0.0</td>\n",
       "      <td>0.0</td>\n",
       "    </tr>\n",
       "    <tr>\n",
       "      <th>23332</th>\n",
       "      <td>4.0</td>\n",
       "      <td>5.0</td>\n",
       "      <td>1.0</td>\n",
       "      <td>0.0</td>\n",
       "      <td>0.0</td>\n",
       "      <td>0.0</td>\n",
       "      <td>0.0</td>\n",
       "      <td>0.0</td>\n",
       "      <td>0.0</td>\n",
       "      <td>0.0</td>\n",
       "      <td>...</td>\n",
       "      <td>0.0</td>\n",
       "      <td>0.0</td>\n",
       "      <td>0.0</td>\n",
       "      <td>1.0</td>\n",
       "      <td>0.0</td>\n",
       "      <td>0.0</td>\n",
       "      <td>0.0</td>\n",
       "      <td>0.0</td>\n",
       "      <td>0.0</td>\n",
       "      <td>0.0</td>\n",
       "    </tr>\n",
       "    <tr>\n",
       "      <th>23333</th>\n",
       "      <td>3.0</td>\n",
       "      <td>5.0</td>\n",
       "      <td>0.0</td>\n",
       "      <td>0.0</td>\n",
       "      <td>0.0</td>\n",
       "      <td>0.0</td>\n",
       "      <td>0.0</td>\n",
       "      <td>0.0</td>\n",
       "      <td>1.0</td>\n",
       "      <td>0.0</td>\n",
       "      <td>...</td>\n",
       "      <td>0.0</td>\n",
       "      <td>1.0</td>\n",
       "      <td>0.0</td>\n",
       "      <td>0.0</td>\n",
       "      <td>0.0</td>\n",
       "      <td>0.0</td>\n",
       "      <td>0.0</td>\n",
       "      <td>0.0</td>\n",
       "      <td>0.0</td>\n",
       "      <td>0.0</td>\n",
       "    </tr>\n",
       "    <tr>\n",
       "      <th>23334</th>\n",
       "      <td>4.0</td>\n",
       "      <td>5.0</td>\n",
       "      <td>0.0</td>\n",
       "      <td>0.0</td>\n",
       "      <td>1.0</td>\n",
       "      <td>0.0</td>\n",
       "      <td>0.0</td>\n",
       "      <td>0.0</td>\n",
       "      <td>0.0</td>\n",
       "      <td>0.0</td>\n",
       "      <td>...</td>\n",
       "      <td>0.0</td>\n",
       "      <td>0.0</td>\n",
       "      <td>0.0</td>\n",
       "      <td>0.0</td>\n",
       "      <td>0.0</td>\n",
       "      <td>0.0</td>\n",
       "      <td>0.0</td>\n",
       "      <td>0.0</td>\n",
       "      <td>0.0</td>\n",
       "      <td>0.0</td>\n",
       "    </tr>\n",
       "    <tr>\n",
       "      <th>23335</th>\n",
       "      <td>2.0</td>\n",
       "      <td>6.0</td>\n",
       "      <td>1.0</td>\n",
       "      <td>0.0</td>\n",
       "      <td>0.0</td>\n",
       "      <td>0.0</td>\n",
       "      <td>0.0</td>\n",
       "      <td>0.0</td>\n",
       "      <td>0.0</td>\n",
       "      <td>0.0</td>\n",
       "      <td>...</td>\n",
       "      <td>0.0</td>\n",
       "      <td>0.0</td>\n",
       "      <td>0.0</td>\n",
       "      <td>0.0</td>\n",
       "      <td>0.0</td>\n",
       "      <td>0.0</td>\n",
       "      <td>0.0</td>\n",
       "      <td>0.0</td>\n",
       "      <td>0.0</td>\n",
       "      <td>0.0</td>\n",
       "    </tr>\n",
       "  </tbody>\n",
       "</table>\n",
       "<p>23336 rows × 31 columns</p>\n",
       "</div>"
      ],
      "text/plain": [
       "       condition  grade  x0_Electricity  x0_Electricity/Solar  x0_Gas  \\\n",
       "0            3.0    7.0             0.0                   0.0     1.0   \n",
       "1            3.0    5.0             1.0                   0.0     0.0   \n",
       "2            3.0    5.0             0.0                   0.0     1.0   \n",
       "3            2.0    6.0             0.0                   0.0     1.0   \n",
       "4            2.0    6.0             0.0                   0.0     1.0   \n",
       "...          ...    ...             ...                   ...     ...   \n",
       "23331        3.0    6.0             1.0                   0.0     0.0   \n",
       "23332        4.0    5.0             1.0                   0.0     0.0   \n",
       "23333        3.0    5.0             0.0                   0.0     0.0   \n",
       "23334        4.0    5.0             0.0                   0.0     1.0   \n",
       "23335        2.0    6.0             1.0                   0.0     0.0   \n",
       "\n",
       "       x0_Gas/Solar  x0_Oil  x0_Oil/Solar  x0_Other  x1_PRIVATE  ...  \\\n",
       "0               0.0     0.0           0.0       0.0         0.0  ...   \n",
       "1               0.0     0.0           0.0       0.0         0.0  ...   \n",
       "2               0.0     0.0           0.0       0.0         0.0  ...   \n",
       "3               0.0     0.0           0.0       0.0         0.0  ...   \n",
       "4               0.0     0.0           0.0       0.0         0.0  ...   \n",
       "...             ...     ...           ...       ...         ...  ...   \n",
       "23331           0.0     0.0           0.0       0.0         0.0  ...   \n",
       "23332           0.0     0.0           0.0       0.0         0.0  ...   \n",
       "23333           0.0     0.0           0.0       1.0         0.0  ...   \n",
       "23334           0.0     0.0           0.0       0.0         0.0  ...   \n",
       "23335           0.0     0.0           0.0       0.0         0.0  ...   \n",
       "\n",
       "       x2_Northshore School District  x2_Renton School District  \\\n",
       "0                                0.0                        0.0   \n",
       "1                                0.0                        0.0   \n",
       "2                                0.0                        0.0   \n",
       "3                                0.0                        0.0   \n",
       "4                                0.0                        0.0   \n",
       "...                              ...                        ...   \n",
       "23331                            0.0                        0.0   \n",
       "23332                            0.0                        0.0   \n",
       "23333                            0.0                        1.0   \n",
       "23334                            0.0                        0.0   \n",
       "23335                            0.0                        0.0   \n",
       "\n",
       "       x2_Riverview School District  x2_Seattle School District No. 1  \\\n",
       "0                               0.0                               0.0   \n",
       "1                               0.0                               1.0   \n",
       "2                               0.0                               1.0   \n",
       "3                               0.0                               0.0   \n",
       "4                               0.0                               0.0   \n",
       "...                             ...                               ...   \n",
       "23331                           0.0                               0.0   \n",
       "23332                           0.0                               1.0   \n",
       "23333                           0.0                               0.0   \n",
       "23334                           0.0                               0.0   \n",
       "23335                           0.0                               0.0   \n",
       "\n",
       "       x2_Shoreline School District  x2_Skykomish School District  \\\n",
       "0                               0.0                           0.0   \n",
       "1                               0.0                           0.0   \n",
       "2                               0.0                           0.0   \n",
       "3                               0.0                           0.0   \n",
       "4                               0.0                           0.0   \n",
       "...                             ...                           ...   \n",
       "23331                           0.0                           0.0   \n",
       "23332                           0.0                           0.0   \n",
       "23333                           0.0                           0.0   \n",
       "23334                           0.0                           0.0   \n",
       "23335                           0.0                           0.0   \n",
       "\n",
       "       x2_Snoqualmie Valley School District  x2_Tahoma School District  \\\n",
       "0                                       1.0                        0.0   \n",
       "1                                       0.0                        0.0   \n",
       "2                                       0.0                        0.0   \n",
       "3                                       0.0                        0.0   \n",
       "4                                       0.0                        0.0   \n",
       "...                                     ...                        ...   \n",
       "23331                                   0.0                        0.0   \n",
       "23332                                   0.0                        0.0   \n",
       "23333                                   0.0                        0.0   \n",
       "23334                                   0.0                        0.0   \n",
       "23335                                   0.0                        0.0   \n",
       "\n",
       "       x2_Tukwila School District  x2_Vashon Island School District  \n",
       "0                             0.0                               0.0  \n",
       "1                             0.0                               0.0  \n",
       "2                             0.0                               0.0  \n",
       "3                             0.0                               0.0  \n",
       "4                             0.0                               0.0  \n",
       "...                           ...                               ...  \n",
       "23331                         0.0                               0.0  \n",
       "23332                         0.0                               0.0  \n",
       "23333                         0.0                               0.0  \n",
       "23334                         0.0                               0.0  \n",
       "23335                         0.0                               0.0  \n",
       "\n",
       "[23336 rows x 31 columns]"
      ]
     },
     "execution_count": 44,
     "metadata": {},
     "output_type": "execute_result"
    }
   ],
   "source": [
    "#combine all catergorical variables\n",
    "\n",
    "X_train_cat_df = pd.concat([X_train_ord,X_train_nom],axis = 1)\n",
    "X_train_cat_df"
   ]
  },
  {
   "cell_type": "markdown",
   "metadata": {},
   "source": [
    "*Test Data*"
   ]
  },
  {
   "cell_type": "code",
   "execution_count": 45,
   "metadata": {},
   "outputs": [],
   "source": [
    "X_test_cat_df = pd.concat([X_test_ord,X_test_nom],axis = 1)"
   ]
  },
  {
   "cell_type": "markdown",
   "metadata": {},
   "source": [
    "#### Combine Continuous and Discrete X/ Predictive Variables"
   ]
  },
  {
   "cell_type": "code",
   "execution_count": 46,
   "metadata": {},
   "outputs": [],
   "source": [
    "#Train Data - Combine all processed X Variables\n",
    "X_process_train = pd.concat([X_train_numeric.reset_index(),X_train_cat_df],axis = 1)"
   ]
  },
  {
   "cell_type": "code",
   "execution_count": 47,
   "metadata": {},
   "outputs": [
    {
     "data": {
      "text/html": [
       "<div>\n",
       "<style scoped>\n",
       "    .dataframe tbody tr th:only-of-type {\n",
       "        vertical-align: middle;\n",
       "    }\n",
       "\n",
       "    .dataframe tbody tr th {\n",
       "        vertical-align: top;\n",
       "    }\n",
       "\n",
       "    .dataframe thead th {\n",
       "        text-align: right;\n",
       "    }\n",
       "</style>\n",
       "<table border=\"1\" class=\"dataframe\">\n",
       "  <thead>\n",
       "    <tr style=\"text-align: right;\">\n",
       "      <th></th>\n",
       "      <th>index</th>\n",
       "      <th>bedrooms</th>\n",
       "      <th>bathrooms</th>\n",
       "      <th>sqft_living</th>\n",
       "      <th>sqft_lot</th>\n",
       "      <th>floors</th>\n",
       "      <th>sqft_basement</th>\n",
       "      <th>sqft_garage</th>\n",
       "      <th>sqft_patio</th>\n",
       "      <th>yr_built</th>\n",
       "      <th>...</th>\n",
       "      <th>x2_Northshore School District</th>\n",
       "      <th>x2_Renton School District</th>\n",
       "      <th>x2_Riverview School District</th>\n",
       "      <th>x2_Seattle School District No. 1</th>\n",
       "      <th>x2_Shoreline School District</th>\n",
       "      <th>x2_Skykomish School District</th>\n",
       "      <th>x2_Snoqualmie Valley School District</th>\n",
       "      <th>x2_Tahoma School District</th>\n",
       "      <th>x2_Tukwila School District</th>\n",
       "      <th>x2_Vashon Island School District</th>\n",
       "    </tr>\n",
       "  </thead>\n",
       "  <tbody>\n",
       "    <tr>\n",
       "      <th>0</th>\n",
       "      <td>28186</td>\n",
       "      <td>4</td>\n",
       "      <td>2.5</td>\n",
       "      <td>2590</td>\n",
       "      <td>14468</td>\n",
       "      <td>1.0</td>\n",
       "      <td>960</td>\n",
       "      <td>530</td>\n",
       "      <td>240</td>\n",
       "      <td>1977</td>\n",
       "      <td>...</td>\n",
       "      <td>0.0</td>\n",
       "      <td>0.0</td>\n",
       "      <td>0.0</td>\n",
       "      <td>0.0</td>\n",
       "      <td>0.0</td>\n",
       "      <td>0.0</td>\n",
       "      <td>1.0</td>\n",
       "      <td>0.0</td>\n",
       "      <td>0.0</td>\n",
       "      <td>0.0</td>\n",
       "    </tr>\n",
       "    <tr>\n",
       "      <th>1</th>\n",
       "      <td>4121</td>\n",
       "      <td>4</td>\n",
       "      <td>2.0</td>\n",
       "      <td>1980</td>\n",
       "      <td>7200</td>\n",
       "      <td>1.0</td>\n",
       "      <td>990</td>\n",
       "      <td>0</td>\n",
       "      <td>110</td>\n",
       "      <td>1946</td>\n",
       "      <td>...</td>\n",
       "      <td>0.0</td>\n",
       "      <td>0.0</td>\n",
       "      <td>0.0</td>\n",
       "      <td>1.0</td>\n",
       "      <td>0.0</td>\n",
       "      <td>0.0</td>\n",
       "      <td>0.0</td>\n",
       "      <td>0.0</td>\n",
       "      <td>0.0</td>\n",
       "      <td>0.0</td>\n",
       "    </tr>\n",
       "    <tr>\n",
       "      <th>2</th>\n",
       "      <td>9733</td>\n",
       "      <td>3</td>\n",
       "      <td>1.5</td>\n",
       "      <td>940</td>\n",
       "      <td>5625</td>\n",
       "      <td>1.5</td>\n",
       "      <td>670</td>\n",
       "      <td>0</td>\n",
       "      <td>160</td>\n",
       "      <td>1926</td>\n",
       "      <td>...</td>\n",
       "      <td>0.0</td>\n",
       "      <td>0.0</td>\n",
       "      <td>0.0</td>\n",
       "      <td>1.0</td>\n",
       "      <td>0.0</td>\n",
       "      <td>0.0</td>\n",
       "      <td>0.0</td>\n",
       "      <td>0.0</td>\n",
       "      <td>0.0</td>\n",
       "      <td>0.0</td>\n",
       "    </tr>\n",
       "    <tr>\n",
       "      <th>3</th>\n",
       "      <td>20141</td>\n",
       "      <td>3</td>\n",
       "      <td>2.5</td>\n",
       "      <td>2010</td>\n",
       "      <td>4712</td>\n",
       "      <td>2.0</td>\n",
       "      <td>0</td>\n",
       "      <td>450</td>\n",
       "      <td>140</td>\n",
       "      <td>2012</td>\n",
       "      <td>...</td>\n",
       "      <td>0.0</td>\n",
       "      <td>0.0</td>\n",
       "      <td>0.0</td>\n",
       "      <td>0.0</td>\n",
       "      <td>0.0</td>\n",
       "      <td>0.0</td>\n",
       "      <td>0.0</td>\n",
       "      <td>0.0</td>\n",
       "      <td>0.0</td>\n",
       "      <td>0.0</td>\n",
       "    </tr>\n",
       "    <tr>\n",
       "      <th>4</th>\n",
       "      <td>27796</td>\n",
       "      <td>4</td>\n",
       "      <td>3.0</td>\n",
       "      <td>2590</td>\n",
       "      <td>7213</td>\n",
       "      <td>2.0</td>\n",
       "      <td>0</td>\n",
       "      <td>640</td>\n",
       "      <td>96</td>\n",
       "      <td>2001</td>\n",
       "      <td>...</td>\n",
       "      <td>0.0</td>\n",
       "      <td>0.0</td>\n",
       "      <td>0.0</td>\n",
       "      <td>0.0</td>\n",
       "      <td>0.0</td>\n",
       "      <td>0.0</td>\n",
       "      <td>0.0</td>\n",
       "      <td>0.0</td>\n",
       "      <td>0.0</td>\n",
       "      <td>0.0</td>\n",
       "    </tr>\n",
       "  </tbody>\n",
       "</table>\n",
       "<p>5 rows × 45 columns</p>\n",
       "</div>"
      ],
      "text/plain": [
       "   index  bedrooms  bathrooms  sqft_living  sqft_lot  floors  sqft_basement  \\\n",
       "0  28186         4        2.5         2590     14468     1.0            960   \n",
       "1   4121         4        2.0         1980      7200     1.0            990   \n",
       "2   9733         3        1.5          940      5625     1.5            670   \n",
       "3  20141         3        2.5         2010      4712     2.0              0   \n",
       "4  27796         4        3.0         2590      7213     2.0              0   \n",
       "\n",
       "   sqft_garage  sqft_patio  yr_built  ...  x2_Northshore School District  \\\n",
       "0          530         240      1977  ...                            0.0   \n",
       "1            0         110      1946  ...                            0.0   \n",
       "2            0         160      1926  ...                            0.0   \n",
       "3          450         140      2012  ...                            0.0   \n",
       "4          640          96      2001  ...                            0.0   \n",
       "\n",
       "   x2_Renton School District  x2_Riverview School District  \\\n",
       "0                        0.0                           0.0   \n",
       "1                        0.0                           0.0   \n",
       "2                        0.0                           0.0   \n",
       "3                        0.0                           0.0   \n",
       "4                        0.0                           0.0   \n",
       "\n",
       "   x2_Seattle School District No. 1  x2_Shoreline School District  \\\n",
       "0                               0.0                           0.0   \n",
       "1                               1.0                           0.0   \n",
       "2                               1.0                           0.0   \n",
       "3                               0.0                           0.0   \n",
       "4                               0.0                           0.0   \n",
       "\n",
       "   x2_Skykomish School District  x2_Snoqualmie Valley School District  \\\n",
       "0                           0.0                                   1.0   \n",
       "1                           0.0                                   0.0   \n",
       "2                           0.0                                   0.0   \n",
       "3                           0.0                                   0.0   \n",
       "4                           0.0                                   0.0   \n",
       "\n",
       "   x2_Tahoma School District  x2_Tukwila School District  \\\n",
       "0                        0.0                         0.0   \n",
       "1                        0.0                         0.0   \n",
       "2                        0.0                         0.0   \n",
       "3                        0.0                         0.0   \n",
       "4                        0.0                         0.0   \n",
       "\n",
       "   x2_Vashon Island School District  \n",
       "0                               0.0  \n",
       "1                               0.0  \n",
       "2                               0.0  \n",
       "3                               0.0  \n",
       "4                               0.0  \n",
       "\n",
       "[5 rows x 45 columns]"
      ]
     },
     "execution_count": 47,
     "metadata": {},
     "output_type": "execute_result"
    }
   ],
   "source": [
    "X_process_train.head()"
   ]
  },
  {
   "cell_type": "code",
   "execution_count": 48,
   "metadata": {},
   "outputs": [
    {
     "data": {
      "text/plain": [
       "(23336, 45)"
      ]
     },
     "execution_count": 48,
     "metadata": {},
     "output_type": "execute_result"
    }
   ],
   "source": [
    "X_process_train.shape"
   ]
  },
  {
   "cell_type": "markdown",
   "metadata": {},
   "source": [
    "*Test Data*"
   ]
  },
  {
   "cell_type": "code",
   "execution_count": 49,
   "metadata": {},
   "outputs": [],
   "source": [
    "X_process_test = pd.concat([X_test_numeric.reset_index(),X_test_cat_df],axis = 1)"
   ]
  },
  {
   "cell_type": "markdown",
   "metadata": {},
   "source": [
    "#### Scale the Data"
   ]
  },
  {
   "cell_type": "code",
   "execution_count": 50,
   "metadata": {},
   "outputs": [],
   "source": [
    "# Now we'll apply it to our data by using the .fit() (calculates stds and means) and .transform() methods.\n",
    "ss = StandardScaler()\n",
    "#Train Data\n",
    "ss.fit(X_process_train)\n",
    "X_standard_process_train = ss.transform(X_process_train)\n",
    "\n",
    "#Test Data\n",
    "X_standard_process_test = ss.transform(X_process_test)"
   ]
  },
  {
   "cell_type": "markdown",
   "metadata": {},
   "source": [
    "#### Creating, Fitting, and Running the Model"
   ]
  },
  {
   "cell_type": "code",
   "execution_count": 51,
   "metadata": {},
   "outputs": [],
   "source": [
    "# Instantiate model\n",
    "lr_simple_model = LinearRegression()\n",
    "\n",
    "# Fit model\n",
    "result = lr_simple_model.fit(X_standard_process_train, y_train)"
   ]
  },
  {
   "cell_type": "code",
   "execution_count": 52,
   "metadata": {},
   "outputs": [
    {
     "data": {
      "text/plain": [
       "array([-5.40237549e+03, -1.10982818e+05,  7.21482592e+04,  4.13902512e+05,\n",
       "        3.46241800e+04, -4.11260979e+04, -4.40266016e+04, -8.61921172e+03,\n",
       "        3.62051863e+04, -1.05621551e+05, -5.83092241e+15,  1.39399129e+16,\n",
       "       -3.51875548e+04, -2.38202209e+16,  1.24475769e+04,  1.81524276e+05,\n",
       "        1.53169831e+16,  1.62276786e+15,  1.75317966e+16,  2.15586275e+15,\n",
       "        1.13243094e+16,  4.95353730e+14,  1.07925134e+15, -2.85820540e+15,\n",
       "       -1.05017342e+14, -2.86023460e+15, -7.42616573e+13,  8.80574131e+15,\n",
       "        1.84089738e+16,  1.80529942e+16,  5.97320060e+15,  1.01073662e+16,\n",
       "        1.04354533e+16,  1.67563272e+16,  1.84808741e+16,  1.81659720e+16,\n",
       "        8.01054786e+15,  1.67643486e+16,  2.89583325e+16,  1.70311696e+16,\n",
       "        1.09038813e+16,  1.41009466e+16,  2.24092662e+16,  6.12298375e+15,\n",
       "        6.38392334e+15])"
      ]
     },
     "execution_count": 52,
     "metadata": {},
     "output_type": "execute_result"
    }
   ],
   "source": [
    "# Retrieve estimated slope coefficient\n",
    "result.coef_"
   ]
  },
  {
   "cell_type": "code",
   "execution_count": 53,
   "metadata": {},
   "outputs": [
    {
     "data": {
      "text/plain": [
       "1109279.1206345283"
      ]
     },
     "execution_count": 53,
     "metadata": {},
     "output_type": "execute_result"
    }
   ],
   "source": [
    "# Retrieve estimated y-intercept coefficient\n",
    "result.intercept_"
   ]
  },
  {
   "cell_type": "code",
   "execution_count": 54,
   "metadata": {},
   "outputs": [
    {
     "name": "stdout",
     "output_type": "stream",
     "text": [
      "Second Model Train: 0.5562100896792812\n",
      "Second Model Test: 0.5927505584989258\n"
     ]
    }
   ],
   "source": [
    "#GIVES US OUR R**2\n",
    "print(\"Second Model Train:\" , lr_simple_model.score(X_standard_process_train, y_train))\n",
    "print(\"Second Model Test:\" , lr_simple_model.score(X_standard_process_test, y_test))"
   ]
  },
  {
   "cell_type": "markdown",
   "metadata": {},
   "source": [
    "INTERPRET RESULTS OF SECOND MODEL"
   ]
  },
  {
   "cell_type": "markdown",
   "metadata": {},
   "source": [
    "### Third Model"
   ]
  },
  {
   "cell_type": "markdown",
   "metadata": {},
   "source": [
    "Only using the top three most correlated numeric variables (`bathrooms`,`sqft_living`,`sqft_patio`)"
   ]
  },
  {
   "cell_type": "code",
   "execution_count": 55,
   "metadata": {},
   "outputs": [],
   "source": [
    "# Prepare data\n",
    "X = final_kc_df.drop('price', axis=1)\n",
    "y = final_kc_df['price']"
   ]
  },
  {
   "cell_type": "code",
   "execution_count": 56,
   "metadata": {},
   "outputs": [],
   "source": [
    "# Test/Train Split - Train 80% of Data, Test 20% of Data\n",
    "X_train, X_test, y_train, y_test = train_test_split(X, y, test_size = 0.2, random_state = 42)"
   ]
  },
  {
   "cell_type": "markdown",
   "metadata": {},
   "source": [
    "#### Continuous X/ Predictive Variables"
   ]
  },
  {
   "cell_type": "code",
   "execution_count": 57,
   "metadata": {},
   "outputs": [],
   "source": [
    "#Separate Continuous X Variables from rest of X Variables"
   ]
  },
  {
   "cell_type": "markdown",
   "metadata": {},
   "source": [
    "*Train Data*"
   ]
  },
  {
   "cell_type": "code",
   "execution_count": 58,
   "metadata": {},
   "outputs": [],
   "source": [
    "#Define our columns with numeric data\n",
    "numeric_cols = ['bathrooms','sqft_living','sqft_patio']"
   ]
  },
  {
   "cell_type": "code",
   "execution_count": 59,
   "metadata": {},
   "outputs": [],
   "source": [
    "#Define our numeric training data\n",
    "X_train_numeric = X_train[numeric_cols]"
   ]
  },
  {
   "cell_type": "markdown",
   "metadata": {},
   "source": [
    "*Test Data*"
   ]
  },
  {
   "cell_type": "code",
   "execution_count": 60,
   "metadata": {},
   "outputs": [],
   "source": [
    "#Define our numeric testing data\n",
    "X_test_numeric = X_test[numeric_cols]"
   ]
  },
  {
   "cell_type": "markdown",
   "metadata": {},
   "source": [
    "#### Discrete X/ Predictive Variables"
   ]
  },
  {
   "cell_type": "markdown",
   "metadata": {},
   "source": [
    "#### Discrete Ordinal X/ Predictive Variables"
   ]
  },
  {
   "cell_type": "code",
   "execution_count": 61,
   "metadata": {},
   "outputs": [],
   "source": [
    "#Separate Discrete Ordinal X Variables from rest of X Variables"
   ]
  },
  {
   "cell_type": "markdown",
   "metadata": {},
   "source": [
    "*Train Data*"
   ]
  },
  {
   "cell_type": "code",
   "execution_count": 62,
   "metadata": {},
   "outputs": [],
   "source": [
    "#Define our columns with ordinal data and create train data subset\n",
    "ord_cat_selector = ['condition','grade']\n",
    "X_train_ord_cat_subset = X_train[ord_cat_selector]"
   ]
  },
  {
   "cell_type": "code",
   "execution_count": 63,
   "metadata": {},
   "outputs": [
    {
     "data": {
      "text/plain": [
       "OrdinalEncoder(categories=[['Poor', 'Fair', 'Average', 'Good', 'Very Good'],\n",
       "                           ['2 Substandard', '3 Poor', '4 Low', '5 Fair',\n",
       "                            '6 Low Average', '7 Average', '8 Good', '9 Better',\n",
       "                            '10 Very Good', '11 Excellent', '12 Luxury',\n",
       "                            '13 Mansion']])"
      ]
     },
     "execution_count": 63,
     "metadata": {},
     "output_type": "execute_result"
    }
   ],
   "source": [
    "#Fit ordinal train data\n",
    "o_enc = OrdinalEncoder(categories = [condition_list, grade_list])\n",
    "o_enc.fit(X_train_ord_cat_subset)"
   ]
  },
  {
   "cell_type": "code",
   "execution_count": 64,
   "metadata": {},
   "outputs": [
    {
     "data": {
      "text/plain": [
       "array([[3., 7.],\n",
       "       [3., 5.],\n",
       "       [3., 5.],\n",
       "       ...,\n",
       "       [3., 5.],\n",
       "       [4., 5.],\n",
       "       [2., 6.]])"
      ]
     },
     "execution_count": 64,
     "metadata": {},
     "output_type": "execute_result"
    }
   ],
   "source": [
    "#Transform ordinal train data\n",
    "o_enc.transform(X_train_ord_cat_subset)"
   ]
  },
  {
   "cell_type": "code",
   "execution_count": 65,
   "metadata": {},
   "outputs": [],
   "source": [
    "#Turn ordinal train data back into a dataframe\n",
    "X_train_ord = pd.DataFrame(o_enc.transform(X_train_ord_cat_subset),\n",
    "                        columns = X_train_ord_cat_subset.columns)"
   ]
  },
  {
   "cell_type": "markdown",
   "metadata": {},
   "source": [
    "*Test Data*"
   ]
  },
  {
   "cell_type": "code",
   "execution_count": 66,
   "metadata": {},
   "outputs": [],
   "source": [
    "#Define ordinal test subset\n",
    "X_test_ord_cat_subset = X_test[ord_cat_selector]"
   ]
  },
  {
   "cell_type": "code",
   "execution_count": 67,
   "metadata": {},
   "outputs": [
    {
     "data": {
      "text/plain": [
       "array([[2., 7.],\n",
       "       [2., 6.],\n",
       "       [3., 5.],\n",
       "       ...,\n",
       "       [2., 6.],\n",
       "       [4., 4.],\n",
       "       [2., 5.]])"
      ]
     },
     "execution_count": 67,
     "metadata": {},
     "output_type": "execute_result"
    }
   ],
   "source": [
    "#Transform ordinal test data\n",
    "o_enc.transform(X_test_ord_cat_subset)"
   ]
  },
  {
   "cell_type": "code",
   "execution_count": 68,
   "metadata": {},
   "outputs": [],
   "source": [
    "#Turn ordinal test data back into a dataframe\n",
    "X_test_ord = pd.DataFrame(o_enc.transform(X_test_ord_cat_subset),\n",
    "                        columns = X_test_ord_cat_subset.columns)"
   ]
  },
  {
   "cell_type": "markdown",
   "metadata": {},
   "source": [
    "#### Discrete Nominal  X/ Predictive Variables"
   ]
  },
  {
   "cell_type": "code",
   "execution_count": 69,
   "metadata": {},
   "outputs": [],
   "source": [
    "#Separate Discrete Nominal X Variables from rest of X Variables"
   ]
  },
  {
   "cell_type": "markdown",
   "metadata": {},
   "source": [
    "*Train Data*"
   ]
  },
  {
   "cell_type": "code",
   "execution_count": 71,
   "metadata": {},
   "outputs": [],
   "source": [
    "#Define nominal columns\n",
    "nominal_cols = ['heat_source','sewer_system','yr_built','Zip Code']"
   ]
  },
  {
   "cell_type": "code",
   "execution_count": 72,
   "metadata": {},
   "outputs": [],
   "source": [
    "#Fit and Transform nominal train data\n",
    "X_train_nom_trans = onehot_enc.fit_transform(X_train[nominal_cols])"
   ]
  },
  {
   "cell_type": "code",
   "execution_count": 73,
   "metadata": {},
   "outputs": [
    {
     "data": {
      "text/plain": [
       "(23336, 211)"
      ]
     },
     "execution_count": 73,
     "metadata": {},
     "output_type": "execute_result"
    }
   ],
   "source": [
    "#View nominal train data shape\n",
    "X_train_nom_trans.shape"
   ]
  },
  {
   "cell_type": "code",
   "execution_count": 74,
   "metadata": {},
   "outputs": [],
   "source": [
    "#Get columns names\n",
    "cols = onehot_enc.get_feature_names()"
   ]
  },
  {
   "cell_type": "code",
   "execution_count": 75,
   "metadata": {},
   "outputs": [
    {
     "data": {
      "text/html": [
       "<div>\n",
       "<style scoped>\n",
       "    .dataframe tbody tr th:only-of-type {\n",
       "        vertical-align: middle;\n",
       "    }\n",
       "\n",
       "    .dataframe tbody tr th {\n",
       "        vertical-align: top;\n",
       "    }\n",
       "\n",
       "    .dataframe thead th {\n",
       "        text-align: right;\n",
       "    }\n",
       "</style>\n",
       "<table border=\"1\" class=\"dataframe\">\n",
       "  <thead>\n",
       "    <tr style=\"text-align: right;\">\n",
       "      <th></th>\n",
       "      <th>x0_Electricity</th>\n",
       "      <th>x0_Electricity/Solar</th>\n",
       "      <th>x0_Gas</th>\n",
       "      <th>x0_Gas/Solar</th>\n",
       "      <th>x0_Oil</th>\n",
       "      <th>x0_Oil/Solar</th>\n",
       "      <th>x0_Other</th>\n",
       "      <th>x1_PRIVATE</th>\n",
       "      <th>x1_PRIVATE RESTRICTED</th>\n",
       "      <th>x1_PUBLIC</th>\n",
       "      <th>...</th>\n",
       "      <th>x3_98166</th>\n",
       "      <th>x3_98168</th>\n",
       "      <th>x3_98177</th>\n",
       "      <th>x3_98178</th>\n",
       "      <th>x3_98188</th>\n",
       "      <th>x3_98198</th>\n",
       "      <th>x3_98199</th>\n",
       "      <th>x3_98224</th>\n",
       "      <th>x3_98288</th>\n",
       "      <th>x3_98354</th>\n",
       "    </tr>\n",
       "  </thead>\n",
       "  <tbody>\n",
       "    <tr>\n",
       "      <th>0</th>\n",
       "      <td>0.0</td>\n",
       "      <td>0.0</td>\n",
       "      <td>1.0</td>\n",
       "      <td>0.0</td>\n",
       "      <td>0.0</td>\n",
       "      <td>0.0</td>\n",
       "      <td>0.0</td>\n",
       "      <td>0.0</td>\n",
       "      <td>0.0</td>\n",
       "      <td>1.0</td>\n",
       "      <td>...</td>\n",
       "      <td>0.0</td>\n",
       "      <td>0.0</td>\n",
       "      <td>0.0</td>\n",
       "      <td>0.0</td>\n",
       "      <td>0.0</td>\n",
       "      <td>0.0</td>\n",
       "      <td>0.0</td>\n",
       "      <td>0.0</td>\n",
       "      <td>0.0</td>\n",
       "      <td>0.0</td>\n",
       "    </tr>\n",
       "    <tr>\n",
       "      <th>1</th>\n",
       "      <td>1.0</td>\n",
       "      <td>0.0</td>\n",
       "      <td>0.0</td>\n",
       "      <td>0.0</td>\n",
       "      <td>0.0</td>\n",
       "      <td>0.0</td>\n",
       "      <td>0.0</td>\n",
       "      <td>0.0</td>\n",
       "      <td>0.0</td>\n",
       "      <td>1.0</td>\n",
       "      <td>...</td>\n",
       "      <td>0.0</td>\n",
       "      <td>0.0</td>\n",
       "      <td>0.0</td>\n",
       "      <td>0.0</td>\n",
       "      <td>0.0</td>\n",
       "      <td>0.0</td>\n",
       "      <td>0.0</td>\n",
       "      <td>0.0</td>\n",
       "      <td>0.0</td>\n",
       "      <td>0.0</td>\n",
       "    </tr>\n",
       "    <tr>\n",
       "      <th>2</th>\n",
       "      <td>0.0</td>\n",
       "      <td>0.0</td>\n",
       "      <td>1.0</td>\n",
       "      <td>0.0</td>\n",
       "      <td>0.0</td>\n",
       "      <td>0.0</td>\n",
       "      <td>0.0</td>\n",
       "      <td>0.0</td>\n",
       "      <td>0.0</td>\n",
       "      <td>1.0</td>\n",
       "      <td>...</td>\n",
       "      <td>0.0</td>\n",
       "      <td>0.0</td>\n",
       "      <td>0.0</td>\n",
       "      <td>0.0</td>\n",
       "      <td>0.0</td>\n",
       "      <td>0.0</td>\n",
       "      <td>0.0</td>\n",
       "      <td>0.0</td>\n",
       "      <td>0.0</td>\n",
       "      <td>0.0</td>\n",
       "    </tr>\n",
       "    <tr>\n",
       "      <th>3</th>\n",
       "      <td>0.0</td>\n",
       "      <td>0.0</td>\n",
       "      <td>1.0</td>\n",
       "      <td>0.0</td>\n",
       "      <td>0.0</td>\n",
       "      <td>0.0</td>\n",
       "      <td>0.0</td>\n",
       "      <td>0.0</td>\n",
       "      <td>0.0</td>\n",
       "      <td>1.0</td>\n",
       "      <td>...</td>\n",
       "      <td>0.0</td>\n",
       "      <td>0.0</td>\n",
       "      <td>0.0</td>\n",
       "      <td>0.0</td>\n",
       "      <td>0.0</td>\n",
       "      <td>0.0</td>\n",
       "      <td>0.0</td>\n",
       "      <td>0.0</td>\n",
       "      <td>0.0</td>\n",
       "      <td>0.0</td>\n",
       "    </tr>\n",
       "    <tr>\n",
       "      <th>4</th>\n",
       "      <td>0.0</td>\n",
       "      <td>0.0</td>\n",
       "      <td>1.0</td>\n",
       "      <td>0.0</td>\n",
       "      <td>0.0</td>\n",
       "      <td>0.0</td>\n",
       "      <td>0.0</td>\n",
       "      <td>0.0</td>\n",
       "      <td>0.0</td>\n",
       "      <td>1.0</td>\n",
       "      <td>...</td>\n",
       "      <td>0.0</td>\n",
       "      <td>0.0</td>\n",
       "      <td>0.0</td>\n",
       "      <td>0.0</td>\n",
       "      <td>0.0</td>\n",
       "      <td>0.0</td>\n",
       "      <td>0.0</td>\n",
       "      <td>0.0</td>\n",
       "      <td>0.0</td>\n",
       "      <td>0.0</td>\n",
       "    </tr>\n",
       "  </tbody>\n",
       "</table>\n",
       "<p>5 rows × 211 columns</p>\n",
       "</div>"
      ],
      "text/plain": [
       "   x0_Electricity  x0_Electricity/Solar  x0_Gas  x0_Gas/Solar  x0_Oil  \\\n",
       "0             0.0                   0.0     1.0           0.0     0.0   \n",
       "1             1.0                   0.0     0.0           0.0     0.0   \n",
       "2             0.0                   0.0     1.0           0.0     0.0   \n",
       "3             0.0                   0.0     1.0           0.0     0.0   \n",
       "4             0.0                   0.0     1.0           0.0     0.0   \n",
       "\n",
       "   x0_Oil/Solar  x0_Other  x1_PRIVATE  x1_PRIVATE RESTRICTED  x1_PUBLIC  ...  \\\n",
       "0           0.0       0.0         0.0                    0.0        1.0  ...   \n",
       "1           0.0       0.0         0.0                    0.0        1.0  ...   \n",
       "2           0.0       0.0         0.0                    0.0        1.0  ...   \n",
       "3           0.0       0.0         0.0                    0.0        1.0  ...   \n",
       "4           0.0       0.0         0.0                    0.0        1.0  ...   \n",
       "\n",
       "   x3_98166  x3_98168  x3_98177  x3_98178  x3_98188  x3_98198  x3_98199  \\\n",
       "0       0.0       0.0       0.0       0.0       0.0       0.0       0.0   \n",
       "1       0.0       0.0       0.0       0.0       0.0       0.0       0.0   \n",
       "2       0.0       0.0       0.0       0.0       0.0       0.0       0.0   \n",
       "3       0.0       0.0       0.0       0.0       0.0       0.0       0.0   \n",
       "4       0.0       0.0       0.0       0.0       0.0       0.0       0.0   \n",
       "\n",
       "   x3_98224  x3_98288  x3_98354  \n",
       "0       0.0       0.0       0.0  \n",
       "1       0.0       0.0       0.0  \n",
       "2       0.0       0.0       0.0  \n",
       "3       0.0       0.0       0.0  \n",
       "4       0.0       0.0       0.0  \n",
       "\n",
       "[5 rows x 211 columns]"
      ]
     },
     "execution_count": 75,
     "metadata": {},
     "output_type": "execute_result"
    }
   ],
   "source": [
    "#Turn nominal train data back into a dataframe\n",
    "X_train_nom = pd.DataFrame(X_train_nom_trans, columns = cols)\n",
    "#Preview nominal train dataframe\n",
    "X_train_nom.head()"
   ]
  },
  {
   "cell_type": "markdown",
   "metadata": {},
   "source": [
    "*Test Data*"
   ]
  },
  {
   "cell_type": "code",
   "execution_count": 76,
   "metadata": {},
   "outputs": [],
   "source": [
    "# Transform nominal test data\n",
    "X_test_nom_trans = onehot_enc.transform(X_test[nominal_cols])"
   ]
  },
  {
   "cell_type": "code",
   "execution_count": 77,
   "metadata": {},
   "outputs": [
    {
     "data": {
      "text/plain": [
       "(5835, 211)"
      ]
     },
     "execution_count": 77,
     "metadata": {},
     "output_type": "execute_result"
    }
   ],
   "source": [
    "#View nominal test data shape\n",
    "X_test_nom_trans.shape"
   ]
  },
  {
   "cell_type": "code",
   "execution_count": 78,
   "metadata": {},
   "outputs": [],
   "source": [
    "#Turn nominal test data back into a dataframe\n",
    "X_test_nom = pd.DataFrame(X_test_nom_trans, columns = cols)"
   ]
  },
  {
   "cell_type": "markdown",
   "metadata": {},
   "source": [
    "#### Combine Discrete/Categorical X/ Predictive Variables"
   ]
  },
  {
   "cell_type": "markdown",
   "metadata": {},
   "source": [
    "*Train Data*"
   ]
  },
  {
   "cell_type": "code",
   "execution_count": 79,
   "metadata": {},
   "outputs": [],
   "source": [
    "#Concatinating the ordinal and nominal training dataframes\n",
    "X_train_cat = pd.concat([X_train_ord, X_train_nom],axis = 1)"
   ]
  },
  {
   "cell_type": "markdown",
   "metadata": {},
   "source": [
    "*Test Data*"
   ]
  },
  {
   "cell_type": "code",
   "execution_count": 80,
   "metadata": {},
   "outputs": [],
   "source": [
    "#Concatinating the ordinal and nominal testing dataframes\n",
    "X_test_cat = pd.concat([X_test_ord, X_test_nom],axis = 1)"
   ]
  },
  {
   "cell_type": "markdown",
   "metadata": {},
   "source": [
    "#### Combine Continuous and Discrete X/ Predictive Variables"
   ]
  },
  {
   "cell_type": "markdown",
   "metadata": {},
   "source": [
    "*Train Data*"
   ]
  },
  {
   "cell_type": "code",
   "execution_count": 81,
   "metadata": {},
   "outputs": [],
   "source": [
    "#Resetting index so the data lines up\n",
    "X_process_train = pd.concat([X_train_numeric.reset_index(),X_train_cat],axis = 1)\n",
    "#Dropping the old index column\n",
    "X_process_train = X_process_train.drop('index', axis = 1)"
   ]
  },
  {
   "cell_type": "markdown",
   "metadata": {},
   "source": [
    "*Test Data*"
   ]
  },
  {
   "cell_type": "code",
   "execution_count": 82,
   "metadata": {},
   "outputs": [],
   "source": [
    "#Resetting index so the data lines up\n",
    "X_process_test = pd.concat([X_test_numeric.reset_index(),X_test_cat],axis = 1)\n",
    "#Dropping the old index column\n",
    "X_process_test = X_process_test.drop('index', axis = 1)"
   ]
  },
  {
   "cell_type": "markdown",
   "metadata": {},
   "source": [
    "#### Scale the Data"
   ]
  },
  {
   "cell_type": "markdown",
   "metadata": {},
   "source": [
    "*Train Data*"
   ]
  },
  {
   "cell_type": "code",
   "execution_count": 83,
   "metadata": {},
   "outputs": [],
   "source": [
    "#Fit and Transforming Train Data with our StandardScaler object\n",
    "ss.fit(X_process_train)\n",
    "X_standard_process_train = ss.transform(X_process_train)"
   ]
  },
  {
   "cell_type": "markdown",
   "metadata": {},
   "source": [
    "*Test Data*"
   ]
  },
  {
   "cell_type": "code",
   "execution_count": 84,
   "metadata": {},
   "outputs": [],
   "source": [
    "# Transforming Test Data with our StandardScaler object\n",
    "X_standard_process_test = ss.transform(X_process_test)"
   ]
  },
  {
   "cell_type": "markdown",
   "metadata": {},
   "source": [
    "### Creating, Fitting, and Running the Model"
   ]
  },
  {
   "cell_type": "code",
   "execution_count": 85,
   "metadata": {},
   "outputs": [],
   "source": [
    "# Instantiate model\n",
    "lr_simple_model = LinearRegression()\n",
    "\n",
    "# Fit model\n",
    "third_result = lr_simple_model.fit(X_standard_process_train, y_train)"
   ]
  },
  {
   "cell_type": "code",
   "execution_count": 86,
   "metadata": {},
   "outputs": [
    {
     "data": {
      "text/plain": [
       "array([ 2.20589163e+04,  3.14538000e+05,  3.93206507e+04,  2.21779647e+04,\n",
       "        1.79035906e+05, -3.40854905e+15, -3.61120974e+14, -3.90142029e+15,\n",
       "       -4.79752695e+14, -2.52004351e+15, -1.10233032e+14, -2.40170083e+14,\n",
       "        1.70595936e+17,  6.26810509e+15,  1.70717052e+17,  4.43240957e+15,\n",
       "        8.44645110e+14,  4.56827368e+14,  4.22976249e+14,  5.59328920e+14,\n",
       "        6.57063621e+14,  7.21656414e+14,  7.11302898e+14,  7.41924956e+14,\n",
       "        9.55517808e+14,  8.08825302e+14,  1.02265074e+15,  7.46905085e+14,\n",
       "        7.85595769e+14,  6.62689521e+14,  7.61647601e+14,  7.00794611e+14,\n",
       "        7.80865714e+14,  5.25037226e+14,  1.11562826e+15,  8.04233869e+14,\n",
       "        9.43854204e+14,  7.31861728e+14,  8.04233869e+14,  8.74765915e+14,\n",
       "        9.24080856e+14,  1.08554484e+15,  1.10901560e+15,  9.67037770e+14,\n",
       "        1.08214914e+15,  8.40252478e+14,  8.31396438e+14,  6.45663291e+14,\n",
       "        5.78923153e+14,  4.04986299e+14,  4.95887866e+14,  4.80646733e+14,\n",
       "        6.34056000e+14,  7.11302898e+14,  7.51851803e+14,  8.66268693e+14,\n",
       "        1.11562826e+15,  1.08892966e+15,  1.39299803e+15,  1.09566705e+15,\n",
       "        1.03696556e+15,  8.57685801e+14,  9.93387028e+14,  1.36922295e+15,\n",
       "        1.37454347e+15,  1.15448586e+15,  1.43678436e+15,  1.27809660e+15,\n",
       "        1.33683515e+15,  1.30641022e+15,  1.42405253e+15,  1.50840691e+15,\n",
       "        1.14168476e+15,  1.19203887e+15,  1.43931654e+15,  1.58119780e+15,\n",
       "        1.24617921e+15,  1.37984254e+15,  1.52039679e+15,  1.47675241e+15,\n",
       "        1.19511329e+15,  1.25788280e+15,  1.42660843e+15,  1.65932565e+15,\n",
       "        1.74818123e+15,  1.48901115e+15,  1.09566705e+15,  8.40252478e+14,\n",
       "        1.14168476e+15,  1.05457905e+15,  1.03696556e+15,  1.22541895e+15,\n",
       "        1.40861494e+15,  1.65278298e+15,  1.71910955e+15,  1.43931654e+15,\n",
       "        1.30641022e+15,  1.30920656e+15,  9.35996018e+14,  1.30641022e+15,\n",
       "        1.33683515e+15,  1.30641022e+15,  1.26947447e+15,  1.42915954e+15,\n",
       "        1.39037735e+15,  1.47675241e+15,  1.54877277e+15,  1.18895624e+15,\n",
       "        1.22541895e+15,  1.13846130e+15,  1.28381127e+15,  1.15129934e+15,\n",
       "        1.18276605e+15,  1.09901983e+15,  1.26658688e+15,  1.25788280e+15,\n",
       "        1.19511329e+15,  1.35851658e+15,  1.21339068e+15,  1.52278280e+15,\n",
       "        1.50116447e+15,  1.56043510e+15,  1.56507427e+15,  1.46438558e+15,\n",
       "        1.30079877e+15,  1.01177841e+15,  8.49014640e+14,  9.16049573e+14,\n",
       "        1.05108057e+15,  1.15129934e+15,  1.26658688e+15,  1.27522928e+15,\n",
       "        1.38248412e+15,  1.35582619e+15,  1.38775149e+15,  1.22541895e+15,\n",
       "        1.40861494e+15,  2.78093357e+15,  1.29233405e+15, -1.28273471e+16,\n",
       "       -9.79455470e+15, -1.04676230e+16, -8.98045884e+15, -6.68835001e+15,\n",
       "       -1.12807161e+16, -6.21341996e+15, -1.02226526e+16, -8.89116336e+15,\n",
       "       -8.12037064e+15, -6.34192790e+15, -8.10061841e+15, -1.08677509e+16,\n",
       "       -1.33268979e+16, -5.55447971e+15, -9.90741818e+15, -9.63090377e+15,\n",
       "       -9.05123318e+15, -9.66386723e+15, -1.17317563e+16, -6.73635157e+15,\n",
       "       -1.25569659e+16, -1.32685113e+16, -1.49723780e+16, -3.86917022e+15,\n",
       "       -9.63090377e+15, -1.58146888e+16, -1.10263392e+16, -4.49040525e+15,\n",
       "       -8.07539494e+14, -4.30599742e+15, -1.21390637e+16, -1.01448140e+16,\n",
       "       -7.61065158e+15, -1.12946685e+16, -6.02881142e+15, -1.29120804e+16,\n",
       "       -1.21776991e+16, -8.78275796e+15, -7.13101501e+15, -9.39675583e+15,\n",
       "       -1.03764773e+16, -1.01135012e+16, -8.00109967e+15, -1.24946242e+16,\n",
       "       -6.05553557e+15, -1.42251977e+16, -9.10393676e+15, -1.18780130e+16,\n",
       "       -1.06176887e+16, -8.92699343e+15, -5.81050857e+15, -8.83713400e+15,\n",
       "       -1.39181206e+16, -9.84309174e+15, -1.36146910e+16, -1.23815470e+16,\n",
       "       -7.81866192e+15, -1.06027837e+16, -1.12247210e+16, -1.04373349e+16,\n",
       "       -1.32215973e+16, -8.89116336e+15, -1.07361375e+16, -1.03612036e+16,\n",
       "       -5.16190416e+15, -1.14056285e+16, -9.24294404e+15, -1.00820855e+16,\n",
       "       -8.94485231e+15, -9.87531017e+15, -6.99433132e+15, -1.04827323e+16,\n",
       "       -1.02226526e+16, -9.89008661e+14, -2.05834448e+15, -2.42178775e+15])"
      ]
     },
     "execution_count": 86,
     "metadata": {},
     "output_type": "execute_result"
    }
   ],
   "source": [
    "# Retrieve estimated slope coefficient\n",
    "third_result.coef_"
   ]
  },
  {
   "cell_type": "code",
   "execution_count": 87,
   "metadata": {},
   "outputs": [
    {
     "data": {
      "text/plain": [
       "1109245.485031429"
      ]
     },
     "execution_count": 87,
     "metadata": {},
     "output_type": "execute_result"
    }
   ],
   "source": [
    "# Retrieve estimated y-intercept coefficient\n",
    "third_result.intercept_"
   ]
  },
  {
   "cell_type": "code",
   "execution_count": 88,
   "metadata": {},
   "outputs": [
    {
     "name": "stdout",
     "output_type": "stream",
     "text": [
      "Third Model Train: 0.6036204670687679\n",
      "Third Model Test: 0.6409117222406189\n"
     ]
    }
   ],
   "source": [
    "#GIVES US OUR R**2\n",
    "print(\"Third Model Train:\" , lr_simple_model.score(X_standard_process_train, y_train))\n",
    "print(\"Third Model Test:\" , lr_simple_model.score(X_standard_process_test, y_test))"
   ]
  },
  {
   "cell_type": "markdown",
   "metadata": {},
   "source": [
    "INTERPRETATION OF THIRD MODEL RESULTS"
   ]
  },
  {
   "cell_type": "markdown",
   "metadata": {},
   "source": [
    "### Final Model"
   ]
  },
  {
   "cell_type": "markdown",
   "metadata": {},
   "source": [
    "Adding in binary variables (`waterfront`, `greenbelt`,`nuissance`) and log transforming the `price` data"
   ]
  },
  {
   "cell_type": "code",
   "execution_count": 89,
   "metadata": {},
   "outputs": [],
   "source": [
    "# Prepare data\n",
    "X = final_kc_df.drop('price', axis=1)\n",
    "y = final_kc_df['price']"
   ]
  },
  {
   "cell_type": "code",
   "execution_count": 90,
   "metadata": {},
   "outputs": [],
   "source": [
    "# Test/Train Split - Train 80% of Data, Test 20% of Data\n",
    "X_train, X_test, y_train, y_test = train_test_split(X, y, test_size = 0.2, random_state = 42)"
   ]
  },
  {
   "cell_type": "markdown",
   "metadata": {},
   "source": [
    "### Processing the Data"
   ]
  },
  {
   "cell_type": "markdown",
   "metadata": {},
   "source": [
    "*Y Train Data*"
   ]
  },
  {
   "cell_type": "code",
   "execution_count": 91,
   "metadata": {},
   "outputs": [],
   "source": [
    "y_train = np.log(y_train)"
   ]
  },
  {
   "cell_type": "markdown",
   "metadata": {},
   "source": [
    "*Y Test Data*"
   ]
  },
  {
   "cell_type": "code",
   "execution_count": 92,
   "metadata": {},
   "outputs": [],
   "source": [
    "y_test = np.log(y_test)"
   ]
  },
  {
   "cell_type": "markdown",
   "metadata": {},
   "source": [
    "#### Binary Variables"
   ]
  },
  {
   "cell_type": "markdown",
   "metadata": {},
   "source": [
    "*Train Data*"
   ]
  },
  {
   "cell_type": "code",
   "execution_count": 93,
   "metadata": {},
   "outputs": [
    {
     "name": "stderr",
     "output_type": "stream",
     "text": [
      "<ipython-input-93-61f1cfc502a6>:2: SettingWithCopyWarning: \n",
      "A value is trying to be set on a copy of a slice from a DataFrame.\n",
      "Try using .loc[row_indexer,col_indexer] = value instead\n",
      "\n",
      "See the caveats in the documentation: https://pandas.pydata.org/pandas-docs/stable/user_guide/indexing.html#returning-a-view-versus-a-copy\n",
      "  X_train['waterfront'] = X_train['waterfront'].map({\"YES\": 1,\"NO\": 0})\n",
      "<ipython-input-93-61f1cfc502a6>:3: SettingWithCopyWarning: \n",
      "A value is trying to be set on a copy of a slice from a DataFrame.\n",
      "Try using .loc[row_indexer,col_indexer] = value instead\n",
      "\n",
      "See the caveats in the documentation: https://pandas.pydata.org/pandas-docs/stable/user_guide/indexing.html#returning-a-view-versus-a-copy\n",
      "  X_train['greenbelt'] = X_train['greenbelt'].map({\"YES\": 1,\"NO\": 0})\n",
      "<ipython-input-93-61f1cfc502a6>:4: SettingWithCopyWarning: \n",
      "A value is trying to be set on a copy of a slice from a DataFrame.\n",
      "Try using .loc[row_indexer,col_indexer] = value instead\n",
      "\n",
      "See the caveats in the documentation: https://pandas.pydata.org/pandas-docs/stable/user_guide/indexing.html#returning-a-view-versus-a-copy\n",
      "  X_train['nuisance'] = X_train['nuisance'].map({\"YES\": 1,\"NO\": 0})\n"
     ]
    }
   ],
   "source": [
    "#Replacing YES and NO with numeric values\n",
    "X_train['waterfront'] = X_train['waterfront'].map({\"YES\": 1,\"NO\": 0})\n",
    "X_train['greenbelt'] = X_train['greenbelt'].map({\"YES\": 1,\"NO\": 0})\n",
    "X_train['nuisance'] = X_train['nuisance'].map({\"YES\": 1,\"NO\": 0})"
   ]
  },
  {
   "cell_type": "code",
   "execution_count": 94,
   "metadata": {},
   "outputs": [
    {
     "data": {
      "text/html": [
       "<div>\n",
       "<style scoped>\n",
       "    .dataframe tbody tr th:only-of-type {\n",
       "        vertical-align: middle;\n",
       "    }\n",
       "\n",
       "    .dataframe tbody tr th {\n",
       "        vertical-align: top;\n",
       "    }\n",
       "\n",
       "    .dataframe thead th {\n",
       "        text-align: right;\n",
       "    }\n",
       "</style>\n",
       "<table border=\"1\" class=\"dataframe\">\n",
       "  <thead>\n",
       "    <tr style=\"text-align: right;\">\n",
       "      <th></th>\n",
       "      <th>waterfront</th>\n",
       "      <th>greenbelt</th>\n",
       "      <th>nuisance</th>\n",
       "    </tr>\n",
       "  </thead>\n",
       "  <tbody>\n",
       "    <tr>\n",
       "      <th>28186</th>\n",
       "      <td>0</td>\n",
       "      <td>0</td>\n",
       "      <td>0</td>\n",
       "    </tr>\n",
       "    <tr>\n",
       "      <th>4121</th>\n",
       "      <td>0</td>\n",
       "      <td>0</td>\n",
       "      <td>1</td>\n",
       "    </tr>\n",
       "    <tr>\n",
       "      <th>9733</th>\n",
       "      <td>0</td>\n",
       "      <td>0</td>\n",
       "      <td>0</td>\n",
       "    </tr>\n",
       "    <tr>\n",
       "      <th>20141</th>\n",
       "      <td>0</td>\n",
       "      <td>0</td>\n",
       "      <td>0</td>\n",
       "    </tr>\n",
       "    <tr>\n",
       "      <th>27796</th>\n",
       "      <td>0</td>\n",
       "      <td>0</td>\n",
       "      <td>0</td>\n",
       "    </tr>\n",
       "    <tr>\n",
       "      <th>...</th>\n",
       "      <td>...</td>\n",
       "      <td>...</td>\n",
       "      <td>...</td>\n",
       "    </tr>\n",
       "    <tr>\n",
       "      <th>21575</th>\n",
       "      <td>0</td>\n",
       "      <td>0</td>\n",
       "      <td>0</td>\n",
       "    </tr>\n",
       "    <tr>\n",
       "      <th>5390</th>\n",
       "      <td>0</td>\n",
       "      <td>0</td>\n",
       "      <td>0</td>\n",
       "    </tr>\n",
       "    <tr>\n",
       "      <th>860</th>\n",
       "      <td>0</td>\n",
       "      <td>0</td>\n",
       "      <td>0</td>\n",
       "    </tr>\n",
       "    <tr>\n",
       "      <th>15795</th>\n",
       "      <td>0</td>\n",
       "      <td>0</td>\n",
       "      <td>0</td>\n",
       "    </tr>\n",
       "    <tr>\n",
       "      <th>23654</th>\n",
       "      <td>0</td>\n",
       "      <td>0</td>\n",
       "      <td>0</td>\n",
       "    </tr>\n",
       "  </tbody>\n",
       "</table>\n",
       "<p>23336 rows × 3 columns</p>\n",
       "</div>"
      ],
      "text/plain": [
       "       waterfront  greenbelt  nuisance\n",
       "28186           0          0         0\n",
       "4121            0          0         1\n",
       "9733            0          0         0\n",
       "20141           0          0         0\n",
       "27796           0          0         0\n",
       "...           ...        ...       ...\n",
       "21575           0          0         0\n",
       "5390            0          0         0\n",
       "860             0          0         0\n",
       "15795           0          0         0\n",
       "23654           0          0         0\n",
       "\n",
       "[23336 rows x 3 columns]"
      ]
     },
     "execution_count": 94,
     "metadata": {},
     "output_type": "execute_result"
    }
   ],
   "source": [
    "#Checking that YES & NO are replaced by 1 and 0 respectively\n",
    "X_train[['waterfront','greenbelt','nuisance']]"
   ]
  },
  {
   "cell_type": "markdown",
   "metadata": {},
   "source": [
    "*Test Data*"
   ]
  },
  {
   "cell_type": "code",
   "execution_count": 95,
   "metadata": {},
   "outputs": [
    {
     "name": "stderr",
     "output_type": "stream",
     "text": [
      "<ipython-input-95-f35eee69c2f8>:2: SettingWithCopyWarning: \n",
      "A value is trying to be set on a copy of a slice from a DataFrame.\n",
      "Try using .loc[row_indexer,col_indexer] = value instead\n",
      "\n",
      "See the caveats in the documentation: https://pandas.pydata.org/pandas-docs/stable/user_guide/indexing.html#returning-a-view-versus-a-copy\n",
      "  X_test['waterfront'] = X_test['waterfront'].map({\"YES\": 1,\"NO\": 0})\n",
      "<ipython-input-95-f35eee69c2f8>:3: SettingWithCopyWarning: \n",
      "A value is trying to be set on a copy of a slice from a DataFrame.\n",
      "Try using .loc[row_indexer,col_indexer] = value instead\n",
      "\n",
      "See the caveats in the documentation: https://pandas.pydata.org/pandas-docs/stable/user_guide/indexing.html#returning-a-view-versus-a-copy\n",
      "  X_test['greenbelt'] = X_test['greenbelt'].map({\"YES\": 1,\"NO\": 0})\n",
      "<ipython-input-95-f35eee69c2f8>:4: SettingWithCopyWarning: \n",
      "A value is trying to be set on a copy of a slice from a DataFrame.\n",
      "Try using .loc[row_indexer,col_indexer] = value instead\n",
      "\n",
      "See the caveats in the documentation: https://pandas.pydata.org/pandas-docs/stable/user_guide/indexing.html#returning-a-view-versus-a-copy\n",
      "  X_test['nuisance'] = X_test['nuisance'].map({\"YES\": 1,\"NO\": 0})\n"
     ]
    }
   ],
   "source": [
    "#Replacing YES and NO with numeric values\n",
    "X_test['waterfront'] = X_test['waterfront'].map({\"YES\": 1,\"NO\": 0})\n",
    "X_test['greenbelt'] = X_test['greenbelt'].map({\"YES\": 1,\"NO\": 0})\n",
    "X_test['nuisance'] = X_test['nuisance'].map({\"YES\": 1,\"NO\": 0})"
   ]
  },
  {
   "cell_type": "markdown",
   "metadata": {},
   "source": [
    "#### Continuous X/ Predictive Variables"
   ]
  },
  {
   "cell_type": "code",
   "execution_count": 96,
   "metadata": {},
   "outputs": [],
   "source": [
    "#Separate Continuous X Variables from rest of X Variables"
   ]
  },
  {
   "cell_type": "markdown",
   "metadata": {},
   "source": [
    "*Train Data*"
   ]
  },
  {
   "cell_type": "code",
   "execution_count": 97,
   "metadata": {},
   "outputs": [],
   "source": [
    "#Define our columns with numeric data\n",
    "numeric_cols = ['bathrooms','sqft_living','sqft_patio','waterfront','greenbelt','nuisance']\n",
    "# numeric_cols = ['bathrooms','sqft_living','sqft_patio']"
   ]
  },
  {
   "cell_type": "code",
   "execution_count": 98,
   "metadata": {},
   "outputs": [],
   "source": [
    "#Define our numeric training data\n",
    "X_train_numeric = X_train[numeric_cols]"
   ]
  },
  {
   "cell_type": "markdown",
   "metadata": {},
   "source": [
    "*Test Data*"
   ]
  },
  {
   "cell_type": "code",
   "execution_count": 99,
   "metadata": {},
   "outputs": [],
   "source": [
    "#Define our numeric testing data\n",
    "X_test_numeric = X_test[numeric_cols]"
   ]
  },
  {
   "cell_type": "markdown",
   "metadata": {},
   "source": [
    "#### Discrete X/ Predictive Variables"
   ]
  },
  {
   "cell_type": "markdown",
   "metadata": {},
   "source": [
    "#### Discrete Ordinal X/ Predictive Variables"
   ]
  },
  {
   "cell_type": "code",
   "execution_count": 100,
   "metadata": {},
   "outputs": [],
   "source": [
    "#Separate Discrete Ordinal X Variables from rest of X Variables"
   ]
  },
  {
   "cell_type": "markdown",
   "metadata": {},
   "source": [
    "*Train Data*"
   ]
  },
  {
   "cell_type": "code",
   "execution_count": 101,
   "metadata": {},
   "outputs": [],
   "source": [
    "#Define our columns with ordinal data and create train data subset\n",
    "ord_cat_selector = ['condition','grade']\n",
    "X_train_ord_cat_subset = X_train[ord_cat_selector]"
   ]
  },
  {
   "cell_type": "code",
   "execution_count": 102,
   "metadata": {},
   "outputs": [
    {
     "data": {
      "text/plain": [
       "array(['Good', 'Average', 'Very Good', 'Poor', 'Fair'], dtype=object)"
      ]
     },
     "execution_count": 102,
     "metadata": {},
     "output_type": "execute_result"
    }
   ],
   "source": [
    "#View unique values in our ordinal columns\n",
    "X_train_ord_cat_subset['condition'].unique()"
   ]
  },
  {
   "cell_type": "code",
   "execution_count": 103,
   "metadata": {},
   "outputs": [
    {
     "data": {
      "text/plain": [
       "array(['9 Better', '7 Average', '8 Good', '6 Low Average', '11 Excellent',\n",
       "       '10 Very Good', '5 Fair', '4 Low', '3 Poor', '12 Luxury',\n",
       "       '13 Mansion', '2 Substandard'], dtype=object)"
      ]
     },
     "execution_count": 103,
     "metadata": {},
     "output_type": "execute_result"
    }
   ],
   "source": [
    "X_train_ord_cat_subset['grade'].unique()"
   ]
  },
  {
   "cell_type": "code",
   "execution_count": 104,
   "metadata": {},
   "outputs": [],
   "source": [
    "# REPLACE WITH COLUMN'S UNIQUE VALUES IN ASCENDING ORDER --->\n",
    "condition_list = ['Poor', 'Fair', 'Average', 'Good', 'Very Good'] \n",
    "grade_list = ['2 Substandard','3 Poor','4 Low', '5 Fair', '6 Low Average', '7 Average','8 Good','9 Better',\\\n",
    "              '10 Very Good','11 Excellent','12 Luxury','13 Mansion']"
   ]
  },
  {
   "cell_type": "code",
   "execution_count": 105,
   "metadata": {},
   "outputs": [
    {
     "data": {
      "text/plain": [
       "OrdinalEncoder(categories=[['Poor', 'Fair', 'Average', 'Good', 'Very Good'],\n",
       "                           ['2 Substandard', '3 Poor', '4 Low', '5 Fair',\n",
       "                            '6 Low Average', '7 Average', '8 Good', '9 Better',\n",
       "                            '10 Very Good', '11 Excellent', '12 Luxury',\n",
       "                            '13 Mansion']])"
      ]
     },
     "execution_count": 105,
     "metadata": {},
     "output_type": "execute_result"
    }
   ],
   "source": [
    "#Fit ordinal train data\n",
    "o_enc = OrdinalEncoder(categories = [condition_list, grade_list])\n",
    "o_enc.fit(X_train_ord_cat_subset)"
   ]
  },
  {
   "cell_type": "code",
   "execution_count": 106,
   "metadata": {},
   "outputs": [
    {
     "data": {
      "text/plain": [
       "array([[3., 7.],\n",
       "       [3., 5.],\n",
       "       [3., 5.],\n",
       "       ...,\n",
       "       [3., 5.],\n",
       "       [4., 5.],\n",
       "       [2., 6.]])"
      ]
     },
     "execution_count": 106,
     "metadata": {},
     "output_type": "execute_result"
    }
   ],
   "source": [
    "#Transform ordinal train data\n",
    "o_enc.transform(X_train_ord_cat_subset)"
   ]
  },
  {
   "cell_type": "code",
   "execution_count": 107,
   "metadata": {},
   "outputs": [],
   "source": [
    "#Turn ordinal train data back into a dataframe\n",
    "X_train_ord = pd.DataFrame(o_enc.transform(X_train_ord_cat_subset),\n",
    "                        columns = X_train_ord_cat_subset.columns)"
   ]
  },
  {
   "cell_type": "code",
   "execution_count": 108,
   "metadata": {},
   "outputs": [
    {
     "data": {
      "text/html": [
       "<div>\n",
       "<style scoped>\n",
       "    .dataframe tbody tr th:only-of-type {\n",
       "        vertical-align: middle;\n",
       "    }\n",
       "\n",
       "    .dataframe tbody tr th {\n",
       "        vertical-align: top;\n",
       "    }\n",
       "\n",
       "    .dataframe thead th {\n",
       "        text-align: right;\n",
       "    }\n",
       "</style>\n",
       "<table border=\"1\" class=\"dataframe\">\n",
       "  <thead>\n",
       "    <tr style=\"text-align: right;\">\n",
       "      <th></th>\n",
       "      <th>condition</th>\n",
       "      <th>grade</th>\n",
       "    </tr>\n",
       "  </thead>\n",
       "  <tbody>\n",
       "    <tr>\n",
       "      <th>0</th>\n",
       "      <td>3.0</td>\n",
       "      <td>7.0</td>\n",
       "    </tr>\n",
       "    <tr>\n",
       "      <th>1</th>\n",
       "      <td>3.0</td>\n",
       "      <td>5.0</td>\n",
       "    </tr>\n",
       "    <tr>\n",
       "      <th>2</th>\n",
       "      <td>3.0</td>\n",
       "      <td>5.0</td>\n",
       "    </tr>\n",
       "    <tr>\n",
       "      <th>3</th>\n",
       "      <td>2.0</td>\n",
       "      <td>6.0</td>\n",
       "    </tr>\n",
       "    <tr>\n",
       "      <th>4</th>\n",
       "      <td>2.0</td>\n",
       "      <td>6.0</td>\n",
       "    </tr>\n",
       "  </tbody>\n",
       "</table>\n",
       "</div>"
      ],
      "text/plain": [
       "   condition  grade\n",
       "0        3.0    7.0\n",
       "1        3.0    5.0\n",
       "2        3.0    5.0\n",
       "3        2.0    6.0\n",
       "4        2.0    6.0"
      ]
     },
     "execution_count": 108,
     "metadata": {},
     "output_type": "execute_result"
    }
   ],
   "source": [
    "#Preview ordinal data to confirm numerical values have replaced unique values\n",
    "X_train_ord.head()"
   ]
  },
  {
   "cell_type": "markdown",
   "metadata": {},
   "source": [
    "*Test Data*"
   ]
  },
  {
   "cell_type": "code",
   "execution_count": 109,
   "metadata": {},
   "outputs": [],
   "source": [
    "#Define ordinal test subset\n",
    "X_test_ord_cat_subset = X_test[ord_cat_selector]"
   ]
  },
  {
   "cell_type": "code",
   "execution_count": 110,
   "metadata": {},
   "outputs": [
    {
     "data": {
      "text/plain": [
       "array([[2., 7.],\n",
       "       [2., 6.],\n",
       "       [3., 5.],\n",
       "       ...,\n",
       "       [2., 6.],\n",
       "       [4., 4.],\n",
       "       [2., 5.]])"
      ]
     },
     "execution_count": 110,
     "metadata": {},
     "output_type": "execute_result"
    }
   ],
   "source": [
    "#Transform ordinal test data\n",
    "o_enc.transform(X_test_ord_cat_subset)"
   ]
  },
  {
   "cell_type": "code",
   "execution_count": 111,
   "metadata": {},
   "outputs": [],
   "source": [
    "#Turn ordinal test data back into a dataframe\n",
    "X_test_ord = pd.DataFrame(o_enc.transform(X_test_ord_cat_subset),\n",
    "                        columns = X_test_ord_cat_subset.columns)"
   ]
  },
  {
   "cell_type": "markdown",
   "metadata": {},
   "source": [
    "#### Discrete Nominal  X/ Predictive Variables"
   ]
  },
  {
   "cell_type": "code",
   "execution_count": 112,
   "metadata": {},
   "outputs": [],
   "source": [
    "#Separate Discrete Nominal X Variables from rest of X Variables"
   ]
  },
  {
   "cell_type": "code",
   "execution_count": 113,
   "metadata": {},
   "outputs": [],
   "source": [
    "onehot_enc = OneHotEncoder(drop = 'first', sparse = False)"
   ]
  },
  {
   "cell_type": "markdown",
   "metadata": {},
   "source": [
    "*Train Data*"
   ]
  },
  {
   "cell_type": "code",
   "execution_count": 114,
   "metadata": {},
   "outputs": [],
   "source": [
    "#Define nominal columns\n",
    "# nominal_cols = ['DistrictName'] \n",
    "nominal_cols = ['heat_source','sewer_system','yr_built','Zip Code']"
   ]
  },
  {
   "cell_type": "code",
   "execution_count": 115,
   "metadata": {},
   "outputs": [],
   "source": [
    "#Fit and Transform nominal train data\n",
    "X_train_nom_trans = onehot_enc.fit_transform(X_train[nominal_cols])"
   ]
  },
  {
   "cell_type": "code",
   "execution_count": 116,
   "metadata": {},
   "outputs": [
    {
     "data": {
      "text/plain": [
       "(23336, 207)"
      ]
     },
     "execution_count": 116,
     "metadata": {},
     "output_type": "execute_result"
    }
   ],
   "source": [
    "#View nominal train data shape\n",
    "X_train_nom_trans.shape"
   ]
  },
  {
   "cell_type": "code",
   "execution_count": 117,
   "metadata": {},
   "outputs": [],
   "source": [
    "#Get columns names\n",
    "cols = onehot_enc.get_feature_names()"
   ]
  },
  {
   "cell_type": "code",
   "execution_count": 118,
   "metadata": {},
   "outputs": [
    {
     "data": {
      "text/html": [
       "<div>\n",
       "<style scoped>\n",
       "    .dataframe tbody tr th:only-of-type {\n",
       "        vertical-align: middle;\n",
       "    }\n",
       "\n",
       "    .dataframe tbody tr th {\n",
       "        vertical-align: top;\n",
       "    }\n",
       "\n",
       "    .dataframe thead th {\n",
       "        text-align: right;\n",
       "    }\n",
       "</style>\n",
       "<table border=\"1\" class=\"dataframe\">\n",
       "  <thead>\n",
       "    <tr style=\"text-align: right;\">\n",
       "      <th></th>\n",
       "      <th>x0_Electricity/Solar</th>\n",
       "      <th>x0_Gas</th>\n",
       "      <th>x0_Gas/Solar</th>\n",
       "      <th>x0_Oil</th>\n",
       "      <th>x0_Oil/Solar</th>\n",
       "      <th>x0_Other</th>\n",
       "      <th>x1_PRIVATE RESTRICTED</th>\n",
       "      <th>x1_PUBLIC</th>\n",
       "      <th>x1_PUBLIC RESTRICTED</th>\n",
       "      <th>x2_1901</th>\n",
       "      <th>...</th>\n",
       "      <th>x3_98166</th>\n",
       "      <th>x3_98168</th>\n",
       "      <th>x3_98177</th>\n",
       "      <th>x3_98178</th>\n",
       "      <th>x3_98188</th>\n",
       "      <th>x3_98198</th>\n",
       "      <th>x3_98199</th>\n",
       "      <th>x3_98224</th>\n",
       "      <th>x3_98288</th>\n",
       "      <th>x3_98354</th>\n",
       "    </tr>\n",
       "  </thead>\n",
       "  <tbody>\n",
       "    <tr>\n",
       "      <th>0</th>\n",
       "      <td>0.0</td>\n",
       "      <td>1.0</td>\n",
       "      <td>0.0</td>\n",
       "      <td>0.0</td>\n",
       "      <td>0.0</td>\n",
       "      <td>0.0</td>\n",
       "      <td>0.0</td>\n",
       "      <td>1.0</td>\n",
       "      <td>0.0</td>\n",
       "      <td>0.0</td>\n",
       "      <td>...</td>\n",
       "      <td>0.0</td>\n",
       "      <td>0.0</td>\n",
       "      <td>0.0</td>\n",
       "      <td>0.0</td>\n",
       "      <td>0.0</td>\n",
       "      <td>0.0</td>\n",
       "      <td>0.0</td>\n",
       "      <td>0.0</td>\n",
       "      <td>0.0</td>\n",
       "      <td>0.0</td>\n",
       "    </tr>\n",
       "    <tr>\n",
       "      <th>1</th>\n",
       "      <td>0.0</td>\n",
       "      <td>0.0</td>\n",
       "      <td>0.0</td>\n",
       "      <td>0.0</td>\n",
       "      <td>0.0</td>\n",
       "      <td>0.0</td>\n",
       "      <td>0.0</td>\n",
       "      <td>1.0</td>\n",
       "      <td>0.0</td>\n",
       "      <td>0.0</td>\n",
       "      <td>...</td>\n",
       "      <td>0.0</td>\n",
       "      <td>0.0</td>\n",
       "      <td>0.0</td>\n",
       "      <td>0.0</td>\n",
       "      <td>0.0</td>\n",
       "      <td>0.0</td>\n",
       "      <td>0.0</td>\n",
       "      <td>0.0</td>\n",
       "      <td>0.0</td>\n",
       "      <td>0.0</td>\n",
       "    </tr>\n",
       "    <tr>\n",
       "      <th>2</th>\n",
       "      <td>0.0</td>\n",
       "      <td>1.0</td>\n",
       "      <td>0.0</td>\n",
       "      <td>0.0</td>\n",
       "      <td>0.0</td>\n",
       "      <td>0.0</td>\n",
       "      <td>0.0</td>\n",
       "      <td>1.0</td>\n",
       "      <td>0.0</td>\n",
       "      <td>0.0</td>\n",
       "      <td>...</td>\n",
       "      <td>0.0</td>\n",
       "      <td>0.0</td>\n",
       "      <td>0.0</td>\n",
       "      <td>0.0</td>\n",
       "      <td>0.0</td>\n",
       "      <td>0.0</td>\n",
       "      <td>0.0</td>\n",
       "      <td>0.0</td>\n",
       "      <td>0.0</td>\n",
       "      <td>0.0</td>\n",
       "    </tr>\n",
       "    <tr>\n",
       "      <th>3</th>\n",
       "      <td>0.0</td>\n",
       "      <td>1.0</td>\n",
       "      <td>0.0</td>\n",
       "      <td>0.0</td>\n",
       "      <td>0.0</td>\n",
       "      <td>0.0</td>\n",
       "      <td>0.0</td>\n",
       "      <td>1.0</td>\n",
       "      <td>0.0</td>\n",
       "      <td>0.0</td>\n",
       "      <td>...</td>\n",
       "      <td>0.0</td>\n",
       "      <td>0.0</td>\n",
       "      <td>0.0</td>\n",
       "      <td>0.0</td>\n",
       "      <td>0.0</td>\n",
       "      <td>0.0</td>\n",
       "      <td>0.0</td>\n",
       "      <td>0.0</td>\n",
       "      <td>0.0</td>\n",
       "      <td>0.0</td>\n",
       "    </tr>\n",
       "    <tr>\n",
       "      <th>4</th>\n",
       "      <td>0.0</td>\n",
       "      <td>1.0</td>\n",
       "      <td>0.0</td>\n",
       "      <td>0.0</td>\n",
       "      <td>0.0</td>\n",
       "      <td>0.0</td>\n",
       "      <td>0.0</td>\n",
       "      <td>1.0</td>\n",
       "      <td>0.0</td>\n",
       "      <td>0.0</td>\n",
       "      <td>...</td>\n",
       "      <td>0.0</td>\n",
       "      <td>0.0</td>\n",
       "      <td>0.0</td>\n",
       "      <td>0.0</td>\n",
       "      <td>0.0</td>\n",
       "      <td>0.0</td>\n",
       "      <td>0.0</td>\n",
       "      <td>0.0</td>\n",
       "      <td>0.0</td>\n",
       "      <td>0.0</td>\n",
       "    </tr>\n",
       "  </tbody>\n",
       "</table>\n",
       "<p>5 rows × 207 columns</p>\n",
       "</div>"
      ],
      "text/plain": [
       "   x0_Electricity/Solar  x0_Gas  x0_Gas/Solar  x0_Oil  x0_Oil/Solar  x0_Other  \\\n",
       "0                   0.0     1.0           0.0     0.0           0.0       0.0   \n",
       "1                   0.0     0.0           0.0     0.0           0.0       0.0   \n",
       "2                   0.0     1.0           0.0     0.0           0.0       0.0   \n",
       "3                   0.0     1.0           0.0     0.0           0.0       0.0   \n",
       "4                   0.0     1.0           0.0     0.0           0.0       0.0   \n",
       "\n",
       "   x1_PRIVATE RESTRICTED  x1_PUBLIC  x1_PUBLIC RESTRICTED  x2_1901  ...  \\\n",
       "0                    0.0        1.0                   0.0      0.0  ...   \n",
       "1                    0.0        1.0                   0.0      0.0  ...   \n",
       "2                    0.0        1.0                   0.0      0.0  ...   \n",
       "3                    0.0        1.0                   0.0      0.0  ...   \n",
       "4                    0.0        1.0                   0.0      0.0  ...   \n",
       "\n",
       "   x3_98166  x3_98168  x3_98177  x3_98178  x3_98188  x3_98198  x3_98199  \\\n",
       "0       0.0       0.0       0.0       0.0       0.0       0.0       0.0   \n",
       "1       0.0       0.0       0.0       0.0       0.0       0.0       0.0   \n",
       "2       0.0       0.0       0.0       0.0       0.0       0.0       0.0   \n",
       "3       0.0       0.0       0.0       0.0       0.0       0.0       0.0   \n",
       "4       0.0       0.0       0.0       0.0       0.0       0.0       0.0   \n",
       "\n",
       "   x3_98224  x3_98288  x3_98354  \n",
       "0       0.0       0.0       0.0  \n",
       "1       0.0       0.0       0.0  \n",
       "2       0.0       0.0       0.0  \n",
       "3       0.0       0.0       0.0  \n",
       "4       0.0       0.0       0.0  \n",
       "\n",
       "[5 rows x 207 columns]"
      ]
     },
     "execution_count": 118,
     "metadata": {},
     "output_type": "execute_result"
    }
   ],
   "source": [
    "#Turn nominal train data back into a dataframe\n",
    "X_train_nom = pd.DataFrame(X_train_nom_trans, columns = cols)\n",
    "#Preview nominal train dataframe\n",
    "X_train_nom.head()"
   ]
  },
  {
   "cell_type": "markdown",
   "metadata": {},
   "source": [
    "*Test Data*"
   ]
  },
  {
   "cell_type": "code",
   "execution_count": 119,
   "metadata": {},
   "outputs": [],
   "source": [
    "# Transform nominal test data\n",
    "X_test_nom_trans = onehot_enc.transform(X_test[nominal_cols])"
   ]
  },
  {
   "cell_type": "code",
   "execution_count": 120,
   "metadata": {},
   "outputs": [
    {
     "data": {
      "text/plain": [
       "(5835, 207)"
      ]
     },
     "execution_count": 120,
     "metadata": {},
     "output_type": "execute_result"
    }
   ],
   "source": [
    "#View nominal test data shape\n",
    "X_test_nom_trans.shape"
   ]
  },
  {
   "cell_type": "code",
   "execution_count": 121,
   "metadata": {},
   "outputs": [],
   "source": [
    "#Turn nominal test data back into a dataframe\n",
    "X_test_nom = pd.DataFrame(X_test_nom_trans, columns = cols)"
   ]
  },
  {
   "cell_type": "markdown",
   "metadata": {},
   "source": [
    "#### Combine Discrete/Categorical X/ Predictive Variables"
   ]
  },
  {
   "cell_type": "markdown",
   "metadata": {},
   "source": [
    "*Train Data*"
   ]
  },
  {
   "cell_type": "code",
   "execution_count": 122,
   "metadata": {},
   "outputs": [],
   "source": [
    "#Concatinating the ordinal and nominal training dataframes\n",
    "X_train_cat = pd.concat([X_train_ord, X_train_nom],axis = 1)"
   ]
  },
  {
   "cell_type": "markdown",
   "metadata": {},
   "source": [
    "*Test Data*"
   ]
  },
  {
   "cell_type": "code",
   "execution_count": 123,
   "metadata": {},
   "outputs": [],
   "source": [
    "#Concatinating the ordinal and nominal testing dataframes\n",
    "X_test_cat = pd.concat([X_test_ord, X_test_nom],axis = 1)"
   ]
  },
  {
   "cell_type": "markdown",
   "metadata": {},
   "source": [
    "#### Combine Continuous and Discrete X/ Predictive Variables"
   ]
  },
  {
   "cell_type": "markdown",
   "metadata": {},
   "source": [
    "*Train Data - Combine all processed X Variables*"
   ]
  },
  {
   "cell_type": "code",
   "execution_count": 124,
   "metadata": {},
   "outputs": [],
   "source": [
    "#Resetting index so the data lines up\n",
    "X_process_train = pd.concat([X_train_numeric.reset_index(),X_train_cat],axis = 1)\n",
    "#Dropping the old index column\n",
    "X_process_train = X_process_train.drop('index', axis = 1)"
   ]
  },
  {
   "cell_type": "code",
   "execution_count": 125,
   "metadata": {},
   "outputs": [
    {
     "data": {
      "text/plain": [
       "(23336, 215)"
      ]
     },
     "execution_count": 125,
     "metadata": {},
     "output_type": "execute_result"
    }
   ],
   "source": [
    "#Checking the new shape of our combined dataframe\n",
    "X_process_train.shape"
   ]
  },
  {
   "cell_type": "markdown",
   "metadata": {},
   "source": [
    "*Test Data - Combine all processed X Variables*"
   ]
  },
  {
   "cell_type": "code",
   "execution_count": 126,
   "metadata": {},
   "outputs": [],
   "source": [
    "#Resetting index so the data lines up\n",
    "X_process_test = pd.concat([X_test_numeric.reset_index(),X_test_cat],axis = 1)\n",
    "#Dropping the old index column\n",
    "X_process_test = X_process_test.drop('index', axis = 1)"
   ]
  },
  {
   "cell_type": "markdown",
   "metadata": {},
   "source": [
    "#### Scale the Data"
   ]
  },
  {
   "cell_type": "code",
   "execution_count": 127,
   "metadata": {},
   "outputs": [],
   "source": [
    "# Create a StandardScaler object to scale data\n",
    "ss = StandardScaler()"
   ]
  },
  {
   "cell_type": "markdown",
   "metadata": {},
   "source": [
    "*Train Data*"
   ]
  },
  {
   "cell_type": "code",
   "execution_count": 128,
   "metadata": {},
   "outputs": [],
   "source": [
    "#Fit and Transforming Train Data with our StandardScaler object\n",
    "ss.fit(X_process_train)\n",
    "X_standard_process_train = ss.transform(X_process_train)"
   ]
  },
  {
   "cell_type": "markdown",
   "metadata": {},
   "source": [
    "*Test Data*"
   ]
  },
  {
   "cell_type": "code",
   "execution_count": 129,
   "metadata": {},
   "outputs": [],
   "source": [
    "# Transforming Test Data with our StandardScaler object\n",
    "X_standard_process_test = ss.transform(X_process_test)"
   ]
  },
  {
   "cell_type": "markdown",
   "metadata": {},
   "source": [
    "### Creating, Fitting, and Running the Model"
   ]
  },
  {
   "cell_type": "code",
   "execution_count": 130,
   "metadata": {},
   "outputs": [],
   "source": [
    "# Instantiate model\n",
    "lr_simple_model = LinearRegression()\n",
    "\n",
    "# Fit model\n",
    "final_result = lr_simple_model.fit(X_standard_process_train, y_train)"
   ]
  },
  {
   "cell_type": "code",
   "execution_count": 131,
   "metadata": {},
   "outputs": [
    {
     "data": {
      "text/plain": [
       "array([ 2.87477915e-02,  1.80093070e-01,  1.59761582e-02,  5.47851328e-02,\n",
       "        6.95124783e-03, -1.96819628e-02,  4.16756664e-02,  1.22640165e-01,\n",
       "       -5.00397064e-03,  1.03140896e-02,  3.18118109e-03,  1.82764690e-03,\n",
       "        1.73723434e-03,  3.23835130e-03, -9.34615756e-03, -9.37500204e-03,\n",
       "        1.41968219e-03, -2.52501909e-04,  3.27841895e-03,  7.33097438e-04,\n",
       "        2.23842373e-03,  1.24185540e-03, -3.28827818e-04,  3.33839883e-03,\n",
       "        3.67363970e-04,  1.17334349e-03,  1.09783128e-03, -1.33067616e-03,\n",
       "       -3.67676892e-03,  1.10100200e-03,  3.38544140e-03, -1.13229014e-03,\n",
       "        2.26309933e-03,  5.35669251e-03, -1.98569866e-03,  7.52874184e-04,\n",
       "        1.76748757e-03, -1.74169530e-03,  2.50842785e-03,  2.26754961e-03,\n",
       "        3.22384710e-03,  6.38530746e-04,  2.28039377e-05,  2.48681924e-03,\n",
       "        1.59063324e-03,  3.67131177e-03, -7.25384846e-03, -7.17664209e-04,\n",
       "        4.79351448e-04, -7.70020811e-04,  2.98621688e-04,  1.28391064e-03,\n",
       "        4.48361433e-03,  8.07601057e-03, -2.91909230e-05,  2.78609008e-04,\n",
       "        2.02860419e-03,  1.87254181e-03, -1.18403142e-03, -2.46913817e-03,\n",
       "       -3.80472963e-03,  2.36882730e-03, -5.31510629e-04, -4.39065010e-03,\n",
       "       -1.02021806e-03,  9.02385806e-05, -3.92938760e-04, -2.02497330e-03,\n",
       "       -3.19391752e-03, -3.42747524e-03, -9.32904863e-03, -3.19195559e-03,\n",
       "       -6.33685365e-03, -4.74667168e-03, -9.35844827e-03, -8.40472779e-03,\n",
       "       -6.20147539e-03, -6.79531515e-03, -1.39398872e-02, -1.29488768e-02,\n",
       "       -8.83001708e-03, -7.63111329e-03, -1.27993908e-02, -1.29516762e-02,\n",
       "       -1.41575260e-02, -1.42231298e-02, -7.61807631e-03, -1.83449275e-03,\n",
       "       -1.40223662e-02, -8.05486177e-03, -5.07285496e-03, -5.82168258e-03,\n",
       "       -9.34979525e-03, -1.56317912e-02, -1.79136744e-02, -1.37785243e-02,\n",
       "       -1.04282697e-02, -1.09874817e-02, -1.01472729e-02, -8.87118255e-03,\n",
       "       -7.74518749e-03, -9.21550857e-03, -9.59779543e-03, -6.44746873e-03,\n",
       "       -1.06993335e-02, -7.96359830e-03, -6.85860193e-03, -4.39420332e-03,\n",
       "       -5.34491340e-03, -4.47136849e-03, -3.79974688e-03, -6.78726539e-03,\n",
       "       -4.91579018e-03, -2.40812824e-03, -3.28007425e-03, -5.76473924e-03,\n",
       "       -1.13987888e-02, -9.07752549e-03, -7.59548187e-03, -9.91528889e-03,\n",
       "       -1.03315515e-02, -1.12654469e-02, -1.28429250e-02, -1.83732991e-02,\n",
       "       -1.40783385e-02, -1.04090547e-02, -1.61655002e-03, -1.85719444e-03,\n",
       "        1.12230977e-03, -1.50910213e-03, -2.53877135e-03, -2.34675659e-03,\n",
       "       -4.78854440e-03, -3.79600128e-03,  2.31069591e-03, -2.28958643e-03,\n",
       "       -1.06685203e-02, -2.17995606e-02, -2.08953856e-03, -1.21976198e-02,\n",
       "       -3.30124934e-03,  1.21173524e-01,  6.77339570e-02,  9.60170790e-02,\n",
       "        5.31443998e-02,  9.12354463e-02,  1.31246257e-02,  5.30196974e-02,\n",
       "        2.09963136e-02,  3.30375091e-02,  2.89443174e-03, -3.79226949e-03,\n",
       "        3.51352846e-02,  6.20995950e-02,  5.23662964e-02,  6.91933888e-02,\n",
       "        2.32269777e-03,  5.73714323e-03,  1.18635353e-03,  1.36731629e-01,\n",
       "        1.01158928e-01,  3.26836395e-02,  6.58262476e-02,  1.00986732e-01,\n",
       "        7.94095910e-03,  4.19463734e-02, -1.53212280e-03,  4.63057465e-03,\n",
       "        9.19964244e-03,  1.08188073e-01,  7.57028145e-02,  1.14038375e-02,\n",
       "        4.29743353e-02,  9.18690817e-03,  2.16948582e-02,  4.90153667e-02,\n",
       "        4.75258479e-02,  2.49078074e-02,  6.04276553e-02,  8.06182058e-02,\n",
       "        8.32294579e-02,  5.05996120e-02,  1.06868388e-03,  4.75710270e-02,\n",
       "        9.57208600e-02,  6.94382191e-02,  2.94323919e-02,  7.35751196e-02,\n",
       "        2.31721336e-02,  4.83484524e-02,  7.52688801e-02,  9.65597390e-02,\n",
       "        6.25585363e-02,  9.19764588e-02,  4.82325229e-02,  5.96876183e-02,\n",
       "        6.24837051e-02,  5.88140874e-02,  4.28336655e-02,  5.38816797e-02,\n",
       "        5.17245751e-02,  5.91745654e-02,  3.08814212e-02,  3.24559127e-03,\n",
       "        5.64917783e-02,  2.39757489e-02,  3.24086836e-03,  5.13674474e-02,\n",
       "        1.60166994e-02,  3.49582484e-03,  7.40258561e-03,  7.79424199e-02,\n",
       "       -4.23494401e-03, -6.83538721e-03, -2.05623691e-04])"
      ]
     },
     "execution_count": 131,
     "metadata": {},
     "output_type": "execute_result"
    }
   ],
   "source": [
    "# Retrieve estimated slope coefficient\n",
    "final_result.coef_"
   ]
  },
  {
   "cell_type": "code",
   "execution_count": 132,
   "metadata": {},
   "outputs": [
    {
     "data": {
      "text/plain": [
       "13.736769847323679"
      ]
     },
     "execution_count": 132,
     "metadata": {},
     "output_type": "execute_result"
    }
   ],
   "source": [
    "# Retrieve estimated y-intercept coefficient\n",
    "final_result.intercept_"
   ]
  },
  {
   "cell_type": "code",
   "execution_count": 133,
   "metadata": {},
   "outputs": [
    {
     "name": "stdout",
     "output_type": "stream",
     "text": [
      "Final Model Train: 0.6981520478692678\n",
      "Final Model Test: 0.7031499624137165\n"
     ]
    }
   ],
   "source": [
    "#GIVES US OUR R**2\n",
    "print(\"Final Model Train:\" , lr_simple_model.score(X_standard_process_train, y_train))\n",
    "print(\"Final Model Test:\" , lr_simple_model.score(X_standard_process_test, y_test))"
   ]
  },
  {
   "cell_type": "code",
   "execution_count": 134,
   "metadata": {},
   "outputs": [
    {
     "data": {
      "text/plain": [
       "0.19640096922085612"
      ]
     },
     "execution_count": 134,
     "metadata": {},
     "output_type": "execute_result"
    }
   ],
   "source": [
    "#MEAN ABSOLUTE ERROR\n",
    "metrics.mean_absolute_error(y_test, lr_simple_model.predict(X_standard_process_test))"
   ]
  },
  {
   "cell_type": "markdown",
   "metadata": {},
   "source": [
    "## Conclusions\n",
    "\n",
    "Provide your conclusions about the work you've done, including any limitations or next steps.\n",
    "\n",
    "Questions to consider:\n",
    "\n",
    "- What would you recommend the business do as a result of this work?\n",
    "- What are some reasons why your analysis might not fully solve the business problem?\n",
    "- What else could you do in the future to improve this project (future work)?\n"
   ]
  },
  {
   "cell_type": "code",
   "execution_count": null,
   "metadata": {},
   "outputs": [],
   "source": []
  },
  {
   "cell_type": "code",
   "execution_count": null,
   "metadata": {},
   "outputs": [],
   "source": []
  },
  {
   "cell_type": "code",
   "execution_count": null,
   "metadata": {},
   "outputs": [],
   "source": []
  }
 ],
 "metadata": {
  "kernelspec": {
   "display_name": "Python 3",
   "language": "python",
   "name": "python3"
  },
  "language_info": {
   "codemirror_mode": {
    "name": "ipython",
    "version": 3
   },
   "file_extension": ".py",
   "mimetype": "text/x-python",
   "name": "python",
   "nbconvert_exporter": "python",
   "pygments_lexer": "ipython3",
   "version": "3.8.5"
  }
 },
 "nbformat": 4,
 "nbformat_minor": 4
}
